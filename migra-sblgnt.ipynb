{
 "cells": [
  {
   "cell_type": "code",
   "execution_count": 1,
   "metadata": {},
   "outputs": [],
   "source": [
    "import sys\n",
    "sys.path.append('/Users/davison/Software/almeida-semantica')\n",
    "from src.ConectorBD import *\n",
    "import pandas as pd\n",
    "from pandasql import sqldf\n",
    "import xml.etree.ElementTree as ET"
   ]
  },
  {
   "cell_type": "code",
   "execution_count": 8,
   "metadata": {},
   "outputs": [],
   "source": [
    "sblgnt_db = '/Users/davison/Software/almeida-semantica/db/sbl.db'"
   ]
  },
  {
   "cell_type": "code",
   "execution_count": 3,
   "metadata": {},
   "outputs": [],
   "source": [
    "sql = \"SELECT * FROM bible\""
   ]
  },
  {
   "cell_type": "code",
   "execution_count": null,
   "metadata": {},
   "outputs": [],
   "source": [
    "sblgnt_bible_df = pd.read_sql_query(sql, ConectorBD(sblgnt_db).con)"
   ]
  },
  {
   "cell_type": "code",
   "execution_count": null,
   "metadata": {},
   "outputs": [
    {
     "data": {
      "application/vnd.microsoft.datawrangler.viewer.v0+json": {
       "columns": [
        {
         "name": "index",
         "rawType": "int64",
         "type": "integer"
        },
        {
         "name": "book",
         "rawType": "object",
         "type": "string"
        },
        {
         "name": "chapter",
         "rawType": "int64",
         "type": "integer"
        },
        {
         "name": "verse",
         "rawType": "int64",
         "type": "integer"
        },
        {
         "name": "content",
         "rawType": "object",
         "type": "string"
        },
        {
         "name": "nr_sq_livro",
         "rawType": "int64",
         "type": "integer"
        }
       ],
       "conversionMethod": "pd.DataFrame",
       "ref": "4640c0ee-001f-4db1-8101-ba2d14bf3259",
       "rows": [
        [
         "0",
         "Matt",
         "1",
         "1",
         "<verse num=\"1\">\n<w pos=\"N-\" morph=\"----NSF-\" lemma=\"βίβλος\" strongs=\"00976\">Βίβλος</w> <w pos=\"N-\" morph=\"----GSF-\" lemma=\"γένεσις\" strongs=\"01078\">γενέσεως</w> <w pos=\"N-\" morph=\"----GSM-\" lemma=\"Ἰησοῦς\" strongs=\"02424\">Ἰησοῦ</w> <w pos=\"N-\" morph=\"----GSM-\" lemma=\"Χριστός\" strongs=\"05547\">χριστοῦ</w> <w pos=\"N-\" morph=\"----GSM-\" lemma=\"υἱός\" strongs=\"05207\">υἱοῦ</w> <w pos=\"N-\" morph=\"----GSM-\" lemma=\"Δαυίδ\">Δαυὶδ</w> <w pos=\"N-\" morph=\"----GSM-\" lemma=\"υἱός\" strongs=\"05207\">υἱοῦ</w> <w pos=\"N-\" morph=\"----GSM-\" lemma=\"Ἀβραάμ\" strongs=\"00011\">Ἀβραάμ</w>.\n</verse>",
         "40"
        ],
        [
         "1",
         "Matt",
         "1",
         "2",
         "<verse num=\"2\">\n<w pos=\"N-\" morph=\"----NSM-\" lemma=\"Ἀβραάμ\" strongs=\"00011\">Ἀβραὰμ</w> <w pos=\"V-\" morph=\"3AAI-S--\" lemma=\"γεννάω\" strongs=\"01080\">ἐγέννησεν</w> <w pos=\"RA\" morph=\"----ASM-\" lemma=\"ὁ\" strongs=\"03588\">τὸν</w> <w pos=\"N-\" morph=\"----ASM-\" lemma=\"Ἰσαάκ\" strongs=\"02464\">Ἰσαάκ</w>, <w pos=\"N-\" morph=\"----NSM-\" lemma=\"Ἰσαάκ\" strongs=\"02464\">Ἰσαὰκ</w> <w pos=\"C-\" morph=\"--------\" lemma=\"δέ\" strongs=\"01161\">δὲ</w> <w pos=\"V-\" morph=\"3AAI-S--\" lemma=\"γεννάω\" strongs=\"01080\">ἐγέννησεν</w> <w pos=\"RA\" morph=\"----ASM-\" lemma=\"ὁ\" strongs=\"03588\">τὸν</w> <w pos=\"N-\" morph=\"----ASM-\" lemma=\"Ἰακώβ\" strongs=\"02384\">Ἰακώβ</w>, <w pos=\"N-\" morph=\"----NSM-\" lemma=\"Ἰακώβ\" strongs=\"02384\">Ἰακὼβ</w> <w pos=\"C-\" morph=\"--------\" lemma=\"δέ\" strongs=\"01161\">δὲ</w> <w pos=\"V-\" morph=\"3AAI-S--\" lemma=\"γεννάω\" strongs=\"01080\">ἐγέννησεν</w> <w pos=\"RA\" morph=\"----ASM-\" lemma=\"ὁ\" strongs=\"03588\">τὸν</w> <w pos=\"N-\" morph=\"----ASM-\" lemma=\"Ἰούδας\" strongs=\"02455\">Ἰούδαν</w> <w pos=\"C-\" morph=\"--------\" lemma=\"καί\" strongs=\"02532\">καὶ</w> <w pos=\"RA\" morph=\"----APM-\" lemma=\"ὁ\" strongs=\"03588\">τοὺς</w> <w pos=\"N-\" morph=\"----APM-\" lemma=\"ἀδελφός\" strongs=\"00080\">ἀδελφοὺς</w> <w pos=\"RP\" morph=\"----GSM-\" lemma=\"αὐτός\" strongs=\"00846\">αὐτοῦ</w>,\n</verse>",
         "40"
        ],
        [
         "2",
         "Matt",
         "1",
         "3",
         "<verse num=\"3\">\n<w pos=\"N-\" morph=\"----NSM-\" lemma=\"Ἰούδας\" strongs=\"02455\">Ἰούδας</w> <w pos=\"C-\" morph=\"--------\" lemma=\"δέ\" strongs=\"01161\">δὲ</w> <w pos=\"V-\" morph=\"3AAI-S--\" lemma=\"γεννάω\" strongs=\"01080\">ἐγέννησεν</w> <w pos=\"RA\" morph=\"----ASM-\" lemma=\"ὁ\" strongs=\"03588\">τὸν</w> <w pos=\"N-\" morph=\"----ASM-\" lemma=\"Φαρές\">Φαρὲς</w> <w pos=\"C-\" morph=\"--------\" lemma=\"καί\" strongs=\"02532\">καὶ</w> <w pos=\"RA\" morph=\"----ASM-\" lemma=\"ὁ\" strongs=\"03588\">τὸν</w> <w pos=\"N-\" morph=\"----ASM-\" lemma=\"Ζάρα\">Ζάρα</w> <w pos=\"P-\" morph=\"--------\" lemma=\"ἐκ\" strongs=\"01537\">ἐκ</w> <w pos=\"RA\" morph=\"----GSF-\" lemma=\"ὁ\" strongs=\"03588\">τῆς</w> <w pos=\"N-\" morph=\"----GSF-\" lemma=\"Θαμάρ\">Θαμάρ</w>, <w pos=\"N-\" morph=\"----NSM-\" lemma=\"Φαρές\">Φαρὲς</w> <w pos=\"C-\" morph=\"--------\" lemma=\"δέ\" strongs=\"01161\">δὲ</w> <w pos=\"V-\" morph=\"3AAI-S--\" lemma=\"γεννάω\" strongs=\"01080\">ἐγέννησεν</w> <w pos=\"RA\" morph=\"----ASM-\" lemma=\"ὁ\" strongs=\"03588\">τὸν</w> <w pos=\"N-\" morph=\"----ASM-\" lemma=\"Ἑσρώμ\">Ἑσρώμ</w>, <w pos=\"N-\" morph=\"----NSM-\" lemma=\"Ἑσρώμ\">Ἑσρὼμ</w> <w pos=\"C-\" morph=\"--------\" lemma=\"δέ\" strongs=\"01161\">δὲ</w> <w pos=\"V-\" morph=\"3AAI-S--\" lemma=\"γεννάω\" strongs=\"01080\">ἐγέννησεν</w> <w pos=\"RA\" morph=\"----ASM-\" lemma=\"ὁ\" strongs=\"03588\">τὸν</w> <w pos=\"N-\" morph=\"----ASM-\" lemma=\"Ἀράμ\" strongs=\"00689\">Ἀράμ</w>,\n</verse>",
         "40"
        ],
        [
         "3",
         "Matt",
         "1",
         "4",
         "<verse num=\"4\">\n<w pos=\"N-\" morph=\"----NSM-\" lemma=\"Ἀράμ\" strongs=\"00689\">Ἀρὰμ</w> <w pos=\"C-\" morph=\"--------\" lemma=\"δέ\" strongs=\"01161\">δὲ</w> <w pos=\"V-\" morph=\"3AAI-S--\" lemma=\"γεννάω\" strongs=\"01080\">ἐγέννησεν</w> <w pos=\"RA\" morph=\"----ASM-\" lemma=\"ὁ\" strongs=\"03588\">τὸν</w> <w pos=\"N-\" morph=\"----ASM-\" lemma=\"Ἀμιναδάβ\" strongs=\"00284\">Ἀμιναδάβ</w>, <w pos=\"N-\" morph=\"----NSM-\" lemma=\"Ἀμιναδάβ\" strongs=\"00284\">Ἀμιναδὰβ</w> <w pos=\"C-\" morph=\"--------\" lemma=\"δέ\" strongs=\"01161\">δὲ</w> <w pos=\"V-\" morph=\"3AAI-S--\" lemma=\"γεννάω\" strongs=\"01080\">ἐγέννησεν</w> <w pos=\"RA\" morph=\"----ASM-\" lemma=\"ὁ\" strongs=\"03588\">τὸν</w> <w pos=\"N-\" morph=\"----ASM-\" lemma=\"Ναασσών\" strongs=\"03476\">Ναασσών</w>, <w pos=\"N-\" morph=\"----NSM-\" lemma=\"Ναασσών\" strongs=\"03476\">Ναασσὼν</w> <w pos=\"C-\" morph=\"--------\" lemma=\"δέ\" strongs=\"01161\">δὲ</w> <w pos=\"V-\" morph=\"3AAI-S--\" lemma=\"γεννάω\" strongs=\"01080\">ἐγέννησεν</w> <w pos=\"RA\" morph=\"----ASM-\" lemma=\"ὁ\" strongs=\"03588\">τὸν</w> <w pos=\"N-\" morph=\"----ASM-\" lemma=\"Σαλμών\" strongs=\"04533\">Σαλμών</w>,\n</verse>",
         "40"
        ],
        [
         "4",
         "Matt",
         "1",
         "5",
         "<verse num=\"5\">\n<w pos=\"N-\" morph=\"----NSM-\" lemma=\"Σαλμών\" strongs=\"04533\">Σαλμὼν</w> <w pos=\"C-\" morph=\"--------\" lemma=\"δέ\" strongs=\"01161\">δὲ</w> <w pos=\"V-\" morph=\"3AAI-S--\" lemma=\"γεννάω\" strongs=\"01080\">ἐγέννησεν</w> <w pos=\"RA\" morph=\"----ASM-\" lemma=\"ὁ\" strongs=\"03588\">τὸν</w> ⸂<w pos=\"N-\" morph=\"----ASM-\" lemma=\"Βόες\">Βόες</w> <w pos=\"P-\" morph=\"--------\" lemma=\"ἐκ\" strongs=\"01537\">ἐκ</w> <w pos=\"RA\" morph=\"----GSF-\" lemma=\"ὁ\" strongs=\"03588\">τῆς</w> <w pos=\"N-\" morph=\"----GSF-\" lemma=\"Ῥαχάβ\" strongs=\"04477\">Ῥαχάβ</w>, <w pos=\"N-\" morph=\"----NSM-\" lemma=\"Βόες\">Βόες</w>⸃ <w pos=\"C-\" morph=\"--------\" lemma=\"δέ\" strongs=\"01161\">δὲ</w> <w pos=\"V-\" morph=\"3AAI-S--\" lemma=\"γεννάω\" strongs=\"01080\">ἐγέννησεν</w> <w pos=\"RA\" morph=\"----ASM-\" lemma=\"ὁ\" strongs=\"03588\">τὸν</w> ⸂<w pos=\"N-\" morph=\"----ASM-\" lemma=\"Ἰωβήδ\">Ἰωβὴδ</w> <w pos=\"P-\" morph=\"--------\" lemma=\"ἐκ\" strongs=\"01537\">ἐκ</w> <w pos=\"RA\" morph=\"----GSF-\" lemma=\"ὁ\" strongs=\"03588\">τῆς</w> <w pos=\"N-\" morph=\"----GSF-\" lemma=\"Ῥούθ\" strongs=\"04503\">Ῥούθ</w>, <w pos=\"N-\" morph=\"----NSM-\" lemma=\"Ἰωβήδ\">Ἰωβὴδ</w>⸃ <w pos=\"C-\" morph=\"--------\" lemma=\"δέ\" strongs=\"01161\">δὲ</w> <w pos=\"V-\" morph=\"3AAI-S--\" lemma=\"γεννάω\" strongs=\"01080\">ἐγέννησεν</w> <w pos=\"RA\" morph=\"----ASM-\" lemma=\"ὁ\" strongs=\"03588\">τὸν</w> <w pos=\"N-\" morph=\"----ASM-\" lemma=\"Ἰεσσαί\" strongs=\"02421\">Ἰεσσαί</w>,\n</verse>",
         "40"
        ]
       ],
       "shape": {
        "columns": 5,
        "rows": 5
       }
      },
      "text/html": [
       "<div>\n",
       "<style scoped>\n",
       "    .dataframe tbody tr th:only-of-type {\n",
       "        vertical-align: middle;\n",
       "    }\n",
       "\n",
       "    .dataframe tbody tr th {\n",
       "        vertical-align: top;\n",
       "    }\n",
       "\n",
       "    .dataframe thead th {\n",
       "        text-align: right;\n",
       "    }\n",
       "</style>\n",
       "<table border=\"1\" class=\"dataframe\">\n",
       "  <thead>\n",
       "    <tr style=\"text-align: right;\">\n",
       "      <th></th>\n",
       "      <th>book</th>\n",
       "      <th>chapter</th>\n",
       "      <th>verse</th>\n",
       "      <th>content</th>\n",
       "      <th>nr_sq_livro</th>\n",
       "    </tr>\n",
       "  </thead>\n",
       "  <tbody>\n",
       "    <tr>\n",
       "      <th>0</th>\n",
       "      <td>Matt</td>\n",
       "      <td>1</td>\n",
       "      <td>1</td>\n",
       "      <td>&lt;verse num=\"1\"&gt;\\n&lt;w pos=\"N-\" morph=\"----NSF-\" ...</td>\n",
       "      <td>40</td>\n",
       "    </tr>\n",
       "    <tr>\n",
       "      <th>1</th>\n",
       "      <td>Matt</td>\n",
       "      <td>1</td>\n",
       "      <td>2</td>\n",
       "      <td>&lt;verse num=\"2\"&gt;\\n&lt;w pos=\"N-\" morph=\"----NSM-\" ...</td>\n",
       "      <td>40</td>\n",
       "    </tr>\n",
       "    <tr>\n",
       "      <th>2</th>\n",
       "      <td>Matt</td>\n",
       "      <td>1</td>\n",
       "      <td>3</td>\n",
       "      <td>&lt;verse num=\"3\"&gt;\\n&lt;w pos=\"N-\" morph=\"----NSM-\" ...</td>\n",
       "      <td>40</td>\n",
       "    </tr>\n",
       "    <tr>\n",
       "      <th>3</th>\n",
       "      <td>Matt</td>\n",
       "      <td>1</td>\n",
       "      <td>4</td>\n",
       "      <td>&lt;verse num=\"4\"&gt;\\n&lt;w pos=\"N-\" morph=\"----NSM-\" ...</td>\n",
       "      <td>40</td>\n",
       "    </tr>\n",
       "    <tr>\n",
       "      <th>4</th>\n",
       "      <td>Matt</td>\n",
       "      <td>1</td>\n",
       "      <td>5</td>\n",
       "      <td>&lt;verse num=\"5\"&gt;\\n&lt;w pos=\"N-\" morph=\"----NSM-\" ...</td>\n",
       "      <td>40</td>\n",
       "    </tr>\n",
       "  </tbody>\n",
       "</table>\n",
       "</div>"
      ],
      "text/plain": [
       "   book  chapter  verse                                            content  \\\n",
       "0  Matt        1      1  <verse num=\"1\">\\n<w pos=\"N-\" morph=\"----NSF-\" ...   \n",
       "1  Matt        1      2  <verse num=\"2\">\\n<w pos=\"N-\" morph=\"----NSM-\" ...   \n",
       "2  Matt        1      3  <verse num=\"3\">\\n<w pos=\"N-\" morph=\"----NSM-\" ...   \n",
       "3  Matt        1      4  <verse num=\"4\">\\n<w pos=\"N-\" morph=\"----NSM-\" ...   \n",
       "4  Matt        1      5  <verse num=\"5\">\\n<w pos=\"N-\" morph=\"----NSM-\" ...   \n",
       "\n",
       "   nr_sq_livro  \n",
       "0           40  \n",
       "1           40  \n",
       "2           40  \n",
       "3           40  \n",
       "4           40  "
      ]
     },
     "execution_count": 10,
     "metadata": {},
     "output_type": "execute_result"
    }
   ],
   "source": [
    "sblgnt_bible_df.head()"
   ]
  },
  {
   "cell_type": "code",
   "execution_count": null,
   "metadata": {},
   "outputs": [
    {
     "data": {
      "text/plain": [
       "7927"
      ]
     },
     "execution_count": 32,
     "metadata": {},
     "output_type": "execute_result"
    }
   ],
   "source": [
    "len(sblgnt_bible_df)"
   ]
  },
  {
   "cell_type": "code",
   "execution_count": null,
   "metadata": {},
   "outputs": [],
   "source": [
    "xml_vs_content = sblgnt_bible_df.loc[0, 'content']"
   ]
  },
  {
   "cell_type": "code",
   "execution_count": 31,
   "metadata": {},
   "outputs": [
    {
     "name": "stdout",
     "output_type": "stream",
     "text": [
      "N- ----NSF- βίβλος 00976 Βίβλος   1\n",
      "N- ----GSF- γένεσις 01078 γενέσεως   2\n",
      "N- ----GSM- Ἰησοῦς 02424 Ἰησοῦ   3\n",
      "N- ----GSM- Χριστός 05547 χριστοῦ   4\n",
      "N- ----GSM- υἱός 05207 υἱοῦ   5\n",
      "N- ----GSM- Δαυίδ None Δαυὶδ   6\n",
      "N- ----GSM- υἱός 05207 υἱοῦ   7\n",
      "N- ----GSM- Ἀβραάμ 00011 Ἀβραάμ .\n",
      " 8\n"
     ]
    }
   ],
   "source": [
    "for i, value in enumerate(ET.fromstring(xml_vs_content)):\n",
    "    print(value.attrib.get('pos'), value.attrib.get('morph'), value.attrib.get('lemma'), value.attrib.get('strongs'), value.text, value.tail, i+1)"
   ]
  },
  {
   "cell_type": "code",
   "execution_count": null,
   "metadata": {},
   "outputs": [],
   "source": [
    "import sqlite3"
   ]
  },
  {
   "cell_type": "code",
   "execution_count": null,
   "metadata": {},
   "outputs": [],
   "source": [
    "def migra_sblgnt_bible_to_words(df):\n",
    "    for i in range(len(df)):\n",
    "        for j, value in enumerate(ET.fromstring(df.loc[i, 'content'])):\n",
    "            book = df.loc[i, 'book']\n",
    "            chapter = df.loc[i, 'chapter']\n",
    "            verse = df.loc[i, 'verse']\n",
    "            pos = value.attrib.get('pos')\n",
    "            morph = value.attrib.get('morph')\n",
    "            lemma = value.attrib.get('lemma')\n",
    "            strongs = value.attrib.get('strongs')\n",
    "            word = value.text\n",
    "            punct = value.tail\n",
    "            word_nr = j+1\n",
    "            nr_sq_livro = df.loc[i, 'nr_sq_livro']\n",
    "\n",
    "            insert_into = \"\"\"\n",
    "                            INSERT INTO words (book, chapter, verse, pos, morph, lemma, strongs, word, punct, word_nr, nr_sq_livro) \n",
    "                            VALUES ('{}', '{}', '{}', '{}', '{}', '{}', '{}', '{}', '{}', '{}', '{}')\n",
    "                        \"\"\".format(book, chapter, verse, pos, morph, lemma, strongs, word, punct, word_nr, nr_sq_livro)\n",
    "\n",
    "            try:\n",
    "                con = sqlite3.connect(sblgnt_db)\n",
    "                cursor = con.cursor()\n",
    "                cursor.execute(insert_into)\n",
    "                con.commit()\n",
    "                con.close()\n",
    "            except Exception as e:\n",
    "                print(e)\n",
    "            \n",
    "            # ConectorBD(sblgnt_db).con.execute(insert_into)"
   ]
  },
  {
   "cell_type": "code",
   "execution_count": null,
   "metadata": {},
   "outputs": [],
   "source": [
    "# migra tabela bible para words (com os campos de content [pos, morph, lemma, strongs, word, punct, word_nr] separados)\n",
    "# migra_sblgnt_bible_to_words(sblgnt_bible_df)"
   ]
  }
 ],
 "metadata": {
  "kernelspec": {
   "display_name": "almeida-semantica-EQJtyJGz",
   "language": "python",
   "name": "python3"
  },
  "language_info": {
   "codemirror_mode": {
    "name": "ipython",
    "version": 3
   },
   "file_extension": ".py",
   "mimetype": "text/x-python",
   "name": "python",
   "nbconvert_exporter": "python",
   "pygments_lexer": "ipython3",
   "version": "3.11.11"
  }
 },
 "nbformat": 4,
 "nbformat_minor": 2
}
