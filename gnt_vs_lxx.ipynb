{
 "cells": [
  {
   "cell_type": "code",
   "execution_count": 1,
   "metadata": {},
   "outputs": [],
   "source": [
    "import sys\n",
    "sys.path.append('/Users/davison/Software/almeida-semantica')\n",
    "from src.ConectorBD import *\n",
    "import cltk as cltk\n",
    "import pandas as pd\n",
    "from pandasql import sqldf\n",
    "import os"
   ]
  },
  {
   "cell_type": "code",
   "execution_count": 2,
   "metadata": {},
   "outputs": [],
   "source": [
    "import koinenlp"
   ]
  },
  {
   "cell_type": "code",
   "execution_count": 3,
   "metadata": {},
   "outputs": [],
   "source": [
    "lxx = '/Users/davison/Software/almeida-semantica/db/lxx.db'"
   ]
  },
  {
   "cell_type": "code",
   "execution_count": 4,
   "metadata": {},
   "outputs": [],
   "source": [
    "lxx_df = pd.read_sql_query(\"\"\"\n",
    "                           SELECT \n",
    "                                src_name\n",
    "                                , book_name\n",
    "                                , chapter_nr\n",
    "                                , verse_nr\n",
    "                                , group_concat(word, ' ') as verse_text\n",
    "                           FROM \n",
    "                                content\n",
    "                           group by \n",
    "                                src_name\n",
    "                                , book_name\n",
    "                                , chapter_nr\n",
    "                                , verse_nr\n",
    "                           \"\"\"\n",
    "                           , ConectorBD(lxx).con)"
   ]
  },
  {
   "cell_type": "code",
   "execution_count": 33,
   "metadata": {},
   "outputs": [
    {
     "data": {
      "text/plain": [
       "160235          ἐν\n",
       "160236        ἀρχή\n",
       "160237       ποιέω\n",
       "160238           ὁ\n",
       "160239        θεός\n",
       "            ...   \n",
       "594409          ἐν\n",
       "594410           ὁ\n",
       "594411       σορός\n",
       "594412          ἐν\n",
       "594413    Αἴγυπτος\n",
       "Name: word_root, Length: 32566, dtype: object"
      ]
     },
     "execution_count": 33,
     "metadata": {},
     "output_type": "execute_result"
    }
   ],
   "source": [
    "lxx_db = pd.read_sql_query(\"select * from content\", ConectorBD(lxx).con)\n",
    "lxx_db.query('book_name == \"Gen\"').word_root"
   ]
  },
  {
   "cell_type": "code",
   "execution_count": 6,
   "metadata": {},
   "outputs": [],
   "source": [
    "strongs_df = pd.read_sql_query(\"\"\"\n",
    "                                SELECT\n",
    "                                    *   \n",
    "                                FROM\n",
    "                                    strongs\n",
    "                                \"\"\", ConectorBD('/Users/davison/Software/almeida-semantica/db/strongs.sqlite').con)"
   ]
  },
  {
   "cell_type": "code",
   "execution_count": 17,
   "metadata": {},
   "outputs": [
    {
     "data": {
      "application/vnd.microsoft.datawrangler.viewer.v0+json": {
       "columns": [
        {
         "name": "index",
         "rawType": "int64",
         "type": "integer"
        },
        {
         "name": "number",
         "rawType": "object",
         "type": "string"
        },
        {
         "name": "lemma",
         "rawType": "object",
         "type": "string"
        },
        {
         "name": "xlit",
         "rawType": "object",
         "type": "string"
        },
        {
         "name": "pronounce",
         "rawType": "object",
         "type": "string"
        },
        {
         "name": "description",
         "rawType": "object",
         "type": "string"
        }
       ],
       "conversionMethod": "pd.DataFrame",
       "ref": "ea4dbb62-b441-445f-93a3-4f44786e690d",
       "rows": [
        [
         "0",
         "H1",
         "אָב",
         "ʼâb",
         "awb",
         "a primitive word; father, in a literal and immediate, or figurative and remote application; chief, (fore-) father(-less), [idiom] patrimony, principal. Compare names in 'Abi-'."
        ],
        [
         "1",
         "H2",
         "אַב",
         "ʼab",
         "ab",
         "(Aramaic) corresponding to אָב; {father}; father."
        ],
        [
         "2",
         "H3",
         "אֵב",
         "ʼêb",
         "abe",
         "from the same as אָבִיב; a green plant; greenness, fruit."
        ],
        [
         "3",
         "H4",
         "אֵב",
         "ʼêb",
         "abe",
         "(Aramaic) corresponding to אֵב; {a green plant}; fruit."
        ],
        [
         "4",
         "H5",
         "אֲבַגְתָא",
         "ʼĂbagthâʼ",
         "ab-ag-thaw'",
         "of foreign origin; Abagtha, a eunuch of Xerxes; Abagtha."
        ]
       ],
       "shape": {
        "columns": 5,
        "rows": 5
       }
      },
      "text/html": [
       "<div>\n",
       "<style scoped>\n",
       "    .dataframe tbody tr th:only-of-type {\n",
       "        vertical-align: middle;\n",
       "    }\n",
       "\n",
       "    .dataframe tbody tr th {\n",
       "        vertical-align: top;\n",
       "    }\n",
       "\n",
       "    .dataframe thead th {\n",
       "        text-align: right;\n",
       "    }\n",
       "</style>\n",
       "<table border=\"1\" class=\"dataframe\">\n",
       "  <thead>\n",
       "    <tr style=\"text-align: right;\">\n",
       "      <th></th>\n",
       "      <th>number</th>\n",
       "      <th>lemma</th>\n",
       "      <th>xlit</th>\n",
       "      <th>pronounce</th>\n",
       "      <th>description</th>\n",
       "    </tr>\n",
       "  </thead>\n",
       "  <tbody>\n",
       "    <tr>\n",
       "      <th>0</th>\n",
       "      <td>H1</td>\n",
       "      <td>אָב</td>\n",
       "      <td>ʼâb</td>\n",
       "      <td>awb</td>\n",
       "      <td>a primitive word; father, in a literal and imm...</td>\n",
       "    </tr>\n",
       "    <tr>\n",
       "      <th>1</th>\n",
       "      <td>H2</td>\n",
       "      <td>אַב</td>\n",
       "      <td>ʼab</td>\n",
       "      <td>ab</td>\n",
       "      <td>(Aramaic) corresponding to אָב; {father}; father.</td>\n",
       "    </tr>\n",
       "    <tr>\n",
       "      <th>2</th>\n",
       "      <td>H3</td>\n",
       "      <td>אֵב</td>\n",
       "      <td>ʼêb</td>\n",
       "      <td>abe</td>\n",
       "      <td>from the same as אָבִיב; a green plant; greenn...</td>\n",
       "    </tr>\n",
       "    <tr>\n",
       "      <th>3</th>\n",
       "      <td>H4</td>\n",
       "      <td>אֵב</td>\n",
       "      <td>ʼêb</td>\n",
       "      <td>abe</td>\n",
       "      <td>(Aramaic) corresponding to אֵב; {a green plant...</td>\n",
       "    </tr>\n",
       "    <tr>\n",
       "      <th>4</th>\n",
       "      <td>H5</td>\n",
       "      <td>אֲבַגְתָא</td>\n",
       "      <td>ʼĂbagthâʼ</td>\n",
       "      <td>ab-ag-thaw'</td>\n",
       "      <td>of foreign origin; Abagtha, a eunuch of Xerxes...</td>\n",
       "    </tr>\n",
       "  </tbody>\n",
       "</table>\n",
       "</div>"
      ],
      "text/plain": [
       "  number      lemma       xlit    pronounce  \\\n",
       "0     H1        אָב        ʼâb          awb   \n",
       "1     H2        אַב        ʼab           ab   \n",
       "2     H3        אֵב        ʼêb          abe   \n",
       "3     H4        אֵב        ʼêb          abe   \n",
       "4     H5  אֲבַגְתָא  ʼĂbagthâʼ  ab-ag-thaw'   \n",
       "\n",
       "                                         description  \n",
       "0  a primitive word; father, in a literal and imm...  \n",
       "1  (Aramaic) corresponding to אָב; {father}; father.  \n",
       "2  from the same as אָבִיב; a green plant; greenn...  \n",
       "3  (Aramaic) corresponding to אֵב; {a green plant...  \n",
       "4  of foreign origin; Abagtha, a eunuch of Xerxes...  "
      ]
     },
     "execution_count": 17,
     "metadata": {},
     "output_type": "execute_result"
    }
   ],
   "source": [
    "strongs_df.head()"
   ]
  },
  {
   "cell_type": "code",
   "execution_count": 38,
   "metadata": {},
   "outputs": [],
   "source": [
    "strongs_df['word_root'] = [koinenlp.normalize(i) for i in strongs_df.lemma]"
   ]
  },
  {
   "cell_type": "code",
   "execution_count": 39,
   "metadata": {},
   "outputs": [
    {
     "data": {
      "text/plain": [
       "0              אב\n",
       "1              אב\n",
       "2              אב\n",
       "3              אב\n",
       "4           אבגתא\n",
       "           ...   \n",
       "14293        ωστε\n",
       "14294       ωτιον\n",
       "14295     ωφελεια\n",
       "14296      ωφελεω\n",
       "14297    ωφελιμοσ\n",
       "Name: word_root, Length: 14298, dtype: object"
      ]
     },
     "execution_count": 39,
     "metadata": {},
     "output_type": "execute_result"
    }
   ],
   "source": [
    "strongs_df.word_root"
   ]
  },
  {
   "cell_type": "code",
   "execution_count": null,
   "metadata": {},
   "outputs": [
    {
     "name": "stdout",
     "output_type": "stream",
     "text": [
      "ο\n"
     ]
    },
    {
     "data": {
      "application/vnd.microsoft.datawrangler.viewer.v0+json": {
       "columns": [
        {
         "name": "index",
         "rawType": "int64",
         "type": "integer"
        },
        {
         "name": "number",
         "rawType": "object",
         "type": "string"
        },
        {
         "name": "lemma",
         "rawType": "object",
         "type": "string"
        },
        {
         "name": "xlit",
         "rawType": "object",
         "type": "string"
        },
        {
         "name": "pronounce",
         "rawType": "object",
         "type": "string"
        },
        {
         "name": "description",
         "rawType": "object",
         "type": "string"
        },
        {
         "name": "word_root",
         "rawType": "object",
         "type": "string"
        }
       ],
       "conversionMethod": "pd.DataFrame",
       "ref": "fb8f07b3-5245-4335-acb0-99ee175d90e9",
       "rows": [
        [
         "12261",
         "G3588",
         "ὁ",
         "ho",
         "to",
         "the definite article; the (sometimes to be supplied, at others omitted, in English idiom):--the, this, that, one, he, she, it, etc.",
         "ο"
        ]
       ],
       "shape": {
        "columns": 6,
        "rows": 1
       }
      },
      "text/html": [
       "<div>\n",
       "<style scoped>\n",
       "    .dataframe tbody tr th:only-of-type {\n",
       "        vertical-align: middle;\n",
       "    }\n",
       "\n",
       "    .dataframe tbody tr th {\n",
       "        vertical-align: top;\n",
       "    }\n",
       "\n",
       "    .dataframe thead th {\n",
       "        text-align: right;\n",
       "    }\n",
       "</style>\n",
       "<table border=\"1\" class=\"dataframe\">\n",
       "  <thead>\n",
       "    <tr style=\"text-align: right;\">\n",
       "      <th></th>\n",
       "      <th>number</th>\n",
       "      <th>lemma</th>\n",
       "      <th>xlit</th>\n",
       "      <th>pronounce</th>\n",
       "      <th>description</th>\n",
       "      <th>word_root</th>\n",
       "    </tr>\n",
       "  </thead>\n",
       "  <tbody>\n",
       "    <tr>\n",
       "      <th>12261</th>\n",
       "      <td>G3588</td>\n",
       "      <td>ὁ</td>\n",
       "      <td>ho</td>\n",
       "      <td>to</td>\n",
       "      <td>the definite article; the (sometimes to be sup...</td>\n",
       "      <td>ο</td>\n",
       "    </tr>\n",
       "  </tbody>\n",
       "</table>\n",
       "</div>"
      ],
      "text/plain": [
       "      number lemma xlit pronounce  \\\n",
       "12261  G3588     ὁ   ho        to   \n",
       "\n",
       "                                             description word_root  \n",
       "12261  the definite article; the (sometimes to be sup...         ο  "
      ]
     },
     "execution_count": 44,
     "metadata": {},
     "output_type": "execute_result"
    }
   ],
   "source": [
    "palavra_lxx_por_indice = koinenlp.normalize(lxx_db.query('book_name == \"Gen\"').word_root.values[3])\n",
    "wd_gnt_by_vs = \n",
    "# palavra_lxx_por_indice = lxx_db.query('book_name == \"Gen\"').word_root.values[1]\n",
    "print(palavra_lxx_por_indice)\n",
    "strong_por_lxx_word_root = strongs_df.query('word_root == \"{}\"'.format(palavra_lxx_por_indice))\n",
    "\n",
    "strong_por_lxx_word_root"
   ]
  },
  {
   "cell_type": "code",
   "execution_count": 6,
   "metadata": {},
   "outputs": [
    {
     "data": {
      "application/vnd.microsoft.datawrangler.viewer.v0+json": {
       "columns": [
        {
         "name": "index",
         "rawType": "int64",
         "type": "integer"
        },
        {
         "name": "src_name",
         "rawType": "object",
         "type": "string"
        },
        {
         "name": "book_name",
         "rawType": "object",
         "type": "string"
        },
        {
         "name": "chapter_nr",
         "rawType": "object",
         "type": "unknown"
        },
        {
         "name": "verse_nr",
         "rawType": "object",
         "type": "unknown"
        },
        {
         "name": "verse_text",
         "rawType": "object",
         "type": "string"
        }
       ],
       "conversionMethod": "pd.DataFrame",
       "ref": "b0cd25da-92b3-480b-8414-07c31ad50f89",
       "rows": [
        [
         "0",
         "01.Gen.1.mlxx",
         "Gen",
         "1",
         "1",
         "ἐν ἀρχῇ ἐποίησεν ὁ θεὸς τὸν οὐρανὸν καὶ τὴν γῆν"
        ],
        [
         "1",
         "01.Gen.1.mlxx",
         "Gen",
         "1",
         "2",
         "ἡ δὲ γῆ ἦν ἀόρατος καὶ ἀκατασκεύαστος καὶ σκότος ἐπάνω τῆς ἀβύσσου καὶ πνεῦμα θεοῦ ἐπεφέρετο ἐπάνω τοῦ ὕδατος"
        ],
        [
         "2",
         "01.Gen.1.mlxx",
         "Gen",
         "1",
         "3",
         "καὶ εἶπεν ὁ θεός γενηθήτω φῶς καὶ ἐγένετο φῶς"
        ],
        [
         "3",
         "01.Gen.1.mlxx",
         "Gen",
         "1",
         "4",
         "καὶ εἶδεν ὁ θεὸς τὸ φῶς ὅτι καλόν καὶ διεχώρισεν ὁ θεὸς ἀνὰ μέσον τοῦ φωτὸς καὶ ἀνὰ μέσον τοῦ σκότους"
        ],
        [
         "4",
         "01.Gen.1.mlxx",
         "Gen",
         "1",
         "5",
         "καὶ ἐκάλεσεν ὁ θεὸς τὸ φῶς ἡμέραν καὶ τὸ σκότος ἐκάλεσεν νύκτα καὶ ἐγένετο ἑσπέρα καὶ ἐγένετο πρωί ἡμέρα μία"
        ]
       ],
       "shape": {
        "columns": 5,
        "rows": 5
       }
      },
      "text/html": [
       "<div>\n",
       "<style scoped>\n",
       "    .dataframe tbody tr th:only-of-type {\n",
       "        vertical-align: middle;\n",
       "    }\n",
       "\n",
       "    .dataframe tbody tr th {\n",
       "        vertical-align: top;\n",
       "    }\n",
       "\n",
       "    .dataframe thead th {\n",
       "        text-align: right;\n",
       "    }\n",
       "</style>\n",
       "<table border=\"1\" class=\"dataframe\">\n",
       "  <thead>\n",
       "    <tr style=\"text-align: right;\">\n",
       "      <th></th>\n",
       "      <th>src_name</th>\n",
       "      <th>book_name</th>\n",
       "      <th>chapter_nr</th>\n",
       "      <th>verse_nr</th>\n",
       "      <th>verse_text</th>\n",
       "    </tr>\n",
       "  </thead>\n",
       "  <tbody>\n",
       "    <tr>\n",
       "      <th>0</th>\n",
       "      <td>01.Gen.1.mlxx</td>\n",
       "      <td>Gen</td>\n",
       "      <td>1</td>\n",
       "      <td>1</td>\n",
       "      <td>ἐν ἀρχῇ ἐποίησεν ὁ θεὸς τὸν οὐρανὸν καὶ τὴν γῆν</td>\n",
       "    </tr>\n",
       "    <tr>\n",
       "      <th>1</th>\n",
       "      <td>01.Gen.1.mlxx</td>\n",
       "      <td>Gen</td>\n",
       "      <td>1</td>\n",
       "      <td>2</td>\n",
       "      <td>ἡ δὲ γῆ ἦν ἀόρατος καὶ ἀκατασκεύαστος καὶ σκότ...</td>\n",
       "    </tr>\n",
       "    <tr>\n",
       "      <th>2</th>\n",
       "      <td>01.Gen.1.mlxx</td>\n",
       "      <td>Gen</td>\n",
       "      <td>1</td>\n",
       "      <td>3</td>\n",
       "      <td>καὶ εἶπεν ὁ θεός γενηθήτω φῶς καὶ ἐγένετο φῶς</td>\n",
       "    </tr>\n",
       "    <tr>\n",
       "      <th>3</th>\n",
       "      <td>01.Gen.1.mlxx</td>\n",
       "      <td>Gen</td>\n",
       "      <td>1</td>\n",
       "      <td>4</td>\n",
       "      <td>καὶ εἶδεν ὁ θεὸς τὸ φῶς ὅτι καλόν καὶ διεχώρισ...</td>\n",
       "    </tr>\n",
       "    <tr>\n",
       "      <th>4</th>\n",
       "      <td>01.Gen.1.mlxx</td>\n",
       "      <td>Gen</td>\n",
       "      <td>1</td>\n",
       "      <td>5</td>\n",
       "      <td>καὶ ἐκάλεσεν ὁ θεὸς τὸ φῶς ἡμέραν καὶ τὸ σκότο...</td>\n",
       "    </tr>\n",
       "  </tbody>\n",
       "</table>\n",
       "</div>"
      ],
      "text/plain": [
       "        src_name book_name chapter_nr verse_nr  \\\n",
       "0  01.Gen.1.mlxx       Gen          1        1   \n",
       "1  01.Gen.1.mlxx       Gen          1        2   \n",
       "2  01.Gen.1.mlxx       Gen          1        3   \n",
       "3  01.Gen.1.mlxx       Gen          1        4   \n",
       "4  01.Gen.1.mlxx       Gen          1        5   \n",
       "\n",
       "                                          verse_text  \n",
       "0    ἐν ἀρχῇ ἐποίησεν ὁ θεὸς τὸν οὐρανὸν καὶ τὴν γῆν  \n",
       "1  ἡ δὲ γῆ ἦν ἀόρατος καὶ ἀκατασκεύαστος καὶ σκότ...  \n",
       "2      καὶ εἶπεν ὁ θεός γενηθήτω φῶς καὶ ἐγένετο φῶς  \n",
       "3  καὶ εἶδεν ὁ θεὸς τὸ φῶς ὅτι καλόν καὶ διεχώρισ...  \n",
       "4  καὶ ἐκάλεσεν ὁ θεὸς τὸ φῶς ἡμέραν καὶ τὸ σκότο...  "
      ]
     },
     "execution_count": 6,
     "metadata": {},
     "output_type": "execute_result"
    }
   ],
   "source": [
    "lxx_df.head()"
   ]
  },
  {
   "cell_type": "code",
   "execution_count": 7,
   "metadata": {},
   "outputs": [],
   "source": [
    "sql_lxx_strongs = \"\"\"\n",
    "                    SELECT\n",
    "                        l.src_name\n",
    "                        , l.book_name\n",
    "                        , l.chapter_nr\n",
    "                        , l.verse_nr\n",
    "                        , l.word\n",
    "                        , l.word_root\n",
    "                        , s.number\n",
    "                        --, s.strongs_def\n",
    "                    FROM\n",
    "                        lxx_db l\n",
    "                    LEFT JOIN    \n",
    "                        strongs_df s on l.word_root = s.lemma\n",
    "                    WHERE\n",
    "                        l.word like '%ἐπιδέκατα%'\n",
    "                        --s.number like '%1183'\n",
    "                    \"\"\""
   ]
  },
  {
   "cell_type": "code",
   "execution_count": 8,
   "metadata": {},
   "outputs": [],
   "source": [
    "lxx_strongs_df = sqldf(sql_lxx_strongs)"
   ]
  },
  {
   "cell_type": "code",
   "execution_count": 9,
   "metadata": {},
   "outputs": [
    {
     "data": {
      "text/plain": [
       "9"
      ]
     },
     "execution_count": 9,
     "metadata": {},
     "output_type": "execute_result"
    }
   ],
   "source": [
    "len(lxx_strongs_df)"
   ]
  },
  {
   "cell_type": "code",
   "execution_count": 58,
   "metadata": {},
   "outputs": [
    {
     "data": {
      "application/vnd.microsoft.datawrangler.viewer.v0+json": {
       "columns": [
        {
         "name": "index",
         "rawType": "int64",
         "type": "integer"
        },
        {
         "name": "src_name",
         "rawType": "object",
         "type": "string"
        },
        {
         "name": "book_name",
         "rawType": "object",
         "type": "string"
        },
        {
         "name": "chapter_nr",
         "rawType": "object",
         "type": "string"
        },
        {
         "name": "verse_nr",
         "rawType": "object",
         "type": "string"
        },
        {
         "name": "word",
         "rawType": "object",
         "type": "string"
        },
        {
         "name": "word_root",
         "rawType": "object",
         "type": "string"
        },
        {
         "name": "number",
         "rawType": "object",
         "type": "unknown"
        }
       ],
       "conversionMethod": "pd.DataFrame",
       "ref": "0d43af0f-3019-44d8-9fb5-6492ba658c9c",
       "rows": [
        [
         "0",
         "05.Num.mlxx",
         "Num",
         "18",
         "24",
         "ἐπιδέκατα",
         "ἐπιδέκατος",
         null
        ],
        [
         "1",
         "40.Amos.mlxx",
         "Amos",
         "4",
         "4",
         "ἐπιδέκατα",
         "ἐπιδέκατος",
         null
        ],
        [
         "2",
         "49.Malachi.mlxx",
         "Mal",
         "3",
         "8",
         "ἐπιδέκατα",
         "ἐπιδέκατος",
         null
        ],
        [
         "3",
         "17.2Chron.mlxx",
         "2Chr",
         "31",
         "5",
         "ἐπιδέκατα",
         "ἐπιδέκατος",
         null
        ],
        [
         "4",
         "17.2Chron.mlxx",
         "2Chr",
         "31",
         "6",
         "ἐπιδέκατα",
         "ἐπιδέκατος",
         null
        ]
       ],
       "shape": {
        "columns": 7,
        "rows": 5
       }
      },
      "text/html": [
       "<div>\n",
       "<style scoped>\n",
       "    .dataframe tbody tr th:only-of-type {\n",
       "        vertical-align: middle;\n",
       "    }\n",
       "\n",
       "    .dataframe tbody tr th {\n",
       "        vertical-align: top;\n",
       "    }\n",
       "\n",
       "    .dataframe thead th {\n",
       "        text-align: right;\n",
       "    }\n",
       "</style>\n",
       "<table border=\"1\" class=\"dataframe\">\n",
       "  <thead>\n",
       "    <tr style=\"text-align: right;\">\n",
       "      <th></th>\n",
       "      <th>src_name</th>\n",
       "      <th>book_name</th>\n",
       "      <th>chapter_nr</th>\n",
       "      <th>verse_nr</th>\n",
       "      <th>word</th>\n",
       "      <th>word_root</th>\n",
       "      <th>number</th>\n",
       "    </tr>\n",
       "  </thead>\n",
       "  <tbody>\n",
       "    <tr>\n",
       "      <th>0</th>\n",
       "      <td>05.Num.mlxx</td>\n",
       "      <td>Num</td>\n",
       "      <td>18</td>\n",
       "      <td>24</td>\n",
       "      <td>ἐπιδέκατα</td>\n",
       "      <td>ἐπιδέκατος</td>\n",
       "      <td>None</td>\n",
       "    </tr>\n",
       "    <tr>\n",
       "      <th>1</th>\n",
       "      <td>40.Amos.mlxx</td>\n",
       "      <td>Amos</td>\n",
       "      <td>4</td>\n",
       "      <td>4</td>\n",
       "      <td>ἐπιδέκατα</td>\n",
       "      <td>ἐπιδέκατος</td>\n",
       "      <td>None</td>\n",
       "    </tr>\n",
       "    <tr>\n",
       "      <th>2</th>\n",
       "      <td>49.Malachi.mlxx</td>\n",
       "      <td>Mal</td>\n",
       "      <td>3</td>\n",
       "      <td>8</td>\n",
       "      <td>ἐπιδέκατα</td>\n",
       "      <td>ἐπιδέκατος</td>\n",
       "      <td>None</td>\n",
       "    </tr>\n",
       "    <tr>\n",
       "      <th>3</th>\n",
       "      <td>17.2Chron.mlxx</td>\n",
       "      <td>2Chr</td>\n",
       "      <td>31</td>\n",
       "      <td>5</td>\n",
       "      <td>ἐπιδέκατα</td>\n",
       "      <td>ἐπιδέκατος</td>\n",
       "      <td>None</td>\n",
       "    </tr>\n",
       "    <tr>\n",
       "      <th>4</th>\n",
       "      <td>17.2Chron.mlxx</td>\n",
       "      <td>2Chr</td>\n",
       "      <td>31</td>\n",
       "      <td>6</td>\n",
       "      <td>ἐπιδέκατα</td>\n",
       "      <td>ἐπιδέκατος</td>\n",
       "      <td>None</td>\n",
       "    </tr>\n",
       "  </tbody>\n",
       "</table>\n",
       "</div>"
      ],
      "text/plain": [
       "          src_name book_name chapter_nr verse_nr       word   word_root number\n",
       "0      05.Num.mlxx       Num         18       24  ἐπιδέκατα  ἐπιδέκατος   None\n",
       "1     40.Amos.mlxx      Amos          4        4  ἐπιδέκατα  ἐπιδέκατος   None\n",
       "2  49.Malachi.mlxx       Mal          3        8  ἐπιδέκατα  ἐπιδέκατος   None\n",
       "3   17.2Chron.mlxx      2Chr         31        5  ἐπιδέκατα  ἐπιδέκατος   None\n",
       "4   17.2Chron.mlxx      2Chr         31        6  ἐπιδέκατα  ἐπιδέκατος   None"
      ]
     },
     "execution_count": 58,
     "metadata": {},
     "output_type": "execute_result"
    }
   ],
   "source": [
    "lxx_strongs_df.head()"
   ]
  },
  {
   "cell_type": "code",
   "execution_count": 10,
   "metadata": {},
   "outputs": [
    {
     "data": {
      "application/vnd.microsoft.datawrangler.viewer.v0+json": {
       "columns": [
        {
         "name": "index",
         "rawType": "int64",
         "type": "integer"
        },
        {
         "name": "src_name",
         "rawType": "object",
         "type": "string"
        },
        {
         "name": "book_name",
         "rawType": "object",
         "type": "string"
        },
        {
         "name": "chapter_nr",
         "rawType": "object",
         "type": "unknown"
        },
        {
         "name": "verse_nr",
         "rawType": "object",
         "type": "unknown"
        },
        {
         "name": "verse_text",
         "rawType": "object",
         "type": "string"
        }
       ],
       "conversionMethod": "pd.DataFrame",
       "ref": "3461b37e-2e94-40f0-b01e-a04186ac618d",
       "rows": [
        [
         "0",
         "01.Gen.1.mlxx",
         "Gen",
         "1",
         "1",
         "ἐν ἀρχῇ ἐποίησεν ὁ θεὸς τὸν οὐρανὸν καὶ τὴν γῆν"
        ],
        [
         "1",
         "01.Gen.1.mlxx",
         "Gen",
         "1",
         "2",
         "ἡ δὲ γῆ ἦν ἀόρατος καὶ ἀκατασκεύαστος καὶ σκότος ἐπάνω τῆς ἀβύσσου καὶ πνεῦμα θεοῦ ἐπεφέρετο ἐπάνω τοῦ ὕδατος"
        ],
        [
         "2",
         "01.Gen.1.mlxx",
         "Gen",
         "1",
         "3",
         "καὶ εἶπεν ὁ θεός γενηθήτω φῶς καὶ ἐγένετο φῶς"
        ],
        [
         "3",
         "01.Gen.1.mlxx",
         "Gen",
         "1",
         "4",
         "καὶ εἶδεν ὁ θεὸς τὸ φῶς ὅτι καλόν καὶ διεχώρισεν ὁ θεὸς ἀνὰ μέσον τοῦ φωτὸς καὶ ἀνὰ μέσον τοῦ σκότους"
        ],
        [
         "4",
         "01.Gen.1.mlxx",
         "Gen",
         "1",
         "5",
         "καὶ ἐκάλεσεν ὁ θεὸς τὸ φῶς ἡμέραν καὶ τὸ σκότος ἐκάλεσεν νύκτα καὶ ἐγένετο ἑσπέρα καὶ ἐγένετο πρωί ἡμέρα μία"
        ]
       ],
       "shape": {
        "columns": 5,
        "rows": 5
       }
      },
      "text/html": [
       "<div>\n",
       "<style scoped>\n",
       "    .dataframe tbody tr th:only-of-type {\n",
       "        vertical-align: middle;\n",
       "    }\n",
       "\n",
       "    .dataframe tbody tr th {\n",
       "        vertical-align: top;\n",
       "    }\n",
       "\n",
       "    .dataframe thead th {\n",
       "        text-align: right;\n",
       "    }\n",
       "</style>\n",
       "<table border=\"1\" class=\"dataframe\">\n",
       "  <thead>\n",
       "    <tr style=\"text-align: right;\">\n",
       "      <th></th>\n",
       "      <th>src_name</th>\n",
       "      <th>book_name</th>\n",
       "      <th>chapter_nr</th>\n",
       "      <th>verse_nr</th>\n",
       "      <th>verse_text</th>\n",
       "    </tr>\n",
       "  </thead>\n",
       "  <tbody>\n",
       "    <tr>\n",
       "      <th>0</th>\n",
       "      <td>01.Gen.1.mlxx</td>\n",
       "      <td>Gen</td>\n",
       "      <td>1</td>\n",
       "      <td>1</td>\n",
       "      <td>ἐν ἀρχῇ ἐποίησεν ὁ θεὸς τὸν οὐρανὸν καὶ τὴν γῆν</td>\n",
       "    </tr>\n",
       "    <tr>\n",
       "      <th>1</th>\n",
       "      <td>01.Gen.1.mlxx</td>\n",
       "      <td>Gen</td>\n",
       "      <td>1</td>\n",
       "      <td>2</td>\n",
       "      <td>ἡ δὲ γῆ ἦν ἀόρατος καὶ ἀκατασκεύαστος καὶ σκότ...</td>\n",
       "    </tr>\n",
       "    <tr>\n",
       "      <th>2</th>\n",
       "      <td>01.Gen.1.mlxx</td>\n",
       "      <td>Gen</td>\n",
       "      <td>1</td>\n",
       "      <td>3</td>\n",
       "      <td>καὶ εἶπεν ὁ θεός γενηθήτω φῶς καὶ ἐγένετο φῶς</td>\n",
       "    </tr>\n",
       "    <tr>\n",
       "      <th>3</th>\n",
       "      <td>01.Gen.1.mlxx</td>\n",
       "      <td>Gen</td>\n",
       "      <td>1</td>\n",
       "      <td>4</td>\n",
       "      <td>καὶ εἶδεν ὁ θεὸς τὸ φῶς ὅτι καλόν καὶ διεχώρισ...</td>\n",
       "    </tr>\n",
       "    <tr>\n",
       "      <th>4</th>\n",
       "      <td>01.Gen.1.mlxx</td>\n",
       "      <td>Gen</td>\n",
       "      <td>1</td>\n",
       "      <td>5</td>\n",
       "      <td>καὶ ἐκάλεσεν ὁ θεὸς τὸ φῶς ἡμέραν καὶ τὸ σκότο...</td>\n",
       "    </tr>\n",
       "  </tbody>\n",
       "</table>\n",
       "</div>"
      ],
      "text/plain": [
       "        src_name book_name chapter_nr verse_nr  \\\n",
       "0  01.Gen.1.mlxx       Gen          1        1   \n",
       "1  01.Gen.1.mlxx       Gen          1        2   \n",
       "2  01.Gen.1.mlxx       Gen          1        3   \n",
       "3  01.Gen.1.mlxx       Gen          1        4   \n",
       "4  01.Gen.1.mlxx       Gen          1        5   \n",
       "\n",
       "                                          verse_text  \n",
       "0    ἐν ἀρχῇ ἐποίησεν ὁ θεὸς τὸν οὐρανὸν καὶ τὴν γῆν  \n",
       "1  ἡ δὲ γῆ ἦν ἀόρατος καὶ ἀκατασκεύαστος καὶ σκότ...  \n",
       "2      καὶ εἶπεν ὁ θεός γενηθήτω φῶς καὶ ἐγένετο φῶς  \n",
       "3  καὶ εἶδεν ὁ θεὸς τὸ φῶς ὅτι καλόν καὶ διεχώρισ...  \n",
       "4  καὶ ἐκάλεσεν ὁ θεὸς τὸ φῶς ἡμέραν καὶ τὸ σκότο...  "
      ]
     },
     "execution_count": 10,
     "metadata": {},
     "output_type": "execute_result"
    }
   ],
   "source": [
    "lxx_df.head()"
   ]
  },
  {
   "cell_type": "code",
   "execution_count": 11,
   "metadata": {},
   "outputs": [],
   "source": [
    "gnt = '/Users/davison/Software/almeida-semantica/db/sbl.db'"
   ]
  },
  {
   "cell_type": "code",
   "execution_count": 12,
   "metadata": {},
   "outputs": [],
   "source": [
    "gnt_df = pd.read_sql_query(\"SELECT * FROM words\", ConectorBD(gnt).con)"
   ]
  },
  {
   "cell_type": "code",
   "execution_count": 13,
   "metadata": {},
   "outputs": [],
   "source": [
    "gnt_grouped_df = pd.read_sql_query(\"\"\"\n",
    "                           SELECT\n",
    "                                nr_sq_livro\n",
    "                                , chapter\n",
    "                                , verse\n",
    "                                , group_concat(word, ' ') as words\n",
    "                                , group_concat(lemma, ' ') as lemmas\n",
    "                                , group_concat(strongs, ' ') as strongs\n",
    "                            FROM \n",
    "                                words\n",
    "                            group by\n",
    "                                nr_sq_livro\n",
    "                                , chapter\n",
    "                                , verse\"\"\", ConectorBD(gnt).con)"
   ]
  },
  {
   "cell_type": "code",
   "execution_count": 17,
   "metadata": {},
   "outputs": [
    {
     "data": {
      "application/vnd.microsoft.datawrangler.viewer.v0+json": {
       "columns": [
        {
         "name": "index",
         "rawType": "int64",
         "type": "integer"
        },
        {
         "name": "book",
         "rawType": "object",
         "type": "string"
        },
        {
         "name": "chapter",
         "rawType": "int64",
         "type": "integer"
        },
        {
         "name": "verse",
         "rawType": "int64",
         "type": "integer"
        },
        {
         "name": "pos",
         "rawType": "object",
         "type": "string"
        },
        {
         "name": "morph",
         "rawType": "object",
         "type": "string"
        },
        {
         "name": "lemma",
         "rawType": "object",
         "type": "string"
        },
        {
         "name": "strongs",
         "rawType": "object",
         "type": "string"
        },
        {
         "name": "word",
         "rawType": "object",
         "type": "string"
        },
        {
         "name": "punct",
         "rawType": "object",
         "type": "string"
        },
        {
         "name": "word_nr",
         "rawType": "int64",
         "type": "integer"
        },
        {
         "name": "nr_sq_livro",
         "rawType": "int64",
         "type": "integer"
        }
       ],
       "conversionMethod": "pd.DataFrame",
       "ref": "8f224b93-5887-4964-b77d-9521e93d3ecd",
       "rows": [
        [
         "0",
         "Matt",
         "1",
         "1",
         "N-",
         "----NSF-",
         "βίβλος",
         "00976",
         "Βίβλος",
         " ",
         "1",
         "40"
        ],
        [
         "1",
         "Matt",
         "1",
         "1",
         "N-",
         "----GSF-",
         "γένεσις",
         "01078",
         "γενέσεως",
         " ",
         "2",
         "40"
        ],
        [
         "2",
         "Matt",
         "1",
         "1",
         "N-",
         "----GSM-",
         "Ἰησοῦς",
         "02424",
         "Ἰησοῦ",
         " ",
         "3",
         "40"
        ],
        [
         "3",
         "Matt",
         "1",
         "1",
         "N-",
         "----GSM-",
         "Χριστός",
         "05547",
         "χριστοῦ",
         " ",
         "4",
         "40"
        ],
        [
         "4",
         "Matt",
         "1",
         "1",
         "N-",
         "----GSM-",
         "υἱός",
         "05207",
         "υἱοῦ",
         " ",
         "5",
         "40"
        ]
       ],
       "shape": {
        "columns": 11,
        "rows": 5
       }
      },
      "text/html": [
       "<div>\n",
       "<style scoped>\n",
       "    .dataframe tbody tr th:only-of-type {\n",
       "        vertical-align: middle;\n",
       "    }\n",
       "\n",
       "    .dataframe tbody tr th {\n",
       "        vertical-align: top;\n",
       "    }\n",
       "\n",
       "    .dataframe thead th {\n",
       "        text-align: right;\n",
       "    }\n",
       "</style>\n",
       "<table border=\"1\" class=\"dataframe\">\n",
       "  <thead>\n",
       "    <tr style=\"text-align: right;\">\n",
       "      <th></th>\n",
       "      <th>book</th>\n",
       "      <th>chapter</th>\n",
       "      <th>verse</th>\n",
       "      <th>pos</th>\n",
       "      <th>morph</th>\n",
       "      <th>lemma</th>\n",
       "      <th>strongs</th>\n",
       "      <th>word</th>\n",
       "      <th>punct</th>\n",
       "      <th>word_nr</th>\n",
       "      <th>nr_sq_livro</th>\n",
       "    </tr>\n",
       "  </thead>\n",
       "  <tbody>\n",
       "    <tr>\n",
       "      <th>0</th>\n",
       "      <td>Matt</td>\n",
       "      <td>1</td>\n",
       "      <td>1</td>\n",
       "      <td>N-</td>\n",
       "      <td>----NSF-</td>\n",
       "      <td>βίβλος</td>\n",
       "      <td>00976</td>\n",
       "      <td>Βίβλος</td>\n",
       "      <td></td>\n",
       "      <td>1</td>\n",
       "      <td>40</td>\n",
       "    </tr>\n",
       "    <tr>\n",
       "      <th>1</th>\n",
       "      <td>Matt</td>\n",
       "      <td>1</td>\n",
       "      <td>1</td>\n",
       "      <td>N-</td>\n",
       "      <td>----GSF-</td>\n",
       "      <td>γένεσις</td>\n",
       "      <td>01078</td>\n",
       "      <td>γενέσεως</td>\n",
       "      <td></td>\n",
       "      <td>2</td>\n",
       "      <td>40</td>\n",
       "    </tr>\n",
       "    <tr>\n",
       "      <th>2</th>\n",
       "      <td>Matt</td>\n",
       "      <td>1</td>\n",
       "      <td>1</td>\n",
       "      <td>N-</td>\n",
       "      <td>----GSM-</td>\n",
       "      <td>Ἰησοῦς</td>\n",
       "      <td>02424</td>\n",
       "      <td>Ἰησοῦ</td>\n",
       "      <td></td>\n",
       "      <td>3</td>\n",
       "      <td>40</td>\n",
       "    </tr>\n",
       "    <tr>\n",
       "      <th>3</th>\n",
       "      <td>Matt</td>\n",
       "      <td>1</td>\n",
       "      <td>1</td>\n",
       "      <td>N-</td>\n",
       "      <td>----GSM-</td>\n",
       "      <td>Χριστός</td>\n",
       "      <td>05547</td>\n",
       "      <td>χριστοῦ</td>\n",
       "      <td></td>\n",
       "      <td>4</td>\n",
       "      <td>40</td>\n",
       "    </tr>\n",
       "    <tr>\n",
       "      <th>4</th>\n",
       "      <td>Matt</td>\n",
       "      <td>1</td>\n",
       "      <td>1</td>\n",
       "      <td>N-</td>\n",
       "      <td>----GSM-</td>\n",
       "      <td>υἱός</td>\n",
       "      <td>05207</td>\n",
       "      <td>υἱοῦ</td>\n",
       "      <td></td>\n",
       "      <td>5</td>\n",
       "      <td>40</td>\n",
       "    </tr>\n",
       "  </tbody>\n",
       "</table>\n",
       "</div>"
      ],
      "text/plain": [
       "   book  chapter  verse pos     morph    lemma strongs      word punct  \\\n",
       "0  Matt        1      1  N-  ----NSF-   βίβλος   00976    Βίβλος         \n",
       "1  Matt        1      1  N-  ----GSF-  γένεσις   01078  γενέσεως         \n",
       "2  Matt        1      1  N-  ----GSM-   Ἰησοῦς   02424     Ἰησοῦ         \n",
       "3  Matt        1      1  N-  ----GSM-  Χριστός   05547   χριστοῦ         \n",
       "4  Matt        1      1  N-  ----GSM-     υἱός   05207      υἱοῦ         \n",
       "\n",
       "   word_nr  nr_sq_livro  \n",
       "0        1           40  \n",
       "1        2           40  \n",
       "2        3           40  \n",
       "3        4           40  \n",
       "4        5           40  "
      ]
     },
     "execution_count": 17,
     "metadata": {},
     "output_type": "execute_result"
    }
   ],
   "source": [
    "gnt_df.head()"
   ]
  },
  {
   "cell_type": "code",
   "execution_count": 43,
   "metadata": {},
   "outputs": [
    {
     "data": {
      "application/vnd.microsoft.datawrangler.viewer.v0+json": {
       "columns": [
        {
         "name": "index",
         "rawType": "int64",
         "type": "integer"
        },
        {
         "name": "book",
         "rawType": "object",
         "type": "string"
        },
        {
         "name": "chapter",
         "rawType": "int64",
         "type": "integer"
        },
        {
         "name": "verse",
         "rawType": "int64",
         "type": "integer"
        },
        {
         "name": "pos",
         "rawType": "object",
         "type": "string"
        },
        {
         "name": "morph",
         "rawType": "object",
         "type": "string"
        },
        {
         "name": "lemma",
         "rawType": "object",
         "type": "string"
        },
        {
         "name": "strongs",
         "rawType": "object",
         "type": "string"
        },
        {
         "name": "word",
         "rawType": "object",
         "type": "string"
        },
        {
         "name": "punct",
         "rawType": "object",
         "type": "string"
        },
        {
         "name": "word_nr",
         "rawType": "int64",
         "type": "integer"
        },
        {
         "name": "nr_sq_livro",
         "rawType": "int64",
         "type": "integer"
        }
       ],
       "conversionMethod": "pd.DataFrame",
       "ref": "87104c9b-0c35-4131-89f7-802b1fb9b184",
       "rows": [
        [
         "87305",
         "Rom",
         "10",
         "9",
         "C-",
         "--------",
         "ὅτι",
         "03754",
         "ὅτι",
         " ",
         "1",
         "45"
        ],
        [
         "87306",
         "Rom",
         "10",
         "9",
         "C-",
         "--------",
         "ἐάν",
         "01437",
         "ἐὰν",
         " ⸀",
         "2",
         "45"
        ],
        [
         "87307",
         "Rom",
         "10",
         "9",
         "V-",
         "2AAS-S--",
         "ὁμολογέω",
         "03670",
         "ὁμολογήσῃς",
         " ",
         "3",
         "45"
        ],
        [
         "87308",
         "Rom",
         "10",
         "9",
         "P-",
         "--------",
         "ἐν",
         "01722",
         "ἐν",
         " ",
         "4",
         "45"
        ],
        [
         "87309",
         "Rom",
         "10",
         "9",
         "RA",
         "----DSN-",
         "ὁ",
         "03588",
         "τῷ",
         " ",
         "5",
         "45"
        ],
        [
         "87310",
         "Rom",
         "10",
         "9",
         "N-",
         "----DSN-",
         "στόμα",
         "04750",
         "στόματί",
         " ⸀",
         "6",
         "45"
        ],
        [
         "87311",
         "Rom",
         "10",
         "9",
         "RP",
         "----GS--",
         "σύ",
         "04771",
         "σου",
         " ",
         "7",
         "45"
        ],
        [
         "87312",
         "Rom",
         "10",
         "9",
         "N-",
         "----ASM-",
         "κύριος",
         "02962",
         "κύριον",
         " ",
         "8",
         "45"
        ],
        [
         "87313",
         "Rom",
         "10",
         "9",
         "N-",
         "----ASM-",
         "Ἰησοῦς",
         "02424",
         "Ἰησοῦν",
         ", ",
         "9",
         "45"
        ],
        [
         "87314",
         "Rom",
         "10",
         "9",
         "C-",
         "--------",
         "καί",
         "02532",
         "καὶ",
         " ",
         "10",
         "45"
        ],
        [
         "87315",
         "Rom",
         "10",
         "9",
         "V-",
         "2AAS-S--",
         "πιστεύω",
         "04100",
         "πιστεύσῃς",
         " ",
         "11",
         "45"
        ],
        [
         "87316",
         "Rom",
         "10",
         "9",
         "P-",
         "--------",
         "ἐν",
         "01722",
         "ἐν",
         " ",
         "12",
         "45"
        ],
        [
         "87317",
         "Rom",
         "10",
         "9",
         "RA",
         "----DSF-",
         "ὁ",
         "03588",
         "τῇ",
         " ",
         "13",
         "45"
        ],
        [
         "87318",
         "Rom",
         "10",
         "9",
         "N-",
         "----DSF-",
         "καρδία",
         "02588",
         "καρδίᾳ",
         " ",
         "14",
         "45"
        ],
        [
         "87319",
         "Rom",
         "10",
         "9",
         "RP",
         "----GS--",
         "σύ",
         "04771",
         "σου",
         " ",
         "15",
         "45"
        ],
        [
         "87320",
         "Rom",
         "10",
         "9",
         "C-",
         "--------",
         "ὅτι",
         "03754",
         "ὅτι",
         " ",
         "16",
         "45"
        ],
        [
         "87321",
         "Rom",
         "10",
         "9",
         "RA",
         "----NSM-",
         "ὁ",
         "03588",
         "ὁ",
         " ",
         "17",
         "45"
        ],
        [
         "87322",
         "Rom",
         "10",
         "9",
         "N-",
         "----NSM-",
         "θεός",
         "02316",
         "θεὸς",
         " ",
         "18",
         "45"
        ],
        [
         "87323",
         "Rom",
         "10",
         "9",
         "RP",
         "----ASM-",
         "αὐτός",
         "00846",
         "αὐτὸν",
         " ",
         "19",
         "45"
        ],
        [
         "87324",
         "Rom",
         "10",
         "9",
         "V-",
         "3AAI-S--",
         "ἐγείρω",
         "01453",
         "ἤγειρεν",
         " ",
         "20",
         "45"
        ],
        [
         "87325",
         "Rom",
         "10",
         "9",
         "P-",
         "--------",
         "ἐκ",
         "01537",
         "ἐκ",
         " ",
         "21",
         "45"
        ],
        [
         "87326",
         "Rom",
         "10",
         "9",
         "A-",
         "----GPM-",
         "νεκρός",
         "03498",
         "νεκρῶν",
         ", ",
         "22",
         "45"
        ],
        [
         "87327",
         "Rom",
         "10",
         "9",
         "V-",
         "2FPI-S--",
         "σῴζω",
         "None",
         "σωθήσῃ",
         "·\n",
         "23",
         "45"
        ]
       ],
       "shape": {
        "columns": 11,
        "rows": 23
       }
      },
      "text/html": [
       "<div>\n",
       "<style scoped>\n",
       "    .dataframe tbody tr th:only-of-type {\n",
       "        vertical-align: middle;\n",
       "    }\n",
       "\n",
       "    .dataframe tbody tr th {\n",
       "        vertical-align: top;\n",
       "    }\n",
       "\n",
       "    .dataframe thead th {\n",
       "        text-align: right;\n",
       "    }\n",
       "</style>\n",
       "<table border=\"1\" class=\"dataframe\">\n",
       "  <thead>\n",
       "    <tr style=\"text-align: right;\">\n",
       "      <th></th>\n",
       "      <th>book</th>\n",
       "      <th>chapter</th>\n",
       "      <th>verse</th>\n",
       "      <th>pos</th>\n",
       "      <th>morph</th>\n",
       "      <th>lemma</th>\n",
       "      <th>strongs</th>\n",
       "      <th>word</th>\n",
       "      <th>punct</th>\n",
       "      <th>word_nr</th>\n",
       "      <th>nr_sq_livro</th>\n",
       "    </tr>\n",
       "  </thead>\n",
       "  <tbody>\n",
       "    <tr>\n",
       "      <th>87305</th>\n",
       "      <td>Rom</td>\n",
       "      <td>10</td>\n",
       "      <td>9</td>\n",
       "      <td>C-</td>\n",
       "      <td>--------</td>\n",
       "      <td>ὅτι</td>\n",
       "      <td>03754</td>\n",
       "      <td>ὅτι</td>\n",
       "      <td></td>\n",
       "      <td>1</td>\n",
       "      <td>45</td>\n",
       "    </tr>\n",
       "    <tr>\n",
       "      <th>87306</th>\n",
       "      <td>Rom</td>\n",
       "      <td>10</td>\n",
       "      <td>9</td>\n",
       "      <td>C-</td>\n",
       "      <td>--------</td>\n",
       "      <td>ἐάν</td>\n",
       "      <td>01437</td>\n",
       "      <td>ἐὰν</td>\n",
       "      <td>⸀</td>\n",
       "      <td>2</td>\n",
       "      <td>45</td>\n",
       "    </tr>\n",
       "    <tr>\n",
       "      <th>87307</th>\n",
       "      <td>Rom</td>\n",
       "      <td>10</td>\n",
       "      <td>9</td>\n",
       "      <td>V-</td>\n",
       "      <td>2AAS-S--</td>\n",
       "      <td>ὁμολογέω</td>\n",
       "      <td>03670</td>\n",
       "      <td>ὁμολογήσῃς</td>\n",
       "      <td></td>\n",
       "      <td>3</td>\n",
       "      <td>45</td>\n",
       "    </tr>\n",
       "    <tr>\n",
       "      <th>87308</th>\n",
       "      <td>Rom</td>\n",
       "      <td>10</td>\n",
       "      <td>9</td>\n",
       "      <td>P-</td>\n",
       "      <td>--------</td>\n",
       "      <td>ἐν</td>\n",
       "      <td>01722</td>\n",
       "      <td>ἐν</td>\n",
       "      <td></td>\n",
       "      <td>4</td>\n",
       "      <td>45</td>\n",
       "    </tr>\n",
       "    <tr>\n",
       "      <th>87309</th>\n",
       "      <td>Rom</td>\n",
       "      <td>10</td>\n",
       "      <td>9</td>\n",
       "      <td>RA</td>\n",
       "      <td>----DSN-</td>\n",
       "      <td>ὁ</td>\n",
       "      <td>03588</td>\n",
       "      <td>τῷ</td>\n",
       "      <td></td>\n",
       "      <td>5</td>\n",
       "      <td>45</td>\n",
       "    </tr>\n",
       "    <tr>\n",
       "      <th>87310</th>\n",
       "      <td>Rom</td>\n",
       "      <td>10</td>\n",
       "      <td>9</td>\n",
       "      <td>N-</td>\n",
       "      <td>----DSN-</td>\n",
       "      <td>στόμα</td>\n",
       "      <td>04750</td>\n",
       "      <td>στόματί</td>\n",
       "      <td>⸀</td>\n",
       "      <td>6</td>\n",
       "      <td>45</td>\n",
       "    </tr>\n",
       "    <tr>\n",
       "      <th>87311</th>\n",
       "      <td>Rom</td>\n",
       "      <td>10</td>\n",
       "      <td>9</td>\n",
       "      <td>RP</td>\n",
       "      <td>----GS--</td>\n",
       "      <td>σύ</td>\n",
       "      <td>04771</td>\n",
       "      <td>σου</td>\n",
       "      <td></td>\n",
       "      <td>7</td>\n",
       "      <td>45</td>\n",
       "    </tr>\n",
       "    <tr>\n",
       "      <th>87312</th>\n",
       "      <td>Rom</td>\n",
       "      <td>10</td>\n",
       "      <td>9</td>\n",
       "      <td>N-</td>\n",
       "      <td>----ASM-</td>\n",
       "      <td>κύριος</td>\n",
       "      <td>02962</td>\n",
       "      <td>κύριον</td>\n",
       "      <td></td>\n",
       "      <td>8</td>\n",
       "      <td>45</td>\n",
       "    </tr>\n",
       "    <tr>\n",
       "      <th>87313</th>\n",
       "      <td>Rom</td>\n",
       "      <td>10</td>\n",
       "      <td>9</td>\n",
       "      <td>N-</td>\n",
       "      <td>----ASM-</td>\n",
       "      <td>Ἰησοῦς</td>\n",
       "      <td>02424</td>\n",
       "      <td>Ἰησοῦν</td>\n",
       "      <td>,</td>\n",
       "      <td>9</td>\n",
       "      <td>45</td>\n",
       "    </tr>\n",
       "    <tr>\n",
       "      <th>87314</th>\n",
       "      <td>Rom</td>\n",
       "      <td>10</td>\n",
       "      <td>9</td>\n",
       "      <td>C-</td>\n",
       "      <td>--------</td>\n",
       "      <td>καί</td>\n",
       "      <td>02532</td>\n",
       "      <td>καὶ</td>\n",
       "      <td></td>\n",
       "      <td>10</td>\n",
       "      <td>45</td>\n",
       "    </tr>\n",
       "    <tr>\n",
       "      <th>87315</th>\n",
       "      <td>Rom</td>\n",
       "      <td>10</td>\n",
       "      <td>9</td>\n",
       "      <td>V-</td>\n",
       "      <td>2AAS-S--</td>\n",
       "      <td>πιστεύω</td>\n",
       "      <td>04100</td>\n",
       "      <td>πιστεύσῃς</td>\n",
       "      <td></td>\n",
       "      <td>11</td>\n",
       "      <td>45</td>\n",
       "    </tr>\n",
       "    <tr>\n",
       "      <th>87316</th>\n",
       "      <td>Rom</td>\n",
       "      <td>10</td>\n",
       "      <td>9</td>\n",
       "      <td>P-</td>\n",
       "      <td>--------</td>\n",
       "      <td>ἐν</td>\n",
       "      <td>01722</td>\n",
       "      <td>ἐν</td>\n",
       "      <td></td>\n",
       "      <td>12</td>\n",
       "      <td>45</td>\n",
       "    </tr>\n",
       "    <tr>\n",
       "      <th>87317</th>\n",
       "      <td>Rom</td>\n",
       "      <td>10</td>\n",
       "      <td>9</td>\n",
       "      <td>RA</td>\n",
       "      <td>----DSF-</td>\n",
       "      <td>ὁ</td>\n",
       "      <td>03588</td>\n",
       "      <td>τῇ</td>\n",
       "      <td></td>\n",
       "      <td>13</td>\n",
       "      <td>45</td>\n",
       "    </tr>\n",
       "    <tr>\n",
       "      <th>87318</th>\n",
       "      <td>Rom</td>\n",
       "      <td>10</td>\n",
       "      <td>9</td>\n",
       "      <td>N-</td>\n",
       "      <td>----DSF-</td>\n",
       "      <td>καρδία</td>\n",
       "      <td>02588</td>\n",
       "      <td>καρδίᾳ</td>\n",
       "      <td></td>\n",
       "      <td>14</td>\n",
       "      <td>45</td>\n",
       "    </tr>\n",
       "    <tr>\n",
       "      <th>87319</th>\n",
       "      <td>Rom</td>\n",
       "      <td>10</td>\n",
       "      <td>9</td>\n",
       "      <td>RP</td>\n",
       "      <td>----GS--</td>\n",
       "      <td>σύ</td>\n",
       "      <td>04771</td>\n",
       "      <td>σου</td>\n",
       "      <td></td>\n",
       "      <td>15</td>\n",
       "      <td>45</td>\n",
       "    </tr>\n",
       "    <tr>\n",
       "      <th>87320</th>\n",
       "      <td>Rom</td>\n",
       "      <td>10</td>\n",
       "      <td>9</td>\n",
       "      <td>C-</td>\n",
       "      <td>--------</td>\n",
       "      <td>ὅτι</td>\n",
       "      <td>03754</td>\n",
       "      <td>ὅτι</td>\n",
       "      <td></td>\n",
       "      <td>16</td>\n",
       "      <td>45</td>\n",
       "    </tr>\n",
       "    <tr>\n",
       "      <th>87321</th>\n",
       "      <td>Rom</td>\n",
       "      <td>10</td>\n",
       "      <td>9</td>\n",
       "      <td>RA</td>\n",
       "      <td>----NSM-</td>\n",
       "      <td>ὁ</td>\n",
       "      <td>03588</td>\n",
       "      <td>ὁ</td>\n",
       "      <td></td>\n",
       "      <td>17</td>\n",
       "      <td>45</td>\n",
       "    </tr>\n",
       "    <tr>\n",
       "      <th>87322</th>\n",
       "      <td>Rom</td>\n",
       "      <td>10</td>\n",
       "      <td>9</td>\n",
       "      <td>N-</td>\n",
       "      <td>----NSM-</td>\n",
       "      <td>θεός</td>\n",
       "      <td>02316</td>\n",
       "      <td>θεὸς</td>\n",
       "      <td></td>\n",
       "      <td>18</td>\n",
       "      <td>45</td>\n",
       "    </tr>\n",
       "    <tr>\n",
       "      <th>87323</th>\n",
       "      <td>Rom</td>\n",
       "      <td>10</td>\n",
       "      <td>9</td>\n",
       "      <td>RP</td>\n",
       "      <td>----ASM-</td>\n",
       "      <td>αὐτός</td>\n",
       "      <td>00846</td>\n",
       "      <td>αὐτὸν</td>\n",
       "      <td></td>\n",
       "      <td>19</td>\n",
       "      <td>45</td>\n",
       "    </tr>\n",
       "    <tr>\n",
       "      <th>87324</th>\n",
       "      <td>Rom</td>\n",
       "      <td>10</td>\n",
       "      <td>9</td>\n",
       "      <td>V-</td>\n",
       "      <td>3AAI-S--</td>\n",
       "      <td>ἐγείρω</td>\n",
       "      <td>01453</td>\n",
       "      <td>ἤγειρεν</td>\n",
       "      <td></td>\n",
       "      <td>20</td>\n",
       "      <td>45</td>\n",
       "    </tr>\n",
       "    <tr>\n",
       "      <th>87325</th>\n",
       "      <td>Rom</td>\n",
       "      <td>10</td>\n",
       "      <td>9</td>\n",
       "      <td>P-</td>\n",
       "      <td>--------</td>\n",
       "      <td>ἐκ</td>\n",
       "      <td>01537</td>\n",
       "      <td>ἐκ</td>\n",
       "      <td></td>\n",
       "      <td>21</td>\n",
       "      <td>45</td>\n",
       "    </tr>\n",
       "    <tr>\n",
       "      <th>87326</th>\n",
       "      <td>Rom</td>\n",
       "      <td>10</td>\n",
       "      <td>9</td>\n",
       "      <td>A-</td>\n",
       "      <td>----GPM-</td>\n",
       "      <td>νεκρός</td>\n",
       "      <td>03498</td>\n",
       "      <td>νεκρῶν</td>\n",
       "      <td>,</td>\n",
       "      <td>22</td>\n",
       "      <td>45</td>\n",
       "    </tr>\n",
       "    <tr>\n",
       "      <th>87327</th>\n",
       "      <td>Rom</td>\n",
       "      <td>10</td>\n",
       "      <td>9</td>\n",
       "      <td>V-</td>\n",
       "      <td>2FPI-S--</td>\n",
       "      <td>σῴζω</td>\n",
       "      <td>None</td>\n",
       "      <td>σωθήσῃ</td>\n",
       "      <td>·\\n</td>\n",
       "      <td>23</td>\n",
       "      <td>45</td>\n",
       "    </tr>\n",
       "  </tbody>\n",
       "</table>\n",
       "</div>"
      ],
      "text/plain": [
       "      book  chapter  verse pos     morph     lemma strongs        word punct  \\\n",
       "87305  Rom       10      9  C-  --------       ὅτι   03754         ὅτι         \n",
       "87306  Rom       10      9  C-  --------       ἐάν   01437         ἐὰν     ⸀   \n",
       "87307  Rom       10      9  V-  2AAS-S--  ὁμολογέω   03670  ὁμολογήσῃς         \n",
       "87308  Rom       10      9  P-  --------        ἐν   01722          ἐν         \n",
       "87309  Rom       10      9  RA  ----DSN-         ὁ   03588          τῷ         \n",
       "87310  Rom       10      9  N-  ----DSN-     στόμα   04750     στόματί     ⸀   \n",
       "87311  Rom       10      9  RP  ----GS--        σύ   04771         σου         \n",
       "87312  Rom       10      9  N-  ----ASM-    κύριος   02962      κύριον         \n",
       "87313  Rom       10      9  N-  ----ASM-    Ἰησοῦς   02424      Ἰησοῦν    ,    \n",
       "87314  Rom       10      9  C-  --------       καί   02532         καὶ         \n",
       "87315  Rom       10      9  V-  2AAS-S--   πιστεύω   04100   πιστεύσῃς         \n",
       "87316  Rom       10      9  P-  --------        ἐν   01722          ἐν         \n",
       "87317  Rom       10      9  RA  ----DSF-         ὁ   03588          τῇ         \n",
       "87318  Rom       10      9  N-  ----DSF-    καρδία   02588      καρδίᾳ         \n",
       "87319  Rom       10      9  RP  ----GS--        σύ   04771         σου         \n",
       "87320  Rom       10      9  C-  --------       ὅτι   03754         ὅτι         \n",
       "87321  Rom       10      9  RA  ----NSM-         ὁ   03588           ὁ         \n",
       "87322  Rom       10      9  N-  ----NSM-      θεός   02316        θεὸς         \n",
       "87323  Rom       10      9  RP  ----ASM-     αὐτός   00846       αὐτὸν         \n",
       "87324  Rom       10      9  V-  3AAI-S--    ἐγείρω   01453     ἤγειρεν         \n",
       "87325  Rom       10      9  P-  --------        ἐκ   01537          ἐκ         \n",
       "87326  Rom       10      9  A-  ----GPM-    νεκρός   03498      νεκρῶν    ,    \n",
       "87327  Rom       10      9  V-  2FPI-S--      σῴζω    None      σωθήσῃ   ·\\n   \n",
       "\n",
       "       word_nr  nr_sq_livro  \n",
       "87305        1           45  \n",
       "87306        2           45  \n",
       "87307        3           45  \n",
       "87308        4           45  \n",
       "87309        5           45  \n",
       "87310        6           45  \n",
       "87311        7           45  \n",
       "87312        8           45  \n",
       "87313        9           45  \n",
       "87314       10           45  \n",
       "87315       11           45  \n",
       "87316       12           45  \n",
       "87317       13           45  \n",
       "87318       14           45  \n",
       "87319       15           45  \n",
       "87320       16           45  \n",
       "87321       17           45  \n",
       "87322       18           45  \n",
       "87323       19           45  \n",
       "87324       20           45  \n",
       "87325       21           45  \n",
       "87326       22           45  \n",
       "87327       23           45  "
      ]
     },
     "execution_count": 43,
     "metadata": {},
     "output_type": "execute_result"
    }
   ],
   "source": [
    "gnt_df.loc[(gnt_df['nr_sq_livro'] == 45) & (gnt_df['chapter'] == 10) & (gnt_df['verse'] == 9)]"
   ]
  },
  {
   "cell_type": "code",
   "execution_count": null,
   "metadata": {},
   "outputs": [
    {
     "data": {
      "text/plain": [
       "40"
      ]
     },
     "execution_count": 20,
     "metadata": {},
     "output_type": "execute_result"
    }
   ],
   "source": [
    "gnt_grouped_df.values[0]"
   ]
  },
  {
   "cell_type": "code",
   "execution_count": 42,
   "metadata": {},
   "outputs": [
    {
     "name": "stdout",
     "output_type": "stream",
     "text": [
      "ομολογεω\n"
     ]
    },
    {
     "data": {
      "text/plain": [
       "verse_text\n",
       "False    30607\n",
       "Name: count, dtype: int64"
      ]
     },
     "execution_count": 42,
     "metadata": {},
     "output_type": "execute_result"
    }
   ],
   "source": [
    "# palavra_grega = koinenlp.normalize(strongs_grk_df['lemma'][1])\n",
    "import re\n",
    "palavra_grega = koinenlp.normalize(gnt_df.loc[(gnt_df['nr_sq_livro'] == 45) & (gnt_df['chapter'] == 10) & (gnt_df['verse'] == 9)].values[2][5])\n",
    "print(palavra_grega)\n",
    "df_query = lxx_df[\"verse_text\"].str.contains(palavra_grega, flags=re.IGNORECASE, regex=True)\n",
    "df_query.value_counts()\n"
   ]
  },
  {
   "cell_type": "code",
   "execution_count": null,
   "metadata": {},
   "outputs": [],
   "source": []
  },
  {
   "cell_type": "code",
   "execution_count": 21,
   "metadata": {},
   "outputs": [
    {
     "data": {
      "application/vnd.microsoft.datawrangler.viewer.v0+json": {
       "columns": [
        {
         "name": "index",
         "rawType": "int64",
         "type": "integer"
        },
        {
         "name": "nr_sq_livro",
         "rawType": "int64",
         "type": "integer"
        },
        {
         "name": "chapter",
         "rawType": "int64",
         "type": "integer"
        },
        {
         "name": "verse",
         "rawType": "int64",
         "type": "integer"
        },
        {
         "name": "words",
         "rawType": "object",
         "type": "string"
        },
        {
         "name": "lemmas",
         "rawType": "object",
         "type": "string"
        },
        {
         "name": "strongs",
         "rawType": "object",
         "type": "string"
        }
       ],
       "conversionMethod": "pd.DataFrame",
       "ref": "f811bd76-9e33-46a5-93b8-0e7e92abf2e3",
       "rows": [
        [
         "631",
         "40",
         "19",
         "16",
         "Καὶ ἰδοὺ εἷς προσελθὼν αὐτῷ εἶπεν Διδάσκαλε τί ἀγαθὸν ποιήσω ἵνα σχῶ ζωὴν αἰώνιον",
         "καί ἰδού εἷς προσέρχομαι αὐτός λέγω διδάσκαλος τίς ἀγαθός ποιέω ἵνα ἔχω ζωή αἰώνιος",
         "02532 02400 01520 04334 00846 03004 01320 05101 00018 04160 02443 02192 02222 00166"
        ]
       ],
       "shape": {
        "columns": 6,
        "rows": 1
       }
      },
      "text/html": [
       "<div>\n",
       "<style scoped>\n",
       "    .dataframe tbody tr th:only-of-type {\n",
       "        vertical-align: middle;\n",
       "    }\n",
       "\n",
       "    .dataframe tbody tr th {\n",
       "        vertical-align: top;\n",
       "    }\n",
       "\n",
       "    .dataframe thead th {\n",
       "        text-align: right;\n",
       "    }\n",
       "</style>\n",
       "<table border=\"1\" class=\"dataframe\">\n",
       "  <thead>\n",
       "    <tr style=\"text-align: right;\">\n",
       "      <th></th>\n",
       "      <th>nr_sq_livro</th>\n",
       "      <th>chapter</th>\n",
       "      <th>verse</th>\n",
       "      <th>words</th>\n",
       "      <th>lemmas</th>\n",
       "      <th>strongs</th>\n",
       "    </tr>\n",
       "  </thead>\n",
       "  <tbody>\n",
       "    <tr>\n",
       "      <th>631</th>\n",
       "      <td>40</td>\n",
       "      <td>19</td>\n",
       "      <td>16</td>\n",
       "      <td>Καὶ ἰδοὺ εἷς προσελθὼν αὐτῷ εἶπεν Διδάσκαλε τί...</td>\n",
       "      <td>καί ἰδού εἷς προσέρχομαι αὐτός λέγω διδάσκαλος...</td>\n",
       "      <td>02532 02400 01520 04334 00846 03004 01320 0510...</td>\n",
       "    </tr>\n",
       "  </tbody>\n",
       "</table>\n",
       "</div>"
      ],
      "text/plain": [
       "     nr_sq_livro  chapter  verse  \\\n",
       "631           40       19     16   \n",
       "\n",
       "                                                 words  \\\n",
       "631  Καὶ ἰδοὺ εἷς προσελθὼν αὐτῷ εἶπεν Διδάσκαλε τί...   \n",
       "\n",
       "                                                lemmas  \\\n",
       "631  καί ἰδού εἷς προσέρχομαι αὐτός λέγω διδάσκαλος...   \n",
       "\n",
       "                                               strongs  \n",
       "631  02532 02400 01520 04334 00846 03004 01320 0510...  "
      ]
     },
     "execution_count": 21,
     "metadata": {},
     "output_type": "execute_result"
    }
   ],
   "source": [
    "gnt_grouped_df.loc[(gnt_grouped_df['nr_sq_livro'] == 40) & (gnt_grouped_df['chapter'] == 19) & (gnt_grouped_df['verse'] == 16)]"
   ]
  },
  {
   "cell_type": "code",
   "execution_count": 22,
   "metadata": {},
   "outputs": [],
   "source": [
    "sql_lxx_expr ='''\n",
    "                SELECT \n",
    "                    lxx.book_name\n",
    "                    , lxx.chapter_nr\n",
    "                    , lxx.verse_nr\n",
    "                FROM \n",
    "                    lxx_df lxx\n",
    "                WHERE \n",
    "                    lxx.verse_text like '%ἀγαπῶμεν%' and lxx.verse_text like '%ἐντολὰς%'\n",
    "                '''"
   ]
  },
  {
   "cell_type": "code",
   "execution_count": 23,
   "metadata": {},
   "outputs": [],
   "source": [
    "sql_lxx_strongs_expr ='''\n",
    "                        SELECT \n",
    "                            lxx.book_name\n",
    "                            , lxx.chapter_nr\n",
    "                            , lxx.verse_nr\n",
    "                        FROM \n",
    "                            lxx_df lxx\n",
    "                        WHERE \n",
    "                            lxx.verse_text like '%ἀγαπῶμεν%' and lxx.verse_text like '%ἐντολὰς%'\n",
    "                        '''"
   ]
  },
  {
   "cell_type": "code",
   "execution_count": 24,
   "metadata": {},
   "outputs": [],
   "source": [
    "occs_lxx_expr = sqldf(sql_lxx_expr)"
   ]
  },
  {
   "cell_type": "code",
   "execution_count": 25,
   "metadata": {},
   "outputs": [
    {
     "data": {
      "text/plain": [
       "0"
      ]
     },
     "execution_count": 25,
     "metadata": {},
     "output_type": "execute_result"
    }
   ],
   "source": [
    "len(occs_lxx_expr)"
   ]
  },
  {
   "cell_type": "code",
   "execution_count": 26,
   "metadata": {},
   "outputs": [
    {
     "data": {
      "application/vnd.microsoft.datawrangler.viewer.v0+json": {
       "columns": [
        {
         "name": "index",
         "rawType": "int64",
         "type": "integer"
        },
        {
         "name": "book_name",
         "rawType": "object",
         "type": "string"
        },
        {
         "name": "chapter_nr",
         "rawType": "object",
         "type": "string"
        },
        {
         "name": "verse_nr",
         "rawType": "object",
         "type": "string"
        }
       ],
       "conversionMethod": "pd.DataFrame",
       "ref": "7eebaafb-dcbc-44b9-ab6c-6f3728b1b74c",
       "rows": [],
       "shape": {
        "columns": 3,
        "rows": 0
       }
      },
      "text/html": [
       "<div>\n",
       "<style scoped>\n",
       "    .dataframe tbody tr th:only-of-type {\n",
       "        vertical-align: middle;\n",
       "    }\n",
       "\n",
       "    .dataframe tbody tr th {\n",
       "        vertical-align: top;\n",
       "    }\n",
       "\n",
       "    .dataframe thead th {\n",
       "        text-align: right;\n",
       "    }\n",
       "</style>\n",
       "<table border=\"1\" class=\"dataframe\">\n",
       "  <thead>\n",
       "    <tr style=\"text-align: right;\">\n",
       "      <th></th>\n",
       "      <th>book_name</th>\n",
       "      <th>chapter_nr</th>\n",
       "      <th>verse_nr</th>\n",
       "    </tr>\n",
       "  </thead>\n",
       "  <tbody>\n",
       "  </tbody>\n",
       "</table>\n",
       "</div>"
      ],
      "text/plain": [
       "Empty DataFrame\n",
       "Columns: [book_name, chapter_nr, verse_nr]\n",
       "Index: []"
      ]
     },
     "execution_count": 26,
     "metadata": {},
     "output_type": "execute_result"
    }
   ],
   "source": [
    "occs_lxx_expr.head()"
   ]
  },
  {
   "cell_type": "code",
   "execution_count": null,
   "metadata": {},
   "outputs": [],
   "source": [
    "# strongs_df_def = pd.read_sql_query(\"\"\"SELECT * FROM "
   ]
  }
 ],
 "metadata": {
  "kernelspec": {
   "display_name": "almeida-semantica-EQJtyJGz",
   "language": "python",
   "name": "python3"
  },
  "language_info": {
   "codemirror_mode": {
    "name": "ipython",
    "version": 3
   },
   "file_extension": ".py",
   "mimetype": "text/x-python",
   "name": "python",
   "nbconvert_exporter": "python",
   "pygments_lexer": "ipython3",
   "version": "3.11.11"
  }
 },
 "nbformat": 4,
 "nbformat_minor": 2
}
