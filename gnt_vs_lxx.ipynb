{
 "cells": [
  {
   "cell_type": "code",
   "execution_count": 1,
   "metadata": {},
   "outputs": [],
   "source": [
    "import sys\n",
    "import os\n",
    "sys.path.append('/Users/davison/Software/almeida-semantica')\n",
    "import cltk as cltk\n",
    "import pandas as pd\n",
    "import sqlite3\n",
    "from pandasql import sqldf\n",
    "from src.ConectorBD import *"
   ]
  },
  {
   "cell_type": "code",
   "execution_count": 2,
   "metadata": {},
   "outputs": [],
   "source": [
    "\n",
    "import nltk "
   ]
  },
  {
   "cell_type": "code",
   "execution_count": 3,
   "metadata": {},
   "outputs": [],
   "source": [
    "import koinenlp"
   ]
  },
  {
   "cell_type": "code",
   "execution_count": 4,
   "metadata": {},
   "outputs": [],
   "source": [
    "ara= '/Users/davison/Software/almeida-semantica/db/ARA.sqlite'"
   ]
  },
  {
   "cell_type": "code",
   "execution_count": 5,
   "metadata": {},
   "outputs": [],
   "source": [
    "sql_pt= \"\"\"\n",
    "            SELECT \n",
    "            \tbook_id as nr_sq_livro, \n",
    "            \tchapter\n",
    "            \t, verse \n",
    "            \t, text\n",
    "            FROM \n",
    "            \tverse\n",
    "            ORDER BY \n",
    "            \tnr_sq_livro,\n",
    "            \tchapter,\n",
    "            \tverse\n",
    "            \"\"\""
   ]
  },
  {
   "cell_type": "code",
   "execution_count": 6,
   "metadata": {},
   "outputs": [],
   "source": [
    "pt_df = pd.read_sql_query(sql_pt, ConectorBD(ara).con)"
   ]
  },
  {
   "cell_type": "code",
   "execution_count": null,
   "metadata": {},
   "outputs": [],
   "source": [
    "# del pt_at_df"
   ]
  },
  {
   "cell_type": "code",
   "execution_count": 7,
   "metadata": {},
   "outputs": [
    {
     "data": {
      "application/vnd.microsoft.datawrangler.viewer.v0+json": {
       "columns": [
        {
         "name": "index",
         "rawType": "int64",
         "type": "integer"
        },
        {
         "name": "nr_sq_livro",
         "rawType": "int64",
         "type": "integer"
        },
        {
         "name": "chapter",
         "rawType": "int64",
         "type": "integer"
        },
        {
         "name": "verse",
         "rawType": "int64",
         "type": "integer"
        },
        {
         "name": "text",
         "rawType": "object",
         "type": "string"
        }
       ],
       "ref": "14f9f463-c7cb-460a-83a4-cec5b1073442",
       "rows": [
        [
         "0",
         "1",
         "1",
         "1",
         "No princípio, criou Deus os céus e a terra."
        ],
        [
         "1",
         "1",
         "1",
         "2",
         "A terra, porém, estava sem forma e vazia; havia trevas sobre a face do abismo, e o Espírito de Deus pairava por sobre as águas."
        ],
        [
         "2",
         "1",
         "1",
         "3",
         "Disse Deus: Haja luz; e houve luz."
        ],
        [
         "3",
         "1",
         "1",
         "4",
         "E viu Deus que a luz era boa; e fez separação entre a luz e as trevas."
        ],
        [
         "4",
         "1",
         "1",
         "5",
         "Chamou Deus à luz Dia e às trevas, Noite. Houve tarde e manhã, o primeiro dia."
        ]
       ],
       "shape": {
        "columns": 4,
        "rows": 5
       }
      },
      "text/html": [
       "<div>\n",
       "<style scoped>\n",
       "    .dataframe tbody tr th:only-of-type {\n",
       "        vertical-align: middle;\n",
       "    }\n",
       "\n",
       "    .dataframe tbody tr th {\n",
       "        vertical-align: top;\n",
       "    }\n",
       "\n",
       "    .dataframe thead th {\n",
       "        text-align: right;\n",
       "    }\n",
       "</style>\n",
       "<table border=\"1\" class=\"dataframe\">\n",
       "  <thead>\n",
       "    <tr style=\"text-align: right;\">\n",
       "      <th></th>\n",
       "      <th>nr_sq_livro</th>\n",
       "      <th>chapter</th>\n",
       "      <th>verse</th>\n",
       "      <th>text</th>\n",
       "    </tr>\n",
       "  </thead>\n",
       "  <tbody>\n",
       "    <tr>\n",
       "      <th>0</th>\n",
       "      <td>1</td>\n",
       "      <td>1</td>\n",
       "      <td>1</td>\n",
       "      <td>No princípio, criou Deus os céus e a terra.</td>\n",
       "    </tr>\n",
       "    <tr>\n",
       "      <th>1</th>\n",
       "      <td>1</td>\n",
       "      <td>1</td>\n",
       "      <td>2</td>\n",
       "      <td>A terra, porém, estava sem forma e vazia; havi...</td>\n",
       "    </tr>\n",
       "    <tr>\n",
       "      <th>2</th>\n",
       "      <td>1</td>\n",
       "      <td>1</td>\n",
       "      <td>3</td>\n",
       "      <td>Disse Deus: Haja luz; e houve luz.</td>\n",
       "    </tr>\n",
       "    <tr>\n",
       "      <th>3</th>\n",
       "      <td>1</td>\n",
       "      <td>1</td>\n",
       "      <td>4</td>\n",
       "      <td>E viu Deus que a luz era boa; e fez separação ...</td>\n",
       "    </tr>\n",
       "    <tr>\n",
       "      <th>4</th>\n",
       "      <td>1</td>\n",
       "      <td>1</td>\n",
       "      <td>5</td>\n",
       "      <td>Chamou Deus à luz Dia e às trevas, Noite. Houv...</td>\n",
       "    </tr>\n",
       "  </tbody>\n",
       "</table>\n",
       "</div>"
      ],
      "text/plain": [
       "   nr_sq_livro  chapter  verse  \\\n",
       "0            1        1      1   \n",
       "1            1        1      2   \n",
       "2            1        1      3   \n",
       "3            1        1      4   \n",
       "4            1        1      5   \n",
       "\n",
       "                                                text  \n",
       "0        No princípio, criou Deus os céus e a terra.  \n",
       "1  A terra, porém, estava sem forma e vazia; havi...  \n",
       "2                 Disse Deus: Haja luz; e houve luz.  \n",
       "3  E viu Deus que a luz era boa; e fez separação ...  \n",
       "4  Chamou Deus à luz Dia e às trevas, Noite. Houv...  "
      ]
     },
     "execution_count": 7,
     "metadata": {},
     "output_type": "execute_result"
    }
   ],
   "source": [
    "pt_df.head()"
   ]
  },
  {
   "cell_type": "code",
   "execution_count": 6,
   "metadata": {},
   "outputs": [
    {
     "data": {
      "text/plain": [
       "24"
      ]
     },
     "execution_count": 6,
     "metadata": {},
     "output_type": "execute_result"
    }
   ],
   "source": [
    "len( [vs for vs in pt_df.loc[(pt_df['nr_sq_livro'] == 1) & (pt_df['chapter'] == 3)].values] )"
   ]
  },
  {
   "cell_type": "code",
   "execution_count": 7,
   "metadata": {},
   "outputs": [
    {
     "data": {
      "application/vnd.microsoft.datawrangler.viewer.v0+json": {
       "columns": [
        {
         "name": "index",
         "rawType": "int64",
         "type": "integer"
        },
        {
         "name": "nr_sq_livro",
         "rawType": "int64",
         "type": "integer"
        },
        {
         "name": "chapter",
         "rawType": "int64",
         "type": "integer"
        },
        {
         "name": "verse",
         "rawType": "int64",
         "type": "integer"
        },
        {
         "name": "text",
         "rawType": "object",
         "type": "string"
        }
       ],
       "ref": "f8423067-d863-4988-96aa-3b75f45fcd46",
       "rows": [
        [
         "1474",
         "1",
         "49",
         "1",
         "Depois, chamou Jacó a seus filhos e disse: Ajuntai-vos, e eu vos farei saber o que vos há de acontecer nos dias vindouros:"
        ],
        [
         "1475",
         "1",
         "49",
         "2",
         "Ajuntai-vos e ouvi, filhos de Jacó; ouvi a Israel, vosso pai."
        ],
        [
         "1476",
         "1",
         "49",
         "3",
         "Rúben, tu és meu primogênito, minha força e as primícias do meu vigor, o mais excelente em altivez e o mais excelente em poder."
        ],
        [
         "1477",
         "1",
         "49",
         "4",
         "Impetuoso como a água, não serás o mais excelente, porque subiste ao leito de teu pai e o profanaste; subiste à minha cama."
        ],
        [
         "1478",
         "1",
         "49",
         "5",
         "Simeão e Levi são irmãos; as suas espadas são instrumentos de violência."
        ],
        [
         "1479",
         "1",
         "49",
         "6",
         "No seu conselho, não entre minha alma; com o seu agrupamento, minha glória não se ajunte; porque no seu furor mataram homens, e na sua vontade perversa jarretaram touros."
        ],
        [
         "1480",
         "1",
         "49",
         "7",
         "Maldito seja o seu furor, pois era forte, e a sua ira, pois era dura; dividi-los-ei em Jacó e os espalharei em Israel."
        ],
        [
         "1481",
         "1",
         "49",
         "8",
         "Judá, teus irmãos te louvarão; a tua mão estará sobre a cerviz de teus inimigos; os filhos de teu pai se inclinarão a ti."
        ],
        [
         "1482",
         "1",
         "49",
         "9",
         "Judá é leãozinho; da presa subiste, filho meu. Encurva-se e deita-se como leão e como leoa; quem o despertará?"
        ],
        [
         "1483",
         "1",
         "49",
         "10",
         "O cetro não se arredará de Judá, nem o bastão de entre seus pés, até que venha Siló; e a ele obedecerão os povos."
        ],
        [
         "1484",
         "1",
         "49",
         "11",
         "Ele amarrará o seu jumentinho à vide e o filho da sua jumenta, à videira mais excelente; lavará as suas vestes no vinho e a sua capa, em sangue de uvas."
        ],
        [
         "1485",
         "1",
         "49",
         "12",
         "Os seus olhos serão cintilantes de vinho, e os dentes, brancos de leite."
        ],
        [
         "1486",
         "1",
         "49",
         "13",
         "Zebulom habitará na praia dos mares e servirá de porto de navios, e o seu limite se estenderá até Sidom."
        ],
        [
         "1487",
         "1",
         "49",
         "14",
         "Issacar é jumento de fortes ossos, de repouso entre os rebanhos de ovelhas."
        ],
        [
         "1488",
         "1",
         "49",
         "15",
         "Viu que o repouso era bom e que a terra era deliciosa; baixou os ombros à carga e sujeitou-se ao trabalho servil."
        ],
        [
         "1489",
         "1",
         "49",
         "16",
         "Dã julgará o seu povo, como uma das tribos de Israel."
        ],
        [
         "1490",
         "1",
         "49",
         "17",
         "Dã será serpente junto ao caminho, uma víbora junto à vereda, que morde os talões do cavalo e faz cair o seu cavaleiro por detrás."
        ],
        [
         "1491",
         "1",
         "49",
         "18",
         "A tua salvação espero, ó SENHOR!"
        ],
        [
         "1492",
         "1",
         "49",
         "19",
         "Gade, uma guerrilha o acometerá; mas ele a acometerá por sua retaguarda."
        ],
        [
         "1493",
         "1",
         "49",
         "20",
         "Aser, o seu pão será abundante e ele motivará delícias reais."
        ],
        [
         "1494",
         "1",
         "49",
         "21",
         "Naftali é uma gazela solta; ele profere palavras formosas."
        ],
        [
         "1495",
         "1",
         "49",
         "22",
         "José é um ramo frutífero, ramo frutífero junto à fonte; seus galhos se estendem sobre o muro."
        ],
        [
         "1496",
         "1",
         "49",
         "23",
         "Os flecheiros lhe dão amargura, atiram contra ele e o aborrecem."
        ],
        [
         "1497",
         "1",
         "49",
         "24",
         "O seu arco, porém, permanece firme, e os seus braços são feitos ativos pelas mãos do Poderoso de Jacó, sim, pelo Pastor e pela Pedra de Israel,"
        ],
        [
         "1498",
         "1",
         "49",
         "25",
         "pelo Deus de teu pai, o qual te ajudará, e pelo Todo-Poderoso, o qual te abençoará com bênçãos dos altos céus, com bênçãos das profundezas, com bênçãos dos seios e da madre."
        ],
        [
         "1499",
         "1",
         "49",
         "26",
         "As bênçãos de teu pai excederão as bênçãos de meus pais até ao cimo dos montes eternos; estejam elas sobre a cabeça de José e sobre o alto da cabeça do que foi distinguido entre seus irmãos."
        ],
        [
         "1500",
         "1",
         "49",
         "27",
         "Benjamim é lobo que despedaça; pela manhã devora a presa e à tarde reparte o despojo."
        ],
        [
         "1501",
         "1",
         "49",
         "28",
         "São estas as doze tribos de Israel; e isto é o que lhes falou seu pai quando os abençoou; a cada um deles abençoou segundo a bênção que lhe cabia."
        ],
        [
         "1502",
         "1",
         "49",
         "29",
         "Depois, lhes ordenou, dizendo: Eu me reúno ao meu povo; sepultai-me, com meus pais, na caverna que está no campo de Efrom, o heteu,"
        ],
        [
         "1503",
         "1",
         "49",
         "30",
         "na caverna que está no campo de Macpela, fronteiro a Manre, na terra de Canaã, a qual Abraão comprou de Efrom com aquele campo, em posse de sepultura."
        ],
        [
         "1504",
         "1",
         "49",
         "31",
         "Ali sepultaram Abraão e Sara, sua mulher; ali sepultaram Isaque e Rebeca, sua mulher; e ali sepultei Lia;"
        ],
        [
         "1505",
         "1",
         "49",
         "32",
         "o campo e a caverna que nele está, comprados aos filhos de Hete."
        ],
        [
         "1506",
         "1",
         "49",
         "33",
         "Tendo Jacó acabado de dar determinações a seus filhos, recolheu os pés na cama, e expirou, e foi reunido ao seu povo."
        ]
       ],
       "shape": {
        "columns": 4,
        "rows": 33
       }
      },
      "text/html": [
       "<div>\n",
       "<style scoped>\n",
       "    .dataframe tbody tr th:only-of-type {\n",
       "        vertical-align: middle;\n",
       "    }\n",
       "\n",
       "    .dataframe tbody tr th {\n",
       "        vertical-align: top;\n",
       "    }\n",
       "\n",
       "    .dataframe thead th {\n",
       "        text-align: right;\n",
       "    }\n",
       "</style>\n",
       "<table border=\"1\" class=\"dataframe\">\n",
       "  <thead>\n",
       "    <tr style=\"text-align: right;\">\n",
       "      <th></th>\n",
       "      <th>nr_sq_livro</th>\n",
       "      <th>chapter</th>\n",
       "      <th>verse</th>\n",
       "      <th>text</th>\n",
       "    </tr>\n",
       "  </thead>\n",
       "  <tbody>\n",
       "    <tr>\n",
       "      <th>1474</th>\n",
       "      <td>1</td>\n",
       "      <td>49</td>\n",
       "      <td>1</td>\n",
       "      <td>Depois, chamou Jacó a seus filhos e disse: Aju...</td>\n",
       "    </tr>\n",
       "    <tr>\n",
       "      <th>1475</th>\n",
       "      <td>1</td>\n",
       "      <td>49</td>\n",
       "      <td>2</td>\n",
       "      <td>Ajuntai-vos e ouvi, filhos de Jacó; ouvi a Isr...</td>\n",
       "    </tr>\n",
       "    <tr>\n",
       "      <th>1476</th>\n",
       "      <td>1</td>\n",
       "      <td>49</td>\n",
       "      <td>3</td>\n",
       "      <td>Rúben, tu és meu primogênito, minha força e as...</td>\n",
       "    </tr>\n",
       "    <tr>\n",
       "      <th>1477</th>\n",
       "      <td>1</td>\n",
       "      <td>49</td>\n",
       "      <td>4</td>\n",
       "      <td>Impetuoso como a água, não serás o mais excele...</td>\n",
       "    </tr>\n",
       "    <tr>\n",
       "      <th>1478</th>\n",
       "      <td>1</td>\n",
       "      <td>49</td>\n",
       "      <td>5</td>\n",
       "      <td>Simeão e Levi são irmãos; as suas espadas são ...</td>\n",
       "    </tr>\n",
       "    <tr>\n",
       "      <th>1479</th>\n",
       "      <td>1</td>\n",
       "      <td>49</td>\n",
       "      <td>6</td>\n",
       "      <td>No seu conselho, não entre minha alma; com o s...</td>\n",
       "    </tr>\n",
       "    <tr>\n",
       "      <th>1480</th>\n",
       "      <td>1</td>\n",
       "      <td>49</td>\n",
       "      <td>7</td>\n",
       "      <td>Maldito seja o seu furor, pois era forte, e a ...</td>\n",
       "    </tr>\n",
       "    <tr>\n",
       "      <th>1481</th>\n",
       "      <td>1</td>\n",
       "      <td>49</td>\n",
       "      <td>8</td>\n",
       "      <td>Judá, teus irmãos te louvarão; a tua mão estar...</td>\n",
       "    </tr>\n",
       "    <tr>\n",
       "      <th>1482</th>\n",
       "      <td>1</td>\n",
       "      <td>49</td>\n",
       "      <td>9</td>\n",
       "      <td>Judá é leãozinho; da presa subiste, filho meu....</td>\n",
       "    </tr>\n",
       "    <tr>\n",
       "      <th>1483</th>\n",
       "      <td>1</td>\n",
       "      <td>49</td>\n",
       "      <td>10</td>\n",
       "      <td>O cetro não se arredará de Judá, nem o bastão ...</td>\n",
       "    </tr>\n",
       "    <tr>\n",
       "      <th>1484</th>\n",
       "      <td>1</td>\n",
       "      <td>49</td>\n",
       "      <td>11</td>\n",
       "      <td>Ele amarrará o seu jumentinho à vide e o filho...</td>\n",
       "    </tr>\n",
       "    <tr>\n",
       "      <th>1485</th>\n",
       "      <td>1</td>\n",
       "      <td>49</td>\n",
       "      <td>12</td>\n",
       "      <td>Os seus olhos serão cintilantes de vinho, e os...</td>\n",
       "    </tr>\n",
       "    <tr>\n",
       "      <th>1486</th>\n",
       "      <td>1</td>\n",
       "      <td>49</td>\n",
       "      <td>13</td>\n",
       "      <td>Zebulom habitará na praia dos mares e servirá ...</td>\n",
       "    </tr>\n",
       "    <tr>\n",
       "      <th>1487</th>\n",
       "      <td>1</td>\n",
       "      <td>49</td>\n",
       "      <td>14</td>\n",
       "      <td>Issacar é jumento de fortes ossos, de repouso ...</td>\n",
       "    </tr>\n",
       "    <tr>\n",
       "      <th>1488</th>\n",
       "      <td>1</td>\n",
       "      <td>49</td>\n",
       "      <td>15</td>\n",
       "      <td>Viu que o repouso era bom e que a terra era de...</td>\n",
       "    </tr>\n",
       "    <tr>\n",
       "      <th>1489</th>\n",
       "      <td>1</td>\n",
       "      <td>49</td>\n",
       "      <td>16</td>\n",
       "      <td>Dã julgará o seu povo, como uma das tribos de ...</td>\n",
       "    </tr>\n",
       "    <tr>\n",
       "      <th>1490</th>\n",
       "      <td>1</td>\n",
       "      <td>49</td>\n",
       "      <td>17</td>\n",
       "      <td>Dã será serpente junto ao caminho, uma víbora ...</td>\n",
       "    </tr>\n",
       "    <tr>\n",
       "      <th>1491</th>\n",
       "      <td>1</td>\n",
       "      <td>49</td>\n",
       "      <td>18</td>\n",
       "      <td>A tua salvação espero, ó SENHOR!</td>\n",
       "    </tr>\n",
       "    <tr>\n",
       "      <th>1492</th>\n",
       "      <td>1</td>\n",
       "      <td>49</td>\n",
       "      <td>19</td>\n",
       "      <td>Gade, uma guerrilha o acometerá; mas ele a aco...</td>\n",
       "    </tr>\n",
       "    <tr>\n",
       "      <th>1493</th>\n",
       "      <td>1</td>\n",
       "      <td>49</td>\n",
       "      <td>20</td>\n",
       "      <td>Aser, o seu pão será abundante e ele motivará ...</td>\n",
       "    </tr>\n",
       "    <tr>\n",
       "      <th>1494</th>\n",
       "      <td>1</td>\n",
       "      <td>49</td>\n",
       "      <td>21</td>\n",
       "      <td>Naftali é uma gazela solta; ele profere palavr...</td>\n",
       "    </tr>\n",
       "    <tr>\n",
       "      <th>1495</th>\n",
       "      <td>1</td>\n",
       "      <td>49</td>\n",
       "      <td>22</td>\n",
       "      <td>José é um ramo frutífero, ramo frutífero junto...</td>\n",
       "    </tr>\n",
       "    <tr>\n",
       "      <th>1496</th>\n",
       "      <td>1</td>\n",
       "      <td>49</td>\n",
       "      <td>23</td>\n",
       "      <td>Os flecheiros lhe dão amargura, atiram contra ...</td>\n",
       "    </tr>\n",
       "    <tr>\n",
       "      <th>1497</th>\n",
       "      <td>1</td>\n",
       "      <td>49</td>\n",
       "      <td>24</td>\n",
       "      <td>O seu arco, porém, permanece firme, e os seus ...</td>\n",
       "    </tr>\n",
       "    <tr>\n",
       "      <th>1498</th>\n",
       "      <td>1</td>\n",
       "      <td>49</td>\n",
       "      <td>25</td>\n",
       "      <td>pelo Deus de teu pai, o qual te ajudará, e pel...</td>\n",
       "    </tr>\n",
       "    <tr>\n",
       "      <th>1499</th>\n",
       "      <td>1</td>\n",
       "      <td>49</td>\n",
       "      <td>26</td>\n",
       "      <td>As bênçãos de teu pai excederão as bênçãos de ...</td>\n",
       "    </tr>\n",
       "    <tr>\n",
       "      <th>1500</th>\n",
       "      <td>1</td>\n",
       "      <td>49</td>\n",
       "      <td>27</td>\n",
       "      <td>Benjamim é lobo que despedaça; pela manhã devo...</td>\n",
       "    </tr>\n",
       "    <tr>\n",
       "      <th>1501</th>\n",
       "      <td>1</td>\n",
       "      <td>49</td>\n",
       "      <td>28</td>\n",
       "      <td>São estas as doze tribos de Israel; e isto é o...</td>\n",
       "    </tr>\n",
       "    <tr>\n",
       "      <th>1502</th>\n",
       "      <td>1</td>\n",
       "      <td>49</td>\n",
       "      <td>29</td>\n",
       "      <td>Depois, lhes ordenou, dizendo: Eu me reúno ao ...</td>\n",
       "    </tr>\n",
       "    <tr>\n",
       "      <th>1503</th>\n",
       "      <td>1</td>\n",
       "      <td>49</td>\n",
       "      <td>30</td>\n",
       "      <td>na caverna que está no campo de Macpela, front...</td>\n",
       "    </tr>\n",
       "    <tr>\n",
       "      <th>1504</th>\n",
       "      <td>1</td>\n",
       "      <td>49</td>\n",
       "      <td>31</td>\n",
       "      <td>Ali sepultaram Abraão e Sara, sua mulher; ali ...</td>\n",
       "    </tr>\n",
       "    <tr>\n",
       "      <th>1505</th>\n",
       "      <td>1</td>\n",
       "      <td>49</td>\n",
       "      <td>32</td>\n",
       "      <td>o campo e a caverna que nele está, comprados a...</td>\n",
       "    </tr>\n",
       "    <tr>\n",
       "      <th>1506</th>\n",
       "      <td>1</td>\n",
       "      <td>49</td>\n",
       "      <td>33</td>\n",
       "      <td>Tendo Jacó acabado de dar determinações a seus...</td>\n",
       "    </tr>\n",
       "  </tbody>\n",
       "</table>\n",
       "</div>"
      ],
      "text/plain": [
       "      nr_sq_livro  chapter  verse  \\\n",
       "1474            1       49      1   \n",
       "1475            1       49      2   \n",
       "1476            1       49      3   \n",
       "1477            1       49      4   \n",
       "1478            1       49      5   \n",
       "1479            1       49      6   \n",
       "1480            1       49      7   \n",
       "1481            1       49      8   \n",
       "1482            1       49      9   \n",
       "1483            1       49     10   \n",
       "1484            1       49     11   \n",
       "1485            1       49     12   \n",
       "1486            1       49     13   \n",
       "1487            1       49     14   \n",
       "1488            1       49     15   \n",
       "1489            1       49     16   \n",
       "1490            1       49     17   \n",
       "1491            1       49     18   \n",
       "1492            1       49     19   \n",
       "1493            1       49     20   \n",
       "1494            1       49     21   \n",
       "1495            1       49     22   \n",
       "1496            1       49     23   \n",
       "1497            1       49     24   \n",
       "1498            1       49     25   \n",
       "1499            1       49     26   \n",
       "1500            1       49     27   \n",
       "1501            1       49     28   \n",
       "1502            1       49     29   \n",
       "1503            1       49     30   \n",
       "1504            1       49     31   \n",
       "1505            1       49     32   \n",
       "1506            1       49     33   \n",
       "\n",
       "                                                   text  \n",
       "1474  Depois, chamou Jacó a seus filhos e disse: Aju...  \n",
       "1475  Ajuntai-vos e ouvi, filhos de Jacó; ouvi a Isr...  \n",
       "1476  Rúben, tu és meu primogênito, minha força e as...  \n",
       "1477  Impetuoso como a água, não serás o mais excele...  \n",
       "1478  Simeão e Levi são irmãos; as suas espadas são ...  \n",
       "1479  No seu conselho, não entre minha alma; com o s...  \n",
       "1480  Maldito seja o seu furor, pois era forte, e a ...  \n",
       "1481  Judá, teus irmãos te louvarão; a tua mão estar...  \n",
       "1482  Judá é leãozinho; da presa subiste, filho meu....  \n",
       "1483  O cetro não se arredará de Judá, nem o bastão ...  \n",
       "1484  Ele amarrará o seu jumentinho à vide e o filho...  \n",
       "1485  Os seus olhos serão cintilantes de vinho, e os...  \n",
       "1486  Zebulom habitará na praia dos mares e servirá ...  \n",
       "1487  Issacar é jumento de fortes ossos, de repouso ...  \n",
       "1488  Viu que o repouso era bom e que a terra era de...  \n",
       "1489  Dã julgará o seu povo, como uma das tribos de ...  \n",
       "1490  Dã será serpente junto ao caminho, uma víbora ...  \n",
       "1491                   A tua salvação espero, ó SENHOR!  \n",
       "1492  Gade, uma guerrilha o acometerá; mas ele a aco...  \n",
       "1493  Aser, o seu pão será abundante e ele motivará ...  \n",
       "1494  Naftali é uma gazela solta; ele profere palavr...  \n",
       "1495  José é um ramo frutífero, ramo frutífero junto...  \n",
       "1496  Os flecheiros lhe dão amargura, atiram contra ...  \n",
       "1497  O seu arco, porém, permanece firme, e os seus ...  \n",
       "1498  pelo Deus de teu pai, o qual te ajudará, e pel...  \n",
       "1499  As bênçãos de teu pai excederão as bênçãos de ...  \n",
       "1500  Benjamim é lobo que despedaça; pela manhã devo...  \n",
       "1501  São estas as doze tribos de Israel; e isto é o...  \n",
       "1502  Depois, lhes ordenou, dizendo: Eu me reúno ao ...  \n",
       "1503  na caverna que está no campo de Macpela, front...  \n",
       "1504  Ali sepultaram Abraão e Sara, sua mulher; ali ...  \n",
       "1505  o campo e a caverna que nele está, comprados a...  \n",
       "1506  Tendo Jacó acabado de dar determinações a seus...  "
      ]
     },
     "execution_count": 7,
     "metadata": {},
     "output_type": "execute_result"
    }
   ],
   "source": [
    "# pt_df.loc[(pt_df['nr_sq_livro'] == 40) & (pt_df['chapter'] == 10)]\n",
    "pt_df.query(\"nr_sq_livro == 1 and chapter == 49\")\n",
    "# pt_df.query(\"nr_sq_livro == 45 and chapter == 8 and verse == 4\")\n",
    "# pt_df.query(\"nr_sq_livro == 45 and chapter == 8 and verse == 4\").text.values[0]"
   ]
  },
  {
   "cell_type": "code",
   "execution_count": 10,
   "metadata": {},
   "outputs": [
    {
     "data": {
      "text/plain": [
       "0"
      ]
     },
     "execution_count": 10,
     "metadata": {},
     "output_type": "execute_result"
    }
   ],
   "source": [
    "vs_rng = pt_df.loc[(pt_df['nr_sq_livro'] == 46) & (pt_df['chapter'] == 15) & (pt_df['verse'] >= 1) & (pt_df['verse'] <= 172)]\n",
    "vs_rng.to_csv('/Users/davison/Desktop/vs_rng.csv', index=False)\n",
    "os.system('open ' + '/Users/davison/Desktop/vs_rng.csv')"
   ]
  },
  {
   "cell_type": "code",
   "execution_count": null,
   "metadata": {},
   "outputs": [
    {
     "data": {
      "text/plain": [
       "'Mas agora, sem lei, se manifestou a justiça de Deus testemunhada pela lei e pelos profetas;'"
      ]
     },
     "execution_count": 20,
     "metadata": {},
     "output_type": "execute_result"
    }
   ],
   "source": [
    "pt_df.loc[(pt_df['nr_sq_livro'] == 19) & (pt_df['chapter'] == 85) & (pt_df['verse'] == 10)].text.values[0]"
   ]
  },
  {
   "cell_type": "code",
   "execution_count": 21,
   "metadata": {},
   "outputs": [
    {
     "data": {
      "text/plain": [
       "'Da terra brota a verdade, dos céus a justiça baixa o seu olhar. Também o SENHOR dará o que é bom, e a nossa terra produzirá o seu fruto.'"
      ]
     },
     "execution_count": 21,
     "metadata": {},
     "output_type": "execute_result"
    }
   ],
   "source": [
    "\" \".join([ vs for vs in pt_df.loc[(pt_df['nr_sq_livro']==19) & (pt_df['chapter']==85)].text.values[10:12] ])"
   ]
  },
  {
   "cell_type": "code",
   "execution_count": 7,
   "metadata": {},
   "outputs": [],
   "source": [
    "sql_wd_pt = \"\"\"\n",
    "            SELECT\n",
    "                nr_sq_livro\n",
    "                , chapter\n",
    "                , verse\n",
    "                , text\n",
    "            FROM\n",
    "                pt_df\n",
    "            WHERE\n",
    "                text like '%ressu%'\n",
    "            -- OR (text like '%essencia%')\n",
    "            -- OR text like '%escritura%' \n",
    "            --AND text not like '%discu%'\n",
    "            --AND nr_sq_livro >= 40 \n",
    "            \"\"\""
   ]
  },
  {
   "cell_type": "code",
   "execution_count": 9,
   "metadata": {},
   "outputs": [],
   "source": [
    "wd_ara_query_rs = sqldf(sql_wd_pt)"
   ]
  },
  {
   "cell_type": "code",
   "execution_count": 11,
   "metadata": {},
   "outputs": [
    {
     "data": {
      "text/plain": [
       "146"
      ]
     },
     "execution_count": 11,
     "metadata": {},
     "output_type": "execute_result"
    }
   ],
   "source": [
    "len(wd_ara_query_rs)"
   ]
  },
  {
   "cell_type": "code",
   "execution_count": 10,
   "metadata": {},
   "outputs": [
    {
     "name": "stdout",
     "output_type": "stream",
     "text": [
      "     nr_sq_livro  chapter  verse                                                                                                                                                                                                                                     text\n",
      "0              2       12      9                                                                                                                             Não comereis do animal nada cru, nem cozido em água, porém assado ao fogo: a cabeça, as pernas e a fressura.\n",
      "1             23       26     14                                                                                                      Mortos não tornarão a viver, sombras não ressuscitam; por isso, os castigaste, e destruíste, e lhes fizeste perecer toda a memória.\n",
      "2             23       26     19                             Os vossos mortos e também o meu cadáver viverão e ressuscitarão; despertai e exultai, os que habitais no pó, porque o teu orvalho, ó Deus, será como o orvalho de vida, e a terra dará à luz os seus mortos.\n",
      "3             27       12      2                                                                                                                      Muitos dos que dormem no pó da terra ressuscitarão, uns para a vida eterna, e outros para vergonha e horror eterno.\n",
      "4             40       10      8                                                                                                                              Curai enfermos, ressuscitai mortos, purificai leprosos, expeli demônios; de graça recebestes, de graça dai.\n",
      "5             40       11      5                                                                                   os cegos veem, os coxos andam, os leprosos são purificados, os surdos ouvem, os mortos são ressuscitados, e aos pobres está sendo pregado o evangelho.\n",
      "6             40       14      2                                                                                                                 e disse aos que o serviam: Este é João Batista; ele ressuscitou dos mortos, e, por isso, nele operam forças miraculosas.\n",
      "7             40       16     21  Desde esse tempo, começou Jesus Cristo a mostrar a seus discípulos que lhe era necessário seguir para Jerusalém e sofrer muitas coisas dos anciãos, dos principais sacerdotes e dos escribas, ser morto e ressuscitado no terceiro dia.\n",
      "8             40       17      9                                                                                                          E, descendo eles do monte, ordenou-lhes Jesus: A ninguém conteis a visão, até que o Filho do Homem ressuscite dentre os mortos.\n",
      "9             40       17     23                                                                                                                                e estes o matarão; mas, ao terceiro dia, ressuscitará. Então, os discípulos se entristeceram grandemente.\n",
      "10            40       20     19                                                                                                                               E o entregarão aos gentios para ser escarnecido, açoitado e crucificado; mas, ao terceiro dia, ressurgirá.\n",
      "11            40       22     23                                                                                                                                   Naquele dia, aproximaram-se dele alguns saduceus, que dizem não haver ressurreição, e lhe perguntaram:\n",
      "12            40       22     28                                                                                                                                                  Portanto, na ressurreição, de qual dos sete será ela esposa? Porque todos a desposaram.\n",
      "13            40       22     30                                                                                                                                           Porque, na ressurreição, nem casam, nem se dão em casamento; são, porém, como os anjos no céu.\n",
      "14            40       22     31                                                                                                                                                            E, quanto à ressurreição dos mortos, não tendes lido o que Deus vos declarou:\n",
      "15            40       26     32                                                                                                                                                                  Mas, depois da minha ressurreição, irei adiante de vós para a Galileia.\n",
      "16            40       27     52                                                                                                                                                          abriram-se os sepulcros, e muitos corpos de santos, que dormiam, ressuscitaram;\n",
      "17            40       27     53                                                                                                                                 e, saindo dos sepulcros depois da ressurreição de Jesus, entraram na cidade santa e apareceram a muitos.\n",
      "18            40       27     63                                                                                                                   disseram-lhe: Senhor, lembramo-nos de que aquele embusteiro, enquanto vivia, disse: Depois de três dias ressuscitarei.\n",
      "19            40       27     64           Ordena, pois, que o sepulcro seja guardado com segurança até ao terceiro dia, para não suceder que, vindo os discípulos, o roubem e depois digam ao povo: Ressuscitou dos mortos; e será o último embuste pior que o primeiro.\n",
      "20            40       28      6                                                                                                                                                               Ele não está aqui; ressuscitou, como tinha dito. Vinde ver onde ele jazia.\n",
      "21            40       28      7                                                                                      Ide, pois, depressa e dizei aos seus discípulos que ele ressuscitou dos mortos e vai adiante de vós para a Galileia; ali o vereis. É como vos digo!\n",
      "22            41        6     14                                           Chegou isto aos ouvidos do rei Herodes, porque o nome de Jesus já se tornara notório; e alguns diziam: João Batista ressuscitou dentre os mortos, e, por isso, nele operam forças miraculosas.\n",
      "23            41        6     16                                                                                                                                                  Herodes, porém, ouvindo isto, disse: É João, a quem eu mandei decapitar, que ressurgiu.\n",
      "24            41        8     31    Então, começou ele a ensinar-lhes que era necessário que o Filho do Homem sofresse muitas coisas, fosse rejeitado pelos anciãos, pelos principais sacerdotes e pelos escribas, fosse morto e que, depois de três dias, ressuscitasse.\n",
      "25            41        9      9                                                                               Ao descerem do monte, ordenou-lhes Jesus que não divulgassem as coisas que tinham visto, até o dia em que o Filho do Homem ressuscitasse dentre os mortos.\n",
      "26            41        9     10                                                                                                                                      Eles guardaram a recomendação, perguntando uns aos outros que seria o ressuscitar dentre os mortos.\n",
      "27            41        9     31                                                                      porque ensinava os seus discípulos e lhes dizia: O Filho do Homem será entregue nas mãos dos homens, e o matarão; mas, três dias depois da sua morte, ressuscitará.\n",
      "28            41       10     34                                                                                                                                           hão de escarnecê-lo, cuspir nele, açoitá-lo e matá-lo; mas, depois de três dias, ressuscitará.\n",
      "29            41       12     18                                                                                                                                    Então, os saduceus, que dizem não haver ressurreição, aproximaram-se dele e lhe perguntaram, dizendo:\n",
      "30            41       12     23                                                                                                                                Na ressurreição, quando eles ressuscitarem, de qual deles será ela a esposa? Porque os sete a desposaram.\n",
      "31            41       12     25                                                                                                                Pois, quando ressuscitarem de entre os mortos, nem casarão, nem se darão em casamento; porém, são como os anjos nos céus.\n",
      "32            41       12     26                                                      Quanto à ressurreição dos mortos, não tendes lido no Livro de Moisés, no trecho referente à sarça, como Deus lhe falou: Eu sou o Deus de Abraão, o Deus de Isaque e o Deus de Jacó?\n",
      "33            41       14     28                                                                                                                                                                  Mas, depois da minha ressurreição, irei adiante de vós para a Galileia.\n",
      "34            41       16      6                                                                    Ele, porém, lhes disse: Não vos atemorizeis; buscais a Jesus, o Nazareno, que foi crucificado; ele ressuscitou, não está mais aqui; vede o lugar onde o tinham posto.\n",
      "35            41       16      9                                                                                                    Havendo ele ressuscitado de manhã cedo no primeiro dia da semana, apareceu primeiro a Maria Madalena, da qual expelira sete demônios.\n",
      "36            41       16     14                                                        Finalmente, apareceu Jesus aos onze, quando estavam à mesa, e censurou-lhes a incredulidade e dureza de coração, porque não deram crédito aos que o tinham visto já ressuscitado.\n",
      "37            42        7     22         Então, Jesus lhes respondeu: Ide e anunciai a João o que vistes e ouvistes: os cegos veem, os coxos andam, os leprosos são purificados, os surdos ouvem, os mortos são ressuscitados, e aos pobres, anuncia-se-lhes o evangelho.\n",
      "38            42        9      7                                                                                                        Ora, o tetrarca Herodes soube de tudo o que se passava e ficou perplexo, porque alguns diziam: João ressuscitou dentre os mortos;\n",
      "39            42        9      8                                                                                                                                                                     outros: Elias apareceu; e outros: Ressurgiu um dos antigos profetas.\n",
      "40            42        9     19                                                                                                                           Responderam eles: João Batista, mas outros, Elias; e ainda outros dizem que ressurgiu um dos antigos profetas.\n",
      "41            42        9     22                                                   dizendo: É necessário que o Filho do Homem sofra muitas coisas, seja rejeitado pelos anciãos, pelos principais sacerdotes e pelos escribas; seja morto e, no terceiro dia, ressuscite.\n",
      "42            42       14     14                                                                                          e serás bem-aventurado, pelo fato de não terem eles com que recompensar-te; a tua recompensa, porém, tu a receberás na ressurreição dos justos.\n",
      "43            42       16     31                                                                                        Abraão, porém, lhe respondeu: Se não ouvem a Moisés e aos Profetas, tampouco se deixarão persuadir, ainda que ressuscite alguém dentre os mortos.\n",
      "44            42       18     33                                                                                                                                                       e, depois de o açoitarem, tirar-lhe-ão a vida; mas, ao terceiro dia, ressuscitará.\n",
      "45            42       20     27                                                                                                                                                                   Chegando alguns dos saduceus, homens que dizem não haver ressurreição,\n",
      "46            42       20     33                                                                                                                                       Esta mulher, pois, no dia da ressurreição, de qual deles será esposa? Porque os sete a desposaram.\n",
      "47            42       20     35                                                                                                       mas os que são havidos por dignos de alcançar a era vindoura e a ressurreição dentre os mortos não casam, nem se dão em casamento.\n",
      "48            42       20     36                                                                                                                              Pois não podem mais morrer, porque são iguais aos anjos e são filhos de Deus, sendo filhos da ressurreição.\n",
      "49            42       20     37                                                                            E que os mortos hão de ressuscitar, Moisés o indicou no trecho referente à sarça, quando chama ao Senhor o Deus de Abraão, o Deus de Isaque e o Deus de Jacó.\n",
      "50            42       24      6                                                                                                                                         Ele não está aqui, mas ressuscitou. Lembrai-vos de como vos preveniu, estando ainda na Galileia,\n",
      "51            42       24      7                                                                                                        quando disse: Importa que o Filho do Homem seja entregue nas mãos de pecadores, e seja crucificado, e ressuscite no terceiro dia.\n",
      "52            42       24     34                                                                                                                                                                             os quais diziam: O Senhor ressuscitou e já apareceu a Simão!\n",
      "53            42       24     46                                                                                                                            e lhes disse: Assim está escrito que o Cristo havia de padecer e ressuscitar dentre os mortos no terceiro dia\n",
      "54            43        2     22                                                                                  Quando, pois, Jesus ressuscitou dentre os mortos, lembraram-se os seus discípulos de que ele dissera isto; e creram na Escritura e na palavra de Jesus.\n",
      "55            43        5     21                                                                                                                                Pois assim como o Pai ressuscita e vivifica os mortos, assim também o Filho vivifica aqueles a quem quer.\n",
      "56            43        5     29                                                                                                                 os que tiverem feito o bem, para a ressurreição da vida; e os que tiverem praticado o mal, para a ressurreição do juízo.\n",
      "57            43        6     39                                                                                                      E a vontade de quem me enviou é esta: que nenhum eu perca de todos os que me deu; pelo contrário, eu o ressuscitarei no último dia.\n",
      "58            43        6     40                                                                                                      De fato, a vontade de meu Pai é que todo homem que vir o Filho e nele crer tenha a vida eterna; e eu o ressuscitarei no último dia.\n",
      "59            43        6     44                                                                                                                                       Ninguém pode vir a mim se o Pai, que me enviou, não o trouxer; e eu o ressuscitarei no último dia.\n",
      "60            43        6     54                                                                                                                                     Quem comer a minha carne e beber o meu sangue tem a vida eterna, e eu o ressuscitarei no último dia.\n",
      "61            43       11     23                                                                                                                                                                                           Declarou-lhe Jesus: Teu irmão há de ressurgir.\n",
      "62            43       11     24                                                                                                                                                          Eu sei, replicou Marta, que ele há de ressurgir na ressurreição, no último dia.\n",
      "63            43       11     25                                                                                                                                               Disse-lhe Jesus: Eu sou a ressurreição e a vida. Quem crê em mim, ainda que morra, viverá;\n",
      "64            43       12      1                                                                                                                         Seis dias antes da Páscoa, foi Jesus para Betânia, onde estava Lázaro, a quem ele ressuscitara dentre os mortos.\n",
      "65            43       12      9                                                                       Soube numerosa multidão dos judeus que Jesus estava ali, e lá foram não só por causa dele, mas também para verem Lázaro, a quem ele ressuscitara dentre os mortos.\n",
      "66            43       20      9                                                                                                                                     Pois ainda não tinham compreendido a Escritura, que era necessário ressuscitar ele dentre os mortos.\n",
      "67            43       21     14                                                                                                                           E já era esta a terceira vez que Jesus se manifestava aos discípulos, depois de ressuscitado dentre os mortos.\n",
      "68            44        1     22                                                                                             começando no batismo de João, até ao dia em que dentre nós foi levado às alturas, um destes se torne testemunha conosco da sua ressurreição.\n",
      "69            44        2     24                                                                                                                    ao qual, porém, Deus ressuscitou, rompendo os grilhões da morte; porquanto não era possível fosse ele retido por ela.\n",
      "70            44        2     31                                                                                                                prevendo isto, referiu-se à ressurreição de Cristo, que nem foi deixado na morte, nem o seu corpo experimentou corrupção.\n",
      "71            44        2     32                                                                                                                                                                       A este Jesus Deus ressuscitou, do que todos nós somos testemunhas.\n",
      "72            44        3     15                                                                                                                              Dessarte, matastes o Autor da vida, a quem Deus ressuscitou dentre os mortos, do que nós somos testemunhas.\n",
      "73            44        3     26                                                                                  Tendo Deus ressuscitado o seu Servo, enviou-o primeiramente a vós outros para vos abençoar, no sentido de que cada um se aparte das suas perversidades.\n",
      "74            44        4      2                                                                                                                                           ressentidos por ensinarem eles o povo e anunciarem, em Jesus, a ressurreição dentre os mortos;\n",
      "75            44        4     10           tomai conhecimento, vós todos e todo o povo de Israel, de que, em nome de Jesus Cristo, o Nazareno, a quem vós crucificastes, e a quem Deus ressuscitou dentre os mortos, sim, em seu nome é que este está curado perante vós.\n",
      "76            44        4     33                                                                                                                  Com grande poder, os apóstolos davam testemunho da ressurreição do Senhor Jesus, e em todos eles havia abundante graça.\n",
      "77            44        5     30                                                                                                                                                O Deus de nossos pais ressuscitou a Jesus, a quem vós matastes, pendurando-o num madeiro.\n",
      "78            44       10     40                                                                                                                                                                  A este ressuscitou Deus no terceiro dia e concedeu que fosse manifesto,\n",
      "79            44       10     41                                                                   não a todo o povo, mas às testemunhas que foram anteriormente escolhidas por Deus, isto é, a nós que comemos e bebemos com ele, depois que ressurgiu dentre os mortos;\n",
      "80            44       13     30                                                                                                                                                                                                 Mas Deus o ressuscitou dentre os mortos;\n",
      "81            44       13     33                                                                                como Deus a cumpriu plenamente a nós, seus filhos, ressuscitando a Jesus, como também está escrito no Salmo segundo: Tu és meu Filho, eu, hoje, te gerei.\n",
      "82            44       13     34                                                             E, que Deus o ressuscitou dentre os mortos para que jamais voltasse à corrupção, desta maneira o disse: E cumprirei a vosso favor as santas e fiéis promessas feitas a Davi.\n",
      "83            44       13     37                                                                                                                                                                                  Porém aquele a quem Deus ressuscitou não viu corrupção.\n",
      "84            44       17      3                                                                              expondo e demonstrando ter sido necessário que o Cristo padecesse e ressurgisse dentre os mortos; e este, dizia ele, é o Cristo, Jesus, que eu vos anuncio.\n",
      "85            44       17     18                            E alguns dos filósofos epicureus e estoicos contendiam com ele, havendo quem perguntasse: Que quer dizer esse tagarela? E outros: Parece pregador de estranhos deuses; pois pregava a Jesus e a ressurreição.\n",
      "86            44       17     31                                                                   porquanto estabeleceu um dia em que há de julgar o mundo com justiça, por meio de um varão que destinou e acreditou diante de todos, ressuscitando-o dentre os mortos.\n",
      "87            44       17     32                                                                                                       Quando ouviram falar de ressurreição de mortos, uns escarneceram, e outros disseram: A respeito disso te ouviremos noutra ocasião.\n",
      "88            44       23      6                       Sabendo Paulo que uma parte do Sinédrio se compunha de saduceus e outra, de fariseus, exclamou: Varões, irmãos, eu sou fariseu, filho de fariseus! No tocante à esperança e à ressurreição dos mortos sou julgado!\n",
      "89            44       23      8                                                                                                           Pois os saduceus declaram não haver ressurreição, nem anjo, nem espírito; ao passo que os fariseus admitem todas essas coisas.\n",
      "90            44       24     15                                                                                                                          tendo esperança em Deus, como também estes a têm, de que haverá ressurreição, tanto de justos como de injustos.\n",
      "91            44       24     21                                                                                                                     salvo estas palavras que clamei, estando entre eles: hoje, sou eu julgado por vós acerca da ressurreição dos mortos.\n",
      "92            44       26      8                                                                                                                                                                       Por que se julga incrível entre vós que Deus ressuscite os mortos?\n",
      "93            44       26     23                                                                                                               isto é, que o Cristo devia padecer e, sendo o primeiro da ressurreição dos mortos, anunciaria a luz ao povo e aos gentios.\n",
      "94            45        1      4                                                                                              e foi designado Filho de Deus com poder, segundo o espírito de santidade pela ressurreição dos mortos, a saber, Jesus Cristo, nosso Senhor,\n",
      "95            45        4     24                                                                      mas também por nossa causa, posto que a nós igualmente nos será imputado, a saber, a nós que cremos naquele que ressuscitou dentre os mortos a Jesus, nosso Senhor,\n",
      "96            45        4     25                                                                                                                                    o qual foi entregue por causa das nossas transgressões e ressuscitou por causa da nossa justificação.\n",
      "97            45        6      4                                                         Fomos, pois, sepultados com ele na morte pelo batismo; para que, como Cristo foi ressuscitado dentre os mortos pela glória do Pai, assim também andemos nós em novidade de vida.\n",
      "98            45        6      5                                                                                                              Porque, se fomos unidos com ele na semelhança da sua morte, certamente, o seremos também na semelhança da sua ressurreição,\n",
      "99            45        6      9                                                                                                                      sabedores de que, havendo Cristo ressuscitado dentre os mortos, já não morre; a morte já não tem domínio sobre ele.\n",
      "100           45        6     13                         nem ofereçais cada um os membros do seu corpo ao pecado, como instrumentos de iniquidade; mas oferecei-vos a Deus, como ressurretos dentre os mortos, e os vossos membros, a Deus, como instrumentos de justiça.\n",
      "101           45        7      4                            Assim, meus irmãos, também vós morrestes relativamente à lei, por meio do corpo de Cristo, para pertencerdes a outro, a saber, aquele que ressuscitou dentre os mortos, a fim de que frutifiquemos para Deus.\n",
      "102           45        8     11            Se habita em vós o Espírito daquele que ressuscitou a Jesus dentre os mortos, esse mesmo que ressuscitou a Cristo Jesus dentre os mortos vivificará também o vosso corpo mortal, por meio do seu Espírito, que em vós habita.\n",
      "103           45        8     34                                                                                                     Quem os condenará? É Cristo Jesus quem morreu ou, antes, quem ressuscitou, o qual está à direita de Deus e também intercede por nós.\n",
      "104           45       10      9                                                                                                        Se, com a tua boca, confessares Jesus como Senhor e, em teu coração, creres que Deus o ressuscitou dentre os mortos, serás salvo.\n",
      "105           45       14      9                                                                                                                             Foi precisamente para esse fim que Cristo morreu e ressurgiu: para ser Senhor tanto de mortos como de vivos.\n",
      "106           46        6     14                                                                                                                                                                Deus ressuscitou o Senhor e também nos ressuscitará a nós pelo seu poder.\n",
      "107           46       15      4                                                                                                                                                                e que foi sepultado e ressuscitou ao terceiro dia, segundo as Escrituras.\n",
      "108           46       15     12                                                                                           Ora, se é corrente pregar-se que Cristo ressuscitou dentre os mortos, como, pois, afirmam alguns dentre vós que não há ressurreição de mortos?\n",
      "109           46       15     13                                                                                                                                                                      E, se não há ressurreição de mortos, então, Cristo não ressuscitou.\n",
      "110           46       15     14                                                                                                                                                                   E, se Cristo não ressuscitou, é vã a nossa pregação, e vã, a vossa fé;\n",
      "111           46       15     15                                                   e somos tidos por falsas testemunhas de Deus, porque temos asseverado contra Deus que ele ressuscitou a Cristo, ao qual ele não ressuscitou, se é certo que os mortos não ressuscitam.\n",
      "112           46       15     16                                                                                                                                                                     Porque, se os mortos não ressuscitam, também Cristo não ressuscitou.\n",
      "113           46       15     17                                                                                                                                                   E, se Cristo não ressuscitou, é vã a vossa fé, e ainda permaneceis nos vossos pecados.\n",
      "114           46       15     20                                                                                                                                                Mas, de fato, Cristo ressuscitou dentre os mortos, sendo ele as primícias dos que dormem.\n",
      "115           46       15     21                                                                                                                                                 Visto que a morte veio por um homem, também por um homem veio a ressurreição dos mortos.\n",
      "116           46       15     29                                                                                      Doutra maneira, que farão os que se batizam por causa dos mortos? Se, absolutamente, os mortos não ressuscitam, por que se batizam por causa deles?\n",
      "117           46       15     32                                                                                                 Se, como homem, lutei em Éfeso com feras, que me aproveita isso? Se os mortos não ressuscitam, comamos e bebamos, que amanhã morreremos.\n",
      "118           46       15     35                                                                                                                                                                         Mas alguém dirá: Como ressuscitam os mortos? E em que corpo vêm?\n",
      "119           46       15     42                                                                                    Pois assim também é a ressurreição dos mortos. Semeia-se o corpo na corrupção, ressuscita na incorrupção. Semeia-se em desonra, ressuscita em glória.\n",
      "120           46       15     43                                                                                                                                                                                              Semeia-se em fraqueza, ressuscita em poder.\n",
      "121           46       15     44                                                                                                                                   Semeia-se corpo natural, ressuscita corpo espiritual. Se há corpo natural, há também corpo espiritual.\n",
      "122           46       15     52                                                                          num momento, num abrir e fechar de olhos, ao ressoar da última trombeta. A trombeta soará, os mortos ressuscitarão incorruptíveis, e nós seremos transformados.\n",
      "123           47        1      9                                                                                                           Contudo, já em nós mesmos, tivemos a sentença de morte, para que não confiemos em nós, e sim no Deus que ressuscita os mortos;\n",
      "124           47        4     14                                                                                                                          sabendo que aquele que ressuscitou o Senhor Jesus também nos ressuscitará com Jesus e nos apresentará convosco.\n",
      "125           47        5     15                                                                                                          E ele morreu por todos, para que os que vivem não vivam mais para si mesmos, mas para aquele que por eles morreu e ressuscitou.\n",
      "126           48        1      1                                                                                     Paulo, apóstolo, não da parte de homens, nem por intermédio de homem algum, mas por Jesus Cristo e por Deus Pai, que o ressuscitou dentre os mortos,\n",
      "127           49        1     20                                                                                                                  o qual exerceu ele em Cristo, ressuscitando-o dentre os mortos e fazendo-o sentar à sua direita nos lugares celestiais,\n",
      "128           49        2      6                                                                                                                                       e, juntamente com ele, nos ressuscitou, e nos fez assentar nos lugares celestiais em Cristo Jesus;\n",
      "129           50        3     10                                                                                                                  para o conhecer, e o poder da sua ressurreição, e a comunhão dos seus sofrimentos, conformando-me com ele na sua morte;\n",
      "130           50        3     11                                                                                                                                                                           para, de algum modo, alcançar a ressurreição dentre os mortos.\n",
      "131           51        2     12                                                                        tendo sido sepultados, juntamente com ele, no batismo, no qual igualmente fostes ressuscitados mediante a fé no poder de Deus que o ressuscitou dentre os mortos.\n",
      "132           51        3      1                                                                                                     Portanto, se fostes ressuscitados juntamente com Cristo, buscai as coisas lá do alto, onde Cristo vive, assentado à direita de Deus.\n",
      "133           52        1     10                                                                                                                  e para aguardardes dos céus o seu Filho, a quem ele ressuscitou dentre os mortos, Jesus, que nos livra da ira vindoura.\n",
      "134           52        4     14                                                                                                               Pois, se cremos que Jesus morreu e ressuscitou, assim também Deus, mediante Jesus, trará, em sua companhia, os que dormem.\n",
      "135           52        4     16                                                           Porquanto o Senhor mesmo, dada a sua palavra de ordem, ouvida a voz do arcanjo, e ressoada a trombeta de Deus, descerá dos céus, e os mortos em Cristo ressuscitarão primeiro;\n",
      "136           55        2      8                                                                                                                                Lembra-te de Jesus Cristo, ressuscitado de entre os mortos, descendente de Davi, segundo o meu evangelho;\n",
      "137           55        2     18                                                                                                                         Estes se desviaram da verdade, asseverando que a ressurreição já se realizou, e estão pervertendo a fé a alguns.\n",
      "138           58        6      2                                                                                                                                               o ensino de batismos e da imposição de mãos, da ressurreição dos mortos e do juízo eterno.\n",
      "139           58       11     19                                                                                                              porque considerou que Deus era poderoso até para ressuscitá-lo dentre os mortos, de onde também, figuradamente, o recobrou.\n",
      "140           58       11     35                                                                                           Mulheres receberam, pela ressurreição, os seus mortos. Alguns foram torturados, não aceitando seu resgate, para obterem superior ressurreição;\n",
      "141           60        1      3                                               Bendito o Deus e Pai de nosso Senhor Jesus Cristo, que, segundo a sua muita misericórdia, nos regenerou para uma viva esperança, mediante a ressurreição de Jesus Cristo dentre os mortos,\n",
      "142           60        1     21                                                                                      que, por meio dele, tendes fé em Deus, o qual o ressuscitou dentre os mortos e lhe deu glória, de sorte que a vossa fé e esperança estejam em Deus.\n",
      "143           60        3     21                                          a qual, figurando o batismo, agora também vos salva, não sendo a remoção da imundícia da carne, mas a indagação de uma boa consciência para com Deus, por meio da ressurreição de Jesus Cristo;\n",
      "144           66       20      5                                                                                                                               Os restantes dos mortos não reviveram até que se completassem os mil anos. Esta é a primeira ressurreição.\n",
      "145           66       20      6                             Bem-aventurado e santo é aquele que tem parte na primeira ressurreição; sobre esses a segunda morte não tem autoridade; pelo contrário, serão sacerdotes de Deus e de Cristo e reinarão com ele os mil anos.\n"
     ]
    }
   ],
   "source": [
    "print(wd_ara_query_rs.to_string())"
   ]
  },
  {
   "cell_type": "code",
   "execution_count": 13,
   "metadata": {},
   "outputs": [
    {
     "data": {
      "text/plain": [
       "0"
      ]
     },
     "execution_count": 13,
     "metadata": {},
     "output_type": "execute_result"
    }
   ],
   "source": [
    "wd_ara_query_rs = sqldf(sql_wd_pt)\n",
    "wd_ara_query_rs.to_csv('/Users/davison/Desktop/vs_rng.csv', index=False)\n",
    "os.system('open ' + '/Users/davison/Desktop/vs_rng.csv')"
   ]
  },
  {
   "cell_type": "code",
   "execution_count": null,
   "metadata": {},
   "outputs": [],
   "source": [
    "def export_verses_pt_wds(wd1, wd2, or_wd, nlike_wd):\n",
    "    if (wd2 == None and nlike_wd == None and or_wd == None):\n",
    "        sql_wd_pt = \"\"\"\n",
    "            SELECT\n",
    "                nr_sq_livro\n",
    "                , chapter\n",
    "                , verse\n",
    "                , text\n",
    "            FROM\n",
    "                pt_df\n",
    "            WHERE\n",
    "                text like '%{}%'\n",
    "            \"\"\".format(wd1)\n",
    "    elif (nlike_wd == None and or_wd == None):\n",
    "        sql_wd_pt = \"\"\"\n",
    "            SELECT\n",
    "                nr_sq_livro\n",
    "                , chapter\n",
    "                , verse\n",
    "                , text\n",
    "            FROM\n",
    "                pt_df\n",
    "            WHERE\n",
    "                text like '%{}%' AND text like '%{}%'\n",
    "            \"\"\".format(wd1, wd2)\n",
    "    elif (or_wd == None and nlike_wd != None):\n",
    "        sql_wd_pt = \"\"\"\n",
    "            SELECT\n",
    "                nr_sq_livro\n",
    "                , chapter\n",
    "                , verse\n",
    "                , text\n",
    "            FROM\n",
    "                pt_df\n",
    "            WHERE\n",
    "                text like '%{}%' AND text not like '%{}%'\n",
    "            \"\"\".format(wd1, nlike_wd)\n",
    "    elif (or_wd != None and nlike_wd != None):\n",
    "        sql_wd_pt = \"\"\"\n",
    "            SELECT\n",
    "                nr_sq_livro\n",
    "                , chapter\n",
    "                , verse\n",
    "                , text\n",
    "            FROM\n",
    "                pt_df\n",
    "            WHERE\n",
    "                (text like '%{}%' OR text like '%{}%') AND text not like '%{}%'\n",
    "            \"\"\".format(wd1, or_wd, nlike_wd)\n",
    "    wd_ara_query_rs = sqldf(sql_wd_pt)\n",
    "    wd_ara_query_rs.to_csv('/Users/davison/Desktop/vs_rng.csv', index=False)"
   ]
  },
  {
   "cell_type": "code",
   "execution_count": null,
   "metadata": {},
   "outputs": [],
   "source": [
    "export_verses_pt_wds('batis', None, 'batiz', None)\n",
    "os.system('open ' + '/Users/davison/Desktop/vs_rng.csv')"
   ]
  },
  {
   "cell_type": "code",
   "execution_count": null,
   "metadata": {},
   "outputs": [],
   "source": [
    "# a partir daqui lxx grk, old e new testaments\n",
    "# primeira parte apenas indexação por strongs"
   ]
  },
  {
   "cell_type": "code",
   "execution_count": 22,
   "metadata": {},
   "outputs": [],
   "source": [
    "sql_strongs_grk = \"\"\"\n",
    "            SELECT \n",
    "                ltrim(number, 'G') strongs_number\n",
    "                , lemma\n",
    "                , xlit\n",
    "                , pronounce\n",
    "                , description \n",
    "            FROM \n",
    "                strongs\n",
    "            WHERE\n",
    "                substr(number, 1, 1) = 'G';\n",
    "            \"\"\"\n",
    "strongs_grk_df = pd.read_sql_query(sql_strongs_grk, ConectorBD('/Users/davison/Software/almeida-semantica/db/strongs.sqlite').con)"
   ]
  },
  {
   "cell_type": "code",
   "execution_count": null,
   "metadata": {},
   "outputs": [
    {
     "data": {
      "application/vnd.microsoft.datawrangler.viewer.v0+json": {
       "columns": [
        {
         "name": "index",
         "rawType": "int64",
         "type": "integer"
        },
        {
         "name": "strongs_number",
         "rawType": "object",
         "type": "string"
        },
        {
         "name": "lemma",
         "rawType": "object",
         "type": "string"
        },
        {
         "name": "xlit",
         "rawType": "object",
         "type": "string"
        },
        {
         "name": "pronounce",
         "rawType": "object",
         "type": "string"
        },
        {
         "name": "description",
         "rawType": "object",
         "type": "string"
        }
       ],
       "conversionMethod": "pd.DataFrame",
       "ref": "a7906995-1ec3-4c53-a01b-ad93dac9be02",
       "rows": [
        [
         "0",
         "1",
         "Α",
         "A",
         "al'-fah",
         "of Hebrew origin; the first letter of the alphabet; figuratively, only (from its use as a numeral) the first: --Alpha. Often used (usually , before a vowel) also in composition (as a contraction from ἄνευ) in the sense of privation; so, in many words, beginning with this letter; occasionally in the sense of union (as a contraction of ἅμα)."
        ],
        [
         "1",
         "2",
         "Ἀαρών",
         "Aarṓn",
         "ah-ar-ohn'",
         "of Hebrew origin (אַהֲרוֹן); Aaron, the brother of Moses:--Aaron."
        ],
        [
         "2",
         "3",
         "Ἀβαδδών",
         "Abaddṓn",
         "ab-ad-dohn'",
         "of Hebrew origin (אֲבַדּוֹן); a destroying angel:--Abaddon."
        ],
        [
         "3",
         "4",
         "ἀβαρής",
         "abarḗs",
         "ab-ar-ace'",
         "from Α (as a negative particle) and βάρος; weightless, i.e. (figuratively) not burdensome:--from being burdensome."
        ],
        [
         "4",
         "5",
         "Ἀββᾶ",
         "Abbâ",
         "ab-bah'",
         "of Chaldee origin (אַב); father as a vocative:--Abba."
        ]
       ],
       "shape": {
        "columns": 5,
        "rows": 5
       }
      },
      "text/html": [
       "<div>\n",
       "<style scoped>\n",
       "    .dataframe tbody tr th:only-of-type {\n",
       "        vertical-align: middle;\n",
       "    }\n",
       "\n",
       "    .dataframe tbody tr th {\n",
       "        vertical-align: top;\n",
       "    }\n",
       "\n",
       "    .dataframe thead th {\n",
       "        text-align: right;\n",
       "    }\n",
       "</style>\n",
       "<table border=\"1\" class=\"dataframe\">\n",
       "  <thead>\n",
       "    <tr style=\"text-align: right;\">\n",
       "      <th></th>\n",
       "      <th>strongs_number</th>\n",
       "      <th>lemma</th>\n",
       "      <th>xlit</th>\n",
       "      <th>pronounce</th>\n",
       "      <th>description</th>\n",
       "    </tr>\n",
       "  </thead>\n",
       "  <tbody>\n",
       "    <tr>\n",
       "      <th>0</th>\n",
       "      <td>1</td>\n",
       "      <td>Α</td>\n",
       "      <td>A</td>\n",
       "      <td>al'-fah</td>\n",
       "      <td>of Hebrew origin; the first letter of the alph...</td>\n",
       "    </tr>\n",
       "    <tr>\n",
       "      <th>1</th>\n",
       "      <td>2</td>\n",
       "      <td>Ἀαρών</td>\n",
       "      <td>Aarṓn</td>\n",
       "      <td>ah-ar-ohn'</td>\n",
       "      <td>of Hebrew origin (אַהֲרוֹן); Aaron, the brothe...</td>\n",
       "    </tr>\n",
       "    <tr>\n",
       "      <th>2</th>\n",
       "      <td>3</td>\n",
       "      <td>Ἀβαδδών</td>\n",
       "      <td>Abaddṓn</td>\n",
       "      <td>ab-ad-dohn'</td>\n",
       "      <td>of Hebrew origin (אֲבַדּוֹן); a destroying ang...</td>\n",
       "    </tr>\n",
       "    <tr>\n",
       "      <th>3</th>\n",
       "      <td>4</td>\n",
       "      <td>ἀβαρής</td>\n",
       "      <td>abarḗs</td>\n",
       "      <td>ab-ar-ace'</td>\n",
       "      <td>from Α (as a negative particle) and βάρος; wei...</td>\n",
       "    </tr>\n",
       "    <tr>\n",
       "      <th>4</th>\n",
       "      <td>5</td>\n",
       "      <td>Ἀββᾶ</td>\n",
       "      <td>Abbâ</td>\n",
       "      <td>ab-bah'</td>\n",
       "      <td>of Chaldee origin (אַב); father as a vocative:...</td>\n",
       "    </tr>\n",
       "  </tbody>\n",
       "</table>\n",
       "</div>"
      ],
      "text/plain": [
       "  strongs_number    lemma     xlit    pronounce  \\\n",
       "0              1        Α        A      al'-fah   \n",
       "1              2    Ἀαρών    Aarṓn   ah-ar-ohn'   \n",
       "2              3  Ἀβαδδών  Abaddṓn  ab-ad-dohn'   \n",
       "3              4   ἀβαρής   abarḗs   ab-ar-ace'   \n",
       "4              5     Ἀββᾶ     Abbâ      ab-bah'   \n",
       "\n",
       "                                         description  \n",
       "0  of Hebrew origin; the first letter of the alph...  \n",
       "1  of Hebrew origin (אַהֲרוֹן); Aaron, the brothe...  \n",
       "2  of Hebrew origin (אֲבַדּוֹן); a destroying ang...  \n",
       "3  from Α (as a negative particle) and βάρος; wei...  \n",
       "4  of Chaldee origin (אַב); father as a vocative:...  "
      ]
     },
     "metadata": {},
     "output_type": "display_data"
    }
   ],
   "source": [
    "strongs_grk_df.head()"
   ]
  },
  {
   "cell_type": "code",
   "execution_count": 14,
   "metadata": {},
   "outputs": [
    {
     "name": "stderr",
     "output_type": "stream",
     "text": [
      "/var/folders/66/v9zmf0pn5p18jnhnr4_7x2r80000gn/T/ipykernel_44925/506645314.py:1: DtypeWarning: Columns (1,2) have mixed types. Specify dtype option on import or set low_memory=False.\n",
      "  lxx_cp_vs_ok = pd.read_csv('/Users/davison/Software/almeida-semantica/lxxm_utf8_v4.csv', dtype={'strongs': 'Int32'})\n"
     ]
    }
   ],
   "source": [
    "lxx_cp_vs_ok = pd.read_csv('/Users/davison/Software/almeida-semantica/lxxm_utf8_v4.csv', dtype={'strongs': 'Int32'})"
   ]
  },
  {
   "cell_type": "code",
   "execution_count": null,
   "metadata": {},
   "outputs": [],
   "source": [
    "# del df_lxx"
   ]
  },
  {
   "cell_type": "code",
   "execution_count": 9,
   "metadata": {},
   "outputs": [
    {
     "data": {
      "application/vnd.microsoft.datawrangler.viewer.v0+json": {
       "columns": [
        {
         "name": "index",
         "rawType": "int64",
         "type": "integer"
        },
        {
         "name": "book",
         "rawType": "int64",
         "type": "integer"
        },
        {
         "name": "chapter",
         "rawType": "object",
         "type": "unknown"
        },
        {
         "name": "verse",
         "rawType": "object",
         "type": "unknown"
        },
        {
         "name": "part_of_speech",
         "rawType": "object",
         "type": "string"
        },
        {
         "name": "morphology",
         "rawType": "object",
         "type": "string"
        },
        {
         "name": "normalized_word",
         "rawType": "object",
         "type": "string"
        },
        {
         "name": "strongs",
         "rawType": "Int32",
         "type": "integer"
        }
       ],
       "ref": "e28d1f6b-8efd-4243-8d98-2e508ade0b37",
       "rows": [
        [
         "0",
         "1",
         "1",
         "1",
         "P-",
         "--------",
         "εν",
         "1722"
        ],
        [
         "1",
         "1",
         "1",
         "1",
         "N-",
         "----DSF-",
         "αρχη",
         "746"
        ],
        [
         "2",
         "1",
         "1",
         "1",
         "V-",
         "3AAI-S--",
         "εποιησεν",
         "4160"
        ],
        [
         "3",
         "1",
         "1",
         "1",
         "RA",
         "----NSM-",
         "ο",
         "3588"
        ],
        [
         "4",
         "1",
         "1",
         "1",
         "N-",
         "----NSM-",
         "θεος",
         "2316"
        ]
       ],
       "shape": {
        "columns": 7,
        "rows": 5
       }
      },
      "text/html": [
       "<div>\n",
       "<style scoped>\n",
       "    .dataframe tbody tr th:only-of-type {\n",
       "        vertical-align: middle;\n",
       "    }\n",
       "\n",
       "    .dataframe tbody tr th {\n",
       "        vertical-align: top;\n",
       "    }\n",
       "\n",
       "    .dataframe thead th {\n",
       "        text-align: right;\n",
       "    }\n",
       "</style>\n",
       "<table border=\"1\" class=\"dataframe\">\n",
       "  <thead>\n",
       "    <tr style=\"text-align: right;\">\n",
       "      <th></th>\n",
       "      <th>book</th>\n",
       "      <th>chapter</th>\n",
       "      <th>verse</th>\n",
       "      <th>part_of_speech</th>\n",
       "      <th>morphology</th>\n",
       "      <th>normalized_word</th>\n",
       "      <th>strongs</th>\n",
       "    </tr>\n",
       "  </thead>\n",
       "  <tbody>\n",
       "    <tr>\n",
       "      <th>0</th>\n",
       "      <td>1</td>\n",
       "      <td>1</td>\n",
       "      <td>1</td>\n",
       "      <td>P-</td>\n",
       "      <td>--------</td>\n",
       "      <td>εν</td>\n",
       "      <td>1722</td>\n",
       "    </tr>\n",
       "    <tr>\n",
       "      <th>1</th>\n",
       "      <td>1</td>\n",
       "      <td>1</td>\n",
       "      <td>1</td>\n",
       "      <td>N-</td>\n",
       "      <td>----DSF-</td>\n",
       "      <td>αρχη</td>\n",
       "      <td>746</td>\n",
       "    </tr>\n",
       "    <tr>\n",
       "      <th>2</th>\n",
       "      <td>1</td>\n",
       "      <td>1</td>\n",
       "      <td>1</td>\n",
       "      <td>V-</td>\n",
       "      <td>3AAI-S--</td>\n",
       "      <td>εποιησεν</td>\n",
       "      <td>4160</td>\n",
       "    </tr>\n",
       "    <tr>\n",
       "      <th>3</th>\n",
       "      <td>1</td>\n",
       "      <td>1</td>\n",
       "      <td>1</td>\n",
       "      <td>RA</td>\n",
       "      <td>----NSM-</td>\n",
       "      <td>ο</td>\n",
       "      <td>3588</td>\n",
       "    </tr>\n",
       "    <tr>\n",
       "      <th>4</th>\n",
       "      <td>1</td>\n",
       "      <td>1</td>\n",
       "      <td>1</td>\n",
       "      <td>N-</td>\n",
       "      <td>----NSM-</td>\n",
       "      <td>θεος</td>\n",
       "      <td>2316</td>\n",
       "    </tr>\n",
       "  </tbody>\n",
       "</table>\n",
       "</div>"
      ],
      "text/plain": [
       "   book chapter verse part_of_speech morphology normalized_word  strongs\n",
       "0     1       1     1             P-   --------              εν     1722\n",
       "1     1       1     1             N-   ----DSF-            αρχη      746\n",
       "2     1       1     1             V-   3AAI-S--        εποιησεν     4160\n",
       "3     1       1     1             RA   ----NSM-               ο     3588\n",
       "4     1       1     1             N-   ----NSM-            θεος     2316"
      ]
     },
     "execution_count": 9,
     "metadata": {},
     "output_type": "execute_result"
    }
   ],
   "source": [
    "lxx_cp_vs_ok.head()"
   ]
  },
  {
   "cell_type": "code",
   "execution_count": null,
   "metadata": {},
   "outputs": [
    {
     "data": {
      "application/vnd.microsoft.datawrangler.viewer.v0+json": {
       "columns": [
        {
         "name": "index",
         "rawType": "int64",
         "type": "integer"
        },
        {
         "name": "book",
         "rawType": "int64",
         "type": "integer"
        },
        {
         "name": "chapter",
         "rawType": "object",
         "type": "unknown"
        },
        {
         "name": "verse",
         "rawType": "object",
         "type": "unknown"
        },
        {
         "name": "part_of_speech",
         "rawType": "object",
         "type": "string"
        },
        {
         "name": "morphology",
         "rawType": "object",
         "type": "string"
        },
        {
         "name": "normalized_word",
         "rawType": "object",
         "type": "string"
        },
        {
         "name": "strongs",
         "rawType": "Int32",
         "type": "integer"
        }
       ],
       "conversionMethod": "pd.DataFrame",
       "ref": "abe41381-6d1d-44f4-8ce0-ba69175e7309",
       "rows": [
        [
         "34426",
         "2",
         "4",
         "14",
         "N-",
         "--------",
         "ααρων",
         "2"
        ],
        [
         "34746",
         "2",
         "4",
         "27",
         "N-",
         "--------",
         "ααρων",
         "2"
        ],
        [
         "34771",
         "2",
         "4",
         "28",
         "N-",
         "--------",
         "ααρων",
         "2"
        ],
        [
         "34789",
         "2",
         "4",
         "29",
         "N-",
         "--------",
         "ααρων",
         "2"
        ],
        [
         "34799",
         "2",
         "4",
         "30",
         "N-",
         "--------",
         "ααρων",
         "2"
        ],
        [
         "34847",
         "2",
         "5",
         "1",
         "N-",
         "--------",
         "ααρων",
         "2"
        ],
        [
         "34931",
         "2",
         "5",
         "4",
         "N-",
         "--------",
         "ααρων",
         "2"
        ],
        [
         "35235",
         "2",
         "5",
         "20",
         "N-",
         "--------",
         "ααρων",
         "2"
        ],
        [
         "35566",
         "2",
         "6",
         "13",
         "N-",
         "--------",
         "ααρων",
         "2"
        ],
        [
         "35709",
         "2",
         "6",
         "20",
         "N-",
         "--------",
         "ααρων",
         "2"
        ],
        [
         "35743",
         "2",
         "6",
         "23",
         "N-",
         "--------",
         "ααρων",
         "2"
        ],
        [
         "35780",
         "2",
         "6",
         "25",
         "N-",
         "--------",
         "ααρων",
         "2"
        ],
        [
         "35801",
         "2",
         "6",
         "26",
         "N-",
         "--------",
         "ααρων",
         "2"
        ],
        [
         "35835",
         "2",
         "6",
         "27",
         "N-",
         "--------",
         "ααρων",
         "2"
        ],
        [
         "35890",
         "2",
         "7",
         "1",
         "N-",
         "--------",
         "ααρων",
         "2"
        ],
        [
         "35907",
         "2",
         "7",
         "2",
         "N-",
         "--------",
         "ααρων",
         "2"
        ],
        [
         "35995",
         "2",
         "7",
         "6",
         "N-",
         "--------",
         "ααρων",
         "2"
        ],
        [
         "36007",
         "2",
         "7",
         "7",
         "N-",
         "--------",
         "ααρων",
         "2"
        ],
        [
         "36025",
         "2",
         "7",
         "8",
         "N-",
         "--------",
         "ααρων",
         "2"
        ],
        [
         "36041",
         "2",
         "7",
         "9",
         "N-",
         "--------",
         "ααρων",
         "2"
        ],
        [
         "36068",
         "2",
         "7",
         "10",
         "N-",
         "--------",
         "ααρων",
         "2"
        ],
        [
         "36084",
         "2",
         "7",
         "10",
         "N-",
         "--------",
         "ααρων",
         "2"
        ],
        [
         "36131",
         "2",
         "7",
         "12",
         "N-",
         "--------",
         "ααρων",
         "2"
        ],
        [
         "36282",
         "2",
         "7",
         "19",
         "N-",
         "--------",
         "ααρων",
         "2"
        ],
        [
         "36343",
         "2",
         "7",
         "20",
         "N-",
         "--------",
         "ααρων",
         "2"
        ],
        [
         "36581",
         "2",
         "8",
         "5",
         "N-",
         "--------",
         "ααρων",
         "2"
        ],
        [
         "36608",
         "2",
         "8",
         "6",
         "N-",
         "--------",
         "ααρων",
         "2"
        ],
        [
         "36651",
         "2",
         "8",
         "8",
         "N-",
         "--------",
         "ααρων",
         "2"
        ],
        [
         "36770",
         "2",
         "8",
         "12",
         "N-",
         "--------",
         "ααρων",
         "2"
        ],
        [
         "36839",
         "2",
         "8",
         "16",
         "N-",
         "--------",
         "ααρων",
         "2"
        ],
        [
         "36870",
         "2",
         "8",
         "17",
         "N-",
         "--------",
         "ααρων",
         "2"
        ],
        [
         "37134",
         "2",
         "8",
         "25",
         "N-",
         "--------",
         "ααρων",
         "2"
        ],
        [
         "37474",
         "2",
         "9",
         "8",
         "N-",
         "--------",
         "ααρων",
         "2"
        ],
        [
         "37944",
         "2",
         "9",
         "27",
         "N-",
         "--------",
         "ααρων",
         "2"
        ],
        [
         "38190",
         "2",
         "10",
         "3",
         "N-",
         "--------",
         "ααρων",
         "2"
        ],
        [
         "38355",
         "2",
         "10",
         "8",
         "N-",
         "--------",
         "ααρων",
         "2"
        ],
        [
         "38588",
         "2",
         "10",
         "16",
         "N-",
         "--------",
         "ααρων",
         "2"
        ],
        [
         "38743",
         "2",
         "10",
         "24",
         "N-",
         "--------",
         "ααρων",
         "2"
        ],
        [
         "39090",
         "2",
         "11",
         "10",
         "N-",
         "--------",
         "ααρων",
         "2"
        ],
        [
         "39126",
         "2",
         "12",
         "1",
         "N-",
         "--------",
         "ααρων",
         "2"
        ],
        [
         "39773",
         "2",
         "12",
         "28",
         "N-",
         "--------",
         "ααρων",
         "2"
        ],
        [
         "39847",
         "2",
         "12",
         "31",
         "N-",
         "--------",
         "ααρων",
         "2"
        ],
        [
         "40087",
         "2",
         "12",
         "43",
         "N-",
         "--------",
         "ααρων",
         "2"
        ],
        [
         "40201",
         "2",
         "12",
         "50",
         "N-",
         "--------",
         "ααρων",
         "2"
        ],
        [
         "41830",
         "2",
         "15",
         "20",
         "N-",
         "--------",
         "ααρων",
         "2"
        ],
        [
         "42064",
         "2",
         "16",
         "2",
         "N-",
         "--------",
         "ααρων",
         "2"
        ],
        [
         "42166",
         "2",
         "16",
         "6",
         "N-",
         "--------",
         "ααρων",
         "2"
        ],
        [
         "42254",
         "2",
         "16",
         "9",
         "N-",
         "--------",
         "ααρων",
         "2"
        ],
        [
         "42272",
         "2",
         "16",
         "10",
         "N-",
         "--------",
         "ααρων",
         "2"
        ],
        [
         "42755",
         "2",
         "16",
         "33",
         "N-",
         "--------",
         "ααρων",
         "2"
        ]
       ],
       "shape": {
        "columns": 7,
        "rows": 349
       }
      },
      "text/html": [
       "<div>\n",
       "<style scoped>\n",
       "    .dataframe tbody tr th:only-of-type {\n",
       "        vertical-align: middle;\n",
       "    }\n",
       "\n",
       "    .dataframe tbody tr th {\n",
       "        vertical-align: top;\n",
       "    }\n",
       "\n",
       "    .dataframe thead th {\n",
       "        text-align: right;\n",
       "    }\n",
       "</style>\n",
       "<table border=\"1\" class=\"dataframe\">\n",
       "  <thead>\n",
       "    <tr style=\"text-align: right;\">\n",
       "      <th></th>\n",
       "      <th>book</th>\n",
       "      <th>chapter</th>\n",
       "      <th>verse</th>\n",
       "      <th>part_of_speech</th>\n",
       "      <th>morphology</th>\n",
       "      <th>normalized_word</th>\n",
       "      <th>strongs</th>\n",
       "    </tr>\n",
       "  </thead>\n",
       "  <tbody>\n",
       "    <tr>\n",
       "      <th>34426</th>\n",
       "      <td>2</td>\n",
       "      <td>4</td>\n",
       "      <td>14</td>\n",
       "      <td>N-</td>\n",
       "      <td>--------</td>\n",
       "      <td>ααρων</td>\n",
       "      <td>2</td>\n",
       "    </tr>\n",
       "    <tr>\n",
       "      <th>34746</th>\n",
       "      <td>2</td>\n",
       "      <td>4</td>\n",
       "      <td>27</td>\n",
       "      <td>N-</td>\n",
       "      <td>--------</td>\n",
       "      <td>ααρων</td>\n",
       "      <td>2</td>\n",
       "    </tr>\n",
       "    <tr>\n",
       "      <th>34771</th>\n",
       "      <td>2</td>\n",
       "      <td>4</td>\n",
       "      <td>28</td>\n",
       "      <td>N-</td>\n",
       "      <td>--------</td>\n",
       "      <td>ααρων</td>\n",
       "      <td>2</td>\n",
       "    </tr>\n",
       "    <tr>\n",
       "      <th>34789</th>\n",
       "      <td>2</td>\n",
       "      <td>4</td>\n",
       "      <td>29</td>\n",
       "      <td>N-</td>\n",
       "      <td>--------</td>\n",
       "      <td>ααρων</td>\n",
       "      <td>2</td>\n",
       "    </tr>\n",
       "    <tr>\n",
       "      <th>34799</th>\n",
       "      <td>2</td>\n",
       "      <td>4</td>\n",
       "      <td>30</td>\n",
       "      <td>N-</td>\n",
       "      <td>--------</td>\n",
       "      <td>ααρων</td>\n",
       "      <td>2</td>\n",
       "    </tr>\n",
       "    <tr>\n",
       "      <th>...</th>\n",
       "      <td>...</td>\n",
       "      <td>...</td>\n",
       "      <td>...</td>\n",
       "      <td>...</td>\n",
       "      <td>...</td>\n",
       "      <td>...</td>\n",
       "      <td>...</td>\n",
       "    </tr>\n",
       "    <tr>\n",
       "      <th>282590</th>\n",
       "      <td>16</td>\n",
       "      <td>10</td>\n",
       "      <td>38</td>\n",
       "      <td>N-</td>\n",
       "      <td>--------</td>\n",
       "      <td>ααρων</td>\n",
       "      <td>2</td>\n",
       "    </tr>\n",
       "    <tr>\n",
       "      <th>283706</th>\n",
       "      <td>16</td>\n",
       "      <td>12</td>\n",
       "      <td>47</td>\n",
       "      <td>N-</td>\n",
       "      <td>--------</td>\n",
       "      <td>ααρων</td>\n",
       "      <td>2</td>\n",
       "    </tr>\n",
       "    <tr>\n",
       "      <th>319808</th>\n",
       "      <td>19</td>\n",
       "      <td>77</td>\n",
       "      <td>20</td>\n",
       "      <td>N-</td>\n",
       "      <td>--------</td>\n",
       "      <td>ααρων</td>\n",
       "      <td>2</td>\n",
       "    </tr>\n",
       "    <tr>\n",
       "      <th>325248</th>\n",
       "      <td>19</td>\n",
       "      <td>99</td>\n",
       "      <td>6</td>\n",
       "      <td>N-</td>\n",
       "      <td>--------</td>\n",
       "      <td>ααρων</td>\n",
       "      <td>2</td>\n",
       "    </tr>\n",
       "    <tr>\n",
       "      <th>464128</th>\n",
       "      <td>33</td>\n",
       "      <td>6</td>\n",
       "      <td>4</td>\n",
       "      <td>N-</td>\n",
       "      <td>--------</td>\n",
       "      <td>ααρων</td>\n",
       "      <td>2</td>\n",
       "    </tr>\n",
       "  </tbody>\n",
       "</table>\n",
       "<p>349 rows × 7 columns</p>\n",
       "</div>"
      ],
      "text/plain": [
       "        book chapter verse part_of_speech morphology normalized_word  strongs\n",
       "34426      2       4    14             N-   --------           ααρων        2\n",
       "34746      2       4    27             N-   --------           ααρων        2\n",
       "34771      2       4    28             N-   --------           ααρων        2\n",
       "34789      2       4    29             N-   --------           ααρων        2\n",
       "34799      2       4    30             N-   --------           ααρων        2\n",
       "...      ...     ...   ...            ...        ...             ...      ...\n",
       "282590    16      10    38             N-   --------           ααρων        2\n",
       "283706    16      12    47             N-   --------           ααρων        2\n",
       "319808    19      77    20             N-   --------           ααρων        2\n",
       "325248    19      99     6             N-   --------           ααρων        2\n",
       "464128    33       6     4             N-   --------           ααρων        2\n",
       "\n",
       "[349 rows x 7 columns]"
      ]
     },
     "metadata": {},
     "output_type": "display_data"
    }
   ],
   "source": [
    "# import cltk.alphabet\n",
    "# import cltk.alphabet.text_normalization\n",
    "# cltk.alphabet.text_normalization.cltk_normalize(strongs_grk_df['lemma'][1])\n",
    "#\n",
    "# é possível fazer o alinhamento entre os versos e capítulos da lxx e lxx_utf8_v4.csv\n",
    "# usando o koinenlp.normalize e acrescentando a coluna normalized_word\n",
    "\n",
    "import koinenlp\n",
    "palavra_grega = koinenlp.normalize(strongs_grk_df['lemma'][1])\n",
    "df_lxx.query(\"normalized_word == '{}'\".format(palavra_grega))"
   ]
  },
  {
   "cell_type": "code",
   "execution_count": null,
   "metadata": {},
   "outputs": [],
   "source": [
    "# segunda parte, indexação por strongs e versículos\n",
    "#   primeiro, dataframe lxx do csv\n",
    "\n",
    "# exemplo sqldf\n",
    "# df_query_rs = sqldf(sql_query_string)"
   ]
  },
  {
   "cell_type": "code",
   "execution_count": 17,
   "metadata": {},
   "outputs": [
    {
     "data": {
      "text/plain": [
       "'και νυν ιδου αποτρεχω εις τον τοπον μου δευρο συμβουλευσω σοι τι ποιησει ο λαος ουτος τον λαον σου επ εσχατου των ημερων'"
      ]
     },
     "execution_count": 17,
     "metadata": {},
     "output_type": "execute_result"
    }
   ],
   "source": [
    "\" \".join(lxx_cp_vs_ok.loc[(lxx_cp_vs_ok['book'] == 4) & (lxx_cp_vs_ok['chapter'] == 24) & (lxx_cp_vs_ok['verse'] == 14)].normalized_word.values[0:100])"
   ]
  },
  {
   "cell_type": "code",
   "execution_count": null,
   "metadata": {},
   "outputs": [],
   "source": [
    "sql_vazias_lxx = \"SELECT * FROM df_lxx WHERE strongs is null\""
   ]
  },
  {
   "cell_type": "code",
   "execution_count": null,
   "metadata": {},
   "outputs": [],
   "source": [
    "lxx_vazias = sqldf(sql_vazias_lxx)"
   ]
  },
  {
   "cell_type": "code",
   "execution_count": null,
   "metadata": {},
   "outputs": [
    {
     "data": {
      "text/plain": [
       "41725"
      ]
     },
     "metadata": {},
     "output_type": "display_data"
    }
   ],
   "source": [
    "len(lxx_vazias)"
   ]
  },
  {
   "cell_type": "code",
   "execution_count": null,
   "metadata": {},
   "outputs": [],
   "source": [
    "# import cltk.alphabet\n",
    "# import cltk.alphabet.text_normalization\n",
    "# teste_lxx_primeiros_dez = cltk.alphabet.text_normalization.cltk_normalize('greek', )"
   ]
  },
  {
   "cell_type": "code",
   "execution_count": null,
   "metadata": {},
   "outputs": [],
   "source": [
    "# 2.2 df produto sqldf join lxx, strongs e ara_pt"
   ]
  },
  {
   "cell_type": "code",
   "execution_count": 20,
   "metadata": {},
   "outputs": [],
   "source": [
    "sql_lxx_strong_occurs = \"\"\"\n",
    "            SELECT distinct\n",
    "                strongs_number\n",
    "                , lemma\n",
    "                , xlit\n",
    "                , pronounce\n",
    "                , description\n",
    "                , book\n",
    "                , df_lxx.chapter||':'||df_lxx.verse lxx_cp_vs\n",
    "                , pt_df.chapter||':'||pt_df.verse ara_cp_vs\n",
    "                , strongs\n",
    "                , text\n",
    "            FROM\n",
    "                strongs_grk_df\n",
    "                , lxx_cp_vs_ok as df_lxx\n",
    "                , pt_df\n",
    "            WHERE\n",
    "                strongs_grk_df.strongs_number = df_lxx.strongs\n",
    "            AND df_lxx.book = pt_df.nr_sq_livro\n",
    "            AND df_lxx.chapter = pt_df.chapter\n",
    "            AND df_lxx.verse = pt_df.verse\n",
    "            AND df_lxx.strongs = {}\n",
    "                \"\"\".format('32')"
   ]
  },
  {
   "cell_type": "code",
   "execution_count": 23,
   "metadata": {},
   "outputs": [
    {
     "ename": "PandaSQLException",
     "evalue": "(sqlite3.OperationalError) no such table: pt_df\n[SQL: \n            SELECT distinct\n                strongs_number\n                , lemma\n                , xlit\n                , pronounce\n                , description\n                , book\n                , df_lxx.chapter||':'||df_lxx.verse lxx_cp_vs\n                , pt_df.chapter||':'||pt_df.verse ara_cp_vs\n                , strongs\n                , text\n            FROM\n                strongs_grk_df\n                , lxx_cp_vs_ok as df_lxx\n                , pt_df\n            WHERE\n                strongs_grk_df.strongs_number = df_lxx.strongs\n            AND df_lxx.book = pt_df.nr_sq_livro\n            AND df_lxx.chapter = pt_df.chapter\n            AND df_lxx.verse = pt_df.verse\n            AND df_lxx.strongs = 32\n                ]\n(Background on this error at: https://sqlalche.me/e/20/e3q8)",
     "output_type": "error",
     "traceback": [
      "\u001b[0;31m---------------------------------------------------------------------------\u001b[0m",
      "\u001b[0;31mOperationalError\u001b[0m                          Traceback (most recent call last)",
      "File \u001b[0;32m~/.local/share/virtualenvs/almeida-semantica-EQJtyJGz/lib/python3.11/site-packages/sqlalchemy/engine/base.py:1967\u001b[0m, in \u001b[0;36mConnection._exec_single_context\u001b[0;34m(self, dialect, context, statement, parameters)\u001b[0m\n\u001b[1;32m   1966\u001b[0m     \u001b[38;5;28;01mif\u001b[39;00m \u001b[38;5;129;01mnot\u001b[39;00m evt_handled:\n\u001b[0;32m-> 1967\u001b[0m         \u001b[38;5;28;43mself\u001b[39;49m\u001b[38;5;241;43m.\u001b[39;49m\u001b[43mdialect\u001b[49m\u001b[38;5;241;43m.\u001b[39;49m\u001b[43mdo_execute\u001b[49m\u001b[43m(\u001b[49m\n\u001b[1;32m   1968\u001b[0m \u001b[43m            \u001b[49m\u001b[43mcursor\u001b[49m\u001b[43m,\u001b[49m\u001b[43m \u001b[49m\u001b[43mstr_statement\u001b[49m\u001b[43m,\u001b[49m\u001b[43m \u001b[49m\u001b[43meffective_parameters\u001b[49m\u001b[43m,\u001b[49m\u001b[43m \u001b[49m\u001b[43mcontext\u001b[49m\n\u001b[1;32m   1969\u001b[0m \u001b[43m        \u001b[49m\u001b[43m)\u001b[49m\n\u001b[1;32m   1971\u001b[0m \u001b[38;5;28;01mif\u001b[39;00m \u001b[38;5;28mself\u001b[39m\u001b[38;5;241m.\u001b[39m_has_events \u001b[38;5;129;01mor\u001b[39;00m \u001b[38;5;28mself\u001b[39m\u001b[38;5;241m.\u001b[39mengine\u001b[38;5;241m.\u001b[39m_has_events:\n",
      "File \u001b[0;32m~/.local/share/virtualenvs/almeida-semantica-EQJtyJGz/lib/python3.11/site-packages/sqlalchemy/engine/default.py:924\u001b[0m, in \u001b[0;36mDefaultDialect.do_execute\u001b[0;34m(self, cursor, statement, parameters, context)\u001b[0m\n\u001b[1;32m    923\u001b[0m \u001b[38;5;28;01mdef\u001b[39;00m \u001b[38;5;21mdo_execute\u001b[39m(\u001b[38;5;28mself\u001b[39m, cursor, statement, parameters, context\u001b[38;5;241m=\u001b[39m\u001b[38;5;28;01mNone\u001b[39;00m):\n\u001b[0;32m--> 924\u001b[0m     cursor\u001b[38;5;241m.\u001b[39mexecute(statement, parameters)\n",
      "\u001b[0;31mOperationalError\u001b[0m: no such table: pt_df",
      "\nThe above exception was the direct cause of the following exception:\n",
      "\u001b[0;31mOperationalError\u001b[0m                          Traceback (most recent call last)",
      "File \u001b[0;32m~/.local/share/virtualenvs/almeida-semantica-EQJtyJGz/lib/python3.11/site-packages/pandasql/sqldf.py:61\u001b[0m, in \u001b[0;36mPandaSQL.__call__\u001b[0;34m(self, query, env)\u001b[0m\n\u001b[1;32m     60\u001b[0m \u001b[38;5;28;01mtry\u001b[39;00m:\n\u001b[0;32m---> 61\u001b[0m     result \u001b[38;5;241m=\u001b[39m \u001b[43mread_sql\u001b[49m\u001b[43m(\u001b[49m\u001b[43mquery\u001b[49m\u001b[43m,\u001b[49m\u001b[43m \u001b[49m\u001b[43mconn\u001b[49m\u001b[43m)\u001b[49m\n\u001b[1;32m     62\u001b[0m \u001b[38;5;28;01mexcept\u001b[39;00m DatabaseError \u001b[38;5;28;01mas\u001b[39;00m ex:\n",
      "File \u001b[0;32m~/.local/share/virtualenvs/almeida-semantica-EQJtyJGz/lib/python3.11/site-packages/pandas/io/sql.py:734\u001b[0m, in \u001b[0;36mread_sql\u001b[0;34m(sql, con, index_col, coerce_float, params, parse_dates, columns, chunksize, dtype_backend, dtype)\u001b[0m\n\u001b[1;32m    733\u001b[0m \u001b[38;5;28;01melse\u001b[39;00m:\n\u001b[0;32m--> 734\u001b[0m     \u001b[38;5;28;01mreturn\u001b[39;00m \u001b[43mpandas_sql\u001b[49m\u001b[38;5;241;43m.\u001b[39;49m\u001b[43mread_query\u001b[49m\u001b[43m(\u001b[49m\n\u001b[1;32m    735\u001b[0m \u001b[43m        \u001b[49m\u001b[43msql\u001b[49m\u001b[43m,\u001b[49m\n\u001b[1;32m    736\u001b[0m \u001b[43m        \u001b[49m\u001b[43mindex_col\u001b[49m\u001b[38;5;241;43m=\u001b[39;49m\u001b[43mindex_col\u001b[49m\u001b[43m,\u001b[49m\n\u001b[1;32m    737\u001b[0m \u001b[43m        \u001b[49m\u001b[43mparams\u001b[49m\u001b[38;5;241;43m=\u001b[39;49m\u001b[43mparams\u001b[49m\u001b[43m,\u001b[49m\n\u001b[1;32m    738\u001b[0m \u001b[43m        \u001b[49m\u001b[43mcoerce_float\u001b[49m\u001b[38;5;241;43m=\u001b[39;49m\u001b[43mcoerce_float\u001b[49m\u001b[43m,\u001b[49m\n\u001b[1;32m    739\u001b[0m \u001b[43m        \u001b[49m\u001b[43mparse_dates\u001b[49m\u001b[38;5;241;43m=\u001b[39;49m\u001b[43mparse_dates\u001b[49m\u001b[43m,\u001b[49m\n\u001b[1;32m    740\u001b[0m \u001b[43m        \u001b[49m\u001b[43mchunksize\u001b[49m\u001b[38;5;241;43m=\u001b[39;49m\u001b[43mchunksize\u001b[49m\u001b[43m,\u001b[49m\n\u001b[1;32m    741\u001b[0m \u001b[43m        \u001b[49m\u001b[43mdtype_backend\u001b[49m\u001b[38;5;241;43m=\u001b[39;49m\u001b[43mdtype_backend\u001b[49m\u001b[43m,\u001b[49m\n\u001b[1;32m    742\u001b[0m \u001b[43m        \u001b[49m\u001b[43mdtype\u001b[49m\u001b[38;5;241;43m=\u001b[39;49m\u001b[43mdtype\u001b[49m\u001b[43m,\u001b[49m\n\u001b[1;32m    743\u001b[0m \u001b[43m    \u001b[49m\u001b[43m)\u001b[49m\n",
      "File \u001b[0;32m~/.local/share/virtualenvs/almeida-semantica-EQJtyJGz/lib/python3.11/site-packages/pandas/io/sql.py:1836\u001b[0m, in \u001b[0;36mSQLDatabase.read_query\u001b[0;34m(self, sql, index_col, coerce_float, parse_dates, params, chunksize, dtype, dtype_backend)\u001b[0m\n\u001b[1;32m   1790\u001b[0m \u001b[38;5;250m\u001b[39m\u001b[38;5;124;03m\"\"\"\u001b[39;00m\n\u001b[1;32m   1791\u001b[0m \u001b[38;5;124;03mRead SQL query into a DataFrame.\u001b[39;00m\n\u001b[1;32m   1792\u001b[0m \n\u001b[0;32m   (...)\u001b[0m\n\u001b[1;32m   1834\u001b[0m \n\u001b[1;32m   1835\u001b[0m \u001b[38;5;124;03m\"\"\"\u001b[39;00m\n\u001b[0;32m-> 1836\u001b[0m result \u001b[38;5;241m=\u001b[39m \u001b[38;5;28;43mself\u001b[39;49m\u001b[38;5;241;43m.\u001b[39;49m\u001b[43mexecute\u001b[49m\u001b[43m(\u001b[49m\u001b[43msql\u001b[49m\u001b[43m,\u001b[49m\u001b[43m \u001b[49m\u001b[43mparams\u001b[49m\u001b[43m)\u001b[49m\n\u001b[1;32m   1837\u001b[0m columns \u001b[38;5;241m=\u001b[39m result\u001b[38;5;241m.\u001b[39mkeys()\n",
      "File \u001b[0;32m~/.local/share/virtualenvs/almeida-semantica-EQJtyJGz/lib/python3.11/site-packages/pandas/io/sql.py:1659\u001b[0m, in \u001b[0;36mSQLDatabase.execute\u001b[0;34m(self, sql, params)\u001b[0m\n\u001b[1;32m   1658\u001b[0m \u001b[38;5;28;01mif\u001b[39;00m \u001b[38;5;28misinstance\u001b[39m(sql, \u001b[38;5;28mstr\u001b[39m):\n\u001b[0;32m-> 1659\u001b[0m     \u001b[38;5;28;01mreturn\u001b[39;00m \u001b[38;5;28;43mself\u001b[39;49m\u001b[38;5;241;43m.\u001b[39;49m\u001b[43mcon\u001b[49m\u001b[38;5;241;43m.\u001b[39;49m\u001b[43mexec_driver_sql\u001b[49m\u001b[43m(\u001b[49m\u001b[43msql\u001b[49m\u001b[43m,\u001b[49m\u001b[43m \u001b[49m\u001b[38;5;241;43m*\u001b[39;49m\u001b[43margs\u001b[49m\u001b[43m)\u001b[49m\n\u001b[1;32m   1660\u001b[0m \u001b[38;5;28;01mreturn\u001b[39;00m \u001b[38;5;28mself\u001b[39m\u001b[38;5;241m.\u001b[39mcon\u001b[38;5;241m.\u001b[39mexecute(sql, \u001b[38;5;241m*\u001b[39margs)\n",
      "File \u001b[0;32m~/.local/share/virtualenvs/almeida-semantica-EQJtyJGz/lib/python3.11/site-packages/sqlalchemy/engine/base.py:1779\u001b[0m, in \u001b[0;36mConnection.exec_driver_sql\u001b[0;34m(self, statement, parameters, execution_options)\u001b[0m\n\u001b[1;32m   1778\u001b[0m dialect \u001b[38;5;241m=\u001b[39m \u001b[38;5;28mself\u001b[39m\u001b[38;5;241m.\u001b[39mdialect\n\u001b[0;32m-> 1779\u001b[0m ret \u001b[38;5;241m=\u001b[39m \u001b[38;5;28;43mself\u001b[39;49m\u001b[38;5;241;43m.\u001b[39;49m\u001b[43m_execute_context\u001b[49m\u001b[43m(\u001b[49m\n\u001b[1;32m   1780\u001b[0m \u001b[43m    \u001b[49m\u001b[43mdialect\u001b[49m\u001b[43m,\u001b[49m\n\u001b[1;32m   1781\u001b[0m \u001b[43m    \u001b[49m\u001b[43mdialect\u001b[49m\u001b[38;5;241;43m.\u001b[39;49m\u001b[43mexecution_ctx_cls\u001b[49m\u001b[38;5;241;43m.\u001b[39;49m\u001b[43m_init_statement\u001b[49m\u001b[43m,\u001b[49m\n\u001b[1;32m   1782\u001b[0m \u001b[43m    \u001b[49m\u001b[43mstatement\u001b[49m\u001b[43m,\u001b[49m\n\u001b[1;32m   1783\u001b[0m \u001b[43m    \u001b[49m\u001b[38;5;28;43;01mNone\u001b[39;49;00m\u001b[43m,\u001b[49m\n\u001b[1;32m   1784\u001b[0m \u001b[43m    \u001b[49m\u001b[43mexecution_options\u001b[49m\u001b[43m,\u001b[49m\n\u001b[1;32m   1785\u001b[0m \u001b[43m    \u001b[49m\u001b[43mstatement\u001b[49m\u001b[43m,\u001b[49m\n\u001b[1;32m   1786\u001b[0m \u001b[43m    \u001b[49m\u001b[43mdistilled_parameters\u001b[49m\u001b[43m,\u001b[49m\n\u001b[1;32m   1787\u001b[0m \u001b[43m\u001b[49m\u001b[43m)\u001b[49m\n\u001b[1;32m   1789\u001b[0m \u001b[38;5;28;01mreturn\u001b[39;00m ret\n",
      "File \u001b[0;32m~/.local/share/virtualenvs/almeida-semantica-EQJtyJGz/lib/python3.11/site-packages/sqlalchemy/engine/base.py:1846\u001b[0m, in \u001b[0;36mConnection._execute_context\u001b[0;34m(self, dialect, constructor, statement, parameters, execution_options, *args, **kw)\u001b[0m\n\u001b[1;32m   1845\u001b[0m \u001b[38;5;28;01melse\u001b[39;00m:\n\u001b[0;32m-> 1846\u001b[0m     \u001b[38;5;28;01mreturn\u001b[39;00m \u001b[38;5;28;43mself\u001b[39;49m\u001b[38;5;241;43m.\u001b[39;49m\u001b[43m_exec_single_context\u001b[49m\u001b[43m(\u001b[49m\n\u001b[1;32m   1847\u001b[0m \u001b[43m        \u001b[49m\u001b[43mdialect\u001b[49m\u001b[43m,\u001b[49m\u001b[43m \u001b[49m\u001b[43mcontext\u001b[49m\u001b[43m,\u001b[49m\u001b[43m \u001b[49m\u001b[43mstatement\u001b[49m\u001b[43m,\u001b[49m\u001b[43m \u001b[49m\u001b[43mparameters\u001b[49m\n\u001b[1;32m   1848\u001b[0m \u001b[43m    \u001b[49m\u001b[43m)\u001b[49m\n",
      "File \u001b[0;32m~/.local/share/virtualenvs/almeida-semantica-EQJtyJGz/lib/python3.11/site-packages/sqlalchemy/engine/base.py:1986\u001b[0m, in \u001b[0;36mConnection._exec_single_context\u001b[0;34m(self, dialect, context, statement, parameters)\u001b[0m\n\u001b[1;32m   1985\u001b[0m \u001b[38;5;28;01mexcept\u001b[39;00m \u001b[38;5;167;01mBaseException\u001b[39;00m \u001b[38;5;28;01mas\u001b[39;00m e:\n\u001b[0;32m-> 1986\u001b[0m     \u001b[38;5;28;43mself\u001b[39;49m\u001b[38;5;241;43m.\u001b[39;49m\u001b[43m_handle_dbapi_exception\u001b[49m\u001b[43m(\u001b[49m\n\u001b[1;32m   1987\u001b[0m \u001b[43m        \u001b[49m\u001b[43me\u001b[49m\u001b[43m,\u001b[49m\u001b[43m \u001b[49m\u001b[43mstr_statement\u001b[49m\u001b[43m,\u001b[49m\u001b[43m \u001b[49m\u001b[43meffective_parameters\u001b[49m\u001b[43m,\u001b[49m\u001b[43m \u001b[49m\u001b[43mcursor\u001b[49m\u001b[43m,\u001b[49m\u001b[43m \u001b[49m\u001b[43mcontext\u001b[49m\n\u001b[1;32m   1988\u001b[0m \u001b[43m    \u001b[49m\u001b[43m)\u001b[49m\n\u001b[1;32m   1990\u001b[0m \u001b[38;5;28;01mreturn\u001b[39;00m result\n",
      "File \u001b[0;32m~/.local/share/virtualenvs/almeida-semantica-EQJtyJGz/lib/python3.11/site-packages/sqlalchemy/engine/base.py:2353\u001b[0m, in \u001b[0;36mConnection._handle_dbapi_exception\u001b[0;34m(self, e, statement, parameters, cursor, context, is_sub_exec)\u001b[0m\n\u001b[1;32m   2352\u001b[0m     \u001b[38;5;28;01massert\u001b[39;00m sqlalchemy_exception \u001b[38;5;129;01mis\u001b[39;00m \u001b[38;5;129;01mnot\u001b[39;00m \u001b[38;5;28;01mNone\u001b[39;00m\n\u001b[0;32m-> 2353\u001b[0m     \u001b[38;5;28;01mraise\u001b[39;00m sqlalchemy_exception\u001b[38;5;241m.\u001b[39mwith_traceback(exc_info[\u001b[38;5;241m2\u001b[39m]) \u001b[38;5;28;01mfrom\u001b[39;00m \u001b[38;5;21;01me\u001b[39;00m\n\u001b[1;32m   2354\u001b[0m \u001b[38;5;28;01melse\u001b[39;00m:\n",
      "File \u001b[0;32m~/.local/share/virtualenvs/almeida-semantica-EQJtyJGz/lib/python3.11/site-packages/sqlalchemy/engine/base.py:1967\u001b[0m, in \u001b[0;36mConnection._exec_single_context\u001b[0;34m(self, dialect, context, statement, parameters)\u001b[0m\n\u001b[1;32m   1966\u001b[0m     \u001b[38;5;28;01mif\u001b[39;00m \u001b[38;5;129;01mnot\u001b[39;00m evt_handled:\n\u001b[0;32m-> 1967\u001b[0m         \u001b[38;5;28;43mself\u001b[39;49m\u001b[38;5;241;43m.\u001b[39;49m\u001b[43mdialect\u001b[49m\u001b[38;5;241;43m.\u001b[39;49m\u001b[43mdo_execute\u001b[49m\u001b[43m(\u001b[49m\n\u001b[1;32m   1968\u001b[0m \u001b[43m            \u001b[49m\u001b[43mcursor\u001b[49m\u001b[43m,\u001b[49m\u001b[43m \u001b[49m\u001b[43mstr_statement\u001b[49m\u001b[43m,\u001b[49m\u001b[43m \u001b[49m\u001b[43meffective_parameters\u001b[49m\u001b[43m,\u001b[49m\u001b[43m \u001b[49m\u001b[43mcontext\u001b[49m\n\u001b[1;32m   1969\u001b[0m \u001b[43m        \u001b[49m\u001b[43m)\u001b[49m\n\u001b[1;32m   1971\u001b[0m \u001b[38;5;28;01mif\u001b[39;00m \u001b[38;5;28mself\u001b[39m\u001b[38;5;241m.\u001b[39m_has_events \u001b[38;5;129;01mor\u001b[39;00m \u001b[38;5;28mself\u001b[39m\u001b[38;5;241m.\u001b[39mengine\u001b[38;5;241m.\u001b[39m_has_events:\n",
      "File \u001b[0;32m~/.local/share/virtualenvs/almeida-semantica-EQJtyJGz/lib/python3.11/site-packages/sqlalchemy/engine/default.py:924\u001b[0m, in \u001b[0;36mDefaultDialect.do_execute\u001b[0;34m(self, cursor, statement, parameters, context)\u001b[0m\n\u001b[1;32m    923\u001b[0m \u001b[38;5;28;01mdef\u001b[39;00m \u001b[38;5;21mdo_execute\u001b[39m(\u001b[38;5;28mself\u001b[39m, cursor, statement, parameters, context\u001b[38;5;241m=\u001b[39m\u001b[38;5;28;01mNone\u001b[39;00m):\n\u001b[0;32m--> 924\u001b[0m     cursor\u001b[38;5;241m.\u001b[39mexecute(statement, parameters)\n",
      "\u001b[0;31mOperationalError\u001b[0m: (sqlite3.OperationalError) no such table: pt_df\n[SQL: \n            SELECT distinct\n                strongs_number\n                , lemma\n                , xlit\n                , pronounce\n                , description\n                , book\n                , df_lxx.chapter||':'||df_lxx.verse lxx_cp_vs\n                , pt_df.chapter||':'||pt_df.verse ara_cp_vs\n                , strongs\n                , text\n            FROM\n                strongs_grk_df\n                , lxx_cp_vs_ok as df_lxx\n                , pt_df\n            WHERE\n                strongs_grk_df.strongs_number = df_lxx.strongs\n            AND df_lxx.book = pt_df.nr_sq_livro\n            AND df_lxx.chapter = pt_df.chapter\n            AND df_lxx.verse = pt_df.verse\n            AND df_lxx.strongs = 32\n                ]\n(Background on this error at: https://sqlalche.me/e/20/e3q8)",
      "\nDuring handling of the above exception, another exception occurred:\n",
      "\u001b[0;31mPandaSQLException\u001b[0m                         Traceback (most recent call last)",
      "Cell \u001b[0;32mIn[23], line 1\u001b[0m\n\u001b[0;32m----> 1\u001b[0m grk_lxx_occs \u001b[38;5;241m=\u001b[39m \u001b[43msqldf\u001b[49m\u001b[43m(\u001b[49m\u001b[43msql_lxx_strong_occurs\u001b[49m\u001b[43m)\u001b[49m\n",
      "File \u001b[0;32m~/.local/share/virtualenvs/almeida-semantica-EQJtyJGz/lib/python3.11/site-packages/pandasql/sqldf.py:156\u001b[0m, in \u001b[0;36msqldf\u001b[0;34m(query, env, db_uri)\u001b[0m\n\u001b[1;32m    124\u001b[0m \u001b[38;5;28;01mdef\u001b[39;00m \u001b[38;5;21msqldf\u001b[39m(query, env\u001b[38;5;241m=\u001b[39m\u001b[38;5;28;01mNone\u001b[39;00m, db_uri\u001b[38;5;241m=\u001b[39m\u001b[38;5;124m'\u001b[39m\u001b[38;5;124msqlite:///:memory:\u001b[39m\u001b[38;5;124m'\u001b[39m):\n\u001b[1;32m    125\u001b[0m \u001b[38;5;250m    \u001b[39m\u001b[38;5;124;03m\"\"\"\u001b[39;00m\n\u001b[1;32m    126\u001b[0m \u001b[38;5;124;03m    Query pandas data frames using sql syntax\u001b[39;00m\n\u001b[1;32m    127\u001b[0m \u001b[38;5;124;03m    This function is meant for backward compatibility only. New users are encouraged to use the PandaSQL class.\u001b[39;00m\n\u001b[0;32m   (...)\u001b[0m\n\u001b[1;32m    154\u001b[0m \u001b[38;5;124;03m    >>> sqldf(\"select avg(x) from df;\", locals())\u001b[39;00m\n\u001b[1;32m    155\u001b[0m \u001b[38;5;124;03m    \"\"\"\u001b[39;00m\n\u001b[0;32m--> 156\u001b[0m     \u001b[38;5;28;01mreturn\u001b[39;00m \u001b[43mPandaSQL\u001b[49m\u001b[43m(\u001b[49m\u001b[43mdb_uri\u001b[49m\u001b[43m)\u001b[49m\u001b[43m(\u001b[49m\u001b[43mquery\u001b[49m\u001b[43m,\u001b[49m\u001b[43m \u001b[49m\u001b[43menv\u001b[49m\u001b[43m)\u001b[49m\n",
      "File \u001b[0;32m~/.local/share/virtualenvs/almeida-semantica-EQJtyJGz/lib/python3.11/site-packages/pandasql/sqldf.py:63\u001b[0m, in \u001b[0;36mPandaSQL.__call__\u001b[0;34m(self, query, env)\u001b[0m\n\u001b[1;32m     61\u001b[0m     result \u001b[38;5;241m=\u001b[39m read_sql(query, conn)\n\u001b[1;32m     62\u001b[0m \u001b[38;5;28;01mexcept\u001b[39;00m DatabaseError \u001b[38;5;28;01mas\u001b[39;00m ex:\n\u001b[0;32m---> 63\u001b[0m     \u001b[38;5;28;01mraise\u001b[39;00m PandaSQLException(ex)\n\u001b[1;32m     64\u001b[0m \u001b[38;5;28;01mexcept\u001b[39;00m ResourceClosedError:\n\u001b[1;32m     65\u001b[0m     \u001b[38;5;66;03m# query returns nothing\u001b[39;00m\n\u001b[1;32m     66\u001b[0m     result \u001b[38;5;241m=\u001b[39m \u001b[38;5;28;01mNone\u001b[39;00m\n",
      "\u001b[0;31mPandaSQLException\u001b[0m: (sqlite3.OperationalError) no such table: pt_df\n[SQL: \n            SELECT distinct\n                strongs_number\n                , lemma\n                , xlit\n                , pronounce\n                , description\n                , book\n                , df_lxx.chapter||':'||df_lxx.verse lxx_cp_vs\n                , pt_df.chapter||':'||pt_df.verse ara_cp_vs\n                , strongs\n                , text\n            FROM\n                strongs_grk_df\n                , lxx_cp_vs_ok as df_lxx\n                , pt_df\n            WHERE\n                strongs_grk_df.strongs_number = df_lxx.strongs\n            AND df_lxx.book = pt_df.nr_sq_livro\n            AND df_lxx.chapter = pt_df.chapter\n            AND df_lxx.verse = pt_df.verse\n            AND df_lxx.strongs = 32\n                ]\n(Background on this error at: https://sqlalche.me/e/20/e3q8)"
     ]
    }
   ],
   "source": [
    "grk_lxx_occs = sqldf(sql_lxx_strong_occurs)"
   ]
  },
  {
   "cell_type": "code",
   "execution_count": null,
   "metadata": {},
   "outputs": [
    {
     "data": {
      "text/plain": [
       "94"
      ]
     },
     "metadata": {},
     "output_type": "display_data"
    }
   ],
   "source": [
    "len(grk_lxx_occs)"
   ]
  },
  {
   "cell_type": "code",
   "execution_count": null,
   "metadata": {},
   "outputs": [
    {
     "data": {
      "text/plain": [
       "0"
      ]
     },
     "metadata": {},
     "output_type": "display_data"
    }
   ],
   "source": [
    "# grk_lxx_occs = sqldf(sql_lxx_strong_occurs)\n",
    "grk_lxx_occs.to_csv('/Users/davison/Desktop/vs_rng.csv', index=False)\n",
    "os.system('open ' + '/Users/davison/Desktop/vs_rng.csv')"
   ]
  },
  {
   "cell_type": "code",
   "execution_count": null,
   "metadata": {},
   "outputs": [
    {
     "name": "stdout",
     "output_type": "stream",
     "text": [
      "   strongs_number        lemma         xlit            pronounce                                                                                                                 description  book lxx_cp_vs ara_cp_vs  strongs                                                                                                                                                                                                                                                                                                                                                               text\n",
      "0             536       ἀπαρχή      aparchḗ          ap-ar-khay'  from a compound of ἀπό and ἄρχομαι; a beginning of sacrifice, i.e. the (Jewish) first-fruit (figuratively):--first-fruits.     2     22:29     22:29      536                                                                                                                                                                                                                                                 Não tardarás em trazer ofertas do melhor das tuas ceifas e das tuas vinhas; o primogênito de teus filhos me darás.\n",
      "1             536       ἀπαρχή      aparchḗ          ap-ar-khay'  from a compound of ἀπό and ἄρχομαι; a beginning of sacrifice, i.e. the (Jewish) first-fruit (figuratively):--first-fruits.     2     23:19     23:19      536                                                                                                                                                                                                                                         As primícias dos frutos da tua terra trarás à Casa do SENHOR, teu Deus. Não cozerás o cabrito no leite da sua própria mãe.\n",
      "2             536       ἀπαρχή      aparchḗ          ap-ar-khay'  from a compound of ἀπό and ἄρχομαι; a beginning of sacrifice, i.e. the (Jewish) first-fruit (figuratively):--first-fruits.     2      25:2      25:2      536                                                                                                                                                                                                                                      Fala aos filhos de Israel que me tragam oferta; de todo homem cujo coração o mover para isso, dele recebereis a minha oferta.\n",
      "3             536       ἀπαρχή      aparchḗ          ap-ar-khay'  from a compound of ἀπό and ἄρχομαι; a beginning of sacrifice, i.e. the (Jewish) first-fruit (figuratively):--first-fruits.     2      25:3      25:3      536                                                                                                                                                                                                                                                                                                      Esta é a oferta que dele recebereis: ouro, e prata, e bronze,\n",
      "4             536       ἀπαρχή      aparchḗ          ap-ar-khay'  from a compound of ἀπό and ἄρχομαι; a beginning of sacrifice, i.e. the (Jewish) first-fruit (figuratively):--first-fruits.     2      35:5      35:5      536                                                                                                                                                                                                                   Tomai, do que tendes, uma oferta para o SENHOR; cada um, de coração disposto, voluntariamente a trará por oferta ao SENHOR: ouro, prata, bronze,\n",
      "5             536       ἀπαρχή      aparchḗ          ap-ar-khay'  from a compound of ἀπό and ἄρχομαι; a beginning of sacrifice, i.e. the (Jewish) first-fruit (figuratively):--first-fruits.     2      36:6      36:6      536                                                                                                                                                                          Então, ordenou Moisés — e a ordem foi proclamada no arraial, dizendo: Nenhum homem ou mulher faça mais obra alguma para a oferta do santuário. Assim, o povo foi proibido de trazer mais.\n",
      "6             536       ἀπαρχή      aparchḗ          ap-ar-khay'  from a compound of ἀπό and ἄρχομαι; a beginning of sacrifice, i.e. the (Jewish) first-fruit (figuratively):--first-fruits.     2     38:24     38:24      536                                                                                                                                                                                     Todo o ouro empregado na obra, em toda a obra do santuário, a saber, o ouro da oferta, foram vinte e nove talentos e setecentos e trinta siclos, segundo o siclo do santuário.\n",
      "7             536       ἀπαρχή      aparchḗ          ap-ar-khay'  from a compound of ἀπό and ἄρχομαι; a beginning of sacrifice, i.e. the (Jewish) first-fruit (figuratively):--first-fruits.     3      2:12      2:12      536                                                                                                                                                                                                                                                       Deles, trareis ao SENHOR por oferta das primícias; todavia, não se porão sobre o altar como aroma agradável.\n",
      "8             536       ἀπαρχή      aparchḗ          ap-ar-khay'  from a compound of ἀπό and ἄρχομαι; a beginning of sacrifice, i.e. the (Jewish) first-fruit (figuratively):--first-fruits.     3     22:12     22:12      536                                                                                                                                                                                                                                                                Quando a filha do sacerdote se casar com estrangeiro, ela não comerá da oferta das coisas sagradas.\n",
      "9             536       ἀπαρχή      aparchḗ          ap-ar-khay'  from a compound of ἀπό and ἄρχομαι; a beginning of sacrifice, i.e. the (Jewish) first-fruit (figuratively):--first-fruits.     3     23:10     23:10      536                                                                                                                                                                                          Fala aos filhos de Israel e dize-lhes: Quando entrardes na terra, que vos dou, e segardes a sua messe, então, trareis um molho das primícias da vossa messe ao sacerdote;\n",
      "10            536       ἀπαρχή      aparchḗ          ap-ar-khay'  from a compound of ἀπό and ἄρχομαι; a beginning of sacrifice, i.e. the (Jewish) first-fruit (figuratively):--first-fruits.     4     15:20     15:20      536                                                                                                                                                                                                                                               Das primícias da vossa farinha grossa apresentareis um bolo como oferta; como oferta da eira, assim o apresentareis.\n",
      "11            536       ἀπαρχή      aparchḗ          ap-ar-khay'  from a compound of ἀπό and ἄρχομαι; a beginning of sacrifice, i.e. the (Jewish) first-fruit (figuratively):--first-fruits.     4     15:21     15:21      536                                                                                                                                                                                                                                                                          Das primícias da vossa farinha grossa apresentareis ao SENHOR oferta nas vossas gerações.\n",
      "12            536       ἀπαρχή      aparchḗ          ap-ar-khay'  from a compound of ἀπό and ἄρχομαι; a beginning of sacrifice, i.e. the (Jewish) first-fruit (figuratively):--first-fruits.     4     18:11     18:11      536                                                                                                                                       Também isto será teu: a oferta das suas dádivas com todas as ofertas movidas dos filhos de Israel; a ti, a teus filhos e a tuas filhas contigo, dei-as por direito perpétuo; todo o que estiver limpo na tua casa as comerá.\n",
      "13            536       ἀπαρχή      aparchḗ          ap-ar-khay'  from a compound of ἀπό and ἄρχομαι; a beginning of sacrifice, i.e. the (Jewish) first-fruit (figuratively):--first-fruits.     4     18:12     18:12      536                                                                                                                                                                                                                                                               Todo o melhor do azeite, do mosto e dos cereais, as suas primícias que derem ao SENHOR, dei-as a ti.\n",
      "14            536       ἀπαρχή      aparchḗ          ap-ar-khay'  from a compound of ἀπό and ἄρχομαι; a beginning of sacrifice, i.e. the (Jewish) first-fruit (figuratively):--first-fruits.     4     18:29     18:29      536                                                                                                                                                                                                                                                        De todas as vossas dádivas apresentareis toda oferta do SENHOR: do melhor delas, a parte que lhe é sagrada.\n",
      "15            536       ἀπαρχή      aparchḗ          ap-ar-khay'  from a compound of ἀπό and ἄρχομαι; a beginning of sacrifice, i.e. the (Jewish) first-fruit (figuratively):--first-fruits.     4     18:30     18:30      536                                                                                                                                                                                                 Portanto, lhes dirás: Quando oferecerdes o melhor que há nos dízimos, o restante destes, como se fosse produto da eira e produto do lagar, se contará aos levitas.\n",
      "16            536       ἀπαρχή      aparchḗ          ap-ar-khay'  from a compound of ἀπό and ἄρχομαι; a beginning of sacrifice, i.e. the (Jewish) first-fruit (figuratively):--first-fruits.     4     18:32     18:32      536                                                                                                                                                                                                      Pelo que não levareis sobre vós o pecado, quando deles oferecerdes o melhor; e não profanareis as coisas sagradas dos filhos de Israel, para que não morrais.\n",
      "17            536       ἀπαρχή      aparchḗ          ap-ar-khay'  from a compound of ἀπό and ἄρχομαι; a beginning of sacrifice, i.e. the (Jewish) first-fruit (figuratively):--first-fruits.     4      18:8      18:8      536                                                                                                                                                           Disse mais o SENHOR a Arão: Eis que eu te dei o que foi separado das minhas ofertas, com todas as coisas consagradas dos filhos de Israel; dei-as por direito perpétuo como porção a ti e a teus filhos.\n",
      "18            536       ἀπαρχή      aparchḗ          ap-ar-khay'  from a compound of ἀπό and ἄρχομαι; a beginning of sacrifice, i.e. the (Jewish) first-fruit (figuratively):--first-fruits.     4     31:29     31:29      536                                                                                                                                                                                                                                                                       Da metade que lhes toca o tomareis e o dareis ao sacerdote Eleazar, para a oferta do SENHOR.\n",
      "19            536       ἀπαρχή      aparchḗ          ap-ar-khay'  from a compound of ἀπό and ἄρχομαι; a beginning of sacrifice, i.e. the (Jewish) first-fruit (figuratively):--first-fruits.     4       5:9       5:9      536                                                                                                                                                                                                                                                                 Toda oferta de todas as coisas santas dos filhos de Israel, que trouxerem ao sacerdote, será deste\n",
      "20            536       ἀπαρχή      aparchḗ          ap-ar-khay'  from a compound of ἀπό and ἄρχομαι; a beginning of sacrifice, i.e. the (Jewish) first-fruit (figuratively):--first-fruits.     5     12:11     12:11      536                                                                 Então, haverá um lugar que escolherá o SENHOR, vosso Deus, para ali fazer habitar o seu nome; a esse lugar fareis chegar tudo o que vos ordeno: os vossos holocaustos, e os vossos sacrifícios, e os vossos dízimos, e a oferta das vossas mãos, e toda escolha dos vossos votos feitos ao SENHOR,\n",
      "21            536       ἀπαρχή      aparchḗ          ap-ar-khay'  from a compound of ἀπό and ἄρχομαι; a beginning of sacrifice, i.e. the (Jewish) first-fruit (figuratively):--first-fruits.     5     12:17     12:17      536                                                                            Nas tuas cidades, não poderás comer o dízimo do teu cereal, nem do teu vinho, nem do teu azeite, nem os primogênitos das tuas vacas, nem das tuas ovelhas, nem nenhuma das tuas ofertas votivas, que houveres prometido, nem as tuas ofertas voluntárias, nem as ofertas das tuas mãos;\n",
      "22            536       ἀπαρχή      aparchḗ          ap-ar-khay'  from a compound of ἀπό and ἄρχομαι; a beginning of sacrifice, i.e. the (Jewish) first-fruit (figuratively):--first-fruits.     5      12:6      12:6      536                                                                                                                               A esse lugar fareis chegar os vossos holocaustos, e os vossos sacrifícios, e os vossos dízimos, e a oferta das vossas mãos, e as ofertas votivas, e as ofertas voluntárias, e os primogênitos das vossas vacas e das vossas ovelhas.\n",
      "23            536       ἀπαρχή      aparchḗ          ap-ar-khay'  from a compound of ἀπό and ἄρχομαι; a beginning of sacrifice, i.e. the (Jewish) first-fruit (figuratively):--first-fruits.     5      18:4      18:4      536                                                                                                                                                                                                                                                    Dar-lhe-ás as primícias do teu cereal, do teu vinho e do teu azeite e as primícias da tosquia das tuas ovelhas.\n",
      "24            536       ἀπαρχή      aparchḗ          ap-ar-khay'  from a compound of ἀπό and ἄρχομαι; a beginning of sacrifice, i.e. the (Jewish) first-fruit (figuratively):--first-fruits.     5     26:10     26:10      536                                                                                                                                                                                                        Eis que, agora, trago as primícias dos frutos da terra que tu, ó SENHOR, me deste. Então, as porás perante o SENHOR, teu Deus, e te prostrarás perante ele.\n",
      "25            536       ἀπαρχή      aparchḗ          ap-ar-khay'  from a compound of ἀπό and ἄρχομαι; a beginning of sacrifice, i.e. the (Jewish) first-fruit (figuratively):--first-fruits.     5      26:2      26:2      536                                                                                                                                                   tomarás das primícias de todos os frutos do solo que recolheres da terra que te dá o SENHOR, teu Deus, e as porás num cesto, e irás ao lugar que o SENHOR, teu Deus, escolher para ali fazer habitar o seu nome.\n",
      "26            536       ἀπαρχή      aparchḗ          ap-ar-khay'  from a compound of ἀπό and ἄρχομαι; a beginning of sacrifice, i.e. the (Jewish) first-fruit (figuratively):--first-fruits.     5     33:21     33:21      536                                                                                                                                                                                         E se proveu da melhor parte, porquanto ali estava escondida a porção do chefe; ele marchou adiante do povo, executou a justiça do SENHOR e os seus juízos para com Israel.\n",
      "27            536       ἀπαρχή      aparchḗ          ap-ar-khay'  from a compound of ἀπό and ἄρχομαι; a beginning of sacrifice, i.e. the (Jewish) first-fruit (figuratively):--first-fruits.     9      10:4      10:4      536                                                                                                                                                                                                                                                                                                   Eles te saudarão e te darão dois pães, que receberás da sua mão.\n",
      "28            536       ἀπαρχή      aparchḗ          ap-ar-khay'  from a compound of ἀπό and ἄρχομαι; a beginning of sacrifice, i.e. the (Jewish) first-fruit (figuratively):--first-fruits.     9      2:29      2:29      536                                                                                              Por que pisais aos pés os meus sacrifícios e as minhas ofertas de manjares, que ordenei se me fizessem na minha morada? E, tu, por que honras a teus filhos mais do que a mim, para tu e eles vos engordardes das melhores de todas as ofertas do meu povo de Israel?\n",
      "29            536       ἀπαρχή      aparchḗ          ap-ar-khay'  from a compound of ἀπό and ἄρχομαι; a beginning of sacrifice, i.e. the (Jewish) first-fruit (figuratively):--first-fruits.    10      1:21      1:21      536                                                                                                                                                           Montes de Gilboa, não caia sobre vós nem orvalho, nem chuva, nem haja aí campos que produzam ofertas, pois neles foi profanado o escudo dos valentes, o escudo de Saul, que jamais será ungido com óleo.\n",
      "30            536       ἀπαρχή      aparchḗ          ap-ar-khay'  from a compound of ἀπό and ἄρχομαι; a beginning of sacrifice, i.e. the (Jewish) first-fruit (figuratively):--first-fruits.    14     31:10     31:10      536                                                                            Então, o sumo sacerdote Azarias, da casa de Zadoque, lhe respondeu: Desde que se começou a trazer à Casa do SENHOR estas ofertas, temos comido e nos temos fartado delas, e ainda há sobra em abundância; porque o SENHOR abençoou ao seu povo, e esta grande quantidade é o que sobra.\n",
      "31            536       ἀπαρχή      aparchḗ          ap-ar-khay'  from a compound of ἀπό and ἄρχομαι; a beginning of sacrifice, i.e. the (Jewish) first-fruit (figuratively):--first-fruits.    14     31:12     31:12      536                                                                                                                                                                                         Uma vez preparados, recolheram neles fielmente as ofertas, os dízimos e as coisas consagradas; disto era intendente Conanias, o levita, e Simei, seu irmão, era o segundo.\n",
      "32            536       ἀπαρχή      aparchḗ          ap-ar-khay'  from a compound of ἀπό and ἄρχομαι; a beginning of sacrifice, i.e. the (Jewish) first-fruit (figuratively):--first-fruits.    14     31:14     31:14      536                                                                                                                                                                            O levita Coré, filho de Imna e guarda da porta oriental, estava encarregado das ofertas voluntárias que se faziam a Deus, para distribuir as ofertas do SENHOR e as coisas santíssimas.\n",
      "33            536       ἀπαρχή      aparchḗ          ap-ar-khay'  from a compound of ἀπό and ἄρχομαι; a beginning of sacrifice, i.e. the (Jewish) first-fruit (figuratively):--first-fruits.    14      31:5      31:5      536                                                                                                                                                    Logo que se divulgou esta ordem, os filhos de Israel trouxeram em abundância as primícias do cereal, do vinho, do azeite, do mel e de todo produto do campo; também os dízimos de tudo trouxeram em abundância.\n",
      "34            536       ἀπαρχή      aparchḗ          ap-ar-khay'  from a compound of ἀπό and ἄρχομαι; a beginning of sacrifice, i.e. the (Jewish) first-fruit (figuratively):--first-fruits.    15      8:25      8:25      536                                                                                                                                                                Pesei-lhes a prata, e o ouro, e os utensílios que eram a contribuição para a casa de nosso Deus, a qual ofereceram o rei, os seus conselheiros, os seus príncipes e todo o Israel que se achou ali.\n",
      "35            536       ἀπαρχή      aparchḗ          ap-ar-khay'  from a compound of ἀπό and ἄρχομαι; a beginning of sacrifice, i.e. the (Jewish) first-fruit (figuratively):--first-fruits.    16     10:37     10:37      536                                                                                          As primícias da nossa massa, as nossas ofertas, o fruto de toda árvore, o vinho e o azeite traríamos aos sacerdotes, às câmaras da casa do nosso Deus; os dízimos da nossa terra, aos levitas, pois a eles cumpre receber os dízimos em todas as cidades onde há lavoura.\n",
      "36            536       ἀπαρχή      aparchḗ          ap-ar-khay'  from a compound of ἀπό and ἄρχομαι; a beginning of sacrifice, i.e. the (Jewish) first-fruit (figuratively):--first-fruits.    16     10:39     10:39      536                                                                     Porque àquelas câmaras os filhos de Israel e os filhos de Levi devem trazer ofertas do cereal, do vinho e do azeite; porquanto se acham ali os vasos do santuário, como também os sacerdotes que ministram, e os porteiros, e os cantores; e, assim, não desampararíamos a casa do nosso Deus.\n",
      "37            536       ἀπαρχή      aparchḗ          ap-ar-khay'  from a compound of ἀπό and ἄρχομαι; a beginning of sacrifice, i.e. the (Jewish) first-fruit (figuratively):--first-fruits.    16     12:44     12:44      536                                                                 Ainda no mesmo dia, se nomearam homens para as câmaras dos tesouros, das ofertas, das primícias e dos dízimos, para ajuntarem nelas, das cidades, as porções designadas pela Lei para os sacerdotes e para os levitas; pois Judá estava alegre, porque os sacerdotes e os levitas ministravam ali;\n",
      "38            536       ἀπαρχή      aparchḗ          ap-ar-khay'  from a compound of ἀπό and ἄρχομαι; a beginning of sacrifice, i.e. the (Jewish) first-fruit (figuratively):--first-fruits.    16      13:5      13:5      536                                                                                            e fizera para este uma câmara grande, onde dantes se depositavam as ofertas de manjares, o incenso, os utensílios e os dízimos dos cereais, do vinho e do azeite, que se ordenaram para os levitas, cantores e porteiros, como também contribuições para os sacerdotes.\n",
      "39            536       ἀπαρχή      aparchḗ          ap-ar-khay'  from a compound of ἀπό and ἄρχομαι; a beginning of sacrifice, i.e. the (Jewish) first-fruit (figuratively):--first-fruits.    19     78:51     78:51      536                                                                                                                                                                                                                                                                                Feriu todos os primogênitos no Egito, as primícias da virilidade nas tendas de Cam.\n",
      "40            536       ἀπαρχή      aparchḗ          ap-ar-khay'  from a compound of ἀπό and ἄρχομαι; a beginning of sacrifice, i.e. the (Jewish) first-fruit (figuratively):--first-fruits.    26     20:31     20:31      536                                                                                         Ao oferecerdes os vossos dons sacrificiais, como quando queimais os vossos filhos, vós vos contaminais com todos os vossos ídolos, até ao dia de hoje. Porventura, me consultaríeis, ó casa de Israel? Tão certo como eu vivo, diz o SENHOR Deus, vós não me consultareis.\n",
      "41            536       ἀπαρχή      aparchḗ          ap-ar-khay'  from a compound of ἀπό and ἄρχομαι; a beginning of sacrifice, i.e. the (Jewish) first-fruit (figuratively):--first-fruits.    26     20:40     20:40      536                                                                                                   Porque no meu santo monte, no monte alto de Israel, diz o SENHOR Deus, ali toda a casa de Israel me servirá, toda, naquela terra; ali me agradarei deles, ali requererei as vossas ofertas e as primícias das vossas dádivas, com todas as vossas coisas santas.\n",
      "42            536       ἀπαρχή      aparchḗ          ap-ar-khay'  from a compound of ἀπό and ἄρχομαι; a beginning of sacrifice, i.e. the (Jewish) first-fruit (figuratively):--first-fruits.    26     44:30     44:30      536                                                                                                                                                           O melhor de todos os primeiros frutos de toda espécie e toda oferta serão dos sacerdotes; também as primeiras das vossas massas dareis ao sacerdote, para que faça repousar a bênção sobre a vossa casa.\n",
      "43            536       ἀπαρχή      aparchḗ          ap-ar-khay'  from a compound of ἀπό and ἄρχομαι; a beginning of sacrifice, i.e. the (Jewish) first-fruit (figuratively):--first-fruits.    26      45:1      45:1      536                                                                                                            Quando, pois, repartirdes a terra por sortes em herança, fareis uma oferta ao SENHOR, uma porção santa da terra; o comprimento desta porção será de vinte e cinco mil côvados, e a largura, de dez mil; ela será santa em toda a sua extensão ao redor.\n",
      "44            536       ἀπαρχή      aparchḗ          ap-ar-khay'  from a compound of ἀπό and ἄρχομαι; a beginning of sacrifice, i.e. the (Jewish) first-fruit (figuratively):--first-fruits.    26     45:13     45:13      536                                                                                                                                                                                                                  Esta será a oferta que haveis de fazer: de trigo, a sexta parte de um efa de cada ômer, e também de cevada, a sexta parte de um efa de cada ômer.\n",
      "45            536       ἀπαρχή      aparchḗ          ap-ar-khay'  from a compound of ἀπό and ἄρχομαι; a beginning of sacrifice, i.e. the (Jewish) first-fruit (figuratively):--first-fruits.    26     45:16     45:16      536                                                                                                                                                                                                                                                                                   Todo o povo da terra fará contribuição, para esta oferta, ao príncipe em Israel.\n",
      "46            536       ἀπαρχή      aparchḗ          ap-ar-khay'  from a compound of ἀπό and ἄρχομαι; a beginning of sacrifice, i.e. the (Jewish) first-fruit (figuratively):--first-fruits.    26      45:6      45:6      536                                                                                                                                                                                                Para a possessão da cidade, de largura dareis cinco mil côvados e vinte e cinco mil de comprimento defronte da porção santa, o que será para toda a casa de Israel.\n",
      "47            536       ἀπαρχή      aparchḗ          ap-ar-khay'  from a compound of ἀπό and ἄρχομαι; a beginning of sacrifice, i.e. the (Jewish) first-fruit (figuratively):--first-fruits.    26      45:7      45:7      536                                                                        O príncipe, porém, terá a sua parte deste e do outro lado da santa porção e da possessão da cidade, diante da santa porção e diante da possessão da cidade, ao lado ocidental e oriental; e o comprimento corresponderá a uma das porções, desde o limite ocidental até ao limite oriental.\n",
      "48            536       ἀπαρχή      aparchḗ          ap-ar-khay'  from a compound of ἀπό and ἄρχομαι; a beginning of sacrifice, i.e. the (Jewish) first-fruit (figuratively):--first-fruits.    26     48:10     48:10      536                                                                                                                                 Esta região santa dos sacerdotes terá, ao norte, vinte e cinco mil côvados, ao ocidente, dez mil de largura, ao oriente, dez mil de largura e ao sul, vinte e cinco mil de comprimento; o santuário do SENHOR estará no meio dela.\n",
      "49            536       ἀπαρχή      aparchḗ          ap-ar-khay'  from a compound of ἀπό and ἄρχομαι; a beginning of sacrifice, i.e. the (Jewish) first-fruit (figuratively):--first-fruits.    26     48:12     48:12      536                                                                                                                                                                                                                                                         Será região especial dentro da região sagrada, lugar santíssimo, fazendo limites com a porção dos levitas.\n",
      "50            536       ἀπαρχή      aparchḗ          ap-ar-khay'  from a compound of ἀπό and ἄρχομαι; a beginning of sacrifice, i.e. the (Jewish) first-fruit (figuratively):--first-fruits.    26     48:18     48:18      536                                                                                                                       Quanto ao que ficou do resto do comprimento, paralelo à região sagrada, será de dez mil para o oriente e de dez mil para o ocidente e corresponderá à região sagrada; e o seu produto será para o sustento daqueles que trabalham na cidade.\n",
      "51            536       ἀπαρχή      aparchḗ          ap-ar-khay'  from a compound of ἀπό and ἄρχομαι; a beginning of sacrifice, i.e. the (Jewish) first-fruit (figuratively):--first-fruits.    26     48:20     48:20      536                                                                                                                                                                                                                                        A região toda será de vinte e cinco mil côvados em quadrado, isto é, a região sagrada juntamente com a possessão da cidade.\n",
      "52            536       ἀπαρχή      aparchḗ          ap-ar-khay'  from a compound of ἀπό and ἄρχομαι; a beginning of sacrifice, i.e. the (Jewish) first-fruit (figuratively):--first-fruits.    26     48:21     48:21      536  O que restar será para o príncipe, deste e do outro lado da região sagrada e da possessão da cidade. Por isso, aquilo que se estende dos vinte e cinco mil côvados em direção do oriente e também dos vinte e cinco mil côvados em direção do ocidente, paralelamente com as porções, será do príncipe; a região sagrada e o santuário do templo estarão no meio.\n",
      "53            536       ἀπαρχή      aparchḗ          ap-ar-khay'  from a compound of ἀπό and ἄρχομαι; a beginning of sacrifice, i.e. the (Jewish) first-fruit (figuratively):--first-fruits.    26      48:8      48:8      536                                                                                          Limitando-se com Judá, desde o lado oriental até ao ocidental, será a região sagrada que haveis de separar, de vinte e cinco mil côvados de largura e de comprimento, o mesmo que o das porções, desde o lado oriental até ao ocidental; o santuário estará no meio dela.\n",
      "54            536       ἀπαρχή      aparchḗ          ap-ar-khay'  from a compound of ἀπό and ἄρχομαι; a beginning of sacrifice, i.e. the (Jewish) first-fruit (figuratively):--first-fruits.    26      48:9      48:9      536                                                                                                                                                                                                                                                 A região que haveis de separar ao SENHOR será do comprimento de vinte e cinco mil côvados e da largura de dez mil.\n",
      "55            536       ἀπαρχή      aparchḗ          ap-ar-khay'  from a compound of ἀπό and ἄρχομαι; a beginning of sacrifice, i.e. the (Jewish) first-fruit (figuratively):--first-fruits.    39       3:8       3:8      536                                                                                                                                                                                                                                                           Roubará o homem a Deus? Todavia, vós me roubais e dizeis: Em que te roubamos? Nos dízimos e nas ofertas.\n",
      "56            586   ἀποδεκατόω   apodekatóō     ap-od-ek-at-o'-o                                           from ἀπό and δεκατόω; to tithe (as debtor or creditor):--(give, pay, take) tithe.     1     28:22     28:22      586                                                                                                                                                                                                                                            e a pedra, que erigi por coluna, será a Casa de Deus; e, de tudo quanto me concederes, certamente eu te darei o dízimo.\n",
      "57            586   ἀποδεκατόω   apodekatóō     ap-od-ek-at-o'-o                                           from ἀπό and δεκατόω; to tithe (as debtor or creditor):--(give, pay, take) tithe.     5     14:22     14:22      586                                                                                                                                                                                                                                                             Certamente, darás os dízimos de todo o fruto das tuas sementes, que ano após ano se recolher do campo.\n",
      "58            586   ἀποδεκατόω   apodekatóō     ap-od-ek-at-o'-o                                           from ἀπό and δεκατόω; to tithe (as debtor or creditor):--(give, pay, take) tithe.     5     26:12     26:12      586                                                                                                                                                  Quando acabares de separar todos os dízimos da tua messe no ano terceiro, que é o dos dízimos, então, os darás ao levita, ao estrangeiro, ao órfão e à viúva, para que comam dentro das tuas cidades e se fartem.\n",
      "59            586   ἀποδεκατόω   apodekatóō     ap-od-ek-at-o'-o                                           from ἀπό and δεκατόω; to tithe (as debtor or creditor):--(give, pay, take) tithe.     9      8:15      8:15      586                                                                                                                                                                                                                                                               As vossas sementeiras e as vossas vinhas dizimará, para dar aos seus oficiais e aos seus servidores.\n",
      "60            586   ἀποδεκατόω   apodekatóō     ap-od-ek-at-o'-o                                           from ἀπό and δεκατόω; to tithe (as debtor or creditor):--(give, pay, take) tithe.     9      8:16      8:16      586                                                                                                                                                                                                                              Também tomará os vossos servos, e as vossas servas, e os vossos melhores jovens, e os vossos jumentos e os empregará no seu trabalho.\n",
      "61            586   ἀποδεκατόω   apodekatóō     ap-od-ek-at-o'-o                                           from ἀπό and δεκατόω; to tithe (as debtor or creditor):--(give, pay, take) tithe.     9      8:17      8:17      586                                                                                                                                                                                                                                                                                                             Dizimará o vosso rebanho, e vós lhe sereis por servos.\n",
      "62           1181       δεκάτη       dekátē           dek-at'-ay                            feminine of δέκατος; a tenth, i.e. as a percentage or (technically) tithe:--tenth (part), tithe.     1     14:20     14:20     1181                                                                                                                                                                                                                                                 e bendito seja o Deus Altíssimo, que entregou os teus adversários nas tuas mãos. E de tudo lhe deu Abrão o dízimo.\n",
      "63           1181       δεκάτη       dekátē           dek-at'-ay                            feminine of δέκατος; a tenth, i.e. as a percentage or (technically) tithe:--tenth (part), tithe.     1     28:22     28:22     1181                                                                                                                                                                                                                                            e a pedra, que erigi por coluna, será a Casa de Deus; e, de tudo quanto me concederes, certamente eu te darei o dízimo.\n",
      "64           1181       δεκάτη       dekátē           dek-at'-ay                            feminine of δέκατος; a tenth, i.e. as a percentage or (technically) tithe:--tenth (part), tithe.     3     27:31     27:31     1181                                                                                                                                                                                                                                                              Se alguém, das suas dízimas, quiser resgatar alguma coisa, acrescentará a sua quinta parte sobre ela.\n",
      "65           1181       δεκάτη       dekátē           dek-at'-ay                            feminine of δέκατος; a tenth, i.e. as a percentage or (technically) tithe:--tenth (part), tithe.     5     14:22     14:22     1181                                                                                                                                                                                                                                                             Certamente, darás os dízimos de todo o fruto das tuas sementes, que ano após ano se recolher do campo.\n",
      "66           1181       δεκάτη       dekátē           dek-at'-ay                            feminine of δέκατος; a tenth, i.e. as a percentage or (technically) tithe:--tenth (part), tithe.     9      1:21      1:21     1181                                                                                                                                                                                                                                                     Subiu Elcana, seu marido, com toda a sua casa, a oferecer ao SENHOR o sacrifício anual e a cumprir o seu voto.\n",
      "67           1181       δεκάτη       dekátē           dek-at'-ay                            feminine of δέκατος; a tenth, i.e. as a percentage or (technically) tithe:--tenth (part), tithe.    16     10:37     10:37     1181                                                                                          As primícias da nossa massa, as nossas ofertas, o fruto de toda árvore, o vinho e o azeite traríamos aos sacerdotes, às câmaras da casa do nosso Deus; os dízimos da nossa terra, aos levitas, pois a eles cumpre receber os dízimos em todas as cidades onde há lavoura.\n",
      "68           1181       δεκάτη       dekátē           dek-at'-ay                            feminine of δέκατος; a tenth, i.e. as a percentage or (technically) tithe:--tenth (part), tithe.    16     10:38     10:38     1181                                                                                                                                                                            O sacerdote, filho de Arão, estaria com os levitas quando estes recebessem os dízimos, e os levitas trariam os dízimos dos dízimos à casa do nosso Deus, às câmaras da casa do tesouro.\n",
      "69           1181       δεκάτη       dekátē           dek-at'-ay                            feminine of δέκατος; a tenth, i.e. as a percentage or (technically) tithe:--tenth (part), tithe.    16     13:12     13:12     1181                                                                                                                                                                                                                                                                              Então, todo o Judá trouxe os dízimos dos cereais, do vinho e do azeite aos depósitos.\n",
      "70           1181       δεκάτη       dekátē           dek-at'-ay                            feminine of δέκατος; a tenth, i.e. as a percentage or (technically) tithe:--tenth (part), tithe.    16      13:5      13:5     1181                                                                                            e fizera para este uma câmara grande, onde dantes se depositavam as ofertas de manjares, o incenso, os utensílios e os dízimos dos cereais, do vinho e do azeite, que se ordenaram para os levitas, cantores e porteiros, como também contribuições para os sacerdotes.\n",
      "71           1183      δεκατόω      dekatóō          dek-at-o'-o                                                 from δεκάτη; to tithe, i.e. to give or take a tenth:--pay (receive) tithes.    16     10:37     10:37     1183                                                                                          As primícias da nossa massa, as nossas ofertas, o fruto de toda árvore, o vinho e o azeite traríamos aos sacerdotes, às câmaras da casa do nosso Deus; os dízimos da nossa terra, aos levitas, pois a eles cumpre receber os dízimos em todas as cidades onde há lavoura.\n",
      "72           1925  ἐπιδείκνυμι  epideíknymi  ep-ee-dike'-noo-mee                                                           from ἐπί and δεικνύω; to exhibit (physically or mentally):--shew.    20     12:17     12:17     1925                                                                                                                                                                                                                                                                                         O que diz a verdade manifesta a justiça, mas a testemunha falsa, a fraude.\n",
      "73           1925  ἐπιδείκνυμι  epideíknymi  ep-ee-dike'-noo-mee                                                           from ἐπί and δεικνύω; to exhibit (physically or mentally):--shew.    23     37:26     37:26     1925                                                                                                                                                     Acaso, não ouviste que já há muito dispus eu estas coisas, já desde os dias remotos o tinha planejado? Agora, porém, as faço executar e eu quis que tu reduzisses a montões de ruínas as cidades fortificadas.\n"
     ]
    }
   ],
   "source": [
    "print(grk_lxx_occs.to_string()) "
   ]
  },
  {
   "cell_type": "code",
   "execution_count": null,
   "metadata": {},
   "outputs": [],
   "source": [
    "# NT"
   ]
  },
  {
   "cell_type": "code",
   "execution_count": 10,
   "metadata": {},
   "outputs": [],
   "source": [
    "sbl_bd = '/Users/davison/Software/almeida-semantica/db/sbl.db'"
   ]
  },
  {
   "cell_type": "code",
   "execution_count": null,
   "metadata": {},
   "outputs": [],
   "source": [
    "sql_sbl = \"SELECT nr_sq_livro, chapter, verse, content FROM bible /*WHERE content like '%{}%'*/\""
   ]
  },
  {
   "cell_type": "code",
   "execution_count": 19,
   "metadata": {},
   "outputs": [],
   "source": [
    "sql_sbl = \"SELECT nr_sq_livro, chapter, verse, word, word_nr FROM words\""
   ]
  },
  {
   "cell_type": "code",
   "execution_count": 11,
   "metadata": {},
   "outputs": [],
   "source": [
    "sql_sbl = \"SELECT * FROM words\""
   ]
  },
  {
   "cell_type": "code",
   "execution_count": 12,
   "metadata": {},
   "outputs": [],
   "source": [
    "gnt_df = pd.read_sql_query(sql_sbl, ConectorBD(sbl_bd).con)"
   ]
  },
  {
   "cell_type": "code",
   "execution_count": 13,
   "metadata": {},
   "outputs": [],
   "source": [
    "minha_palavra = koinenlp.normalize(gnt_df.loc[(gnt_df['nr_sq_livro'] == 58) & (gnt_df['chapter'] == 2) & (gnt_df['verse'] == 5) & (gnt_df['word_nr'] == 4)].lemma.values[0])"
   ]
  },
  {
   "cell_type": "code",
   "execution_count": 14,
   "metadata": {},
   "outputs": [
    {
     "data": {
      "text/plain": [
       "'υποτασσω'"
      ]
     },
     "execution_count": 14,
     "metadata": {},
     "output_type": "execute_result"
    }
   ],
   "source": [
    "minha_palavra"
   ]
  },
  {
   "cell_type": "code",
   "execution_count": 16,
   "metadata": {},
   "outputs": [
    {
     "data": {
      "application/vnd.microsoft.datawrangler.viewer.v0+json": {
       "columns": [
        {
         "name": "index",
         "rawType": "int64",
         "type": "integer"
        },
        {
         "name": "book",
         "rawType": "int64",
         "type": "integer"
        },
        {
         "name": "chapter",
         "rawType": "object",
         "type": "string"
        },
        {
         "name": "verse",
         "rawType": "object",
         "type": "string"
        },
        {
         "name": "part_of_speech",
         "rawType": "object",
         "type": "string"
        },
        {
         "name": "morphology",
         "rawType": "object",
         "type": "string"
        },
        {
         "name": "normalized_word",
         "rawType": "object",
         "type": "string"
        },
        {
         "name": "strongs",
         "rawType": "Int32",
         "type": "integer"
        }
       ],
       "ref": "1f41039d-baa3-4868-b264-62d16db7e720",
       "rows": [],
       "shape": {
        "columns": 7,
        "rows": 0
       }
      },
      "text/html": [
       "<div>\n",
       "<style scoped>\n",
       "    .dataframe tbody tr th:only-of-type {\n",
       "        vertical-align: middle;\n",
       "    }\n",
       "\n",
       "    .dataframe tbody tr th {\n",
       "        vertical-align: top;\n",
       "    }\n",
       "\n",
       "    .dataframe thead th {\n",
       "        text-align: right;\n",
       "    }\n",
       "</style>\n",
       "<table border=\"1\" class=\"dataframe\">\n",
       "  <thead>\n",
       "    <tr style=\"text-align: right;\">\n",
       "      <th></th>\n",
       "      <th>book</th>\n",
       "      <th>chapter</th>\n",
       "      <th>verse</th>\n",
       "      <th>part_of_speech</th>\n",
       "      <th>morphology</th>\n",
       "      <th>normalized_word</th>\n",
       "      <th>strongs</th>\n",
       "    </tr>\n",
       "  </thead>\n",
       "  <tbody>\n",
       "  </tbody>\n",
       "</table>\n",
       "</div>"
      ],
      "text/plain": [
       "Empty DataFrame\n",
       "Columns: [book, chapter, verse, part_of_speech, morphology, normalized_word, strongs]\n",
       "Index: []"
      ]
     },
     "execution_count": 16,
     "metadata": {},
     "output_type": "execute_result"
    }
   ],
   "source": [
    "lxx_cp_vs_ok.query(\"normalized_word == '{}'\".format(minha_palavra)) "
   ]
  },
  {
   "cell_type": "code",
   "execution_count": null,
   "metadata": {},
   "outputs": [
    {
     "name": "stdout",
     "output_type": "stream",
     "text": [
      "nr_sq_livro                                                   40\n",
      "chapter                                                        1\n",
      "verse                                                          1\n",
      "content        <verse num=\"1\">\\n<w pos=\"N-\" morph=\"----NSF-\" ...\n"
     ]
    }
   ],
   "source": [
    "print(gnt_df.loc[0].to_string())"
   ]
  },
  {
   "cell_type": "code",
   "execution_count": null,
   "metadata": {},
   "outputs": [],
   "source": [
    "sql_strongs_gnt = \"\"\"\n",
    "            SELECT \n",
    "                gnt_df.nr_sq_livro\n",
    "                , gnt_df.chapter\n",
    "                , gnt_df.verse\n",
    "                --, content \n",
    "                , pt_df.text\n",
    "            FROM \n",
    "                gnt_df\n",
    "                , pt_df\n",
    "            WHERE \n",
    "                gnt_df.nr_sq_livro = pt_df.nr_sq_livro\n",
    "            AND gnt_df.chapter = pt_df.chapter\n",
    "            AND gnt_df.verse = pt_df.verse\n",
    "            AND content like '%{}%'\n",
    "            \"\"\".format('0386')"
   ]
  },
  {
   "cell_type": "code",
   "execution_count": null,
   "metadata": {},
   "outputs": [],
   "source": [
    "gnt_by_strongs = sqldf(sql_strongs_gnt)"
   ]
  },
  {
   "cell_type": "code",
   "execution_count": null,
   "metadata": {},
   "outputs": [
    {
     "name": "stdout",
     "output_type": "stream",
     "text": [
      "     nr_sq_livro  chapter  verse                                                                                                                                                                                                                                                  text\n",
      "0             40        4     12                                                                                                                                                                                Ouvindo, porém, Jesus que João fora preso, retirou-se para a Galileia;\n",
      "1             40        4     13                                                                                                                                                    e, deixando Nazaré, foi morar em Cafarnaum, situada à beira-mar, nos confins de Zebulom e Naftali;\n",
      "2             40        5     25                                                          Entra em acordo sem demora com o teu adversário, enquanto estás com ele a caminho, para que o adversário não te entregue ao juiz, o juiz, ao oficial de justiça, e sejas recolhido à prisão.\n",
      "3             40       10      4                                                                                                                                                                                            Simão, o Zelote, e Judas Iscariotes, que foi quem o traiu.\n",
      "4             40       10     17                                                                                                                                                   E acautelai-vos dos homens; porque vos entregarão aos tribunais e vos açoitarão nas suas sinagogas;\n",
      "5             40       10     19                                                                                                               E, quando vos entregarem, não cuideis em como ou o que haveis de falar, porque, naquela hora, vos será concedido o que haveis de dizer,\n",
      "6             40       10     21                                                                                                                       Um irmão entregará à morte outro irmão, e o pai, ao filho; filhos haverá que se levantarão contra os progenitores e os matarão.\n",
      "7             40       11     27                                                                                              Tudo me foi entregue por meu Pai. Ninguém conhece o Filho, senão o Pai; e ninguém conhece o Pai, senão o Filho e aquele a quem o Filho o quiser revelar.\n",
      "8             40       15      2                                                                                                                                                  Por que transgridem os teus discípulos a tradição dos anciãos? Pois não lavam as mãos, quando comem.\n",
      "9             40       15      3                                                                                                                                         Ele, porém, lhes respondeu: Por que transgredis vós também o mandamento de Deus, por causa da vossa tradição?\n",
      "10            40       15      6                                                                                                                                    esse jamais honrará a seu pai ou a sua mãe. E, assim, invalidastes a palavra de Deus, por causa da vossa tradição.\n",
      "11            40       17     22                                                                                                                                             Reunidos eles na Galileia, disse-lhes Jesus: O Filho do Homem está para ser entregue nas mãos dos homens;\n",
      "12            40       18     34                                                                                                                                                            E, indignando-se, o seu senhor o entregou aos verdugos, até que lhe pagasse toda a dívida.\n",
      "13            40       20     18                                                                                                                 Eis que subimos para Jerusalém, e o Filho do Homem será entregue aos principais sacerdotes e aos escribas. Eles o condenarão à morte.\n",
      "14            40       20     19                                                                                                                                            E o entregarão aos gentios para ser escarnecido, açoitado e crucificado; mas, ao terceiro dia, ressurgirá.\n",
      "15            40       22     23                                                                                                                                                Naquele dia, aproximaram-se dele alguns saduceus, que dizem não haver ressurreição, e lhe perguntaram:\n",
      "16            40       22     28                                                                                                                                                               Portanto, na ressurreição, de qual dos sete será ela esposa? Porque todos a desposaram.\n",
      "17            40       22     30                                                                                                                                                        Porque, na ressurreição, nem casam, nem se dão em casamento; são, porém, como os anjos no céu.\n",
      "18            40       22     31                                                                                                                                                                         E, quanto à ressurreição dos mortos, não tendes lido o que Deus vos declarou:\n",
      "19            40       24      9                                                                                                                                                   Então, sereis atribulados, e vos matarão. Sereis odiados de todas as nações, por causa do meu nome.\n",
      "20            40       24     10                                                                                                                                                                             Nesse tempo, muitos hão de se escandalizar, trair e odiar uns aos outros;\n",
      "21            40       25     14                                                                                                                                                Pois será como um homem que, ausentando-se do país, chamou os seus servos e lhes confiou os seus bens.\n",
      "22            40       25     20                                                                                  Então, aproximando-se o que recebera cinco talentos, entregou outros cinco, dizendo: Senhor, confiaste-me cinco talentos; eis aqui outros cinco talentos que ganhei.\n",
      "23            40       25     22                                                                                                                   E, aproximando-se também o que recebera dois talentos, disse: Senhor, dois talentos me confiaste; aqui tens outros dois que ganhei.\n",
      "24            40       26      2                                                                                                                                         Sabeis que, daqui a dois dias, celebrar-se-á a Páscoa; e o Filho do Homem será entregue para ser crucificado.\n",
      "25            40       26     15                                                                                                                                                                      Que me quereis dar, e eu vo-lo entregarei? E pagaram-lhe trinta moedas de prata.\n",
      "26            40       26     16                                                                                                                                                                              E, desse momento em diante, buscava ele uma boa ocasião para o entregar.\n",
      "27            40       26     21                                                                                                                                                                  E, enquanto comiam, declarou Jesus: Em verdade vos digo que um dentre vós me trairá.\n",
      "28            40       26     23                                                                                                                                                                                    E ele respondeu: O que mete comigo a mão no prato, esse me trairá.\n",
      "29            40       26     24                                                                                  O Filho do Homem vai, como está escrito a seu respeito, mas ai daquele por intermédio de quem o Filho do Homem está sendo traído! Melhor lhe fora não haver nascido!\n",
      "30            40       26     25                                                                                                                                                      Então, Judas, que o traía, perguntou: Acaso, sou eu, Mestre? Respondeu-lhe Jesus: Tu o disseste.\n",
      "31            40       26     45                                                                                      Então, voltou para os discípulos e lhes disse: Ainda dormis e repousais! Eis que é chegada a hora, e o Filho do Homem está sendo entregue nas mãos de pecadores.\n",
      "32            40       26     46                                                                                                                                                                                                   Levantai-vos, vamos! Eis que o traidor se aproxima.\n",
      "33            40       26     48                                                                                                                                                                Ora, o traidor lhes tinha dado este sinal: Aquele a quem eu beijar, é esse; prendei-o.\n",
      "34            40       27      2                                                                                                                                                                                      e, amarrando-o, levaram-no e o entregaram ao governador Pilatos.\n",
      "35            40       27      3                                                                                  Então, Judas, o que o traiu, vendo que Jesus fora condenado, tocado de remorso, devolveu as trinta moedas de prata aos principais sacerdotes e aos anciãos, dizendo:\n",
      "36            40       27      4                                                                                                                                                           Pequei, traindo sangue inocente. Eles, porém, responderam: Que nos importa? Isso é contigo.\n",
      "37            40       27     18                                                                                                                                                                                                     Porque sabia que, por inveja, o tinham entregado.\n",
      "38            40       27     26                                                                                                                                                 Então, Pilatos lhes soltou Barrabás; e, após haver açoitado a Jesus, entregou-o para ser crucificado.\n",
      "39            41        1     14                                                                                                                                                               Depois de João ter sido preso, foi Jesus para a Galileia, pregando o evangelho de Deus,\n",
      "40            41        3     19                                                                                                                                                                                                             e Judas Iscariotes, que foi quem o traiu.\n",
      "41            41        4     29                                                                                                                                                                 E, quando o fruto já está maduro, logo se lhe mete a foice, porque é chegada a ceifa.\n",
      "42            41        7      3                                                                                                                                   (pois os fariseus e todos os judeus, observando a tradição dos anciãos, não comem sem lavar cuidadosamente as mãos;\n",
      "43            41        7      5                                                                                          interpelaram-no os fariseus e os escribas: Por que não andam os teus discípulos de conformidade com a tradição dos anciãos, mas comem com as mãos por lavar?\n",
      "44            41        7      8                                                                                                                                                                                  Negligenciando o mandamento de Deus, guardais a tradição dos homens.\n",
      "45            41        7      9                                                                                                                                               E disse-lhes ainda: Jeitosamente rejeitais o preceito de Deus para guardardes a vossa própria tradição.\n",
      "46            41        7     13                                                                                                                   invalidando a palavra de Deus pela vossa própria tradição, que vós mesmos transmitistes; e fazeis muitas outras coisas semelhantes.\n",
      "47            41        9     31                                                                                   porque ensinava os seus discípulos e lhes dizia: O Filho do Homem será entregue nas mãos dos homens, e o matarão; mas, três dias depois da sua morte, ressuscitará.\n",
      "48            41       10     33                                                                                          Eis que subimos para Jerusalém, e o Filho do Homem será entregue aos principais sacerdotes e aos escribas; condená-lo-ão à morte e o entregarão aos gentios;\n",
      "49            41       12     18                                                                                                                                                 Então, os saduceus, que dizem não haver ressurreição, aproximaram-se dele e lhe perguntaram, dizendo:\n",
      "50            41       12     23                                                                                                                                             Na ressurreição, quando eles ressuscitarem, de qual deles será ela a esposa? Porque os sete a desposaram.\n",
      "51            41       13      9                                             Estai vós de sobreaviso, porque vos entregarão aos tribunais e às sinagogas; sereis açoitados, e vos farão comparecer à presença de governadores e reis, por minha causa, para lhes servir de testemunho.\n",
      "52            41       13     11                                              Quando, pois, vos levarem e vos entregarem, não vos preocupeis com o que haveis de dizer, mas o que vos for concedido naquela hora, isso falai; porque não sois vós os que falais, mas o Espírito Santo.\n",
      "53            41       13     12                                                                                                                       Um irmão entregará à morte outro irmão, e o pai, ao filho; filhos haverá que se levantarão contra os progenitores e os matarão.\n",
      "54            41       14     10                                                                                                                                                      E Judas Iscariotes, um dos doze, foi ter com os principais sacerdotes, para lhes entregar Jesus.\n",
      "55            41       14     11                                                                                                                               Eles, ouvindo-o, alegraram-se e lhe prometeram dinheiro; nesse meio tempo, buscava ele uma boa ocasião para o entregar.\n",
      "56            41       14     18                                                                                                                                     Quando estavam à mesa e comiam, disse Jesus: Em verdade vos digo que um dentre vós, o que come comigo, me trairá.\n",
      "57            41       14     21                                                                             Pois o Filho do Homem vai, como está escrito a seu respeito; mas ai daquele por intermédio de quem o Filho do Homem está sendo traído! Melhor lhe fora não haver nascido!\n",
      "58            41       14     41                                                                                                   E veio pela terceira vez e disse-lhes: Ainda dormis e repousais! Basta! Chegou a hora; o Filho do Homem está sendo entregue nas mãos dos pecadores.\n",
      "59            41       14     42                                                                                                                                                                                                   Levantai-vos, vamos! Eis que o traidor se aproxima.\n",
      "60            41       14     44                                                                                                                                        Ora, o traidor tinha-lhes dado esta senha: Aquele a quem eu beijar, é esse; prendei-o e levai-o com segurança.\n",
      "61            41       15      1                                                                              Logo pela manhã, entraram em conselho os principais sacerdotes com os anciãos, os escribas e todo o Sinédrio; e, amarrando a Jesus, levaram-no e o entregaram a Pilatos.\n",
      "62            41       15      6                                                                                                                                                      Ora, por ocasião da festa, era costume soltar ao povo um dos presos, qualquer que eles pedissem.\n",
      "63            41       15     10                                                                                                                                                                   Pois ele bem percebia que por inveja os principais sacerdotes lho haviam entregado.\n",
      "64            41       15     15                                                                                                                 Então, Pilatos, querendo contentar a multidão, soltou-lhes Barrabás; e, após mandar açoitar a Jesus, entregou-o para ser crucificado.\n",
      "65            42        1      2                                                                                                                                           conforme nos transmitiram os que desde o princípio foram deles testemunhas oculares e ministros da palavra,\n",
      "66            42        2     34                                                                      Simeão os abençoou e disse a Maria, mãe do menino: Eis que este menino está destinado tanto para ruína como para levantamento de muitos em Israel e para ser alvo de contradição\n",
      "67            42        4      6                                                                                                                     Disse-lhe o diabo: Dar-te-ei toda esta autoridade e a glória destes reinos, porque ela me foi entregue, e a dou a quem eu quiser.\n",
      "68            42        5     26                                                                                                                                                     Todos ficaram atônitos, davam glória a Deus e, possuídos de temor, diziam: Hoje, vimos prodígios.\n",
      "69            42        9     44                                                                                                                                          Fixai nos vossos ouvidos as seguintes palavras: o Filho do Homem está para ser entregue nas mãos dos homens.\n",
      "70            42       10     22                                                                              Tudo me foi entregue por meu Pai. Ninguém sabe quem é o Filho, senão o Pai; e também ninguém sabe quem é o Pai, senão o Filho, e aquele a quem o Filho o quiser revelar.\n",
      "71            42       12     58                            Quando fores com o teu adversário ao magistrado, esforça-te para te livrares desse adversário no caminho; para que não suceda que ele te arraste ao juiz, o juiz te entregue ao meirinho e o meirinho te recolha à prisão.\n",
      "72            42       14     14                                                                                                       e serás bem-aventurado, pelo fato de não terem eles com que recompensar-te; a tua recompensa, porém, tu a receberás na ressurreição dos justos.\n",
      "73            42       14     18                                                                                                        Não obstante, todos, à uma, começaram a escusar-se. Disse o primeiro: Comprei um campo e preciso ir vê-lo; rogo-te que me tenhas por escusado.\n",
      "74            42       14     19                                                                                                                                                  Outro disse: Comprei cinco juntas de bois e vou experimentá-las; rogo-te que me tenhas por escusado.\n",
      "75            42       18     32                                                                                                                                                                                 pois será ele entregue aos gentios, escarnecido, ultrajado e cuspido;\n",
      "76            42       20     20                                                                              Observando-o, subornaram emissários que se fingiam de justos para verem se o apanhavam em alguma palavra, a fim de entregá-lo à jurisdição e à autoridade do governador.\n",
      "77            42       20     27                                                                                                                                                                                Chegando alguns dos saduceus, homens que dizem não haver ressurreição,\n",
      "78            42       20     33                                                                                                                                                    Esta mulher, pois, no dia da ressurreição, de qual deles será esposa? Porque os sete a desposaram.\n",
      "79            42       20     35                                                                                                                    mas os que são havidos por dignos de alcançar a era vindoura e a ressurreição dentre os mortos não casam, nem se dão em casamento.\n",
      "80            42       20     36                                                                                                                                           Pois não podem mais morrer, porque são iguais aos anjos e são filhos de Deus, sendo filhos da ressurreição.\n",
      "81            42       21     12                                                         Antes, porém, de todas estas coisas, lançarão mão de vós e vos perseguirão, entregando-vos às sinagogas e aos cárceres, levando-vos à presença de reis e governadores, por causa do meu nome;\n",
      "82            42       21     16                                                                                                                                                       E sereis entregues até por vossos pais, irmãos, parentes e amigos; e matarão alguns dentre vós.\n",
      "83            42       22      4                                                                                                                                                   Este foi entender-se com os principais sacerdotes e os capitães sobre como lhes entregaria a Jesus;\n",
      "84            42       22      6                                                                                                                                                                                Judas concordou e buscava uma boa ocasião de lho entregar sem tumulto.\n",
      "85            42       22     21                                                                                                                                                                                                         Todavia, a mão do traidor está comigo à mesa.\n",
      "86            42       22     22                                                                                                                 Porque o Filho do Homem, na verdade, vai segundo o que está determinado, mas ai daquele por intermédio de quem ele está sendo traído!\n",
      "87            42       22     48                                                                                                                                                                                  Jesus, porém, lhe disse: Judas, com um beijo trais o Filho do Homem?\n",
      "88            42       23     25                                                                                                          Soltou aquele que estava encarcerado por causa da sedição e do homicídio, a quem eles pediam; e, quanto a Jesus, entregou-o à vontade deles.\n",
      "89            42       24      7                                                                                                                     quando disse: Importa que o Filho do Homem seja entregue nas mãos de pecadores, e seja crucificado, e ressuscite no terceiro dia.\n",
      "90            42       24     20                                                                                                                                     e como os principais sacerdotes e as nossas autoridades o entregaram para ser condenado à morte e o crucificaram.\n",
      "91            43        5     29                                                                                                                              os que tiverem feito o bem, para a ressurreição da vida; e os que tiverem praticado o mal, para a ressurreição do juízo.\n",
      "92            43        6     64                                                                                                                           Contudo, há descrentes entre vós. Pois Jesus sabia, desde o princípio, quais eram os que não criam e quem o havia de trair.\n",
      "93            43        6     71                                                                                                                                            Referia-se ele a Judas, filho de Simão Iscariotes; porque era quem estava para traí-lo, sendo um dos doze.\n",
      "94            43       11     24                                                                                                                                                                       Eu sei, replicou Marta, que ele há de ressurgir na ressurreição, no último dia.\n",
      "95            43       11     25                                                                                                                                                            Disse-lhe Jesus: Eu sou a ressurreição e a vida. Quem crê em mim, ainda que morra, viverá;\n",
      "96            43       12      4                                                                                                                                                                       Mas Judas Iscariotes, um dos seus discípulos, o que estava para traí-lo, disse:\n",
      "97            43       13      2                                                                                                                                           Durante a ceia, tendo já o diabo posto no coração de Judas Iscariotes, filho de Simão, que traísse a Jesus,\n",
      "98            43       13     11                                                                                                                                                                   Pois ele sabia quem era o traidor. Foi por isso que disse: Nem todos estais limpos.\n",
      "99            43       13     21                                                                                                                            Ditas estas coisas, angustiou-se Jesus em espírito e afirmou: Em verdade, em verdade vos digo que um dentre vós me trairá.\n",
      "100           43       18      2                                                                                                                                         E Judas, o traidor, também conhecia aquele lugar, porque Jesus ali estivera muitas vezes com seus discípulos.\n",
      "101           43       18      5                                                                                                                                 Responderam-lhe: A Jesus, o Nazareno. Então, Jesus lhes disse: Sou eu. Ora, Judas, o traidor, estava também com eles.\n",
      "102           43       18     30                                                                                                                                                                                   Responderam-lhe: Se este não fosse malfeitor, não to entregaríamos.\n",
      "103           43       18     35                                                                                                                       Replicou Pilatos: Porventura, sou judeu? A tua própria gente e os principais sacerdotes é que te entregaram a mim. Que fizeste?\n",
      "104           43       18     36                                             Respondeu Jesus: O meu reino não é deste mundo. Se o meu reino fosse deste mundo, os meus ministros se empenhariam por mim, para que não fosse eu entregue aos judeus; mas agora o meu reino não é daqui.\n",
      "105           43       19     11                                                                                                                 Respondeu Jesus: Nenhuma autoridade terias sobre mim, se de cima não te fosse dada; por isso, quem me entregou a ti maior pecado tem.\n",
      "106           43       19     16                                                                                                                                                                                                       Então, Pilatos o entregou para ser crucificado.\n",
      "107           43       19     30                                                                                                                                                Quando, pois, Jesus tomou o vinagre, disse: Está consumado! E, inclinando a cabeça, rendeu o espírito.\n",
      "108           43       21     20                                                                    Então, Pedro, voltando-se, viu que também o ia seguindo o discípulo a quem Jesus amava, o qual na ceia se reclinara sobre o peito de Jesus e perguntara: Senhor, quem é o traidor?\n",
      "109           44        1     22                                                                                                          começando no batismo de João, até ao dia em que dentre nós foi levado às alturas, um destes se torne testemunha conosco da sua ressurreição.\n",
      "110           44        2     31                                                                                                                             prevendo isto, referiu-se à ressurreição de Cristo, que nem foi deixado na morte, nem o seu corpo experimentou corrupção.\n",
      "111           44        3     13                                                                      O Deus de Abraão, de Isaque e de Jacó, o Deus de nossos pais, glorificou a seu Servo Jesus, a quem vós traístes e negastes perante Pilatos, quando este havia decidido soltá-lo.\n",
      "112           44        4      2                                                                                                                                                        ressentidos por ensinarem eles o povo e anunciarem, em Jesus, a ressurreição dentre os mortos;\n",
      "113           44        4     33                                                                                                                               Com grande poder, os apóstolos davam testemunho da ressurreição do Senhor Jesus, e em todos eles havia abundante graça.\n",
      "114           44        6      1                                                              Ora, naqueles dias, multiplicando-se o número dos discípulos, houve murmuração dos helenistas contra os hebreus, porque as viúvas deles estavam sendo esquecidas na distribuição diária.\n",
      "115           44        6     14                                                                                                                                 porque o temos ouvido dizer que esse Jesus, o Nazareno, destruirá este lugar e mudará os costumes que Moisés nos deu.\n",
      "116           44        7     42                                Mas Deus se afastou e os entregou ao culto da milícia celestial, como está escrito no Livro dos Profetas: Ó casa de Israel, porventura, me oferecestes vítimas e sacrifícios no deserto, pelo espaço de quarenta anos,\n",
      "117           44        8      3                                                                                                                                      Saulo, porém, assolava a igreja, entrando pelas casas; e, arrastando homens e mulheres, encerrava-os no cárcere.\n",
      "118           44       12      4                                                                          Tendo-o feito prender, lançou-o no cárcere, entregando-o a quatro escoltas de quatro soldados cada uma, para o guardarem, tencionando apresentá-lo ao povo depois da Páscoa.\n",
      "119           44       14     26                                                                                                                                    e dali navegaram para Antioquia, onde tinham sido recomendados à graça de Deus para a obra que haviam já cumprido.\n",
      "120           44       15     26                                                                                                                                                                                 homens que têm exposto a vida pelo nome de nosso Senhor Jesus Cristo.\n",
      "121           44       15     40                                                                                                                                                                Mas Paulo, tendo escolhido a Silas, partiu encomendado pelos irmãos à graça do Senhor.\n",
      "122           44       16      4                                                                                                              Ao passar pelas cidades, entregavam aos irmãos, para que as observassem, as decisões tomadas pelos apóstolos e presbíteros de Jerusalém.\n",
      "123           44       17     18                                         E alguns dos filósofos epicureus e estoicos contendiam com ele, havendo quem perguntasse: Que quer dizer esse tagarela? E outros: Parece pregador de estranhos deuses; pois pregava a Jesus e a ressurreição.\n",
      "124           44       17     32                                                                                                                    Quando ouviram falar de ressurreição de mortos, uns escarneceram, e outros disseram: A respeito disso te ouviremos noutra ocasião.\n",
      "125           44       21     11                            e, vindo ter conosco, tomando o cinto de Paulo, ligando com ele os próprios pés e mãos, declarou: Isto diz o Espírito Santo: Assim os judeus, em Jerusalém, farão ao dono deste cinto e o entregarão nas mãos dos gentios.\n",
      "126           44       22      4                                                                                                                                                                 Persegui este Caminho até à morte, prendendo e metendo em cárceres homens e mulheres,\n",
      "127           44       23      6                                    Sabendo Paulo que uma parte do Sinédrio se compunha de saduceus e outra, de fariseus, exclamou: Varões, irmãos, eu sou fariseu, filho de fariseus! No tocante à esperança e à ressurreição dos mortos sou julgado!\n",
      "128           44       23      8                                                                                                                        Pois os saduceus declaram não haver ressurreição, nem anjo, nem espírito; ao passo que os fariseus admitem todas essas coisas.\n",
      "129           44       24     15                                                                                                                                       tendo esperança em Deus, como também estes a têm, de que haverá ressurreição, tanto de justos como de injustos.\n",
      "130           44       24     21                                                                                                                                  salvo estas palavras que clamei, estando entre eles: hoje, sou eu julgado por vós acerca da ressurreição dos mortos.\n",
      "131           44       25     11          Caso, pois, tenha eu praticado algum mal ou crime digno de morte, estou pronto para morrer; se, pelo contrário, não são verdadeiras as coisas de que me acusam, ninguém, para lhes ser agradável, pode entregar-me a eles. Apelo para César.\n",
      "132           44       26     23                                                                                                                            isto é, que o Cristo devia padecer e, sendo o primeiro da ressurreição dos mortos, anunciaria a luz ao povo e aos gentios.\n",
      "133           44       27      1                                                                                                         Quando foi decidido que navegássemos para a Itália, entregaram Paulo e alguns outros presos a um centurião chamado Júlio, da Coorte Imperial.\n",
      "134           44       27      9                                                                                                                              Depois de muito tempo, tendo-se tornado a navegação perigosa, e já passado o tempo do Dia do Jejum, admoestava-os Paulo,\n",
      "135           44       27     22                                                                                                                                             Mas, já agora, vos aconselho bom ânimo, porque nenhuma vida se perderá de entre vós, mas somente o navio.\n",
      "136           44       28     17         Três dias depois, ele convocou os principais dos judeus e, quando se reuniram, lhes disse: Varões irmãos, nada havendo feito contra o povo ou contra os costumes paternos, contudo, vim preso desde Jerusalém, entregue nas mãos dos romanos;\n",
      "137           45        1      4                                                                                                           e foi designado Filho de Deus com poder, segundo o espírito de santidade pela ressurreição dos mortos, a saber, Jesus Cristo, nosso Senhor,\n",
      "138           45        1     24                                                                                                                  Por isso, Deus entregou tais homens à imundícia, pelas concupiscências de seu próprio coração, para desonrarem o seu corpo entre si;\n",
      "139           45        1     26                                                                                          Por causa disso, os entregou Deus a paixões infames; porque até as mulheres mudaram o modo natural de suas relações íntimas por outro, contrário à natureza;\n",
      "140           45        1     28                                                                                               E, por haverem desprezado o conhecimento de Deus, o próprio Deus os entregou a uma disposição mental reprovável, para praticarem coisas inconvenientes,\n",
      "141           45        4     25                                                                                                                                                 o qual foi entregue por causa das nossas transgressões e ressuscitou por causa da nossa justificação.\n",
      "142           45        6      5                                                                                                                           Porque, se fomos unidos com ele na semelhança da sua morte, certamente, o seremos também na semelhança da sua ressurreição,\n",
      "143           45        6     17                                                                                                             Mas graças a Deus porque, outrora, escravos do pecado, contudo, viestes a obedecer de coração à forma de doutrina a que fostes entregues;\n",
      "144           45        8     32                                                                                                           Aquele que não poupou o seu próprio Filho, antes, por todos nós o entregou, porventura, não nos dará graciosamente com ele todas as coisas?\n",
      "145           45       10     19                                                         Pergunto mais: Porventura, não terá chegado isso ao conhecimento de Israel? Moisés já dizia: Eu vos porei em ciúmes com um povo que não é nação, com gente insensata eu vos provocarei à ira.\n",
      "146           45       11     11                                                                                              Pergunto, pois: porventura, tropeçaram para que caíssem? De modo nenhum! Mas, pela sua transgressão, veio a salvação aos gentios, para pô-los em ciúmes.\n",
      "147           45       11     14                                                                                                                                                            para ver se, de algum modo, posso incitar à emulação os do meu povo e salvar alguns deles.\n",
      "148           46        5      5                                                                                                                                           entregue a Satanás para a destruição da carne, a fim de que o espírito seja salvo no Dia do Senhor [Jesus].\n",
      "149           46       10     22                                                                                                                                                                                Ou provocaremos zelos no Senhor? Somos, acaso, mais fortes do que ele?\n",
      "150           46       11      2                                                                                                                                       De fato, eu vos louvo porque, em tudo, vos lembrais de mim e retendes as tradições assim como vo-las entreguei.\n",
      "151           46       11     23                                                                                                                                   Porque eu recebi do Senhor o que também vos entreguei: que o Senhor Jesus, na noite em que foi traído, tomou o pão;\n",
      "152           46       13      3                                                                                 E ainda que eu distribua todos os meus bens entre os pobres e ainda que entregue o meu próprio corpo para ser queimado, se não tiver amor, nada disso me aproveitará.\n",
      "153           46       15      3                                                                                                                                      Antes de tudo, vos entreguei o que também recebi: que Cristo morreu pelos nossos pecados, segundo as Escrituras,\n",
      "154           46       15     12                                                                                                        Ora, se é corrente pregar-se que Cristo ressuscitou dentre os mortos, como, pois, afirmam alguns dentre vós que não há ressurreição de mortos?\n",
      "155           46       15     13                                                                                                                                                                                   E, se não há ressurreição de mortos, então, Cristo não ressuscitou.\n",
      "156           46       15     21                                                                                                                                                              Visto que a morte veio por um homem, também por um homem veio a ressurreição dos mortos.\n",
      "157           46       15     24                                                                                                            E, então, virá o fim, quando ele entregar o reino ao Deus e Pai, quando houver destruído todo principado, bem como toda potestade e poder.\n",
      "158           46       15     42                                                                                                 Pois assim também é a ressurreição dos mortos. Semeia-se o corpo na corrupção, ressuscita na incorrupção. Semeia-se em desonra, ressuscita em glória.\n",
      "159           47        4     11                                                                                                       Porque nós, que vivemos, somos sempre entregues à morte por causa de Jesus, para que também a vida de Jesus se manifeste em nossa carne mortal.\n",
      "160           48        1     14                                                                                                                   E, na minha nação, quanto ao judaísmo, avantajava-me a muitos da minha idade, sendo extremamente zeloso das tradições de meus pais.\n",
      "161           48        2     20                                                                          logo, já não sou eu quem vive, mas Cristo vive em mim; e esse viver que, agora, tenho na carne, vivo pela fé no Filho de Deus, que me amou e a si mesmo se entregou por mim.\n",
      "162           49        4     19                                                                                                                                os quais, tendo-se tornado insensíveis, se entregaram à dissolução para, com avidez, cometerem toda sorte de impureza.\n",
      "163           49        5      2                                                                                                                       e andai em amor, como também Cristo nos amou e se entregou a si mesmo por nós, como oferta e sacrifício a Deus, em aroma suave.\n",
      "164           49        5     25                                                                                                                                                        Maridos, amai vossa mulher, como também Cristo amou a igreja e a si mesmo se entregou por ela,\n",
      "165           50        3     10                                                                                                                               para o conhecer, e o poder da sua ressurreição, e a comunhão dos seus sofrimentos, conformando-me com ele na sua morte;\n",
      "166           51        2      8                                                                                      Cuidado que ninguém vos venha a enredar com sua filosofia e vãs sutilezas, conforme a tradição dos homens, conforme os rudimentos do mundo e não segundo Cristo;\n",
      "167           53        2     15                                                                                                                     Assim, pois, irmãos, permanecei firmes e guardai as tradições que vos foram ensinadas, seja por palavra, seja por epístola nossa.\n",
      "168           53        3      6                                                                                   Nós vos ordenamos, irmãos, em nome do Senhor Jesus Cristo, que vos aparteis de todo irmão que ande desordenadamente e não segundo a tradição que de nós recebestes;\n",
      "169           54        1     20                                                                                                                     E dentre esses se contam Himeneu e Alexandre, os quais entreguei a Satanás, para serem castigados, a fim de não mais blasfemarem.\n",
      "170           54        4      7                                                                                                                                                           Mas rejeita as fábulas profanas e de velhas caducas. Exercita-te, pessoalmente, na piedade.\n",
      "171           54        5     11                                                                                                                                                      Mas rejeita viúvas mais novas, porque, quando se tornam levianas contra Cristo, querem casar-se,\n",
      "172           54        6     20                                                                                                      E tu, ó Timóteo, guarda o que te foi confiado, evitando os falatórios inúteis e profanos e as contradições do saber, como falsamente lhe chamam,\n",
      "173           55        1     12                                                                  e, por isso, estou sofrendo estas coisas; todavia, não me envergonho, porque sei em quem tenho crido e estou certo de que ele é poderoso para guardar o meu depósito até aquele Dia.\n",
      "174           55        1     14                                                                                                                                                                                   Guarda o bom depósito, mediante o Espírito Santo que habita em nós.\n",
      "175           55        2     18                                                                                                                                      Estes se desviaram da verdade, asseverando que a ressurreição já se realizou, e estão pervertendo a fé a alguns.\n",
      "176           55        2     23                                                                                                                                                                    E repele as questões insensatas e absurdas, pois sabes que só engendram contendas.\n",
      "177           56        3     10                                                                                                                                                                                 Evita o homem faccioso, depois de admoestá-lo primeira e segunda vez,\n",
      "178           58        6      2                                                                                                                                                            o ensino de batismos e da imposição de mãos, da ressurreição dos mortos e do juízo eterno.\n",
      "179           58       11     35                                                                                                        Mulheres receberam, pela ressurreição, os seus mortos. Alguns foram torturados, não aceitando seu resgate, para obterem superior ressurreição;\n",
      "180           58       12     19                                                                                                                                   e ao clangor da trombeta, e ao som de palavras tais, que quantos o ouviram suplicaram que não se lhes falasse mais,\n",
      "181           58       12     25                                     Tende cuidado, não recuseis ao que fala. Pois, se não escaparam aqueles que recusaram ouvir quem, divinamente, os advertia sobre a terra, muito menos nós, os que nos desviamos daquele que dos céus nos adverte,\n",
      "182           60        1      3                                                            Bendito o Deus e Pai de nosso Senhor Jesus Cristo, que, segundo a sua muita misericórdia, nos regenerou para uma viva esperança, mediante a ressurreição de Jesus Cristo dentre os mortos,\n",
      "183           60        2     23                                                                                                              pois ele, quando ultrajado, não revidava com ultraje; quando maltratado, não fazia ameaças, mas entregava-se àquele que julga retamente,\n",
      "184           60        3     21                                                       a qual, figurando o batismo, agora também vos salva, não sendo a remoção da imundícia da carne, mas a indagação de uma boa consciência para com Deus, por meio da ressurreição de Jesus Cristo;\n",
      "185           61        2      4                                                                                                           Ora, se Deus não poupou anjos quando pecaram, antes, precipitando-os no inferno, os entregou a abismos de trevas, reservando-os para juízo;\n",
      "186           61        2     21                                                                                 Pois melhor lhes fora nunca tivessem conhecido o caminho da justiça do que, após conhecê-lo, volverem para trás, apartando-se do santo mandamento que lhes fora dado.\n",
      "187           65        1      3  Amados, quando empregava toda a diligência em escrever-vos acerca da nossa comum salvação, foi que me senti obrigado a corresponder-me convosco, exortando-vos a batalhardes, diligentemente, pela fé que uma vez por todas foi entregue aos santos.\n",
      "188           66       20      5                                                                                                                                            Os restantes dos mortos não reviveram até que se completassem os mil anos. Esta é a primeira ressurreição.\n",
      "189           66       20      6                                          Bem-aventurado e santo é aquele que tem parte na primeira ressurreição; sobre esses a segunda morte não tem autoridade; pelo contrário, serão sacerdotes de Deus e de Cristo e reinarão com ele os mil anos.\n"
     ]
    }
   ],
   "source": [
    "print(gnt_by_strongs.to_string())"
   ]
  },
  {
   "cell_type": "code",
   "execution_count": 10,
   "metadata": {},
   "outputs": [],
   "source": [
    "lxx = '/Users/davison/Software/almeida-semantica/db/lxx.db'"
   ]
  },
  {
   "cell_type": "code",
   "execution_count": null,
   "metadata": {},
   "outputs": [],
   "source": [
    "lxx_cp_vs_ok"
   ]
  },
  {
   "cell_type": "code",
   "execution_count": 11,
   "metadata": {},
   "outputs": [],
   "source": [
    "lxx_db = pd.read_sql_query(\"select * from content\", ConectorBD(lxx).con)\n",
    "# lxx_db.query('book_name == \"Gen\"').word_root"
   ]
  },
  {
   "cell_type": "code",
   "execution_count": 12,
   "metadata": {},
   "outputs": [
    {
     "data": {
      "application/vnd.microsoft.datawrangler.viewer.v0+json": {
       "columns": [
        {
         "name": "index",
         "rawType": "int64",
         "type": "integer"
        },
        {
         "name": "id",
         "rawType": "int64",
         "type": "integer"
        },
        {
         "name": "src_name",
         "rawType": "object",
         "type": "string"
        },
        {
         "name": "book_name",
         "rawType": "object",
         "type": "string"
        },
        {
         "name": "chapter_nr",
         "rawType": "object",
         "type": "unknown"
        },
        {
         "name": "verse_nr",
         "rawType": "object",
         "type": "unknown"
        },
        {
         "name": "word_nr",
         "rawType": "int64",
         "type": "integer"
        },
        {
         "name": "word",
         "rawType": "object",
         "type": "string"
        },
        {
         "name": "word_root",
         "rawType": "object",
         "type": "string"
        },
        {
         "name": "morphology",
         "rawType": "object",
         "type": "string"
        }
       ],
       "ref": "21fbc9d6-6217-471a-a3c9-90c6730e1ece",
       "rows": [
        [
         "160235",
         "160236",
         "01.Gen.1.mlxx",
         "Gen",
         "1",
         "1",
         "1",
         "ἐν",
         "ἐν",
         "P"
        ],
        [
         "160236",
         "160237",
         "01.Gen.1.mlxx",
         "Gen",
         "1",
         "1",
         "2",
         "ἀρχῇ",
         "ἀρχή",
         "N1 DSF"
        ],
        [
         "160237",
         "160238",
         "01.Gen.1.mlxx",
         "Gen",
         "1",
         "1",
         "3",
         "ἐποίησεν",
         "ποιέω",
         "VAI AAI3S"
        ],
        [
         "160238",
         "160239",
         "01.Gen.1.mlxx",
         "Gen",
         "1",
         "1",
         "4",
         "ὁ",
         "ὁ",
         "RA NSM"
        ],
        [
         "160239",
         "160240",
         "01.Gen.1.mlxx",
         "Gen",
         "1",
         "1",
         "5",
         "θεὸς",
         "θεός",
         "N2 NSM"
        ]
       ],
       "shape": {
        "columns": 9,
        "rows": 5
       }
      },
      "text/html": [
       "<div>\n",
       "<style scoped>\n",
       "    .dataframe tbody tr th:only-of-type {\n",
       "        vertical-align: middle;\n",
       "    }\n",
       "\n",
       "    .dataframe tbody tr th {\n",
       "        vertical-align: top;\n",
       "    }\n",
       "\n",
       "    .dataframe thead th {\n",
       "        text-align: right;\n",
       "    }\n",
       "</style>\n",
       "<table border=\"1\" class=\"dataframe\">\n",
       "  <thead>\n",
       "    <tr style=\"text-align: right;\">\n",
       "      <th></th>\n",
       "      <th>id</th>\n",
       "      <th>src_name</th>\n",
       "      <th>book_name</th>\n",
       "      <th>chapter_nr</th>\n",
       "      <th>verse_nr</th>\n",
       "      <th>word_nr</th>\n",
       "      <th>word</th>\n",
       "      <th>word_root</th>\n",
       "      <th>morphology</th>\n",
       "    </tr>\n",
       "  </thead>\n",
       "  <tbody>\n",
       "    <tr>\n",
       "      <th>160235</th>\n",
       "      <td>160236</td>\n",
       "      <td>01.Gen.1.mlxx</td>\n",
       "      <td>Gen</td>\n",
       "      <td>1</td>\n",
       "      <td>1</td>\n",
       "      <td>1</td>\n",
       "      <td>ἐν</td>\n",
       "      <td>ἐν</td>\n",
       "      <td>P</td>\n",
       "    </tr>\n",
       "    <tr>\n",
       "      <th>160236</th>\n",
       "      <td>160237</td>\n",
       "      <td>01.Gen.1.mlxx</td>\n",
       "      <td>Gen</td>\n",
       "      <td>1</td>\n",
       "      <td>1</td>\n",
       "      <td>2</td>\n",
       "      <td>ἀρχῇ</td>\n",
       "      <td>ἀρχή</td>\n",
       "      <td>N1 DSF</td>\n",
       "    </tr>\n",
       "    <tr>\n",
       "      <th>160237</th>\n",
       "      <td>160238</td>\n",
       "      <td>01.Gen.1.mlxx</td>\n",
       "      <td>Gen</td>\n",
       "      <td>1</td>\n",
       "      <td>1</td>\n",
       "      <td>3</td>\n",
       "      <td>ἐποίησεν</td>\n",
       "      <td>ποιέω</td>\n",
       "      <td>VAI AAI3S</td>\n",
       "    </tr>\n",
       "    <tr>\n",
       "      <th>160238</th>\n",
       "      <td>160239</td>\n",
       "      <td>01.Gen.1.mlxx</td>\n",
       "      <td>Gen</td>\n",
       "      <td>1</td>\n",
       "      <td>1</td>\n",
       "      <td>4</td>\n",
       "      <td>ὁ</td>\n",
       "      <td>ὁ</td>\n",
       "      <td>RA NSM</td>\n",
       "    </tr>\n",
       "    <tr>\n",
       "      <th>160239</th>\n",
       "      <td>160240</td>\n",
       "      <td>01.Gen.1.mlxx</td>\n",
       "      <td>Gen</td>\n",
       "      <td>1</td>\n",
       "      <td>1</td>\n",
       "      <td>5</td>\n",
       "      <td>θεὸς</td>\n",
       "      <td>θεός</td>\n",
       "      <td>N2 NSM</td>\n",
       "    </tr>\n",
       "  </tbody>\n",
       "</table>\n",
       "</div>"
      ],
      "text/plain": [
       "            id       src_name book_name chapter_nr verse_nr  word_nr  \\\n",
       "160235  160236  01.Gen.1.mlxx       Gen          1        1        1   \n",
       "160236  160237  01.Gen.1.mlxx       Gen          1        1        2   \n",
       "160237  160238  01.Gen.1.mlxx       Gen          1        1        3   \n",
       "160238  160239  01.Gen.1.mlxx       Gen          1        1        4   \n",
       "160239  160240  01.Gen.1.mlxx       Gen          1        1        5   \n",
       "\n",
       "            word word_root morphology  \n",
       "160235        ἐν        ἐν          P  \n",
       "160236      ἀρχῇ      ἀρχή     N1 DSF  \n",
       "160237  ἐποίησεν     ποιέω  VAI AAI3S  \n",
       "160238         ὁ         ὁ     RA NSM  \n",
       "160239      θεὸς      θεός     N2 NSM  "
      ]
     },
     "execution_count": 12,
     "metadata": {},
     "output_type": "execute_result"
    }
   ],
   "source": [
    "lxx_db.query('book_name == \"Gen\"').head()"
   ]
  },
  {
   "cell_type": "code",
   "execution_count": 13,
   "metadata": {},
   "outputs": [],
   "source": [
    "lxx_cp_vs_ok['word'] = None"
   ]
  },
  {
   "cell_type": "code",
   "execution_count": null,
   "metadata": {},
   "outputs": [],
   "source": [
    "for idx in range(len(lxx_cp_vs_ok)): \n",
    "    if lxx_cp_vs_ok['normalized_word'] == koinenlp.normalize(lxx_db['word']"
   ]
  },
  {
   "cell_type": "code",
   "execution_count": 4,
   "metadata": {},
   "outputs": [],
   "source": [
    "lxx_df = pd.read_sql_query(\"\"\"\n",
    "                           SELECT \n",
    "                                src_name\n",
    "                                , book_name\n",
    "                                , chapter_nr\n",
    "                                , verse_nr\n",
    "                                , group_concat(word, ' ') as verse_text\n",
    "                           FROM \n",
    "                                content\n",
    "                           group by \n",
    "                                src_name\n",
    "                                , book_name\n",
    "                                , chapter_nr\n",
    "                                , verse_nr\n",
    "                           \"\"\"\n",
    "                           , ConectorBD(lxx).con)"
   ]
  },
  {
   "cell_type": "code",
   "execution_count": 6,
   "metadata": {},
   "outputs": [],
   "source": [
    "strongs_df = pd.read_sql_query(\"\"\"\n",
    "                                SELECT\n",
    "                                    *   \n",
    "                                FROM\n",
    "                                    strongs\n",
    "                                \"\"\", ConectorBD('/Users/davison/Software/almeida-semantica/db/strongs.sqlite').con)"
   ]
  },
  {
   "cell_type": "code",
   "execution_count": 17,
   "metadata": {},
   "outputs": [
    {
     "data": {
      "application/vnd.microsoft.datawrangler.viewer.v0+json": {
       "columns": [
        {
         "name": "index",
         "rawType": "int64",
         "type": "integer"
        },
        {
         "name": "number",
         "rawType": "object",
         "type": "string"
        },
        {
         "name": "lemma",
         "rawType": "object",
         "type": "string"
        },
        {
         "name": "xlit",
         "rawType": "object",
         "type": "string"
        },
        {
         "name": "pronounce",
         "rawType": "object",
         "type": "string"
        },
        {
         "name": "description",
         "rawType": "object",
         "type": "string"
        }
       ],
       "conversionMethod": "pd.DataFrame",
       "ref": "ea4dbb62-b441-445f-93a3-4f44786e690d",
       "rows": [
        [
         "0",
         "H1",
         "אָב",
         "ʼâb",
         "awb",
         "a primitive word; father, in a literal and immediate, or figurative and remote application; chief, (fore-) father(-less), [idiom] patrimony, principal. Compare names in 'Abi-'."
        ],
        [
         "1",
         "H2",
         "אַב",
         "ʼab",
         "ab",
         "(Aramaic) corresponding to אָב; {father}; father."
        ],
        [
         "2",
         "H3",
         "אֵב",
         "ʼêb",
         "abe",
         "from the same as אָבִיב; a green plant; greenness, fruit."
        ],
        [
         "3",
         "H4",
         "אֵב",
         "ʼêb",
         "abe",
         "(Aramaic) corresponding to אֵב; {a green plant}; fruit."
        ],
        [
         "4",
         "H5",
         "אֲבַגְתָא",
         "ʼĂbagthâʼ",
         "ab-ag-thaw'",
         "of foreign origin; Abagtha, a eunuch of Xerxes; Abagtha."
        ]
       ],
       "shape": {
        "columns": 5,
        "rows": 5
       }
      },
      "text/html": [
       "<div>\n",
       "<style scoped>\n",
       "    .dataframe tbody tr th:only-of-type {\n",
       "        vertical-align: middle;\n",
       "    }\n",
       "\n",
       "    .dataframe tbody tr th {\n",
       "        vertical-align: top;\n",
       "    }\n",
       "\n",
       "    .dataframe thead th {\n",
       "        text-align: right;\n",
       "    }\n",
       "</style>\n",
       "<table border=\"1\" class=\"dataframe\">\n",
       "  <thead>\n",
       "    <tr style=\"text-align: right;\">\n",
       "      <th></th>\n",
       "      <th>number</th>\n",
       "      <th>lemma</th>\n",
       "      <th>xlit</th>\n",
       "      <th>pronounce</th>\n",
       "      <th>description</th>\n",
       "    </tr>\n",
       "  </thead>\n",
       "  <tbody>\n",
       "    <tr>\n",
       "      <th>0</th>\n",
       "      <td>H1</td>\n",
       "      <td>אָב</td>\n",
       "      <td>ʼâb</td>\n",
       "      <td>awb</td>\n",
       "      <td>a primitive word; father, in a literal and imm...</td>\n",
       "    </tr>\n",
       "    <tr>\n",
       "      <th>1</th>\n",
       "      <td>H2</td>\n",
       "      <td>אַב</td>\n",
       "      <td>ʼab</td>\n",
       "      <td>ab</td>\n",
       "      <td>(Aramaic) corresponding to אָב; {father}; father.</td>\n",
       "    </tr>\n",
       "    <tr>\n",
       "      <th>2</th>\n",
       "      <td>H3</td>\n",
       "      <td>אֵב</td>\n",
       "      <td>ʼêb</td>\n",
       "      <td>abe</td>\n",
       "      <td>from the same as אָבִיב; a green plant; greenn...</td>\n",
       "    </tr>\n",
       "    <tr>\n",
       "      <th>3</th>\n",
       "      <td>H4</td>\n",
       "      <td>אֵב</td>\n",
       "      <td>ʼêb</td>\n",
       "      <td>abe</td>\n",
       "      <td>(Aramaic) corresponding to אֵב; {a green plant...</td>\n",
       "    </tr>\n",
       "    <tr>\n",
       "      <th>4</th>\n",
       "      <td>H5</td>\n",
       "      <td>אֲבַגְתָא</td>\n",
       "      <td>ʼĂbagthâʼ</td>\n",
       "      <td>ab-ag-thaw'</td>\n",
       "      <td>of foreign origin; Abagtha, a eunuch of Xerxes...</td>\n",
       "    </tr>\n",
       "  </tbody>\n",
       "</table>\n",
       "</div>"
      ],
      "text/plain": [
       "  number      lemma       xlit    pronounce  \\\n",
       "0     H1        אָב        ʼâb          awb   \n",
       "1     H2        אַב        ʼab           ab   \n",
       "2     H3        אֵב        ʼêb          abe   \n",
       "3     H4        אֵב        ʼêb          abe   \n",
       "4     H5  אֲבַגְתָא  ʼĂbagthâʼ  ab-ag-thaw'   \n",
       "\n",
       "                                         description  \n",
       "0  a primitive word; father, in a literal and imm...  \n",
       "1  (Aramaic) corresponding to אָב; {father}; father.  \n",
       "2  from the same as אָבִיב; a green plant; greenn...  \n",
       "3  (Aramaic) corresponding to אֵב; {a green plant...  \n",
       "4  of foreign origin; Abagtha, a eunuch of Xerxes...  "
      ]
     },
     "execution_count": 17,
     "metadata": {},
     "output_type": "execute_result"
    }
   ],
   "source": [
    "strongs_df.head()"
   ]
  },
  {
   "cell_type": "code",
   "execution_count": 7,
   "metadata": {},
   "outputs": [],
   "source": [
    "strongs_df['word_root'] = [koinenlp.normalize(i) for i in strongs_df.lemma]"
   ]
  },
  {
   "cell_type": "code",
   "execution_count": 8,
   "metadata": {},
   "outputs": [
    {
     "data": {
      "text/plain": [
       "0              אב\n",
       "1              אב\n",
       "2              אב\n",
       "3              אב\n",
       "4           אבגתא\n",
       "           ...   \n",
       "14293        ωστε\n",
       "14294       ωτιον\n",
       "14295     ωφελεια\n",
       "14296      ωφελεω\n",
       "14297    ωφελιμοσ\n",
       "Name: word_root, Length: 14298, dtype: object"
      ]
     },
     "execution_count": 8,
     "metadata": {},
     "output_type": "execute_result"
    }
   ],
   "source": [
    "strongs_df.word_root"
   ]
  },
  {
   "cell_type": "code",
   "execution_count": 28,
   "metadata": {},
   "outputs": [
    {
     "name": "stdout",
     "output_type": "stream",
     "text": [
      "ο\n"
     ]
    }
   ],
   "source": [
    "palavra_lxx_por_indice = koinenlp.normalize(lxx_db.query('book_name == \"Gen\"').word_root.values[3])\n",
    "# wd_gnt_by_vs = \n",
    "# palavra_lxx_por_indice = lxx_db.query('book_name == \"Gen\"').word_root.values[1]\n",
    "print(palavra_lxx_por_indice)\n",
    "strong_por_lxx_word_root = strongs_df.query('word_root == \"{}\"'.format(palavra_lxx_por_indice))"
   ]
  },
  {
   "cell_type": "code",
   "execution_count": 29,
   "metadata": {},
   "outputs": [
    {
     "data": {
      "application/vnd.microsoft.datawrangler.viewer.v0+json": {
       "columns": [
        {
         "name": "index",
         "rawType": "int64",
         "type": "integer"
        },
        {
         "name": "number",
         "rawType": "object",
         "type": "string"
        },
        {
         "name": "lemma",
         "rawType": "object",
         "type": "string"
        },
        {
         "name": "xlit",
         "rawType": "object",
         "type": "string"
        },
        {
         "name": "pronounce",
         "rawType": "object",
         "type": "string"
        },
        {
         "name": "description",
         "rawType": "object",
         "type": "string"
        },
        {
         "name": "word_root",
         "rawType": "object",
         "type": "string"
        }
       ],
       "conversionMethod": "pd.DataFrame",
       "ref": "4f88332c-7f31-4c42-9120-8c482857a371",
       "rows": [
        [
         "12261",
         "G3588",
         "ὁ",
         "ho",
         "to",
         "the definite article; the (sometimes to be supplied, at others omitted, in English idiom):--the, this, that, one, he, she, it, etc.",
         "ο"
        ]
       ],
       "shape": {
        "columns": 6,
        "rows": 1
       }
      },
      "text/html": [
       "<div>\n",
       "<style scoped>\n",
       "    .dataframe tbody tr th:only-of-type {\n",
       "        vertical-align: middle;\n",
       "    }\n",
       "\n",
       "    .dataframe tbody tr th {\n",
       "        vertical-align: top;\n",
       "    }\n",
       "\n",
       "    .dataframe thead th {\n",
       "        text-align: right;\n",
       "    }\n",
       "</style>\n",
       "<table border=\"1\" class=\"dataframe\">\n",
       "  <thead>\n",
       "    <tr style=\"text-align: right;\">\n",
       "      <th></th>\n",
       "      <th>number</th>\n",
       "      <th>lemma</th>\n",
       "      <th>xlit</th>\n",
       "      <th>pronounce</th>\n",
       "      <th>description</th>\n",
       "      <th>word_root</th>\n",
       "    </tr>\n",
       "  </thead>\n",
       "  <tbody>\n",
       "    <tr>\n",
       "      <th>12261</th>\n",
       "      <td>G3588</td>\n",
       "      <td>ὁ</td>\n",
       "      <td>ho</td>\n",
       "      <td>to</td>\n",
       "      <td>the definite article; the (sometimes to be sup...</td>\n",
       "      <td>ο</td>\n",
       "    </tr>\n",
       "  </tbody>\n",
       "</table>\n",
       "</div>"
      ],
      "text/plain": [
       "      number lemma xlit pronounce  \\\n",
       "12261  G3588     ὁ   ho        to   \n",
       "\n",
       "                                             description word_root  \n",
       "12261  the definite article; the (sometimes to be sup...         ο  "
      ]
     },
     "execution_count": 29,
     "metadata": {},
     "output_type": "execute_result"
    }
   ],
   "source": [
    "strong_por_lxx_word_root"
   ]
  },
  {
   "cell_type": "code",
   "execution_count": 18,
   "metadata": {},
   "outputs": [
    {
     "data": {
      "application/vnd.microsoft.datawrangler.viewer.v0+json": {
       "columns": [
        {
         "name": "index",
         "rawType": "int64",
         "type": "integer"
        },
        {
         "name": "src_name",
         "rawType": "object",
         "type": "string"
        },
        {
         "name": "book_name",
         "rawType": "object",
         "type": "string"
        },
        {
         "name": "chapter_nr",
         "rawType": "object",
         "type": "unknown"
        },
        {
         "name": "verse_nr",
         "rawType": "object",
         "type": "unknown"
        },
        {
         "name": "verse_text",
         "rawType": "object",
         "type": "string"
        }
       ],
       "conversionMethod": "pd.DataFrame",
       "ref": "0daf0cf3-8a52-4640-9d14-8b1443e5b361",
       "rows": [
        [
         "0",
         "01.Gen.1.mlxx",
         "Gen",
         "1",
         "1",
         "ἐν ἀρχῇ ἐποίησεν ὁ θεὸς τὸν οὐρανὸν καὶ τὴν γῆν"
        ],
        [
         "1",
         "01.Gen.1.mlxx",
         "Gen",
         "1",
         "2",
         "ἡ δὲ γῆ ἦν ἀόρατος καὶ ἀκατασκεύαστος καὶ σκότος ἐπάνω τῆς ἀβύσσου καὶ πνεῦμα θεοῦ ἐπεφέρετο ἐπάνω τοῦ ὕδατος"
        ],
        [
         "2",
         "01.Gen.1.mlxx",
         "Gen",
         "1",
         "3",
         "καὶ εἶπεν ὁ θεός γενηθήτω φῶς καὶ ἐγένετο φῶς"
        ],
        [
         "3",
         "01.Gen.1.mlxx",
         "Gen",
         "1",
         "4",
         "καὶ εἶδεν ὁ θεὸς τὸ φῶς ὅτι καλόν καὶ διεχώρισεν ὁ θεὸς ἀνὰ μέσον τοῦ φωτὸς καὶ ἀνὰ μέσον τοῦ σκότους"
        ],
        [
         "4",
         "01.Gen.1.mlxx",
         "Gen",
         "1",
         "5",
         "καὶ ἐκάλεσεν ὁ θεὸς τὸ φῶς ἡμέραν καὶ τὸ σκότος ἐκάλεσεν νύκτα καὶ ἐγένετο ἑσπέρα καὶ ἐγένετο πρωί ἡμέρα μία"
        ]
       ],
       "shape": {
        "columns": 5,
        "rows": 5
       }
      },
      "text/html": [
       "<div>\n",
       "<style scoped>\n",
       "    .dataframe tbody tr th:only-of-type {\n",
       "        vertical-align: middle;\n",
       "    }\n",
       "\n",
       "    .dataframe tbody tr th {\n",
       "        vertical-align: top;\n",
       "    }\n",
       "\n",
       "    .dataframe thead th {\n",
       "        text-align: right;\n",
       "    }\n",
       "</style>\n",
       "<table border=\"1\" class=\"dataframe\">\n",
       "  <thead>\n",
       "    <tr style=\"text-align: right;\">\n",
       "      <th></th>\n",
       "      <th>src_name</th>\n",
       "      <th>book_name</th>\n",
       "      <th>chapter_nr</th>\n",
       "      <th>verse_nr</th>\n",
       "      <th>verse_text</th>\n",
       "    </tr>\n",
       "  </thead>\n",
       "  <tbody>\n",
       "    <tr>\n",
       "      <th>0</th>\n",
       "      <td>01.Gen.1.mlxx</td>\n",
       "      <td>Gen</td>\n",
       "      <td>1</td>\n",
       "      <td>1</td>\n",
       "      <td>ἐν ἀρχῇ ἐποίησεν ὁ θεὸς τὸν οὐρανὸν καὶ τὴν γῆν</td>\n",
       "    </tr>\n",
       "    <tr>\n",
       "      <th>1</th>\n",
       "      <td>01.Gen.1.mlxx</td>\n",
       "      <td>Gen</td>\n",
       "      <td>1</td>\n",
       "      <td>2</td>\n",
       "      <td>ἡ δὲ γῆ ἦν ἀόρατος καὶ ἀκατασκεύαστος καὶ σκότ...</td>\n",
       "    </tr>\n",
       "    <tr>\n",
       "      <th>2</th>\n",
       "      <td>01.Gen.1.mlxx</td>\n",
       "      <td>Gen</td>\n",
       "      <td>1</td>\n",
       "      <td>3</td>\n",
       "      <td>καὶ εἶπεν ὁ θεός γενηθήτω φῶς καὶ ἐγένετο φῶς</td>\n",
       "    </tr>\n",
       "    <tr>\n",
       "      <th>3</th>\n",
       "      <td>01.Gen.1.mlxx</td>\n",
       "      <td>Gen</td>\n",
       "      <td>1</td>\n",
       "      <td>4</td>\n",
       "      <td>καὶ εἶδεν ὁ θεὸς τὸ φῶς ὅτι καλόν καὶ διεχώρισ...</td>\n",
       "    </tr>\n",
       "    <tr>\n",
       "      <th>4</th>\n",
       "      <td>01.Gen.1.mlxx</td>\n",
       "      <td>Gen</td>\n",
       "      <td>1</td>\n",
       "      <td>5</td>\n",
       "      <td>καὶ ἐκάλεσεν ὁ θεὸς τὸ φῶς ἡμέραν καὶ τὸ σκότο...</td>\n",
       "    </tr>\n",
       "  </tbody>\n",
       "</table>\n",
       "</div>"
      ],
      "text/plain": [
       "        src_name book_name chapter_nr verse_nr  \\\n",
       "0  01.Gen.1.mlxx       Gen          1        1   \n",
       "1  01.Gen.1.mlxx       Gen          1        2   \n",
       "2  01.Gen.1.mlxx       Gen          1        3   \n",
       "3  01.Gen.1.mlxx       Gen          1        4   \n",
       "4  01.Gen.1.mlxx       Gen          1        5   \n",
       "\n",
       "                                          verse_text  \n",
       "0    ἐν ἀρχῇ ἐποίησεν ὁ θεὸς τὸν οὐρανὸν καὶ τὴν γῆν  \n",
       "1  ἡ δὲ γῆ ἦν ἀόρατος καὶ ἀκατασκεύαστος καὶ σκότ...  \n",
       "2      καὶ εἶπεν ὁ θεός γενηθήτω φῶς καὶ ἐγένετο φῶς  \n",
       "3  καὶ εἶδεν ὁ θεὸς τὸ φῶς ὅτι καλόν καὶ διεχώρισ...  \n",
       "4  καὶ ἐκάλεσεν ὁ θεὸς τὸ φῶς ἡμέραν καὶ τὸ σκότο...  "
      ]
     },
     "execution_count": 18,
     "metadata": {},
     "output_type": "execute_result"
    }
   ],
   "source": [
    "lxx_df.head()"
   ]
  },
  {
   "cell_type": "code",
   "execution_count": 55,
   "metadata": {},
   "outputs": [],
   "source": [
    "sql_lxx_strongs = \"\"\"\n",
    "                    SELECT\n",
    "                        l.src_name\n",
    "                        , l.book_name\n",
    "                        , l.chapter_nr\n",
    "                        , l.verse_nr\n",
    "                        , l.word\n",
    "                        , l.word_root\n",
    "                        , s.number\n",
    "                        --, s.strongs_def\n",
    "                    FROM\n",
    "                        lxx_db l\n",
    "                    LEFT JOIN    \n",
    "                        strongs_df s on l.word_root = s.lemma\n",
    "                    WHERE\n",
    "                        --l.word like '%χαρακτὴρ%'\n",
    "                        s.number like '3776'\n",
    "                    \"\"\""
   ]
  },
  {
   "cell_type": "code",
   "execution_count": 56,
   "metadata": {},
   "outputs": [],
   "source": [
    "lxx_strongs_df = sqldf(sql_lxx_strongs)"
   ]
  },
  {
   "cell_type": "code",
   "execution_count": 57,
   "metadata": {},
   "outputs": [
    {
     "data": {
      "text/plain": [
       "0"
      ]
     },
     "execution_count": 57,
     "metadata": {},
     "output_type": "execute_result"
    }
   ],
   "source": [
    "len(lxx_strongs_df)"
   ]
  },
  {
   "cell_type": "code",
   "execution_count": 52,
   "metadata": {},
   "outputs": [
    {
     "data": {
      "application/vnd.microsoft.datawrangler.viewer.v0+json": {
       "columns": [
        {
         "name": "index",
         "rawType": "int64",
         "type": "integer"
        },
        {
         "name": "src_name",
         "rawType": "object",
         "type": "string"
        },
        {
         "name": "book_name",
         "rawType": "object",
         "type": "string"
        },
        {
         "name": "chapter_nr",
         "rawType": "object",
         "type": "string"
        },
        {
         "name": "verse_nr",
         "rawType": "object",
         "type": "string"
        },
        {
         "name": "word",
         "rawType": "object",
         "type": "string"
        },
        {
         "name": "word_root",
         "rawType": "object",
         "type": "string"
        },
        {
         "name": "number",
         "rawType": "object",
         "type": "unknown"
        }
       ],
       "conversionMethod": "pd.DataFrame",
       "ref": "fc062260-92e7-4c84-8044-d0c1994cc58f",
       "rows": [
        [
         "0",
         "04.Lev.mlxx",
         "Lev",
         "13",
         "28",
         "χαρακτὴρ",
         "χαρακτήρ",
         null
        ]
       ],
       "shape": {
        "columns": 7,
        "rows": 1
       }
      },
      "text/html": [
       "<div>\n",
       "<style scoped>\n",
       "    .dataframe tbody tr th:only-of-type {\n",
       "        vertical-align: middle;\n",
       "    }\n",
       "\n",
       "    .dataframe tbody tr th {\n",
       "        vertical-align: top;\n",
       "    }\n",
       "\n",
       "    .dataframe thead th {\n",
       "        text-align: right;\n",
       "    }\n",
       "</style>\n",
       "<table border=\"1\" class=\"dataframe\">\n",
       "  <thead>\n",
       "    <tr style=\"text-align: right;\">\n",
       "      <th></th>\n",
       "      <th>src_name</th>\n",
       "      <th>book_name</th>\n",
       "      <th>chapter_nr</th>\n",
       "      <th>verse_nr</th>\n",
       "      <th>word</th>\n",
       "      <th>word_root</th>\n",
       "      <th>number</th>\n",
       "    </tr>\n",
       "  </thead>\n",
       "  <tbody>\n",
       "    <tr>\n",
       "      <th>0</th>\n",
       "      <td>04.Lev.mlxx</td>\n",
       "      <td>Lev</td>\n",
       "      <td>13</td>\n",
       "      <td>28</td>\n",
       "      <td>χαρακτὴρ</td>\n",
       "      <td>χαρακτήρ</td>\n",
       "      <td>None</td>\n",
       "    </tr>\n",
       "  </tbody>\n",
       "</table>\n",
       "</div>"
      ],
      "text/plain": [
       "      src_name book_name chapter_nr verse_nr      word word_root number\n",
       "0  04.Lev.mlxx       Lev         13       28  χαρακτὴρ  χαρακτήρ   None"
      ]
     },
     "execution_count": 52,
     "metadata": {},
     "output_type": "execute_result"
    }
   ],
   "source": [
    "lxx_strongs_df.head()"
   ]
  },
  {
   "cell_type": "code",
   "execution_count": 10,
   "metadata": {},
   "outputs": [
    {
     "data": {
      "application/vnd.microsoft.datawrangler.viewer.v0+json": {
       "columns": [
        {
         "name": "index",
         "rawType": "int64",
         "type": "integer"
        },
        {
         "name": "src_name",
         "rawType": "object",
         "type": "string"
        },
        {
         "name": "book_name",
         "rawType": "object",
         "type": "string"
        },
        {
         "name": "chapter_nr",
         "rawType": "object",
         "type": "unknown"
        },
        {
         "name": "verse_nr",
         "rawType": "object",
         "type": "unknown"
        },
        {
         "name": "verse_text",
         "rawType": "object",
         "type": "string"
        }
       ],
       "conversionMethod": "pd.DataFrame",
       "ref": "3461b37e-2e94-40f0-b01e-a04186ac618d",
       "rows": [
        [
         "0",
         "01.Gen.1.mlxx",
         "Gen",
         "1",
         "1",
         "ἐν ἀρχῇ ἐποίησεν ὁ θεὸς τὸν οὐρανὸν καὶ τὴν γῆν"
        ],
        [
         "1",
         "01.Gen.1.mlxx",
         "Gen",
         "1",
         "2",
         "ἡ δὲ γῆ ἦν ἀόρατος καὶ ἀκατασκεύαστος καὶ σκότος ἐπάνω τῆς ἀβύσσου καὶ πνεῦμα θεοῦ ἐπεφέρετο ἐπάνω τοῦ ὕδατος"
        ],
        [
         "2",
         "01.Gen.1.mlxx",
         "Gen",
         "1",
         "3",
         "καὶ εἶπεν ὁ θεός γενηθήτω φῶς καὶ ἐγένετο φῶς"
        ],
        [
         "3",
         "01.Gen.1.mlxx",
         "Gen",
         "1",
         "4",
         "καὶ εἶδεν ὁ θεὸς τὸ φῶς ὅτι καλόν καὶ διεχώρισεν ὁ θεὸς ἀνὰ μέσον τοῦ φωτὸς καὶ ἀνὰ μέσον τοῦ σκότους"
        ],
        [
         "4",
         "01.Gen.1.mlxx",
         "Gen",
         "1",
         "5",
         "καὶ ἐκάλεσεν ὁ θεὸς τὸ φῶς ἡμέραν καὶ τὸ σκότος ἐκάλεσεν νύκτα καὶ ἐγένετο ἑσπέρα καὶ ἐγένετο πρωί ἡμέρα μία"
        ]
       ],
       "shape": {
        "columns": 5,
        "rows": 5
       }
      },
      "text/html": [
       "<div>\n",
       "<style scoped>\n",
       "    .dataframe tbody tr th:only-of-type {\n",
       "        vertical-align: middle;\n",
       "    }\n",
       "\n",
       "    .dataframe tbody tr th {\n",
       "        vertical-align: top;\n",
       "    }\n",
       "\n",
       "    .dataframe thead th {\n",
       "        text-align: right;\n",
       "    }\n",
       "</style>\n",
       "<table border=\"1\" class=\"dataframe\">\n",
       "  <thead>\n",
       "    <tr style=\"text-align: right;\">\n",
       "      <th></th>\n",
       "      <th>src_name</th>\n",
       "      <th>book_name</th>\n",
       "      <th>chapter_nr</th>\n",
       "      <th>verse_nr</th>\n",
       "      <th>verse_text</th>\n",
       "    </tr>\n",
       "  </thead>\n",
       "  <tbody>\n",
       "    <tr>\n",
       "      <th>0</th>\n",
       "      <td>01.Gen.1.mlxx</td>\n",
       "      <td>Gen</td>\n",
       "      <td>1</td>\n",
       "      <td>1</td>\n",
       "      <td>ἐν ἀρχῇ ἐποίησεν ὁ θεὸς τὸν οὐρανὸν καὶ τὴν γῆν</td>\n",
       "    </tr>\n",
       "    <tr>\n",
       "      <th>1</th>\n",
       "      <td>01.Gen.1.mlxx</td>\n",
       "      <td>Gen</td>\n",
       "      <td>1</td>\n",
       "      <td>2</td>\n",
       "      <td>ἡ δὲ γῆ ἦν ἀόρατος καὶ ἀκατασκεύαστος καὶ σκότ...</td>\n",
       "    </tr>\n",
       "    <tr>\n",
       "      <th>2</th>\n",
       "      <td>01.Gen.1.mlxx</td>\n",
       "      <td>Gen</td>\n",
       "      <td>1</td>\n",
       "      <td>3</td>\n",
       "      <td>καὶ εἶπεν ὁ θεός γενηθήτω φῶς καὶ ἐγένετο φῶς</td>\n",
       "    </tr>\n",
       "    <tr>\n",
       "      <th>3</th>\n",
       "      <td>01.Gen.1.mlxx</td>\n",
       "      <td>Gen</td>\n",
       "      <td>1</td>\n",
       "      <td>4</td>\n",
       "      <td>καὶ εἶδεν ὁ θεὸς τὸ φῶς ὅτι καλόν καὶ διεχώρισ...</td>\n",
       "    </tr>\n",
       "    <tr>\n",
       "      <th>4</th>\n",
       "      <td>01.Gen.1.mlxx</td>\n",
       "      <td>Gen</td>\n",
       "      <td>1</td>\n",
       "      <td>5</td>\n",
       "      <td>καὶ ἐκάλεσεν ὁ θεὸς τὸ φῶς ἡμέραν καὶ τὸ σκότο...</td>\n",
       "    </tr>\n",
       "  </tbody>\n",
       "</table>\n",
       "</div>"
      ],
      "text/plain": [
       "        src_name book_name chapter_nr verse_nr  \\\n",
       "0  01.Gen.1.mlxx       Gen          1        1   \n",
       "1  01.Gen.1.mlxx       Gen          1        2   \n",
       "2  01.Gen.1.mlxx       Gen          1        3   \n",
       "3  01.Gen.1.mlxx       Gen          1        4   \n",
       "4  01.Gen.1.mlxx       Gen          1        5   \n",
       "\n",
       "                                          verse_text  \n",
       "0    ἐν ἀρχῇ ἐποίησεν ὁ θεὸς τὸν οὐρανὸν καὶ τὴν γῆν  \n",
       "1  ἡ δὲ γῆ ἦν ἀόρατος καὶ ἀκατασκεύαστος καὶ σκότ...  \n",
       "2      καὶ εἶπεν ὁ θεός γενηθήτω φῶς καὶ ἐγένετο φῶς  \n",
       "3  καὶ εἶδεν ὁ θεὸς τὸ φῶς ὅτι καλόν καὶ διεχώρισ...  \n",
       "4  καὶ ἐκάλεσεν ὁ θεὸς τὸ φῶς ἡμέραν καὶ τὸ σκότο...  "
      ]
     },
     "execution_count": 10,
     "metadata": {},
     "output_type": "execute_result"
    }
   ],
   "source": [
    "lxx_df.head()"
   ]
  },
  {
   "cell_type": "code",
   "execution_count": 9,
   "metadata": {},
   "outputs": [],
   "source": [
    "gnt = '/Users/davison/Software/almeida-semantica/db/sbl.db'"
   ]
  },
  {
   "cell_type": "code",
   "execution_count": 62,
   "metadata": {},
   "outputs": [],
   "source": [
    "gnt_df = pd.read_sql_query(\"SELECT * FROM words\", ConectorBD(gnt).con)"
   ]
  },
  {
   "cell_type": "code",
   "execution_count": 61,
   "metadata": {},
   "outputs": [],
   "source": [
    "gnt_df_gk_wd = pd.read_sql_query(\"SELECT * FROM words WHERE strongs like '3776'\", ConectorBD(gnt).con)"
   ]
  },
  {
   "cell_type": "code",
   "execution_count": 11,
   "metadata": {},
   "outputs": [],
   "source": [
    "gnt_grouped_df = pd.read_sql_query(\"\"\"\n",
    "                           SELECT\n",
    "                                nr_sq_livro\n",
    "                                , chapter\n",
    "                                , verse\n",
    "                                , group_concat(word, ' ') as words\n",
    "                                , group_concat(lemma, ' ') as lemmas\n",
    "                                , group_concat(strongs, ' ') as strongs\n",
    "                            FROM \n",
    "                                words\n",
    "                            group by\n",
    "                                nr_sq_livro\n",
    "                                , chapter\n",
    "                                , verse\"\"\", ConectorBD(gnt).con)"
   ]
  },
  {
   "cell_type": "code",
   "execution_count": 63,
   "metadata": {},
   "outputs": [
    {
     "data": {
      "application/vnd.microsoft.datawrangler.viewer.v0+json": {
       "columns": [
        {
         "name": "index",
         "rawType": "int64",
         "type": "integer"
        },
        {
         "name": "book",
         "rawType": "object",
         "type": "string"
        },
        {
         "name": "chapter",
         "rawType": "object",
         "type": "string"
        },
        {
         "name": "verse",
         "rawType": "object",
         "type": "string"
        },
        {
         "name": "pos",
         "rawType": "object",
         "type": "string"
        },
        {
         "name": "morph",
         "rawType": "object",
         "type": "string"
        },
        {
         "name": "lemma",
         "rawType": "object",
         "type": "string"
        },
        {
         "name": "strongs",
         "rawType": "object",
         "type": "string"
        },
        {
         "name": "word",
         "rawType": "object",
         "type": "string"
        },
        {
         "name": "punct",
         "rawType": "object",
         "type": "string"
        },
        {
         "name": "word_nr",
         "rawType": "object",
         "type": "string"
        },
        {
         "name": "nr_sq_livro",
         "rawType": "object",
         "type": "string"
        }
       ],
       "conversionMethod": "pd.DataFrame",
       "ref": "5c6c3ae7-d0a9-46ba-9348-3a4aff406902",
       "rows": [],
       "shape": {
        "columns": 11,
        "rows": 0
       }
      },
      "text/html": [
       "<div>\n",
       "<style scoped>\n",
       "    .dataframe tbody tr th:only-of-type {\n",
       "        vertical-align: middle;\n",
       "    }\n",
       "\n",
       "    .dataframe tbody tr th {\n",
       "        vertical-align: top;\n",
       "    }\n",
       "\n",
       "    .dataframe thead th {\n",
       "        text-align: right;\n",
       "    }\n",
       "</style>\n",
       "<table border=\"1\" class=\"dataframe\">\n",
       "  <thead>\n",
       "    <tr style=\"text-align: right;\">\n",
       "      <th></th>\n",
       "      <th>book</th>\n",
       "      <th>chapter</th>\n",
       "      <th>verse</th>\n",
       "      <th>pos</th>\n",
       "      <th>morph</th>\n",
       "      <th>lemma</th>\n",
       "      <th>strongs</th>\n",
       "      <th>word</th>\n",
       "      <th>punct</th>\n",
       "      <th>word_nr</th>\n",
       "      <th>nr_sq_livro</th>\n",
       "    </tr>\n",
       "  </thead>\n",
       "  <tbody>\n",
       "  </tbody>\n",
       "</table>\n",
       "</div>"
      ],
      "text/plain": [
       "Empty DataFrame\n",
       "Columns: [book, chapter, verse, pos, morph, lemma, strongs, word, punct, word_nr, nr_sq_livro]\n",
       "Index: []"
      ]
     },
     "execution_count": 63,
     "metadata": {},
     "output_type": "execute_result"
    }
   ],
   "source": [
    "gnt_df_gk_wd.head()"
   ]
  },
  {
   "cell_type": "code",
   "execution_count": 43,
   "metadata": {},
   "outputs": [
    {
     "data": {
      "application/vnd.microsoft.datawrangler.viewer.v0+json": {
       "columns": [
        {
         "name": "index",
         "rawType": "int64",
         "type": "integer"
        },
        {
         "name": "book",
         "rawType": "object",
         "type": "string"
        },
        {
         "name": "chapter",
         "rawType": "int64",
         "type": "integer"
        },
        {
         "name": "verse",
         "rawType": "int64",
         "type": "integer"
        },
        {
         "name": "pos",
         "rawType": "object",
         "type": "string"
        },
        {
         "name": "morph",
         "rawType": "object",
         "type": "string"
        },
        {
         "name": "lemma",
         "rawType": "object",
         "type": "string"
        },
        {
         "name": "strongs",
         "rawType": "object",
         "type": "string"
        },
        {
         "name": "word",
         "rawType": "object",
         "type": "string"
        },
        {
         "name": "punct",
         "rawType": "object",
         "type": "string"
        },
        {
         "name": "word_nr",
         "rawType": "int64",
         "type": "integer"
        },
        {
         "name": "nr_sq_livro",
         "rawType": "int64",
         "type": "integer"
        }
       ],
       "conversionMethod": "pd.DataFrame",
       "ref": "87104c9b-0c35-4131-89f7-802b1fb9b184",
       "rows": [
        [
         "87305",
         "Rom",
         "10",
         "9",
         "C-",
         "--------",
         "ὅτι",
         "03754",
         "ὅτι",
         " ",
         "1",
         "45"
        ],
        [
         "87306",
         "Rom",
         "10",
         "9",
         "C-",
         "--------",
         "ἐάν",
         "01437",
         "ἐὰν",
         " ⸀",
         "2",
         "45"
        ],
        [
         "87307",
         "Rom",
         "10",
         "9",
         "V-",
         "2AAS-S--",
         "ὁμολογέω",
         "03670",
         "ὁμολογήσῃς",
         " ",
         "3",
         "45"
        ],
        [
         "87308",
         "Rom",
         "10",
         "9",
         "P-",
         "--------",
         "ἐν",
         "01722",
         "ἐν",
         " ",
         "4",
         "45"
        ],
        [
         "87309",
         "Rom",
         "10",
         "9",
         "RA",
         "----DSN-",
         "ὁ",
         "03588",
         "τῷ",
         " ",
         "5",
         "45"
        ],
        [
         "87310",
         "Rom",
         "10",
         "9",
         "N-",
         "----DSN-",
         "στόμα",
         "04750",
         "στόματί",
         " ⸀",
         "6",
         "45"
        ],
        [
         "87311",
         "Rom",
         "10",
         "9",
         "RP",
         "----GS--",
         "σύ",
         "04771",
         "σου",
         " ",
         "7",
         "45"
        ],
        [
         "87312",
         "Rom",
         "10",
         "9",
         "N-",
         "----ASM-",
         "κύριος",
         "02962",
         "κύριον",
         " ",
         "8",
         "45"
        ],
        [
         "87313",
         "Rom",
         "10",
         "9",
         "N-",
         "----ASM-",
         "Ἰησοῦς",
         "02424",
         "Ἰησοῦν",
         ", ",
         "9",
         "45"
        ],
        [
         "87314",
         "Rom",
         "10",
         "9",
         "C-",
         "--------",
         "καί",
         "02532",
         "καὶ",
         " ",
         "10",
         "45"
        ],
        [
         "87315",
         "Rom",
         "10",
         "9",
         "V-",
         "2AAS-S--",
         "πιστεύω",
         "04100",
         "πιστεύσῃς",
         " ",
         "11",
         "45"
        ],
        [
         "87316",
         "Rom",
         "10",
         "9",
         "P-",
         "--------",
         "ἐν",
         "01722",
         "ἐν",
         " ",
         "12",
         "45"
        ],
        [
         "87317",
         "Rom",
         "10",
         "9",
         "RA",
         "----DSF-",
         "ὁ",
         "03588",
         "τῇ",
         " ",
         "13",
         "45"
        ],
        [
         "87318",
         "Rom",
         "10",
         "9",
         "N-",
         "----DSF-",
         "καρδία",
         "02588",
         "καρδίᾳ",
         " ",
         "14",
         "45"
        ],
        [
         "87319",
         "Rom",
         "10",
         "9",
         "RP",
         "----GS--",
         "σύ",
         "04771",
         "σου",
         " ",
         "15",
         "45"
        ],
        [
         "87320",
         "Rom",
         "10",
         "9",
         "C-",
         "--------",
         "ὅτι",
         "03754",
         "ὅτι",
         " ",
         "16",
         "45"
        ],
        [
         "87321",
         "Rom",
         "10",
         "9",
         "RA",
         "----NSM-",
         "ὁ",
         "03588",
         "ὁ",
         " ",
         "17",
         "45"
        ],
        [
         "87322",
         "Rom",
         "10",
         "9",
         "N-",
         "----NSM-",
         "θεός",
         "02316",
         "θεὸς",
         " ",
         "18",
         "45"
        ],
        [
         "87323",
         "Rom",
         "10",
         "9",
         "RP",
         "----ASM-",
         "αὐτός",
         "00846",
         "αὐτὸν",
         " ",
         "19",
         "45"
        ],
        [
         "87324",
         "Rom",
         "10",
         "9",
         "V-",
         "3AAI-S--",
         "ἐγείρω",
         "01453",
         "ἤγειρεν",
         " ",
         "20",
         "45"
        ],
        [
         "87325",
         "Rom",
         "10",
         "9",
         "P-",
         "--------",
         "ἐκ",
         "01537",
         "ἐκ",
         " ",
         "21",
         "45"
        ],
        [
         "87326",
         "Rom",
         "10",
         "9",
         "A-",
         "----GPM-",
         "νεκρός",
         "03498",
         "νεκρῶν",
         ", ",
         "22",
         "45"
        ],
        [
         "87327",
         "Rom",
         "10",
         "9",
         "V-",
         "2FPI-S--",
         "σῴζω",
         "None",
         "σωθήσῃ",
         "·\n",
         "23",
         "45"
        ]
       ],
       "shape": {
        "columns": 11,
        "rows": 23
       }
      },
      "text/html": [
       "<div>\n",
       "<style scoped>\n",
       "    .dataframe tbody tr th:only-of-type {\n",
       "        vertical-align: middle;\n",
       "    }\n",
       "\n",
       "    .dataframe tbody tr th {\n",
       "        vertical-align: top;\n",
       "    }\n",
       "\n",
       "    .dataframe thead th {\n",
       "        text-align: right;\n",
       "    }\n",
       "</style>\n",
       "<table border=\"1\" class=\"dataframe\">\n",
       "  <thead>\n",
       "    <tr style=\"text-align: right;\">\n",
       "      <th></th>\n",
       "      <th>book</th>\n",
       "      <th>chapter</th>\n",
       "      <th>verse</th>\n",
       "      <th>pos</th>\n",
       "      <th>morph</th>\n",
       "      <th>lemma</th>\n",
       "      <th>strongs</th>\n",
       "      <th>word</th>\n",
       "      <th>punct</th>\n",
       "      <th>word_nr</th>\n",
       "      <th>nr_sq_livro</th>\n",
       "    </tr>\n",
       "  </thead>\n",
       "  <tbody>\n",
       "    <tr>\n",
       "      <th>87305</th>\n",
       "      <td>Rom</td>\n",
       "      <td>10</td>\n",
       "      <td>9</td>\n",
       "      <td>C-</td>\n",
       "      <td>--------</td>\n",
       "      <td>ὅτι</td>\n",
       "      <td>03754</td>\n",
       "      <td>ὅτι</td>\n",
       "      <td></td>\n",
       "      <td>1</td>\n",
       "      <td>45</td>\n",
       "    </tr>\n",
       "    <tr>\n",
       "      <th>87306</th>\n",
       "      <td>Rom</td>\n",
       "      <td>10</td>\n",
       "      <td>9</td>\n",
       "      <td>C-</td>\n",
       "      <td>--------</td>\n",
       "      <td>ἐάν</td>\n",
       "      <td>01437</td>\n",
       "      <td>ἐὰν</td>\n",
       "      <td>⸀</td>\n",
       "      <td>2</td>\n",
       "      <td>45</td>\n",
       "    </tr>\n",
       "    <tr>\n",
       "      <th>87307</th>\n",
       "      <td>Rom</td>\n",
       "      <td>10</td>\n",
       "      <td>9</td>\n",
       "      <td>V-</td>\n",
       "      <td>2AAS-S--</td>\n",
       "      <td>ὁμολογέω</td>\n",
       "      <td>03670</td>\n",
       "      <td>ὁμολογήσῃς</td>\n",
       "      <td></td>\n",
       "      <td>3</td>\n",
       "      <td>45</td>\n",
       "    </tr>\n",
       "    <tr>\n",
       "      <th>87308</th>\n",
       "      <td>Rom</td>\n",
       "      <td>10</td>\n",
       "      <td>9</td>\n",
       "      <td>P-</td>\n",
       "      <td>--------</td>\n",
       "      <td>ἐν</td>\n",
       "      <td>01722</td>\n",
       "      <td>ἐν</td>\n",
       "      <td></td>\n",
       "      <td>4</td>\n",
       "      <td>45</td>\n",
       "    </tr>\n",
       "    <tr>\n",
       "      <th>87309</th>\n",
       "      <td>Rom</td>\n",
       "      <td>10</td>\n",
       "      <td>9</td>\n",
       "      <td>RA</td>\n",
       "      <td>----DSN-</td>\n",
       "      <td>ὁ</td>\n",
       "      <td>03588</td>\n",
       "      <td>τῷ</td>\n",
       "      <td></td>\n",
       "      <td>5</td>\n",
       "      <td>45</td>\n",
       "    </tr>\n",
       "    <tr>\n",
       "      <th>87310</th>\n",
       "      <td>Rom</td>\n",
       "      <td>10</td>\n",
       "      <td>9</td>\n",
       "      <td>N-</td>\n",
       "      <td>----DSN-</td>\n",
       "      <td>στόμα</td>\n",
       "      <td>04750</td>\n",
       "      <td>στόματί</td>\n",
       "      <td>⸀</td>\n",
       "      <td>6</td>\n",
       "      <td>45</td>\n",
       "    </tr>\n",
       "    <tr>\n",
       "      <th>87311</th>\n",
       "      <td>Rom</td>\n",
       "      <td>10</td>\n",
       "      <td>9</td>\n",
       "      <td>RP</td>\n",
       "      <td>----GS--</td>\n",
       "      <td>σύ</td>\n",
       "      <td>04771</td>\n",
       "      <td>σου</td>\n",
       "      <td></td>\n",
       "      <td>7</td>\n",
       "      <td>45</td>\n",
       "    </tr>\n",
       "    <tr>\n",
       "      <th>87312</th>\n",
       "      <td>Rom</td>\n",
       "      <td>10</td>\n",
       "      <td>9</td>\n",
       "      <td>N-</td>\n",
       "      <td>----ASM-</td>\n",
       "      <td>κύριος</td>\n",
       "      <td>02962</td>\n",
       "      <td>κύριον</td>\n",
       "      <td></td>\n",
       "      <td>8</td>\n",
       "      <td>45</td>\n",
       "    </tr>\n",
       "    <tr>\n",
       "      <th>87313</th>\n",
       "      <td>Rom</td>\n",
       "      <td>10</td>\n",
       "      <td>9</td>\n",
       "      <td>N-</td>\n",
       "      <td>----ASM-</td>\n",
       "      <td>Ἰησοῦς</td>\n",
       "      <td>02424</td>\n",
       "      <td>Ἰησοῦν</td>\n",
       "      <td>,</td>\n",
       "      <td>9</td>\n",
       "      <td>45</td>\n",
       "    </tr>\n",
       "    <tr>\n",
       "      <th>87314</th>\n",
       "      <td>Rom</td>\n",
       "      <td>10</td>\n",
       "      <td>9</td>\n",
       "      <td>C-</td>\n",
       "      <td>--------</td>\n",
       "      <td>καί</td>\n",
       "      <td>02532</td>\n",
       "      <td>καὶ</td>\n",
       "      <td></td>\n",
       "      <td>10</td>\n",
       "      <td>45</td>\n",
       "    </tr>\n",
       "    <tr>\n",
       "      <th>87315</th>\n",
       "      <td>Rom</td>\n",
       "      <td>10</td>\n",
       "      <td>9</td>\n",
       "      <td>V-</td>\n",
       "      <td>2AAS-S--</td>\n",
       "      <td>πιστεύω</td>\n",
       "      <td>04100</td>\n",
       "      <td>πιστεύσῃς</td>\n",
       "      <td></td>\n",
       "      <td>11</td>\n",
       "      <td>45</td>\n",
       "    </tr>\n",
       "    <tr>\n",
       "      <th>87316</th>\n",
       "      <td>Rom</td>\n",
       "      <td>10</td>\n",
       "      <td>9</td>\n",
       "      <td>P-</td>\n",
       "      <td>--------</td>\n",
       "      <td>ἐν</td>\n",
       "      <td>01722</td>\n",
       "      <td>ἐν</td>\n",
       "      <td></td>\n",
       "      <td>12</td>\n",
       "      <td>45</td>\n",
       "    </tr>\n",
       "    <tr>\n",
       "      <th>87317</th>\n",
       "      <td>Rom</td>\n",
       "      <td>10</td>\n",
       "      <td>9</td>\n",
       "      <td>RA</td>\n",
       "      <td>----DSF-</td>\n",
       "      <td>ὁ</td>\n",
       "      <td>03588</td>\n",
       "      <td>τῇ</td>\n",
       "      <td></td>\n",
       "      <td>13</td>\n",
       "      <td>45</td>\n",
       "    </tr>\n",
       "    <tr>\n",
       "      <th>87318</th>\n",
       "      <td>Rom</td>\n",
       "      <td>10</td>\n",
       "      <td>9</td>\n",
       "      <td>N-</td>\n",
       "      <td>----DSF-</td>\n",
       "      <td>καρδία</td>\n",
       "      <td>02588</td>\n",
       "      <td>καρδίᾳ</td>\n",
       "      <td></td>\n",
       "      <td>14</td>\n",
       "      <td>45</td>\n",
       "    </tr>\n",
       "    <tr>\n",
       "      <th>87319</th>\n",
       "      <td>Rom</td>\n",
       "      <td>10</td>\n",
       "      <td>9</td>\n",
       "      <td>RP</td>\n",
       "      <td>----GS--</td>\n",
       "      <td>σύ</td>\n",
       "      <td>04771</td>\n",
       "      <td>σου</td>\n",
       "      <td></td>\n",
       "      <td>15</td>\n",
       "      <td>45</td>\n",
       "    </tr>\n",
       "    <tr>\n",
       "      <th>87320</th>\n",
       "      <td>Rom</td>\n",
       "      <td>10</td>\n",
       "      <td>9</td>\n",
       "      <td>C-</td>\n",
       "      <td>--------</td>\n",
       "      <td>ὅτι</td>\n",
       "      <td>03754</td>\n",
       "      <td>ὅτι</td>\n",
       "      <td></td>\n",
       "      <td>16</td>\n",
       "      <td>45</td>\n",
       "    </tr>\n",
       "    <tr>\n",
       "      <th>87321</th>\n",
       "      <td>Rom</td>\n",
       "      <td>10</td>\n",
       "      <td>9</td>\n",
       "      <td>RA</td>\n",
       "      <td>----NSM-</td>\n",
       "      <td>ὁ</td>\n",
       "      <td>03588</td>\n",
       "      <td>ὁ</td>\n",
       "      <td></td>\n",
       "      <td>17</td>\n",
       "      <td>45</td>\n",
       "    </tr>\n",
       "    <tr>\n",
       "      <th>87322</th>\n",
       "      <td>Rom</td>\n",
       "      <td>10</td>\n",
       "      <td>9</td>\n",
       "      <td>N-</td>\n",
       "      <td>----NSM-</td>\n",
       "      <td>θεός</td>\n",
       "      <td>02316</td>\n",
       "      <td>θεὸς</td>\n",
       "      <td></td>\n",
       "      <td>18</td>\n",
       "      <td>45</td>\n",
       "    </tr>\n",
       "    <tr>\n",
       "      <th>87323</th>\n",
       "      <td>Rom</td>\n",
       "      <td>10</td>\n",
       "      <td>9</td>\n",
       "      <td>RP</td>\n",
       "      <td>----ASM-</td>\n",
       "      <td>αὐτός</td>\n",
       "      <td>00846</td>\n",
       "      <td>αὐτὸν</td>\n",
       "      <td></td>\n",
       "      <td>19</td>\n",
       "      <td>45</td>\n",
       "    </tr>\n",
       "    <tr>\n",
       "      <th>87324</th>\n",
       "      <td>Rom</td>\n",
       "      <td>10</td>\n",
       "      <td>9</td>\n",
       "      <td>V-</td>\n",
       "      <td>3AAI-S--</td>\n",
       "      <td>ἐγείρω</td>\n",
       "      <td>01453</td>\n",
       "      <td>ἤγειρεν</td>\n",
       "      <td></td>\n",
       "      <td>20</td>\n",
       "      <td>45</td>\n",
       "    </tr>\n",
       "    <tr>\n",
       "      <th>87325</th>\n",
       "      <td>Rom</td>\n",
       "      <td>10</td>\n",
       "      <td>9</td>\n",
       "      <td>P-</td>\n",
       "      <td>--------</td>\n",
       "      <td>ἐκ</td>\n",
       "      <td>01537</td>\n",
       "      <td>ἐκ</td>\n",
       "      <td></td>\n",
       "      <td>21</td>\n",
       "      <td>45</td>\n",
       "    </tr>\n",
       "    <tr>\n",
       "      <th>87326</th>\n",
       "      <td>Rom</td>\n",
       "      <td>10</td>\n",
       "      <td>9</td>\n",
       "      <td>A-</td>\n",
       "      <td>----GPM-</td>\n",
       "      <td>νεκρός</td>\n",
       "      <td>03498</td>\n",
       "      <td>νεκρῶν</td>\n",
       "      <td>,</td>\n",
       "      <td>22</td>\n",
       "      <td>45</td>\n",
       "    </tr>\n",
       "    <tr>\n",
       "      <th>87327</th>\n",
       "      <td>Rom</td>\n",
       "      <td>10</td>\n",
       "      <td>9</td>\n",
       "      <td>V-</td>\n",
       "      <td>2FPI-S--</td>\n",
       "      <td>σῴζω</td>\n",
       "      <td>None</td>\n",
       "      <td>σωθήσῃ</td>\n",
       "      <td>·\\n</td>\n",
       "      <td>23</td>\n",
       "      <td>45</td>\n",
       "    </tr>\n",
       "  </tbody>\n",
       "</table>\n",
       "</div>"
      ],
      "text/plain": [
       "      book  chapter  verse pos     morph     lemma strongs        word punct  \\\n",
       "87305  Rom       10      9  C-  --------       ὅτι   03754         ὅτι         \n",
       "87306  Rom       10      9  C-  --------       ἐάν   01437         ἐὰν     ⸀   \n",
       "87307  Rom       10      9  V-  2AAS-S--  ὁμολογέω   03670  ὁμολογήσῃς         \n",
       "87308  Rom       10      9  P-  --------        ἐν   01722          ἐν         \n",
       "87309  Rom       10      9  RA  ----DSN-         ὁ   03588          τῷ         \n",
       "87310  Rom       10      9  N-  ----DSN-     στόμα   04750     στόματί     ⸀   \n",
       "87311  Rom       10      9  RP  ----GS--        σύ   04771         σου         \n",
       "87312  Rom       10      9  N-  ----ASM-    κύριος   02962      κύριον         \n",
       "87313  Rom       10      9  N-  ----ASM-    Ἰησοῦς   02424      Ἰησοῦν    ,    \n",
       "87314  Rom       10      9  C-  --------       καί   02532         καὶ         \n",
       "87315  Rom       10      9  V-  2AAS-S--   πιστεύω   04100   πιστεύσῃς         \n",
       "87316  Rom       10      9  P-  --------        ἐν   01722          ἐν         \n",
       "87317  Rom       10      9  RA  ----DSF-         ὁ   03588          τῇ         \n",
       "87318  Rom       10      9  N-  ----DSF-    καρδία   02588      καρδίᾳ         \n",
       "87319  Rom       10      9  RP  ----GS--        σύ   04771         σου         \n",
       "87320  Rom       10      9  C-  --------       ὅτι   03754         ὅτι         \n",
       "87321  Rom       10      9  RA  ----NSM-         ὁ   03588           ὁ         \n",
       "87322  Rom       10      9  N-  ----NSM-      θεός   02316        θεὸς         \n",
       "87323  Rom       10      9  RP  ----ASM-     αὐτός   00846       αὐτὸν         \n",
       "87324  Rom       10      9  V-  3AAI-S--    ἐγείρω   01453     ἤγειρεν         \n",
       "87325  Rom       10      9  P-  --------        ἐκ   01537          ἐκ         \n",
       "87326  Rom       10      9  A-  ----GPM-    νεκρός   03498      νεκρῶν    ,    \n",
       "87327  Rom       10      9  V-  2FPI-S--      σῴζω    None      σωθήσῃ   ·\\n   \n",
       "\n",
       "       word_nr  nr_sq_livro  \n",
       "87305        1           45  \n",
       "87306        2           45  \n",
       "87307        3           45  \n",
       "87308        4           45  \n",
       "87309        5           45  \n",
       "87310        6           45  \n",
       "87311        7           45  \n",
       "87312        8           45  \n",
       "87313        9           45  \n",
       "87314       10           45  \n",
       "87315       11           45  \n",
       "87316       12           45  \n",
       "87317       13           45  \n",
       "87318       14           45  \n",
       "87319       15           45  \n",
       "87320       16           45  \n",
       "87321       17           45  \n",
       "87322       18           45  \n",
       "87323       19           45  \n",
       "87324       20           45  \n",
       "87325       21           45  \n",
       "87326       22           45  \n",
       "87327       23           45  "
      ]
     },
     "execution_count": 43,
     "metadata": {},
     "output_type": "execute_result"
    }
   ],
   "source": [
    "gnt_df.loc[(gnt_df['nr_sq_livro'] == 45) & (gnt_df['chapter'] == 10) & (gnt_df['verse'] == 9)]"
   ]
  },
  {
   "cell_type": "code",
   "execution_count": null,
   "metadata": {},
   "outputs": [
    {
     "data": {
      "text/plain": [
       "40"
      ]
     },
     "execution_count": 20,
     "metadata": {},
     "output_type": "execute_result"
    }
   ],
   "source": [
    "gnt_grouped_df.values[0]"
   ]
  },
  {
   "cell_type": "code",
   "execution_count": 12,
   "metadata": {},
   "outputs": [
    {
     "name": "stdout",
     "output_type": "stream",
     "text": [
      "ομολογεω\n"
     ]
    },
    {
     "data": {
      "text/plain": [
       "verse_text\n",
       "False    30607\n",
       "Name: count, dtype: int64"
      ]
     },
     "execution_count": 12,
     "metadata": {},
     "output_type": "execute_result"
    }
   ],
   "source": [
    "# palavra_grega = koinenlp.normalize(strongs_grk_df['lemma'][1])\n",
    "import re\n",
    "palavra_grega = koinenlp.normalize(gnt_df.loc[(gnt_df['nr_sq_livro'] == 45) & (gnt_df['chapter'] == 10) & (gnt_df['verse'] == 9)].values[2][5])\n",
    "print(palavra_grega)\n",
    "df_query = lxx_df[\"verse_text\"].str.contains(palavra_grega, flags=re.IGNORECASE, regex=True)\n",
    "df_query.value_counts()\n"
   ]
  },
  {
   "cell_type": "code",
   "execution_count": null,
   "metadata": {},
   "outputs": [],
   "source": []
  },
  {
   "cell_type": "code",
   "execution_count": 21,
   "metadata": {},
   "outputs": [
    {
     "data": {
      "application/vnd.microsoft.datawrangler.viewer.v0+json": {
       "columns": [
        {
         "name": "index",
         "rawType": "int64",
         "type": "integer"
        },
        {
         "name": "nr_sq_livro",
         "rawType": "int64",
         "type": "integer"
        },
        {
         "name": "chapter",
         "rawType": "int64",
         "type": "integer"
        },
        {
         "name": "verse",
         "rawType": "int64",
         "type": "integer"
        },
        {
         "name": "words",
         "rawType": "object",
         "type": "string"
        },
        {
         "name": "lemmas",
         "rawType": "object",
         "type": "string"
        },
        {
         "name": "strongs",
         "rawType": "object",
         "type": "string"
        }
       ],
       "conversionMethod": "pd.DataFrame",
       "ref": "f811bd76-9e33-46a5-93b8-0e7e92abf2e3",
       "rows": [
        [
         "631",
         "40",
         "19",
         "16",
         "Καὶ ἰδοὺ εἷς προσελθὼν αὐτῷ εἶπεν Διδάσκαλε τί ἀγαθὸν ποιήσω ἵνα σχῶ ζωὴν αἰώνιον",
         "καί ἰδού εἷς προσέρχομαι αὐτός λέγω διδάσκαλος τίς ἀγαθός ποιέω ἵνα ἔχω ζωή αἰώνιος",
         "02532 02400 01520 04334 00846 03004 01320 05101 00018 04160 02443 02192 02222 00166"
        ]
       ],
       "shape": {
        "columns": 6,
        "rows": 1
       }
      },
      "text/html": [
       "<div>\n",
       "<style scoped>\n",
       "    .dataframe tbody tr th:only-of-type {\n",
       "        vertical-align: middle;\n",
       "    }\n",
       "\n",
       "    .dataframe tbody tr th {\n",
       "        vertical-align: top;\n",
       "    }\n",
       "\n",
       "    .dataframe thead th {\n",
       "        text-align: right;\n",
       "    }\n",
       "</style>\n",
       "<table border=\"1\" class=\"dataframe\">\n",
       "  <thead>\n",
       "    <tr style=\"text-align: right;\">\n",
       "      <th></th>\n",
       "      <th>nr_sq_livro</th>\n",
       "      <th>chapter</th>\n",
       "      <th>verse</th>\n",
       "      <th>words</th>\n",
       "      <th>lemmas</th>\n",
       "      <th>strongs</th>\n",
       "    </tr>\n",
       "  </thead>\n",
       "  <tbody>\n",
       "    <tr>\n",
       "      <th>631</th>\n",
       "      <td>40</td>\n",
       "      <td>19</td>\n",
       "      <td>16</td>\n",
       "      <td>Καὶ ἰδοὺ εἷς προσελθὼν αὐτῷ εἶπεν Διδάσκαλε τί...</td>\n",
       "      <td>καί ἰδού εἷς προσέρχομαι αὐτός λέγω διδάσκαλος...</td>\n",
       "      <td>02532 02400 01520 04334 00846 03004 01320 0510...</td>\n",
       "    </tr>\n",
       "  </tbody>\n",
       "</table>\n",
       "</div>"
      ],
      "text/plain": [
       "     nr_sq_livro  chapter  verse  \\\n",
       "631           40       19     16   \n",
       "\n",
       "                                                 words  \\\n",
       "631  Καὶ ἰδοὺ εἷς προσελθὼν αὐτῷ εἶπεν Διδάσκαλε τί...   \n",
       "\n",
       "                                                lemmas  \\\n",
       "631  καί ἰδού εἷς προσέρχομαι αὐτός λέγω διδάσκαλος...   \n",
       "\n",
       "                                               strongs  \n",
       "631  02532 02400 01520 04334 00846 03004 01320 0510...  "
      ]
     },
     "execution_count": 21,
     "metadata": {},
     "output_type": "execute_result"
    }
   ],
   "source": [
    "gnt_grouped_df.loc[(gnt_grouped_df['nr_sq_livro'] == 40) & (gnt_grouped_df['chapter'] == 19) & (gnt_grouped_df['verse'] == 16)]"
   ]
  },
  {
   "cell_type": "code",
   "execution_count": 15,
   "metadata": {},
   "outputs": [],
   "source": [
    "sql_lxx_expr ='''\n",
    "                SELECT \n",
    "                    lxx.book_name\n",
    "                    , lxx.chapter_nr\n",
    "                    , lxx.verse_nr\n",
    "                FROM \n",
    "                    lxx_df lxx\n",
    "                WHERE \n",
    "                    lxx.verse_text like '%ὁμοούσιος%'\n",
    "                '''"
   ]
  },
  {
   "cell_type": "code",
   "execution_count": 13,
   "metadata": {},
   "outputs": [],
   "source": [
    "sql_lxx_strongs_expr ='''\n",
    "                        SELECT \n",
    "                            lxx.book_name\n",
    "                            , lxx.chapter_nr\n",
    "                            , lxx.verse_nr\n",
    "                        FROM \n",
    "                            lxx_df lxx\n",
    "                        WHERE \n",
    "                            lxx.verse_text like '%ἀγαπῶμεν%' and lxx.verse_text like '%ὁμοούσιος%'\n",
    "                        '''"
   ]
  },
  {
   "cell_type": "code",
   "execution_count": 16,
   "metadata": {},
   "outputs": [],
   "source": [
    "occs_lxx_expr = sqldf(sql_lxx_expr)"
   ]
  },
  {
   "cell_type": "code",
   "execution_count": 17,
   "metadata": {},
   "outputs": [
    {
     "data": {
      "text/plain": [
       "0"
      ]
     },
     "execution_count": 17,
     "metadata": {},
     "output_type": "execute_result"
    }
   ],
   "source": [
    "len(occs_lxx_expr)"
   ]
  },
  {
   "cell_type": "code",
   "execution_count": 26,
   "metadata": {},
   "outputs": [
    {
     "data": {
      "application/vnd.microsoft.datawrangler.viewer.v0+json": {
       "columns": [
        {
         "name": "index",
         "rawType": "int64",
         "type": "integer"
        },
        {
         "name": "book_name",
         "rawType": "object",
         "type": "string"
        },
        {
         "name": "chapter_nr",
         "rawType": "object",
         "type": "string"
        },
        {
         "name": "verse_nr",
         "rawType": "object",
         "type": "string"
        }
       ],
       "conversionMethod": "pd.DataFrame",
       "ref": "7eebaafb-dcbc-44b9-ab6c-6f3728b1b74c",
       "rows": [],
       "shape": {
        "columns": 3,
        "rows": 0
       }
      },
      "text/html": [
       "<div>\n",
       "<style scoped>\n",
       "    .dataframe tbody tr th:only-of-type {\n",
       "        vertical-align: middle;\n",
       "    }\n",
       "\n",
       "    .dataframe tbody tr th {\n",
       "        vertical-align: top;\n",
       "    }\n",
       "\n",
       "    .dataframe thead th {\n",
       "        text-align: right;\n",
       "    }\n",
       "</style>\n",
       "<table border=\"1\" class=\"dataframe\">\n",
       "  <thead>\n",
       "    <tr style=\"text-align: right;\">\n",
       "      <th></th>\n",
       "      <th>book_name</th>\n",
       "      <th>chapter_nr</th>\n",
       "      <th>verse_nr</th>\n",
       "    </tr>\n",
       "  </thead>\n",
       "  <tbody>\n",
       "  </tbody>\n",
       "</table>\n",
       "</div>"
      ],
      "text/plain": [
       "Empty DataFrame\n",
       "Columns: [book_name, chapter_nr, verse_nr]\n",
       "Index: []"
      ]
     },
     "execution_count": 26,
     "metadata": {},
     "output_type": "execute_result"
    }
   ],
   "source": [
    "occs_lxx_expr.head()"
   ]
  },
  {
   "cell_type": "code",
   "execution_count": null,
   "metadata": {},
   "outputs": [],
   "source": [
    "# strongs_df_def = pd.read_sql_query(\"\"\"SELECT * FROM "
   ]
  },
  {
   "cell_type": "code",
   "execution_count": null,
   "metadata": {},
   "outputs": [],
   "source": [
    "txt = [t for t in gnt_df.loc[(gnt_df['nr_sq_livro'] == 58) & (gnt_df['chapter'] == 1) & (gnt_df['verse'] == 3)].values]"
   ]
  },
  {
   "cell_type": "code",
   "execution_count": null,
   "metadata": {},
   "outputs": [
    {
     "name": "stdout",
     "output_type": "stream",
     "text": [
      "ὅς 03739\n",
      "εἰμί 01510\n",
      "ἀπαύγασμα 00541\n",
      "ὁ 03588\n",
      "δόξα 01391\n",
      "καί 02532\n",
      "χαρακτήρ 05481\n",
      "ὁ 03588\n",
      "ὑπόστασις 05287\n",
      "αὐτός 00846\n",
      "φέρω 05342\n",
      "τέ 05037\n",
      "ὁ 03588\n",
      "πᾶς 03956\n",
      "ὁ 03588\n",
      "ῥῆμα 04487\n",
      "ὁ 03588\n",
      "δύναμις 01411\n",
      "διά 01223\n",
      "ἑαυτοῦ 01438\n",
      "καθαρισμός 02512\n",
      "ὁ 03588\n",
      "ἁμαρτία 00266\n",
      "ποιέω 04160\n",
      "καθίζω 02523\n",
      "ἐν 01722\n",
      "δεξιός 01188\n",
      "ὁ 03588\n",
      "μεγαλωσύνη 03172\n",
      "ἐν 01722\n",
      "ὑψηλός 05308\n"
     ]
    }
   ],
   "source": [
    "for i in txt:\n",
    "    print(i[5], i[6])"
   ]
  },
  {
   "cell_type": "code",
   "execution_count": 4,
   "metadata": {},
   "outputs": [],
   "source": [
    "import pandas as pd\n",
    "import sqlite3\n",
    "\n",
    "# Conecte ao banco e extraia os versículos\n",
    "con = sqlite3.connect('/Users/davison/Software/almeida-semantica/db/ARA.sqlite')\n",
    "pt_df = pd.read_sql_query(\"\"\"\n",
    "    SELECT book_id, chapter, verse, text\n",
    "    FROM verse\n",
    "    ORDER BY book_id, chapter, verse\n",
    "\"\"\", con)"
   ]
  },
  {
   "cell_type": "code",
   "execution_count": 6,
   "metadata": {},
   "outputs": [
    {
     "data": {
      "application/vnd.microsoft.datawrangler.viewer.v0+json": {
       "columns": [
        {
         "name": "index",
         "rawType": "int64",
         "type": "integer"
        },
        {
         "name": "book_id",
         "rawType": "int64",
         "type": "integer"
        },
        {
         "name": "chapter",
         "rawType": "int64",
         "type": "integer"
        },
        {
         "name": "verse",
         "rawType": "int64",
         "type": "integer"
        },
        {
         "name": "text",
         "rawType": "object",
         "type": "string"
        }
       ],
       "ref": "e5e7b520-4203-45d0-86eb-4964c1419c69",
       "rows": [
        [
         "0",
         "1",
         "1",
         "1",
         "No princípio, criou Deus os céus e a terra."
        ],
        [
         "1",
         "1",
         "1",
         "2",
         "A terra, porém, estava sem forma e vazia; havia trevas sobre a face do abismo, e o Espírito de Deus pairava por sobre as águas."
        ],
        [
         "2",
         "1",
         "1",
         "3",
         "Disse Deus: Haja luz; e houve luz."
        ],
        [
         "3",
         "1",
         "1",
         "4",
         "E viu Deus que a luz era boa; e fez separação entre a luz e as trevas."
        ],
        [
         "4",
         "1",
         "1",
         "5",
         "Chamou Deus à luz Dia e às trevas, Noite. Houve tarde e manhã, o primeiro dia."
        ]
       ],
       "shape": {
        "columns": 4,
        "rows": 5
       }
      },
      "text/html": [
       "<div>\n",
       "<style scoped>\n",
       "    .dataframe tbody tr th:only-of-type {\n",
       "        vertical-align: middle;\n",
       "    }\n",
       "\n",
       "    .dataframe tbody tr th {\n",
       "        vertical-align: top;\n",
       "    }\n",
       "\n",
       "    .dataframe thead th {\n",
       "        text-align: right;\n",
       "    }\n",
       "</style>\n",
       "<table border=\"1\" class=\"dataframe\">\n",
       "  <thead>\n",
       "    <tr style=\"text-align: right;\">\n",
       "      <th></th>\n",
       "      <th>book_id</th>\n",
       "      <th>chapter</th>\n",
       "      <th>verse</th>\n",
       "      <th>text</th>\n",
       "    </tr>\n",
       "  </thead>\n",
       "  <tbody>\n",
       "    <tr>\n",
       "      <th>0</th>\n",
       "      <td>1</td>\n",
       "      <td>1</td>\n",
       "      <td>1</td>\n",
       "      <td>No princípio, criou Deus os céus e a terra.</td>\n",
       "    </tr>\n",
       "    <tr>\n",
       "      <th>1</th>\n",
       "      <td>1</td>\n",
       "      <td>1</td>\n",
       "      <td>2</td>\n",
       "      <td>A terra, porém, estava sem forma e vazia; havi...</td>\n",
       "    </tr>\n",
       "    <tr>\n",
       "      <th>2</th>\n",
       "      <td>1</td>\n",
       "      <td>1</td>\n",
       "      <td>3</td>\n",
       "      <td>Disse Deus: Haja luz; e houve luz.</td>\n",
       "    </tr>\n",
       "    <tr>\n",
       "      <th>3</th>\n",
       "      <td>1</td>\n",
       "      <td>1</td>\n",
       "      <td>4</td>\n",
       "      <td>E viu Deus que a luz era boa; e fez separação ...</td>\n",
       "    </tr>\n",
       "    <tr>\n",
       "      <th>4</th>\n",
       "      <td>1</td>\n",
       "      <td>1</td>\n",
       "      <td>5</td>\n",
       "      <td>Chamou Deus à luz Dia e às trevas, Noite. Houv...</td>\n",
       "    </tr>\n",
       "  </tbody>\n",
       "</table>\n",
       "</div>"
      ],
      "text/plain": [
       "   book_id  chapter  verse                                               text\n",
       "0        1        1      1        No princípio, criou Deus os céus e a terra.\n",
       "1        1        1      2  A terra, porém, estava sem forma e vazia; havi...\n",
       "2        1        1      3                 Disse Deus: Haja luz; e houve luz.\n",
       "3        1        1      4  E viu Deus que a luz era boa; e fez separação ...\n",
       "4        1        1      5  Chamou Deus à luz Dia e às trevas, Noite. Houv..."
      ]
     },
     "execution_count": 6,
     "metadata": {},
     "output_type": "execute_result"
    }
   ],
   "source": [
    "pt_df.head()"
   ]
  },
  {
   "cell_type": "code",
   "execution_count": 5,
   "metadata": {},
   "outputs": [
    {
     "name": "stderr",
     "output_type": "stream",
     "text": [
      "/var/folders/66/v9zmf0pn5p18jnhnr4_7x2r80000gn/T/ipykernel_26420/3385805065.py:1: DtypeWarning: Columns (1,2) have mixed types. Specify dtype option on import or set low_memory=False.\n",
      "  lxx_df = pd.read_csv('/Users/davison/Software/almeida-semantica/lxxm_utf8_v4.csv')\n"
     ]
    }
   ],
   "source": [
    "lxx_df = pd.read_csv('/Users/davison/Software/almeida-semantica/lxxm_utf8_v4.csv')\n",
    "# Certifique-se de que as colunas relevantes são: book, chapter, verse, text"
   ]
  },
  {
   "cell_type": "code",
   "execution_count": 8,
   "metadata": {},
   "outputs": [
    {
     "data": {
      "application/vnd.microsoft.datawrangler.viewer.v0+json": {
       "columns": [
        {
         "name": "index",
         "rawType": "int64",
         "type": "integer"
        },
        {
         "name": "book",
         "rawType": "int64",
         "type": "integer"
        },
        {
         "name": "chapter",
         "rawType": "object",
         "type": "unknown"
        },
        {
         "name": "verse",
         "rawType": "object",
         "type": "unknown"
        },
        {
         "name": "part_of_speech",
         "rawType": "object",
         "type": "string"
        },
        {
         "name": "morphology",
         "rawType": "object",
         "type": "unknown"
        },
        {
         "name": "normalized_word",
         "rawType": "object",
         "type": "unknown"
        },
        {
         "name": "strongs",
         "rawType": "float64",
         "type": "float"
        }
       ],
       "ref": "4ae3cadf-02cd-4d04-941e-70e37948382d",
       "rows": [
        [
         "0",
         "1",
         "1",
         "1",
         "P-",
         "--------",
         "εν",
         "1722.0"
        ],
        [
         "1",
         "1",
         "1",
         "1",
         "N-",
         "----DSF-",
         "αρχη",
         "746.0"
        ],
        [
         "2",
         "1",
         "1",
         "1",
         "V-",
         "3AAI-S--",
         "εποιησεν",
         "4160.0"
        ],
        [
         "3",
         "1",
         "1",
         "1",
         "RA",
         "----NSM-",
         "ο",
         "3588.0"
        ],
        [
         "4",
         "1",
         "1",
         "1",
         "N-",
         "----NSM-",
         "θεος",
         "2316.0"
        ],
        [
         "5",
         "1",
         "1",
         "1",
         "RA",
         "----ASM-",
         "τον",
         "3588.0"
        ],
        [
         "6",
         "1",
         "1",
         "1",
         "N-",
         "----ASM-",
         "ουρανον",
         "3772.0"
        ],
        [
         "7",
         "1",
         "1",
         "1",
         "C-",
         "--------",
         "και",
         "2532.0"
        ],
        [
         "8",
         "1",
         "1",
         "1",
         "RA",
         "----ASF-",
         "την",
         "3588.0"
        ],
        [
         "9",
         "1",
         "1",
         "1",
         "N-",
         "----ASF-",
         "γην",
         "1093.0"
        ],
        [
         "10",
         "1",
         "1",
         "2",
         "RA",
         "----NSF-",
         "η",
         "3588.0"
        ],
        [
         "11",
         "1",
         "1",
         "2",
         "X-",
         "--------",
         "δε",
         "1161.0"
        ],
        [
         "12",
         "1",
         "1",
         "2",
         "N-",
         "----NSF-",
         "γη",
         "1093.0"
        ],
        [
         "13",
         "1",
         "1",
         "2",
         "V-",
         "3IAI-S--",
         "ην",
         "2258.0"
        ],
        [
         "14",
         "1",
         "1",
         "2",
         "A-",
         "----NSM-",
         "αορατος",
         "517.0"
        ],
        [
         "15",
         "1",
         "1",
         "2",
         "C-",
         "--------",
         "και",
         "2532.0"
        ],
        [
         "16",
         "1",
         "1",
         "2",
         "A-",
         "----NSM-",
         "ακατασκευαστος",
         null
        ],
        [
         "17",
         "1",
         "1",
         "2",
         "C-",
         "--------",
         "και",
         "2532.0"
        ],
        [
         "18",
         "1",
         "1",
         "2",
         "N-",
         "----NSN-",
         "σκοτος",
         "4655.0"
        ],
        [
         "19",
         "1",
         "1",
         "2",
         "P-",
         "--------",
         "επανω",
         "1883.0"
        ],
        [
         "20",
         "1",
         "1",
         "2",
         "RA",
         "----GSF-",
         "της",
         "3588.0"
        ],
        [
         "21",
         "1",
         "1",
         "2",
         "N-",
         "----GSF-",
         "αβυσσου",
         "12.0"
        ],
        [
         "22",
         "1",
         "1",
         "2",
         "C-",
         "--------",
         "και",
         "2532.0"
        ],
        [
         "23",
         "1",
         "1",
         "2",
         "N-",
         "----NSN-",
         "πνευμα",
         "4151.0"
        ],
        [
         "24",
         "1",
         "1",
         "2",
         "N-",
         "----GSM-",
         "θεου",
         "2316.0"
        ],
        [
         "25",
         "1",
         "1",
         "2",
         "V-",
         "3IMI-S--",
         "επεφερετο",
         "2018.0"
        ],
        [
         "26",
         "1",
         "1",
         "2",
         "P-",
         "--------",
         "επανω",
         "1883.0"
        ],
        [
         "27",
         "1",
         "1",
         "2",
         "RA",
         "----GSN-",
         "του",
         "3588.0"
        ],
        [
         "28",
         "1",
         "1",
         "2",
         "N-",
         "----GSN-",
         "υδατος",
         "5204.0"
        ],
        [
         "29",
         "1",
         "1",
         "3",
         "C-",
         "--------",
         "και",
         "2532.0"
        ],
        [
         "30",
         "1",
         "1",
         "3",
         "V-",
         "3AAI-S--",
         "ειπεν",
         "2036.0"
        ],
        [
         "31",
         "1",
         "1",
         "3",
         "RA",
         "----NSM-",
         "ο",
         "3588.0"
        ],
        [
         "32",
         "1",
         "1",
         "3",
         "N-",
         "----NSM-",
         "θεος",
         "2316.0"
        ],
        [
         "33",
         "1",
         "1",
         "3",
         "V-",
         "3APD-S--",
         "γενηθητω",
         "1096.0"
        ],
        [
         "34",
         "1",
         "1",
         "3",
         "N-",
         "----NSN-",
         "φως",
         "5457.0"
        ],
        [
         "35",
         "1",
         "1",
         "3",
         "C-",
         "--------",
         "και",
         "2532.0"
        ],
        [
         "36",
         "1",
         "1",
         "3",
         "V-",
         "3AMI-S--",
         "εγενετο",
         "1096.0"
        ],
        [
         "37",
         "1",
         "1",
         "3",
         "N-",
         "----NSN-",
         "φως",
         "5457.0"
        ],
        [
         "38",
         "1",
         "1",
         "4",
         "C-",
         "--------",
         "και",
         "2532.0"
        ],
        [
         "39",
         "1",
         "1",
         "4",
         "V-",
         "3AAI-S--",
         "ειδεν",
         "1492.0"
        ],
        [
         "40",
         "1",
         "1",
         "4",
         "RA",
         "----NSM-",
         "ο",
         "3588.0"
        ],
        [
         "41",
         "1",
         "1",
         "4",
         "N-",
         "----NSM-",
         "θεος",
         "2316.0"
        ],
        [
         "42",
         "1",
         "1",
         "4",
         "RA",
         "----ASN-",
         "το",
         "3588.0"
        ],
        [
         "43",
         "1",
         "1",
         "4",
         "N-",
         "----ASN-",
         "φως",
         "5457.0"
        ],
        [
         "44",
         "1",
         "1",
         "4",
         "C-",
         "--------",
         "οτι",
         "3754.0"
        ],
        [
         "45",
         "1",
         "1",
         "4",
         "A-",
         "----NSN-",
         "καλον",
         "2570.0"
        ],
        [
         "46",
         "1",
         "1",
         "4",
         "C-",
         "--------",
         "και",
         "2532.0"
        ],
        [
         "47",
         "1",
         "1",
         "4",
         "V-",
         "3AAI-S--",
         "διεχωρισεν",
         null
        ],
        [
         "48",
         "1",
         "1",
         "4",
         "RA",
         "----NSM-",
         "ο",
         "3588.0"
        ],
        [
         "49",
         "1",
         "1",
         "4",
         "N-",
         "----NSM-",
         "θεος",
         "2316.0"
        ]
       ],
       "shape": {
        "columns": 7,
        "rows": 475400
       }
      },
      "text/html": [
       "<div>\n",
       "<style scoped>\n",
       "    .dataframe tbody tr th:only-of-type {\n",
       "        vertical-align: middle;\n",
       "    }\n",
       "\n",
       "    .dataframe tbody tr th {\n",
       "        vertical-align: top;\n",
       "    }\n",
       "\n",
       "    .dataframe thead th {\n",
       "        text-align: right;\n",
       "    }\n",
       "</style>\n",
       "<table border=\"1\" class=\"dataframe\">\n",
       "  <thead>\n",
       "    <tr style=\"text-align: right;\">\n",
       "      <th></th>\n",
       "      <th>book</th>\n",
       "      <th>chapter</th>\n",
       "      <th>verse</th>\n",
       "      <th>part_of_speech</th>\n",
       "      <th>morphology</th>\n",
       "      <th>normalized_word</th>\n",
       "      <th>strongs</th>\n",
       "    </tr>\n",
       "  </thead>\n",
       "  <tbody>\n",
       "    <tr>\n",
       "      <th>0</th>\n",
       "      <td>1</td>\n",
       "      <td>1</td>\n",
       "      <td>1</td>\n",
       "      <td>P-</td>\n",
       "      <td>--------</td>\n",
       "      <td>εν</td>\n",
       "      <td>1722.0</td>\n",
       "    </tr>\n",
       "    <tr>\n",
       "      <th>1</th>\n",
       "      <td>1</td>\n",
       "      <td>1</td>\n",
       "      <td>1</td>\n",
       "      <td>N-</td>\n",
       "      <td>----DSF-</td>\n",
       "      <td>αρχη</td>\n",
       "      <td>746.0</td>\n",
       "    </tr>\n",
       "    <tr>\n",
       "      <th>2</th>\n",
       "      <td>1</td>\n",
       "      <td>1</td>\n",
       "      <td>1</td>\n",
       "      <td>V-</td>\n",
       "      <td>3AAI-S--</td>\n",
       "      <td>εποιησεν</td>\n",
       "      <td>4160.0</td>\n",
       "    </tr>\n",
       "    <tr>\n",
       "      <th>3</th>\n",
       "      <td>1</td>\n",
       "      <td>1</td>\n",
       "      <td>1</td>\n",
       "      <td>RA</td>\n",
       "      <td>----NSM-</td>\n",
       "      <td>ο</td>\n",
       "      <td>3588.0</td>\n",
       "    </tr>\n",
       "    <tr>\n",
       "      <th>4</th>\n",
       "      <td>1</td>\n",
       "      <td>1</td>\n",
       "      <td>1</td>\n",
       "      <td>N-</td>\n",
       "      <td>----NSM-</td>\n",
       "      <td>θεος</td>\n",
       "      <td>2316.0</td>\n",
       "    </tr>\n",
       "    <tr>\n",
       "      <th>...</th>\n",
       "      <td>...</td>\n",
       "      <td>...</td>\n",
       "      <td>...</td>\n",
       "      <td>...</td>\n",
       "      <td>...</td>\n",
       "      <td>...</td>\n",
       "      <td>...</td>\n",
       "    </tr>\n",
       "    <tr>\n",
       "      <th>475395</th>\n",
       "      <td>39</td>\n",
       "      <td>4</td>\n",
       "      <td>4</td>\n",
       "      <td>RA</td>\n",
       "      <td>----ASM-</td>\n",
       "      <td>τον</td>\n",
       "      <td>3588.0</td>\n",
       "    </tr>\n",
       "    <tr>\n",
       "      <th>475396</th>\n",
       "      <td>39</td>\n",
       "      <td>4</td>\n",
       "      <td>4</td>\n",
       "      <td>N-</td>\n",
       "      <td>--------</td>\n",
       "      <td>ισραηλ</td>\n",
       "      <td>2474.0</td>\n",
       "    </tr>\n",
       "    <tr>\n",
       "      <th>475397</th>\n",
       "      <td>39</td>\n",
       "      <td>4</td>\n",
       "      <td>4</td>\n",
       "      <td>N-</td>\n",
       "      <td>----APN-</td>\n",
       "      <td>προσταγματα</td>\n",
       "      <td>NaN</td>\n",
       "    </tr>\n",
       "    <tr>\n",
       "      <th>475398</th>\n",
       "      <td>39</td>\n",
       "      <td>4</td>\n",
       "      <td>4</td>\n",
       "      <td>C-</td>\n",
       "      <td>--------</td>\n",
       "      <td>και</td>\n",
       "      <td>2532.0</td>\n",
       "    </tr>\n",
       "    <tr>\n",
       "      <th>475399</th>\n",
       "      <td>39</td>\n",
       "      <td>4</td>\n",
       "      <td>4</td>\n",
       "      <td>N-</td>\n",
       "      <td>----APN-</td>\n",
       "      <td>δικαιωματα</td>\n",
       "      <td>1345.0</td>\n",
       "    </tr>\n",
       "  </tbody>\n",
       "</table>\n",
       "<p>475400 rows × 7 columns</p>\n",
       "</div>"
      ],
      "text/plain": [
       "        book chapter verse part_of_speech morphology normalized_word  strongs\n",
       "0          1       1     1             P-   --------              εν   1722.0\n",
       "1          1       1     1             N-   ----DSF-            αρχη    746.0\n",
       "2          1       1     1             V-   3AAI-S--        εποιησεν   4160.0\n",
       "3          1       1     1             RA   ----NSM-               ο   3588.0\n",
       "4          1       1     1             N-   ----NSM-            θεος   2316.0\n",
       "...      ...     ...   ...            ...        ...             ...      ...\n",
       "475395    39       4     4             RA   ----ASM-             τον   3588.0\n",
       "475396    39       4     4             N-   --------          ισραηλ   2474.0\n",
       "475397    39       4     4             N-   ----APN-     προσταγματα      NaN\n",
       "475398    39       4     4             C-   --------             και   2532.0\n",
       "475399    39       4     4             N-   ----APN-      δικαιωματα   1345.0\n",
       "\n",
       "[475400 rows x 7 columns]"
      ]
     },
     "execution_count": 8,
     "metadata": {},
     "output_type": "execute_result"
    }
   ],
   "source": [
    "lxx_df"
   ]
  },
  {
   "cell_type": "code",
   "execution_count": null,
   "metadata": {},
   "outputs": [],
   "source": [
    "lxx_df = sqldf(\"\"\"\n",
    "                SELECT \n",
    "                    book book_id\n",
    "                    , chapter\n",
    "                    , verse\n",
    "                    , group_concat(word, ' ') as text\n",
    "                FROM \n",
    "                    lxx_df\n",
    "                group by \n",
    "                    src_name\n",
    "                    , book_name\n",
    "                    , chapter_nr\n",
    "                    , verse_nr\n",
    "                \"\"\")"
   ]
  },
  {
   "cell_type": "code",
   "execution_count": null,
   "metadata": {},
   "outputs": [],
   "source": [
    "con_gnt = sqlite3.connect('/Users/davison/Software/almeida-semantica/db/sbl.db')\n",
    "gnt_df = pd.read_sql_query(\"\"\"\n",
    "    SELECT nr_sq_livro as book, chapter, verse, group_concat(word, ' ') as text\n",
    "    FROM words\n",
    "    GROUP BY nr_sq_livro, chapter, verse\n",
    "    ORDER BY nr_sq_livro, chapter, verse\n",
    "\"\"\", con_gnt)"
   ]
  },
  {
   "cell_type": "code",
   "execution_count": null,
   "metadata": {},
   "outputs": [],
   "source": []
  }
 ],
 "metadata": {
  "kernelspec": {
   "display_name": "almeida-semantica-EQJtyJGz",
   "language": "python",
   "name": "python3"
  },
  "language_info": {
   "codemirror_mode": {
    "name": "ipython",
    "version": 3
   },
   "file_extension": ".py",
   "mimetype": "text/x-python",
   "name": "python",
   "nbconvert_exporter": "python",
   "pygments_lexer": "ipython3",
   "version": "3.11.11"
  }
 },
 "nbformat": 4,
 "nbformat_minor": 2
}
