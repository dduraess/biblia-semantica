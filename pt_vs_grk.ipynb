{
 "cells": [
  {
   "cell_type": "code",
   "execution_count": 1,
   "metadata": {},
   "outputs": [],
   "source": [
    "import sys\n",
    "sys.path.append('/Users/davison/Software/almeida-semantica')\n",
    "from src.ConectorBD import *\n",
    "import cltk as cltk\n",
    "import pandas as pd\n",
    "from pandasql import sqldf\n",
    "import os"
   ]
  },
  {
   "cell_type": "code",
   "execution_count": 2,
   "metadata": {},
   "outputs": [],
   "source": [
    "ara= '/Users/davison/Software/almeida-semantica/db/ARA.sqlite'"
   ]
  },
  {
   "cell_type": "code",
   "execution_count": 3,
   "metadata": {},
   "outputs": [],
   "source": [
    "sql_pt= \"\"\"\n",
    "            SELECT \n",
    "            \tbook_id as nr_sq_livro, \n",
    "            \tchapter\n",
    "            \t, verse \n",
    "            \t, text\n",
    "            FROM \n",
    "            \tverse\n",
    "            ORDER BY \n",
    "            \tnr_sq_livro,\n",
    "            \tchapter,\n",
    "            \tverse\n",
    "            \"\"\""
   ]
  },
  {
   "cell_type": "code",
   "execution_count": 4,
   "metadata": {},
   "outputs": [],
   "source": [
    "pt_df = pd.read_sql_query(sql_pt, ConectorBD(ara).con)"
   ]
  },
  {
   "cell_type": "code",
   "execution_count": 6,
   "metadata": {},
   "outputs": [],
   "source": [
    "# del pt_at_df"
   ]
  },
  {
   "cell_type": "code",
   "execution_count": 5,
   "metadata": {},
   "outputs": [
    {
     "data": {
      "application/vnd.microsoft.datawrangler.viewer.v0+json": {
       "columns": [
        {
         "name": "index",
         "rawType": "int64",
         "type": "integer"
        },
        {
         "name": "nr_sq_livro",
         "rawType": "int64",
         "type": "integer"
        },
        {
         "name": "chapter",
         "rawType": "int64",
         "type": "integer"
        },
        {
         "name": "verse",
         "rawType": "int64",
         "type": "integer"
        },
        {
         "name": "text",
         "rawType": "object",
         "type": "string"
        }
       ],
       "conversionMethod": "pd.DataFrame",
       "ref": "224eb8b8-e5f8-4087-97f8-e31e36bf40d2",
       "rows": [
        [
         "0",
         "1",
         "1",
         "1",
         "No princípio, criou Deus os céus e a terra."
        ],
        [
         "1",
         "1",
         "1",
         "2",
         "A terra, porém, estava sem forma e vazia; havia trevas sobre a face do abismo, e o Espírito de Deus pairava por sobre as águas."
        ],
        [
         "2",
         "1",
         "1",
         "3",
         "Disse Deus: Haja luz; e houve luz."
        ],
        [
         "3",
         "1",
         "1",
         "4",
         "E viu Deus que a luz era boa; e fez separação entre a luz e as trevas."
        ],
        [
         "4",
         "1",
         "1",
         "5",
         "Chamou Deus à luz Dia e às trevas, Noite. Houve tarde e manhã, o primeiro dia."
        ]
       ],
       "shape": {
        "columns": 4,
        "rows": 5
       }
      },
      "text/html": [
       "<div>\n",
       "<style scoped>\n",
       "    .dataframe tbody tr th:only-of-type {\n",
       "        vertical-align: middle;\n",
       "    }\n",
       "\n",
       "    .dataframe tbody tr th {\n",
       "        vertical-align: top;\n",
       "    }\n",
       "\n",
       "    .dataframe thead th {\n",
       "        text-align: right;\n",
       "    }\n",
       "</style>\n",
       "<table border=\"1\" class=\"dataframe\">\n",
       "  <thead>\n",
       "    <tr style=\"text-align: right;\">\n",
       "      <th></th>\n",
       "      <th>nr_sq_livro</th>\n",
       "      <th>chapter</th>\n",
       "      <th>verse</th>\n",
       "      <th>text</th>\n",
       "    </tr>\n",
       "  </thead>\n",
       "  <tbody>\n",
       "    <tr>\n",
       "      <th>0</th>\n",
       "      <td>1</td>\n",
       "      <td>1</td>\n",
       "      <td>1</td>\n",
       "      <td>No princípio, criou Deus os céus e a terra.</td>\n",
       "    </tr>\n",
       "    <tr>\n",
       "      <th>1</th>\n",
       "      <td>1</td>\n",
       "      <td>1</td>\n",
       "      <td>2</td>\n",
       "      <td>A terra, porém, estava sem forma e vazia; havi...</td>\n",
       "    </tr>\n",
       "    <tr>\n",
       "      <th>2</th>\n",
       "      <td>1</td>\n",
       "      <td>1</td>\n",
       "      <td>3</td>\n",
       "      <td>Disse Deus: Haja luz; e houve luz.</td>\n",
       "    </tr>\n",
       "    <tr>\n",
       "      <th>3</th>\n",
       "      <td>1</td>\n",
       "      <td>1</td>\n",
       "      <td>4</td>\n",
       "      <td>E viu Deus que a luz era boa; e fez separação ...</td>\n",
       "    </tr>\n",
       "    <tr>\n",
       "      <th>4</th>\n",
       "      <td>1</td>\n",
       "      <td>1</td>\n",
       "      <td>5</td>\n",
       "      <td>Chamou Deus à luz Dia e às trevas, Noite. Houv...</td>\n",
       "    </tr>\n",
       "  </tbody>\n",
       "</table>\n",
       "</div>"
      ],
      "text/plain": [
       "   nr_sq_livro  chapter  verse  \\\n",
       "0            1        1      1   \n",
       "1            1        1      2   \n",
       "2            1        1      3   \n",
       "3            1        1      4   \n",
       "4            1        1      5   \n",
       "\n",
       "                                                text  \n",
       "0        No princípio, criou Deus os céus e a terra.  \n",
       "1  A terra, porém, estava sem forma e vazia; havi...  \n",
       "2                 Disse Deus: Haja luz; e houve luz.  \n",
       "3  E viu Deus que a luz era boa; e fez separação ...  \n",
       "4  Chamou Deus à luz Dia e às trevas, Noite. Houv...  "
      ]
     },
     "execution_count": 5,
     "metadata": {},
     "output_type": "execute_result"
    }
   ],
   "source": [
    "pt_df.head()"
   ]
  },
  {
   "cell_type": "code",
   "execution_count": 6,
   "metadata": {},
   "outputs": [
    {
     "data": {
      "text/plain": [
       "176"
      ]
     },
     "execution_count": 6,
     "metadata": {},
     "output_type": "execute_result"
    }
   ],
   "source": [
    "len( [vs for vs in pt_df.loc[(pt_df['nr_sq_livro'] == 19) & (pt_df['chapter'] == 119)].values] )"
   ]
  },
  {
   "cell_type": "code",
   "execution_count": 7,
   "metadata": {},
   "outputs": [
    {
     "data": {
      "application/vnd.microsoft.datawrangler.viewer.v0+json": {
       "columns": [
        {
         "name": "index",
         "rawType": "int64",
         "type": "integer"
        },
        {
         "name": "nr_sq_livro",
         "rawType": "int64",
         "type": "integer"
        },
        {
         "name": "chapter",
         "rawType": "int64",
         "type": "integer"
        },
        {
         "name": "verse",
         "rawType": "int64",
         "type": "integer"
        },
        {
         "name": "text",
         "rawType": "object",
         "type": "string"
        }
       ],
       "conversionMethod": "pd.DataFrame",
       "ref": "3d2b4675-9b52-4f4d-867c-a67df00fcd39",
       "rows": [
        [
         "28119",
         "45",
         "8",
         "1",
         "Agora, pois, já nenhuma condenação há para os que estão em Cristo Jesus."
        ],
        [
         "28120",
         "45",
         "8",
         "2",
         "Porque a lei do Espírito da vida, em Cristo Jesus, te livrou da lei do pecado e da morte."
        ],
        [
         "28121",
         "45",
         "8",
         "3",
         "Porquanto o que fora impossível à lei, no que estava enferma pela carne, isso fez Deus enviando o seu próprio Filho em semelhança de carne pecaminosa e no tocante ao pecado; e, com efeito, condenou Deus, na carne, o pecado,"
        ],
        [
         "28122",
         "45",
         "8",
         "4",
         "a fim de que o preceito da lei se cumprisse em nós, que não andamos segundo a carne, mas segundo o Espírito."
        ],
        [
         "28123",
         "45",
         "8",
         "5",
         "Porque os que se inclinam para a carne cogitam das coisas da carne; mas os que se inclinam para o Espírito, das coisas do Espírito."
        ],
        [
         "28124",
         "45",
         "8",
         "6",
         "Porque o pendor da carne dá para a morte, mas o do Espírito, para a vida e paz."
        ],
        [
         "28125",
         "45",
         "8",
         "7",
         "Por isso, o pendor da carne é inimizade contra Deus, pois não está sujeito à lei de Deus, nem mesmo pode estar."
        ],
        [
         "28126",
         "45",
         "8",
         "8",
         "Portanto, os que estão na carne não podem agradar a Deus."
        ],
        [
         "28127",
         "45",
         "8",
         "9",
         "Vós, porém, não estais na carne, mas no Espírito, se, de fato, o Espírito de Deus habita em vós. E, se alguém não tem o Espírito de Cristo, esse tal não é dele."
        ],
        [
         "28128",
         "45",
         "8",
         "10",
         "Se, porém, Cristo está em vós, o corpo, na verdade, está morto por causa do pecado, mas o espírito é vida, por causa da justiça."
        ],
        [
         "28129",
         "45",
         "8",
         "11",
         "Se habita em vós o Espírito daquele que ressuscitou a Jesus dentre os mortos, esse mesmo que ressuscitou a Cristo Jesus dentre os mortos vivificará também o vosso corpo mortal, por meio do seu Espírito, que em vós habita."
        ],
        [
         "28130",
         "45",
         "8",
         "12",
         "Assim, pois, irmãos, somos devedores, não à carne como se constrangidos a viver segundo a carne."
        ],
        [
         "28131",
         "45",
         "8",
         "13",
         "Porque, se viverdes segundo a carne, caminhais para a morte; mas, se, pelo Espírito, mortificardes os feitos do corpo, certamente, vivereis."
        ],
        [
         "28132",
         "45",
         "8",
         "14",
         "Pois todos os que são guiados pelo Espírito de Deus são filhos de Deus."
        ],
        [
         "28133",
         "45",
         "8",
         "15",
         "Porque não recebestes o espírito de escravidão, para viverdes, outra vez, atemorizados, mas recebestes o espírito de adoção, baseados no qual clamamos: Aba, Pai."
        ],
        [
         "28134",
         "45",
         "8",
         "16",
         "O próprio Espírito testifica com o nosso espírito que somos filhos de Deus."
        ],
        [
         "28135",
         "45",
         "8",
         "17",
         "Ora, se somos filhos, somos também herdeiros, herdeiros de Deus e coerdeiros com Cristo; se com ele sofremos, também com ele seremos glorificados."
        ],
        [
         "28136",
         "45",
         "8",
         "18",
         "Porque para mim tenho por certo que os sofrimentos do tempo presente não podem ser comparados com a glória a ser revelada em nós."
        ],
        [
         "28137",
         "45",
         "8",
         "19",
         "A ardente expectativa da criação aguarda a revelação dos filhos de Deus."
        ],
        [
         "28138",
         "45",
         "8",
         "20",
         "Pois a criação está sujeita à vaidade, não voluntariamente, mas por causa daquele que a sujeitou,"
        ],
        [
         "28139",
         "45",
         "8",
         "21",
         "na esperança de que a própria criação será redimida do cativeiro da corrupção, para a liberdade da glória dos filhos de Deus."
        ],
        [
         "28140",
         "45",
         "8",
         "22",
         "Porque sabemos que toda a criação, a um só tempo, geme e suporta angústias até agora."
        ],
        [
         "28141",
         "45",
         "8",
         "23",
         "E não somente ela, mas também nós, que temos as primícias do Espírito, igualmente gememos em nosso íntimo, aguardando a adoção de filhos, a redenção do nosso corpo."
        ],
        [
         "28142",
         "45",
         "8",
         "24",
         "Porque, na esperança, fomos salvos. Ora, esperança que se vê não é esperança; pois o que alguém vê, como o espera?"
        ],
        [
         "28143",
         "45",
         "8",
         "25",
         "Mas, se esperamos o que não vemos, com paciência o aguardamos."
        ],
        [
         "28144",
         "45",
         "8",
         "26",
         "Também o Espírito, semelhantemente, nos assiste em nossa fraqueza; porque não sabemos orar como convém, mas o mesmo Espírito intercede por nós sobremaneira, com gemidos inexprimíveis."
        ],
        [
         "28145",
         "45",
         "8",
         "27",
         "E aquele que sonda os corações sabe qual é a mente do Espírito, porque segundo a vontade de Deus é que ele intercede pelos santos."
        ],
        [
         "28146",
         "45",
         "8",
         "28",
         "Sabemos que todas as coisas cooperam para o bem daqueles que amam a Deus, daqueles que são chamados segundo o seu propósito."
        ],
        [
         "28147",
         "45",
         "8",
         "29",
         "Porquanto aos que de antemão conheceu, também os predestinou para serem conformes à imagem de seu Filho, a fim de que ele seja o primogênito entre muitos irmãos."
        ],
        [
         "28148",
         "45",
         "8",
         "30",
         "E aos que predestinou, a esses também chamou; e aos que chamou, a esses também justificou; e aos que justificou, a esses também glorificou."
        ],
        [
         "28149",
         "45",
         "8",
         "31",
         "Que diremos, pois, à vista destas coisas? Se Deus é por nós, quem será contra nós?"
        ],
        [
         "28150",
         "45",
         "8",
         "32",
         "Aquele que não poupou o seu próprio Filho, antes, por todos nós o entregou, porventura, não nos dará graciosamente com ele todas as coisas?"
        ],
        [
         "28151",
         "45",
         "8",
         "33",
         "Quem intentará acusação contra os eleitos de Deus? É Deus quem os justifica."
        ],
        [
         "28152",
         "45",
         "8",
         "34",
         "Quem os condenará? É Cristo Jesus quem morreu ou, antes, quem ressuscitou, o qual está à direita de Deus e também intercede por nós."
        ],
        [
         "28153",
         "45",
         "8",
         "35",
         "Quem nos separará do amor de Cristo? Será tribulação, ou angústia, ou perseguição, ou fome, ou nudez, ou perigo, ou espada?"
        ],
        [
         "28154",
         "45",
         "8",
         "36",
         "Como está escrito: Por amor de ti, somos entregues à morte o dia todo, fomos considerados como ovelhas para o matadouro."
        ],
        [
         "28155",
         "45",
         "8",
         "37",
         "Em todas estas coisas, porém, somos mais que vencedores, por meio daquele que nos amou."
        ],
        [
         "28156",
         "45",
         "8",
         "38",
         "Porque eu estou bem certo de que nem a morte, nem a vida, nem os anjos, nem os principados, nem as coisas do presente, nem do porvir, nem os poderes,"
        ],
        [
         "28157",
         "45",
         "8",
         "39",
         "nem a altura, nem a profundidade, nem qualquer outra criatura poderá separar-nos do amor de Deus, que está em Cristo Jesus, nosso Senhor."
        ]
       ],
       "shape": {
        "columns": 4,
        "rows": 39
       }
      },
      "text/html": [
       "<div>\n",
       "<style scoped>\n",
       "    .dataframe tbody tr th:only-of-type {\n",
       "        vertical-align: middle;\n",
       "    }\n",
       "\n",
       "    .dataframe tbody tr th {\n",
       "        vertical-align: top;\n",
       "    }\n",
       "\n",
       "    .dataframe thead th {\n",
       "        text-align: right;\n",
       "    }\n",
       "</style>\n",
       "<table border=\"1\" class=\"dataframe\">\n",
       "  <thead>\n",
       "    <tr style=\"text-align: right;\">\n",
       "      <th></th>\n",
       "      <th>nr_sq_livro</th>\n",
       "      <th>chapter</th>\n",
       "      <th>verse</th>\n",
       "      <th>text</th>\n",
       "    </tr>\n",
       "  </thead>\n",
       "  <tbody>\n",
       "    <tr>\n",
       "      <th>28119</th>\n",
       "      <td>45</td>\n",
       "      <td>8</td>\n",
       "      <td>1</td>\n",
       "      <td>Agora, pois, já nenhuma condenação há para os ...</td>\n",
       "    </tr>\n",
       "    <tr>\n",
       "      <th>28120</th>\n",
       "      <td>45</td>\n",
       "      <td>8</td>\n",
       "      <td>2</td>\n",
       "      <td>Porque a lei do Espírito da vida, em Cristo Je...</td>\n",
       "    </tr>\n",
       "    <tr>\n",
       "      <th>28121</th>\n",
       "      <td>45</td>\n",
       "      <td>8</td>\n",
       "      <td>3</td>\n",
       "      <td>Porquanto o que fora impossível à lei, no que ...</td>\n",
       "    </tr>\n",
       "    <tr>\n",
       "      <th>28122</th>\n",
       "      <td>45</td>\n",
       "      <td>8</td>\n",
       "      <td>4</td>\n",
       "      <td>a fim de que o preceito da lei se cumprisse em...</td>\n",
       "    </tr>\n",
       "    <tr>\n",
       "      <th>28123</th>\n",
       "      <td>45</td>\n",
       "      <td>8</td>\n",
       "      <td>5</td>\n",
       "      <td>Porque os que se inclinam para a carne cogitam...</td>\n",
       "    </tr>\n",
       "    <tr>\n",
       "      <th>28124</th>\n",
       "      <td>45</td>\n",
       "      <td>8</td>\n",
       "      <td>6</td>\n",
       "      <td>Porque o pendor da carne dá para a morte, mas ...</td>\n",
       "    </tr>\n",
       "    <tr>\n",
       "      <th>28125</th>\n",
       "      <td>45</td>\n",
       "      <td>8</td>\n",
       "      <td>7</td>\n",
       "      <td>Por isso, o pendor da carne é inimizade contra...</td>\n",
       "    </tr>\n",
       "    <tr>\n",
       "      <th>28126</th>\n",
       "      <td>45</td>\n",
       "      <td>8</td>\n",
       "      <td>8</td>\n",
       "      <td>Portanto, os que estão na carne não podem agra...</td>\n",
       "    </tr>\n",
       "    <tr>\n",
       "      <th>28127</th>\n",
       "      <td>45</td>\n",
       "      <td>8</td>\n",
       "      <td>9</td>\n",
       "      <td>Vós, porém, não estais na carne, mas no Espíri...</td>\n",
       "    </tr>\n",
       "    <tr>\n",
       "      <th>28128</th>\n",
       "      <td>45</td>\n",
       "      <td>8</td>\n",
       "      <td>10</td>\n",
       "      <td>Se, porém, Cristo está em vós, o corpo, na ver...</td>\n",
       "    </tr>\n",
       "    <tr>\n",
       "      <th>28129</th>\n",
       "      <td>45</td>\n",
       "      <td>8</td>\n",
       "      <td>11</td>\n",
       "      <td>Se habita em vós o Espírito daquele que ressus...</td>\n",
       "    </tr>\n",
       "    <tr>\n",
       "      <th>28130</th>\n",
       "      <td>45</td>\n",
       "      <td>8</td>\n",
       "      <td>12</td>\n",
       "      <td>Assim, pois, irmãos, somos devedores, não à ca...</td>\n",
       "    </tr>\n",
       "    <tr>\n",
       "      <th>28131</th>\n",
       "      <td>45</td>\n",
       "      <td>8</td>\n",
       "      <td>13</td>\n",
       "      <td>Porque, se viverdes segundo a carne, caminhais...</td>\n",
       "    </tr>\n",
       "    <tr>\n",
       "      <th>28132</th>\n",
       "      <td>45</td>\n",
       "      <td>8</td>\n",
       "      <td>14</td>\n",
       "      <td>Pois todos os que são guiados pelo Espírito de...</td>\n",
       "    </tr>\n",
       "    <tr>\n",
       "      <th>28133</th>\n",
       "      <td>45</td>\n",
       "      <td>8</td>\n",
       "      <td>15</td>\n",
       "      <td>Porque não recebestes o espírito de escravidão...</td>\n",
       "    </tr>\n",
       "    <tr>\n",
       "      <th>28134</th>\n",
       "      <td>45</td>\n",
       "      <td>8</td>\n",
       "      <td>16</td>\n",
       "      <td>O próprio Espírito testifica com o nosso espír...</td>\n",
       "    </tr>\n",
       "    <tr>\n",
       "      <th>28135</th>\n",
       "      <td>45</td>\n",
       "      <td>8</td>\n",
       "      <td>17</td>\n",
       "      <td>Ora, se somos filhos, somos também herdeiros, ...</td>\n",
       "    </tr>\n",
       "    <tr>\n",
       "      <th>28136</th>\n",
       "      <td>45</td>\n",
       "      <td>8</td>\n",
       "      <td>18</td>\n",
       "      <td>Porque para mim tenho por certo que os sofrime...</td>\n",
       "    </tr>\n",
       "    <tr>\n",
       "      <th>28137</th>\n",
       "      <td>45</td>\n",
       "      <td>8</td>\n",
       "      <td>19</td>\n",
       "      <td>A ardente expectativa da criação aguarda a rev...</td>\n",
       "    </tr>\n",
       "    <tr>\n",
       "      <th>28138</th>\n",
       "      <td>45</td>\n",
       "      <td>8</td>\n",
       "      <td>20</td>\n",
       "      <td>Pois a criação está sujeita à vaidade, não vol...</td>\n",
       "    </tr>\n",
       "    <tr>\n",
       "      <th>28139</th>\n",
       "      <td>45</td>\n",
       "      <td>8</td>\n",
       "      <td>21</td>\n",
       "      <td>na esperança de que a própria criação será red...</td>\n",
       "    </tr>\n",
       "    <tr>\n",
       "      <th>28140</th>\n",
       "      <td>45</td>\n",
       "      <td>8</td>\n",
       "      <td>22</td>\n",
       "      <td>Porque sabemos que toda a criação, a um só tem...</td>\n",
       "    </tr>\n",
       "    <tr>\n",
       "      <th>28141</th>\n",
       "      <td>45</td>\n",
       "      <td>8</td>\n",
       "      <td>23</td>\n",
       "      <td>E não somente ela, mas também nós, que temos a...</td>\n",
       "    </tr>\n",
       "    <tr>\n",
       "      <th>28142</th>\n",
       "      <td>45</td>\n",
       "      <td>8</td>\n",
       "      <td>24</td>\n",
       "      <td>Porque, na esperança, fomos salvos. Ora, esper...</td>\n",
       "    </tr>\n",
       "    <tr>\n",
       "      <th>28143</th>\n",
       "      <td>45</td>\n",
       "      <td>8</td>\n",
       "      <td>25</td>\n",
       "      <td>Mas, se esperamos o que não vemos, com paciênc...</td>\n",
       "    </tr>\n",
       "    <tr>\n",
       "      <th>28144</th>\n",
       "      <td>45</td>\n",
       "      <td>8</td>\n",
       "      <td>26</td>\n",
       "      <td>Também o Espírito, semelhantemente, nos assist...</td>\n",
       "    </tr>\n",
       "    <tr>\n",
       "      <th>28145</th>\n",
       "      <td>45</td>\n",
       "      <td>8</td>\n",
       "      <td>27</td>\n",
       "      <td>E aquele que sonda os corações sabe qual é a m...</td>\n",
       "    </tr>\n",
       "    <tr>\n",
       "      <th>28146</th>\n",
       "      <td>45</td>\n",
       "      <td>8</td>\n",
       "      <td>28</td>\n",
       "      <td>Sabemos que todas as coisas cooperam para o be...</td>\n",
       "    </tr>\n",
       "    <tr>\n",
       "      <th>28147</th>\n",
       "      <td>45</td>\n",
       "      <td>8</td>\n",
       "      <td>29</td>\n",
       "      <td>Porquanto aos que de antemão conheceu, também ...</td>\n",
       "    </tr>\n",
       "    <tr>\n",
       "      <th>28148</th>\n",
       "      <td>45</td>\n",
       "      <td>8</td>\n",
       "      <td>30</td>\n",
       "      <td>E aos que predestinou, a esses também chamou; ...</td>\n",
       "    </tr>\n",
       "    <tr>\n",
       "      <th>28149</th>\n",
       "      <td>45</td>\n",
       "      <td>8</td>\n",
       "      <td>31</td>\n",
       "      <td>Que diremos, pois, à vista destas coisas? Se D...</td>\n",
       "    </tr>\n",
       "    <tr>\n",
       "      <th>28150</th>\n",
       "      <td>45</td>\n",
       "      <td>8</td>\n",
       "      <td>32</td>\n",
       "      <td>Aquele que não poupou o seu próprio Filho, ant...</td>\n",
       "    </tr>\n",
       "    <tr>\n",
       "      <th>28151</th>\n",
       "      <td>45</td>\n",
       "      <td>8</td>\n",
       "      <td>33</td>\n",
       "      <td>Quem intentará acusação contra os eleitos de D...</td>\n",
       "    </tr>\n",
       "    <tr>\n",
       "      <th>28152</th>\n",
       "      <td>45</td>\n",
       "      <td>8</td>\n",
       "      <td>34</td>\n",
       "      <td>Quem os condenará? É Cristo Jesus quem morreu ...</td>\n",
       "    </tr>\n",
       "    <tr>\n",
       "      <th>28153</th>\n",
       "      <td>45</td>\n",
       "      <td>8</td>\n",
       "      <td>35</td>\n",
       "      <td>Quem nos separará do amor de Cristo? Será trib...</td>\n",
       "    </tr>\n",
       "    <tr>\n",
       "      <th>28154</th>\n",
       "      <td>45</td>\n",
       "      <td>8</td>\n",
       "      <td>36</td>\n",
       "      <td>Como está escrito: Por amor de ti, somos entre...</td>\n",
       "    </tr>\n",
       "    <tr>\n",
       "      <th>28155</th>\n",
       "      <td>45</td>\n",
       "      <td>8</td>\n",
       "      <td>37</td>\n",
       "      <td>Em todas estas coisas, porém, somos mais que v...</td>\n",
       "    </tr>\n",
       "    <tr>\n",
       "      <th>28156</th>\n",
       "      <td>45</td>\n",
       "      <td>8</td>\n",
       "      <td>38</td>\n",
       "      <td>Porque eu estou bem certo de que nem a morte, ...</td>\n",
       "    </tr>\n",
       "    <tr>\n",
       "      <th>28157</th>\n",
       "      <td>45</td>\n",
       "      <td>8</td>\n",
       "      <td>39</td>\n",
       "      <td>nem a altura, nem a profundidade, nem qualquer...</td>\n",
       "    </tr>\n",
       "  </tbody>\n",
       "</table>\n",
       "</div>"
      ],
      "text/plain": [
       "       nr_sq_livro  chapter  verse  \\\n",
       "28119           45        8      1   \n",
       "28120           45        8      2   \n",
       "28121           45        8      3   \n",
       "28122           45        8      4   \n",
       "28123           45        8      5   \n",
       "28124           45        8      6   \n",
       "28125           45        8      7   \n",
       "28126           45        8      8   \n",
       "28127           45        8      9   \n",
       "28128           45        8     10   \n",
       "28129           45        8     11   \n",
       "28130           45        8     12   \n",
       "28131           45        8     13   \n",
       "28132           45        8     14   \n",
       "28133           45        8     15   \n",
       "28134           45        8     16   \n",
       "28135           45        8     17   \n",
       "28136           45        8     18   \n",
       "28137           45        8     19   \n",
       "28138           45        8     20   \n",
       "28139           45        8     21   \n",
       "28140           45        8     22   \n",
       "28141           45        8     23   \n",
       "28142           45        8     24   \n",
       "28143           45        8     25   \n",
       "28144           45        8     26   \n",
       "28145           45        8     27   \n",
       "28146           45        8     28   \n",
       "28147           45        8     29   \n",
       "28148           45        8     30   \n",
       "28149           45        8     31   \n",
       "28150           45        8     32   \n",
       "28151           45        8     33   \n",
       "28152           45        8     34   \n",
       "28153           45        8     35   \n",
       "28154           45        8     36   \n",
       "28155           45        8     37   \n",
       "28156           45        8     38   \n",
       "28157           45        8     39   \n",
       "\n",
       "                                                    text  \n",
       "28119  Agora, pois, já nenhuma condenação há para os ...  \n",
       "28120  Porque a lei do Espírito da vida, em Cristo Je...  \n",
       "28121  Porquanto o que fora impossível à lei, no que ...  \n",
       "28122  a fim de que o preceito da lei se cumprisse em...  \n",
       "28123  Porque os que se inclinam para a carne cogitam...  \n",
       "28124  Porque o pendor da carne dá para a morte, mas ...  \n",
       "28125  Por isso, o pendor da carne é inimizade contra...  \n",
       "28126  Portanto, os que estão na carne não podem agra...  \n",
       "28127  Vós, porém, não estais na carne, mas no Espíri...  \n",
       "28128  Se, porém, Cristo está em vós, o corpo, na ver...  \n",
       "28129  Se habita em vós o Espírito daquele que ressus...  \n",
       "28130  Assim, pois, irmãos, somos devedores, não à ca...  \n",
       "28131  Porque, se viverdes segundo a carne, caminhais...  \n",
       "28132  Pois todos os que são guiados pelo Espírito de...  \n",
       "28133  Porque não recebestes o espírito de escravidão...  \n",
       "28134  O próprio Espírito testifica com o nosso espír...  \n",
       "28135  Ora, se somos filhos, somos também herdeiros, ...  \n",
       "28136  Porque para mim tenho por certo que os sofrime...  \n",
       "28137  A ardente expectativa da criação aguarda a rev...  \n",
       "28138  Pois a criação está sujeita à vaidade, não vol...  \n",
       "28139  na esperança de que a própria criação será red...  \n",
       "28140  Porque sabemos que toda a criação, a um só tem...  \n",
       "28141  E não somente ela, mas também nós, que temos a...  \n",
       "28142  Porque, na esperança, fomos salvos. Ora, esper...  \n",
       "28143  Mas, se esperamos o que não vemos, com paciênc...  \n",
       "28144  Também o Espírito, semelhantemente, nos assist...  \n",
       "28145  E aquele que sonda os corações sabe qual é a m...  \n",
       "28146  Sabemos que todas as coisas cooperam para o be...  \n",
       "28147  Porquanto aos que de antemão conheceu, também ...  \n",
       "28148  E aos que predestinou, a esses também chamou; ...  \n",
       "28149  Que diremos, pois, à vista destas coisas? Se D...  \n",
       "28150  Aquele que não poupou o seu próprio Filho, ant...  \n",
       "28151  Quem intentará acusação contra os eleitos de D...  \n",
       "28152  Quem os condenará? É Cristo Jesus quem morreu ...  \n",
       "28153  Quem nos separará do amor de Cristo? Será trib...  \n",
       "28154  Como está escrito: Por amor de ti, somos entre...  \n",
       "28155  Em todas estas coisas, porém, somos mais que v...  \n",
       "28156  Porque eu estou bem certo de que nem a morte, ...  \n",
       "28157  nem a altura, nem a profundidade, nem qualquer...  "
      ]
     },
     "execution_count": 7,
     "metadata": {},
     "output_type": "execute_result"
    }
   ],
   "source": [
    "pt_df.loc[(pt_df['nr_sq_livro'] == 45) & (pt_df['chapter'] == 8)]"
   ]
  },
  {
   "cell_type": "code",
   "execution_count": 8,
   "metadata": {},
   "outputs": [
    {
     "data": {
      "text/plain": [
       "0"
      ]
     },
     "execution_count": 8,
     "metadata": {},
     "output_type": "execute_result"
    }
   ],
   "source": [
    "vs_rng = pt_df.loc[(pt_df['nr_sq_livro'] == 47) & (pt_df['chapter'] == 3) & (pt_df['verse'] >= 6) & (pt_df['verse'] <= 11)]\n",
    "vs_rng.to_csv('/Users/davison/Desktop/vs_rng.csv', index=False)\n",
    "os.system('open ' + '/Users/davison/Desktop/vs_rng.csv')"
   ]
  },
  {
   "cell_type": "code",
   "execution_count": 9,
   "metadata": {},
   "outputs": [
    {
     "data": {
      "text/plain": [
       "'Se a nossa esperança em Cristo se limita apenas a esta vida, somos os mais infelizes de todos os homens.'"
      ]
     },
     "execution_count": 9,
     "metadata": {},
     "output_type": "execute_result"
    }
   ],
   "source": [
    "pt_df.loc[(pt_df['nr_sq_livro'] == 46) & (pt_df['chapter'] == 15) & (pt_df['verse'] == 19)].text.values[0]"
   ]
  },
  {
   "cell_type": "code",
   "execution_count": 10,
   "metadata": {},
   "outputs": [
    {
     "data": {
      "text/plain": [
       "'Visto que a morte veio por um homem, também por um homem veio a ressurreição dos mortos. Porque, assim como, em Adão, todos morrem, assim também todos serão vivificados em Cristo. Cada um, porém, por sua própria ordem: Cristo, as primícias; depois, os que são de Cristo, na sua vinda. E, então, virá o fim, quando ele entregar o reino ao Deus e Pai, quando houver destruído todo principado, bem como toda potestade e poder. Porque convém que ele reine até que haja posto todos os inimigos debaixo dos pés. O último inimigo a ser destruído é a morte. Porque todas as coisas sujeitou debaixo dos pés. E, quando diz que todas as coisas lhe estão sujeitas, certamente, exclui aquele que tudo lhe subordinou. Quando, porém, todas as coisas lhe estiverem sujeitas, então, o próprio Filho também se sujeitará àquele que todas as coisas lhe sujeitou, para que Deus seja tudo em todos. Doutra maneira, que farão os que se batizam por causa dos mortos? Se, absolutamente, os mortos não ressuscitam, por que se batizam por causa deles? E por que também nós nos expomos a perigos a toda hora? Dia após dia, morro! Eu o protesto, irmãos, pela glória que tenho em vós outros, em Cristo Jesus, nosso Senhor. Se, como homem, lutei em Éfeso com feras, que me aproveita isso? Se os mortos não ressuscitam, comamos e bebamos, que amanhã morreremos. Não vos enganeis: as más conversações corrompem os bons costumes. Tornai-vos à sobriedade, como é justo, e não pequeis; porque alguns ainda não têm conhecimento de Deus; isto digo para vergonha vossa. Mas alguém dirá: Como ressuscitam os mortos? E em que corpo vêm? Insensato! O que semeias não nasce, se primeiro não morrer; e, quando semeias, não semeias o corpo que há de ser, mas o simples grão, como de trigo ou de qualquer outra semente. Mas Deus lhe dá corpo como lhe aprouve dar e a cada uma das sementes, o seu corpo apropriado. Nem toda carne é a mesma; porém uma é a carne dos homens, outra, a dos animais, outra, a das aves, e outra, a dos peixes. Também há corpos celestiais e corpos terrestres; e, sem dúvida, uma é a glória dos celestiais, e outra, a dos terrestres. Uma é a glória do sol, outra, a glória da lua, e outra, a das estrelas; porque até entre estrela e estrela há diferenças de esplendor. Pois assim também é a ressurreição dos mortos. Semeia-se o corpo na corrupção, ressuscita na incorrupção. Semeia-se em desonra, ressuscita em glória. Semeia-se em fraqueza, ressuscita em poder. Semeia-se corpo natural, ressuscita corpo espiritual. Se há corpo natural, há também corpo espiritual. Pois assim está escrito: O primeiro homem, Adão, foi feito alma vivente. O último Adão, porém, é espírito vivificante. Mas não é primeiro o espiritual, e sim o natural; depois, o espiritual. O primeiro homem, formado da terra, é terreno; o segundo homem é do céu. Como foi o primeiro homem, o terreno, tais são também os demais homens terrenos; e, como é o homem celestial, tais também os celestiais. E, assim como trouxemos a imagem do que é terreno, devemos trazer também a imagem do celestial. Isto afirmo, irmãos, que a carne e o sangue não podem herdar o reino de Deus, nem a corrupção herdar a incorrupção. Eis que vos digo um mistério: nem todos dormiremos, mas transformados seremos todos, num momento, num abrir e fechar de olhos, ao ressoar da última trombeta. A trombeta soará, os mortos ressuscitarão incorruptíveis, e nós seremos transformados. Porque é necessário que este corpo corruptível se revista da incorruptibilidade, e que o corpo mortal se revista da imortalidade. E, quando este corpo corruptível se revestir de incorruptibilidade, e o que é mortal se revestir de imortalidade, então, se cumprirá a palavra que está escrita: Tragada foi a morte pela vitória. Onde está, ó morte, a tua vitória? Onde está, ó morte, o teu aguilhão? O aguilhão da morte é o pecado, e a força do pecado é a lei. Graças a Deus, que nos dá a vitória por intermédio de nosso Senhor Jesus Cristo. Portanto, meus amados irmãos, sede firmes, inabaláveis e sempre abundantes na obra do Senhor, sabendo que, no Senhor, o vosso trabalho não é vão.'"
      ]
     },
     "execution_count": 10,
     "metadata": {},
     "output_type": "execute_result"
    }
   ],
   "source": [
    "\" \".join([ vs for vs in pt_df.loc[(pt_df['nr_sq_livro']==46) & (pt_df['chapter']==15)].text.values[20:58] ])"
   ]
  },
  {
   "cell_type": "code",
   "execution_count": 33,
   "metadata": {},
   "outputs": [],
   "source": [
    "sql_wd_pt = \"\"\"\n",
    "            SELECT\n",
    "                nr_sq_livro\n",
    "                , chapter\n",
    "                , verse\n",
    "                , text\n",
    "            FROM\n",
    "                pt_df\n",
    "            WHERE\n",
    "                text like '%vida eterna%' \n",
    "            --AND text not like '%fressura%'-- OR text like '%perdão%'\n",
    "            --AND nr_sq_livro >= 40 \n",
    "            \"\"\""
   ]
  },
  {
   "cell_type": "code",
   "execution_count": 34,
   "metadata": {},
   "outputs": [],
   "source": [
    "wd_ara_query_rs = sqldf(sql_wd_pt)"
   ]
  },
  {
   "cell_type": "code",
   "execution_count": 35,
   "metadata": {},
   "outputs": [
    {
     "data": {
      "text/plain": [
       "45"
      ]
     },
     "execution_count": 35,
     "metadata": {},
     "output_type": "execute_result"
    }
   ],
   "source": [
    "len(wd_ara_query_rs)"
   ]
  },
  {
   "cell_type": "code",
   "execution_count": 36,
   "metadata": {},
   "outputs": [
    {
     "name": "stdout",
     "output_type": "stream",
     "text": [
      "    nr_sq_livro  chapter  verse                                                                                                                                                                                                                                                          text\n",
      "0             5       32     40                                                                                                                                                                                                        Levanto a mão aos céus e afirmo por minha vida eterna:\n",
      "1            27       12      2                                                                                                                                           Muitos dos que dormem no pó da terra ressuscitarão, uns para a vida eterna, e outros para vergonha e horror eterno.\n",
      "2            40       19     16                                                                                                                                                    E eis que alguém, aproximando-se, lhe perguntou: Mestre, que farei eu de bom, para alcançar a vida eterna?\n",
      "3            40       19     29                                                                      E todo aquele que tiver deixado casas, ou irmãos, ou irmãs, ou pai, ou mãe [ou mulher], ou filhos, ou campos, por causa do meu nome, receberá muitas vezes mais e herdará a vida eterna.\n",
      "4            40       25     46                                                                                                                                                                                      E irão estes para o castigo eterno, porém os justos, para a vida eterna.\n",
      "5            41       10     17                                                                                                                E, pondo-se Jesus a caminho, correu um homem ao seu encontro e, ajoelhando-se, perguntou-lhe: Bom Mestre, que farei para herdar a vida eterna?\n",
      "6            41       10     30                                                                                                              que não receba, já no presente, o cêntuplo de casas, irmãos, irmãs, mães, filhos e campos, com perseguições; e, no mundo por vir, a vida eterna.\n",
      "7            42       10     25                                                                                                            E eis que certo homem, intérprete da Lei, se levantou com o intuito de pôr Jesus à prova e disse-lhe: Mestre, que farei para herdar a vida eterna?\n",
      "8            42       18     18                                                                                                                                                                        Certo homem de posição perguntou-lhe: Bom Mestre, que farei para herdar a vida eterna?\n",
      "9            42       18     30                                                                                                                                                                            que não receba, no presente, muitas vezes mais e, no mundo por vir, a vida eterna.\n",
      "10           43        3     15                                                                                                                                                                                                             para que todo o que nele crê tenha a vida eterna.\n",
      "11           43        3     16                                                                                                                     Porque Deus amou ao mundo de tal maneira que deu o seu Filho unigênito, para que todo o que nele crê não pereça, mas tenha a vida eterna.\n",
      "12           43        3     36                                                                                                       Por isso, quem crê no Filho tem a vida eterna; o que, todavia, se mantém rebelde contra o Filho não verá a vida, mas sobre ele permanece a ira de Deus.\n",
      "13           43        4     14                                                                                                  aquele, porém, que beber da água que eu lhe der nunca mais terá sede; pelo contrário, a água que eu lhe der será nele uma fonte a jorrar para a vida eterna.\n",
      "14           43        4     36                                                                                                                 O ceifeiro recebe desde já a recompensa e entesoura o seu fruto para a vida eterna; e, dessarte, se alegram tanto o semeador como o ceifeiro.\n",
      "15           43        5     24                                                                                                Em verdade, em verdade vos digo: quem ouve a minha palavra e crê naquele que me enviou tem a vida eterna, não entra em juízo, mas passou da morte para a vida.\n",
      "16           43        5     39                                                                                                                                                     Examinais as Escrituras, porque julgais ter nelas a vida eterna, e são elas mesmas que testificam de mim.\n",
      "17           43        6     27                                                                                            Trabalhai, não pela comida que perece, mas pela que subsiste para a vida eterna, a qual o Filho do Homem vos dará; porque Deus, o Pai, o confirmou com o seu selo.\n",
      "18           43        6     40                                                                                                                           De fato, a vontade de meu Pai é que todo homem que vir o Filho e nele crer tenha a vida eterna; e eu o ressuscitarei no último dia.\n",
      "19           43        6     47                                                                                                                                                                                           Em verdade, em verdade vos digo: quem crê em mim tem a vida eterna.\n",
      "20           43        6     54                                                                                                                                                          Quem comer a minha carne e beber o meu sangue tem a vida eterna, e eu o ressuscitarei no último dia.\n",
      "21           43        6     68                                                                                                                                                                      Respondeu-lhe Simão Pedro: Senhor, para quem iremos? Tu tens as palavras da vida eterna;\n",
      "22           43       10     28                                                                                                                                                                            Eu lhes dou a vida eterna; jamais perecerão, e ninguém as arrebatará da minha mão.\n",
      "23           43       12     25                                                                                                                                                    Quem ama a sua vida perde-a; mas aquele que odeia a sua vida neste mundo preservá-la-á para a vida eterna.\n",
      "24           43       12     50                                                                                                                                                 E sei que o seu mandamento é a vida eterna. As coisas, pois, que eu falo, como o Pai mo tem dito, assim falo.\n",
      "25           43       17      2                                                                                                                                     assim como lhe conferiste autoridade sobre toda a carne, a fim de que ele conceda a vida eterna a todos os que lhe deste.\n",
      "26           43       17      3                                                                                                                                                     E a vida eterna é esta: que te conheçam a ti, o único Deus verdadeiro, e a Jesus Cristo, a quem enviaste.\n",
      "27           44       13     46  Então, Paulo e Barnabé, falando ousadamente, disseram: Cumpria que a vós outros, em primeiro lugar, fosse pregada a palavra de Deus; mas, posto que a rejeitais e a vós mesmos vos julgais indignos da vida eterna, eis aí que nos volvemos para os gentios.\n",
      "28           44       13     48                                                                                                                 Os gentios, ouvindo isto, regozijavam-se e glorificavam a palavra do Senhor, e creram todos os que haviam sido destinados para a vida eterna.\n",
      "29           45        2      7                                                                                                                                                              a vida eterna aos que, perseverando em fazer o bem, procuram glória, honra e incorruptibilidade;\n",
      "30           45        5     21                                                                                                            a fim de que, como o pecado reinou pela morte, assim também reinasse a graça pela justiça para a vida eterna, mediante Jesus Cristo, nosso Senhor.\n",
      "31           45        6     22                                                                                                                      Agora, porém, libertados do pecado, transformados em servos de Deus, tendes o vosso fruto para a santificação e, por fim, a vida eterna;\n",
      "32           45        6     23                                                                                                                                               porque o salário do pecado é a morte, mas o dom gratuito de Deus é a vida eterna em Cristo Jesus, nosso Senhor.\n",
      "33           48        6      8                                                                                                                    Porque o que semeia para a sua própria carne da carne colherá corrupção; mas o que semeia para o Espírito do Espírito colherá vida eterna.\n",
      "34           54        1     16                                       Mas, por esta mesma razão, me foi concedida misericórdia, para que, em mim, o principal, evidenciasse Jesus Cristo a sua completa longanimidade, e servisse eu de modelo a quantos hão de crer nele para a vida eterna.\n",
      "35           54        6     12                                                                                                         Combate o bom combate da fé. Toma posse da vida eterna, para a qual também foste chamado e de que fizeste a boa confissão perante muitas testemunhas.\n",
      "36           56        1      2                                                                                                                                                                  na esperança da vida eterna que o Deus que não pode mentir prometeu antes dos tempos eternos\n",
      "37           56        3      7                                                                                                                                                        a fim de que, justificados por graça, nos tornemos seus herdeiros, segundo a esperança da vida eterna.\n",
      "38           62        1      2                                                                                                     (e a vida se manifestou, e nós a temos visto, e dela damos testemunho, e vo-la anunciamos, a vida eterna, a qual estava com o Pai e nos foi manifestada),\n",
      "39           62        2     25                                                                                                                                                                                                     E esta é a promessa que ele mesmo nos fez, a vida eterna.\n",
      "40           62        3     15                                                                                                                                     Todo aquele que odeia a seu irmão é assassino; ora, vós sabeis que todo assassino não tem a vida eterna permanente em si.\n",
      "41           62        5     11                                                                                                                                                                         E o testemunho é este: que Deus nos deu a vida eterna; e esta vida está no seu Filho.\n",
      "42           62        5     13                                                                                                                                     Estas coisas vos escrevi, a fim de saberdes que tendes a vida eterna, a vós outros que credes em o nome do Filho de Deus.\n",
      "43           62        5     20                                                        Também sabemos que o Filho de Deus é vindo e nos tem dado entendimento para reconhecermos o verdadeiro; e estamos no verdadeiro, em seu Filho, Jesus Cristo. Este é o verdadeiro Deus e a vida eterna.\n",
      "44           65        1     21                                                                                                                                                       guardai-vos no amor de Deus, esperando a misericórdia de nosso Senhor Jesus Cristo, para a vida eterna.\n"
     ]
    }
   ],
   "source": [
    "print(wd_ara_query_rs.to_string())"
   ]
  },
  {
   "cell_type": "code",
   "execution_count": 15,
   "metadata": {},
   "outputs": [],
   "source": [
    "def print_verses_pt_wds(wd1, wd2, or_wd, nlike_wd):\n",
    "    if (wd2 == None and nlike_wd == None and or_wd == None):\n",
    "        sql_wd_pt = \"\"\"\n",
    "            SELECT\n",
    "                nr_sq_livro\n",
    "                , chapter\n",
    "                , verse\n",
    "                , text\n",
    "            FROM\n",
    "                pt_df\n",
    "            WHERE\n",
    "                text like '%{}%'\n",
    "            \"\"\".format(wd1)\n",
    "    elif (nlike_wd == None and or_wd == None):\n",
    "        sql_wd_pt = \"\"\"\n",
    "            SELECT\n",
    "                nr_sq_livro\n",
    "                , chapter\n",
    "                , verse\n",
    "                , text\n",
    "            FROM\n",
    "                pt_df\n",
    "            WHERE\n",
    "                text like '%{}%' AND text like '%{}%'\n",
    "            \"\"\".format(wd1, wd2)\n",
    "    elif (or_wd == None and nlike_wd != None):\n",
    "        sql_wd_pt = \"\"\"\n",
    "            SELECT\n",
    "                nr_sq_livro\n",
    "                , chapter\n",
    "                , verse\n",
    "                , text\n",
    "            FROM\n",
    "                pt_df\n",
    "            WHERE\n",
    "                text like '%{}%' AND text not like '%{}%'\n",
    "            \"\"\".format(wd1, nlike_wd)\n",
    "    elif (or_wd != None and nlike_wd != None):\n",
    "        sql_wd_pt = \"\"\"\n",
    "            SELECT\n",
    "                nr_sq_livro\n",
    "                , chapter\n",
    "                , verse\n",
    "                , text\n",
    "            FROM\n",
    "                pt_df\n",
    "            WHERE\n",
    "                (text like '%{}%' OR text like '%{}%') AND text not like '%{}%'\n",
    "            \"\"\".format(wd1, or_wd, nlike_wd)\n",
    "    wd_ara_query_rs = sqldf(sql_wd_pt)\n",
    "    print(wd_ara_query_rs.to_string())"
   ]
  },
  {
   "cell_type": "code",
   "execution_count": 16,
   "metadata": {},
   "outputs": [
    {
     "name": "stdout",
     "output_type": "stream",
     "text": [
      "    nr_sq_livro  chapter  verse                                                                                                                                                                                                                                                          text\n",
      "0             5       32     40                                                                                                                                                                                                        Levanto a mão aos céus e afirmo por minha vida eterna:\n",
      "1            27       12      2                                                                                                                                           Muitos dos que dormem no pó da terra ressuscitarão, uns para a vida eterna, e outros para vergonha e horror eterno.\n",
      "2            40       19     16                                                                                                                                                    E eis que alguém, aproximando-se, lhe perguntou: Mestre, que farei eu de bom, para alcançar a vida eterna?\n",
      "3            40       19     29                                                                      E todo aquele que tiver deixado casas, ou irmãos, ou irmãs, ou pai, ou mãe [ou mulher], ou filhos, ou campos, por causa do meu nome, receberá muitas vezes mais e herdará a vida eterna.\n",
      "4            40       25     46                                                                                                                                                                                      E irão estes para o castigo eterno, porém os justos, para a vida eterna.\n",
      "5            41       10     17                                                                                                                E, pondo-se Jesus a caminho, correu um homem ao seu encontro e, ajoelhando-se, perguntou-lhe: Bom Mestre, que farei para herdar a vida eterna?\n",
      "6            41       10     30                                                                                                              que não receba, já no presente, o cêntuplo de casas, irmãos, irmãs, mães, filhos e campos, com perseguições; e, no mundo por vir, a vida eterna.\n",
      "7            42       10     25                                                                                                            E eis que certo homem, intérprete da Lei, se levantou com o intuito de pôr Jesus à prova e disse-lhe: Mestre, que farei para herdar a vida eterna?\n",
      "8            42       18     18                                                                                                                                                                        Certo homem de posição perguntou-lhe: Bom Mestre, que farei para herdar a vida eterna?\n",
      "9            42       18     30                                                                                                                                                                            que não receba, no presente, muitas vezes mais e, no mundo por vir, a vida eterna.\n",
      "10           43        3     15                                                                                                                                                                                                             para que todo o que nele crê tenha a vida eterna.\n",
      "11           43        3     16                                                                                                                     Porque Deus amou ao mundo de tal maneira que deu o seu Filho unigênito, para que todo o que nele crê não pereça, mas tenha a vida eterna.\n",
      "12           43        3     36                                                                                                       Por isso, quem crê no Filho tem a vida eterna; o que, todavia, se mantém rebelde contra o Filho não verá a vida, mas sobre ele permanece a ira de Deus.\n",
      "13           43        4     14                                                                                                  aquele, porém, que beber da água que eu lhe der nunca mais terá sede; pelo contrário, a água que eu lhe der será nele uma fonte a jorrar para a vida eterna.\n",
      "14           43        4     36                                                                                                                 O ceifeiro recebe desde já a recompensa e entesoura o seu fruto para a vida eterna; e, dessarte, se alegram tanto o semeador como o ceifeiro.\n",
      "15           43        5     24                                                                                                Em verdade, em verdade vos digo: quem ouve a minha palavra e crê naquele que me enviou tem a vida eterna, não entra em juízo, mas passou da morte para a vida.\n",
      "16           43        5     39                                                                                                                                                     Examinais as Escrituras, porque julgais ter nelas a vida eterna, e são elas mesmas que testificam de mim.\n",
      "17           43        6     27                                                                                            Trabalhai, não pela comida que perece, mas pela que subsiste para a vida eterna, a qual o Filho do Homem vos dará; porque Deus, o Pai, o confirmou com o seu selo.\n",
      "18           43        6     40                                                                                                                           De fato, a vontade de meu Pai é que todo homem que vir o Filho e nele crer tenha a vida eterna; e eu o ressuscitarei no último dia.\n",
      "19           43        6     47                                                                                                                                                                                           Em verdade, em verdade vos digo: quem crê em mim tem a vida eterna.\n",
      "20           43        6     54                                                                                                                                                          Quem comer a minha carne e beber o meu sangue tem a vida eterna, e eu o ressuscitarei no último dia.\n",
      "21           43        6     68                                                                                                                                                                      Respondeu-lhe Simão Pedro: Senhor, para quem iremos? Tu tens as palavras da vida eterna;\n",
      "22           43       10     28                                                                                                                                                                            Eu lhes dou a vida eterna; jamais perecerão, e ninguém as arrebatará da minha mão.\n",
      "23           43       12     25                                                                                                                                                    Quem ama a sua vida perde-a; mas aquele que odeia a sua vida neste mundo preservá-la-á para a vida eterna.\n",
      "24           43       12     50                                                                                                                                                 E sei que o seu mandamento é a vida eterna. As coisas, pois, que eu falo, como o Pai mo tem dito, assim falo.\n",
      "25           43       17      2                                                                                                                                     assim como lhe conferiste autoridade sobre toda a carne, a fim de que ele conceda a vida eterna a todos os que lhe deste.\n",
      "26           43       17      3                                                                                                                                                     E a vida eterna é esta: que te conheçam a ti, o único Deus verdadeiro, e a Jesus Cristo, a quem enviaste.\n",
      "27           44       13     46  Então, Paulo e Barnabé, falando ousadamente, disseram: Cumpria que a vós outros, em primeiro lugar, fosse pregada a palavra de Deus; mas, posto que a rejeitais e a vós mesmos vos julgais indignos da vida eterna, eis aí que nos volvemos para os gentios.\n",
      "28           44       13     48                                                                                                                 Os gentios, ouvindo isto, regozijavam-se e glorificavam a palavra do Senhor, e creram todos os que haviam sido destinados para a vida eterna.\n",
      "29           45        2      7                                                                                                                                                              a vida eterna aos que, perseverando em fazer o bem, procuram glória, honra e incorruptibilidade;\n",
      "30           45        5     21                                                                                                            a fim de que, como o pecado reinou pela morte, assim também reinasse a graça pela justiça para a vida eterna, mediante Jesus Cristo, nosso Senhor.\n",
      "31           45        6     22                                                                                                                      Agora, porém, libertados do pecado, transformados em servos de Deus, tendes o vosso fruto para a santificação e, por fim, a vida eterna;\n",
      "32           45        6     23                                                                                                                                               porque o salário do pecado é a morte, mas o dom gratuito de Deus é a vida eterna em Cristo Jesus, nosso Senhor.\n",
      "33           48        6      8                                                                                                                    Porque o que semeia para a sua própria carne da carne colherá corrupção; mas o que semeia para o Espírito do Espírito colherá vida eterna.\n",
      "34           54        1     16                                       Mas, por esta mesma razão, me foi concedida misericórdia, para que, em mim, o principal, evidenciasse Jesus Cristo a sua completa longanimidade, e servisse eu de modelo a quantos hão de crer nele para a vida eterna.\n",
      "35           54        6     12                                                                                                         Combate o bom combate da fé. Toma posse da vida eterna, para a qual também foste chamado e de que fizeste a boa confissão perante muitas testemunhas.\n",
      "36           56        1      2                                                                                                                                                                  na esperança da vida eterna que o Deus que não pode mentir prometeu antes dos tempos eternos\n",
      "37           56        3      7                                                                                                                                                        a fim de que, justificados por graça, nos tornemos seus herdeiros, segundo a esperança da vida eterna.\n",
      "38           62        1      2                                                                                                     (e a vida se manifestou, e nós a temos visto, e dela damos testemunho, e vo-la anunciamos, a vida eterna, a qual estava com o Pai e nos foi manifestada),\n",
      "39           62        2     25                                                                                                                                                                                                     E esta é a promessa que ele mesmo nos fez, a vida eterna.\n",
      "40           62        3     15                                                                                                                                     Todo aquele que odeia a seu irmão é assassino; ora, vós sabeis que todo assassino não tem a vida eterna permanente em si.\n",
      "41           62        5     11                                                                                                                                                                         E o testemunho é este: que Deus nos deu a vida eterna; e esta vida está no seu Filho.\n",
      "42           62        5     13                                                                                                                                     Estas coisas vos escrevi, a fim de saberdes que tendes a vida eterna, a vós outros que credes em o nome do Filho de Deus.\n",
      "43           62        5     20                                                        Também sabemos que o Filho de Deus é vindo e nos tem dado entendimento para reconhecermos o verdadeiro; e estamos no verdadeiro, em seu Filho, Jesus Cristo. Este é o verdadeiro Deus e a vida eterna.\n",
      "44           65        1     21                                                                                                                                                       guardai-vos no amor de Deus, esperando a misericórdia de nosso Senhor Jesus Cristo, para a vida eterna.\n"
     ]
    }
   ],
   "source": [
    "# [1] obrigatório; [2] opcional; [3] {OR} opcional com [1] e [4]; [4] {NOT} opcional com [1] e [2]\n",
    "print_verses_pt_wds('vida eterna', None, None, None)"
   ]
  },
  {
   "cell_type": "code",
   "execution_count": 17,
   "metadata": {},
   "outputs": [],
   "source": [
    "def export_verses_pt_wds(wd1, wd2, or_wd, nlike_wd):\n",
    "    if (wd2 == None and nlike_wd == None and or_wd == None):\n",
    "        sql_wd_pt = \"\"\"\n",
    "            SELECT\n",
    "                nr_sq_livro\n",
    "                , chapter\n",
    "                , verse\n",
    "                , text\n",
    "            FROM\n",
    "                pt_df\n",
    "            WHERE\n",
    "                text like '%{}%'\n",
    "            \"\"\".format(wd1)\n",
    "    elif (nlike_wd == None and or_wd == None):\n",
    "        sql_wd_pt = \"\"\"\n",
    "            SELECT\n",
    "                nr_sq_livro\n",
    "                , chapter\n",
    "                , verse\n",
    "                , text\n",
    "            FROM\n",
    "                pt_df\n",
    "            WHERE\n",
    "                text like '%{}%' AND text like '%{}%'\n",
    "            \"\"\".format(wd1, wd2)\n",
    "    elif (or_wd == None and nlike_wd != None):\n",
    "        sql_wd_pt = \"\"\"\n",
    "            SELECT\n",
    "                nr_sq_livro\n",
    "                , chapter\n",
    "                , verse\n",
    "                , text\n",
    "            FROM\n",
    "                pt_df\n",
    "            WHERE\n",
    "                text like '%{}%' AND text not like '%{}%'\n",
    "            \"\"\".format(wd1, nlike_wd)\n",
    "    elif (or_wd != None and nlike_wd != None):\n",
    "        sql_wd_pt = \"\"\"\n",
    "            SELECT\n",
    "                nr_sq_livro\n",
    "                , chapter\n",
    "                , verse\n",
    "                , text\n",
    "            FROM\n",
    "                pt_df\n",
    "            WHERE\n",
    "                (text like '%{}%' OR text like '%{}%') AND text not like '%{}%'\n",
    "            \"\"\".format(wd1, or_wd, nlike_wd)\n",
    "    wd_ara_query_rs = sqldf(sql_wd_pt)\n",
    "    wd_ara_query_rs.to_csv('/Users/davison/Desktop/vs_rng.csv', index=False)"
   ]
  },
  {
   "cell_type": "code",
   "execution_count": 17,
   "metadata": {},
   "outputs": [
    {
     "data": {
      "text/plain": [
       "0"
      ]
     },
     "execution_count": 17,
     "metadata": {},
     "output_type": "execute_result"
    }
   ],
   "source": [
    "export_verses_pt_wds(' vida ', None, None, None)\n",
    "os.system('open ' + '/Users/davison/Desktop/vs_rng.csv')"
   ]
  },
  {
   "cell_type": "code",
   "execution_count": null,
   "metadata": {},
   "outputs": [],
   "source": [
    "# a partir daqui lxx grk, old e new testaments\n",
    "# primeira parte apenas indexação por strongs"
   ]
  },
  {
   "cell_type": "code",
   "execution_count": 18,
   "metadata": {},
   "outputs": [],
   "source": [
    "sql_strongs_grk = \"\"\"\n",
    "            SELECT \n",
    "                ltrim(number, 'G') strongs_number\n",
    "                , lemma\n",
    "                , xlit\n",
    "                , pronounce\n",
    "                , description \n",
    "            FROM \n",
    "                strongs\n",
    "            WHERE\n",
    "                substr(number, 1, 1) = 'G';\n",
    "            \"\"\"\n",
    "strongs_grk_df = pd.read_sql_query(sql_strongs_grk, ConectorBD('/Users/davison/Software/almeida-semantica/db/strongs.sqlite').con)"
   ]
  },
  {
   "cell_type": "code",
   "execution_count": 19,
   "metadata": {},
   "outputs": [
    {
     "data": {
      "application/vnd.microsoft.datawrangler.viewer.v0+json": {
       "columns": [
        {
         "name": "index",
         "rawType": "int64",
         "type": "integer"
        },
        {
         "name": "strongs_number",
         "rawType": "object",
         "type": "string"
        },
        {
         "name": "lemma",
         "rawType": "object",
         "type": "string"
        },
        {
         "name": "xlit",
         "rawType": "object",
         "type": "string"
        },
        {
         "name": "pronounce",
         "rawType": "object",
         "type": "string"
        },
        {
         "name": "description",
         "rawType": "object",
         "type": "string"
        }
       ],
       "conversionMethod": "pd.DataFrame",
       "ref": "ae5c3116-7817-4f56-b245-9268d6dbc8e6",
       "rows": [
        [
         "0",
         "1",
         "Α",
         "A",
         "al'-fah",
         "of Hebrew origin; the first letter of the alphabet; figuratively, only (from its use as a numeral) the first: --Alpha. Often used (usually , before a vowel) also in composition (as a contraction from ἄνευ) in the sense of privation; so, in many words, beginning with this letter; occasionally in the sense of union (as a contraction of ἅμα)."
        ],
        [
         "1",
         "2",
         "Ἀαρών",
         "Aarṓn",
         "ah-ar-ohn'",
         "of Hebrew origin (אַהֲרוֹן); Aaron, the brother of Moses:--Aaron."
        ],
        [
         "2",
         "3",
         "Ἀβαδδών",
         "Abaddṓn",
         "ab-ad-dohn'",
         "of Hebrew origin (אֲבַדּוֹן); a destroying angel:--Abaddon."
        ],
        [
         "3",
         "4",
         "ἀβαρής",
         "abarḗs",
         "ab-ar-ace'",
         "from Α (as a negative particle) and βάρος; weightless, i.e. (figuratively) not burdensome:--from being burdensome."
        ],
        [
         "4",
         "5",
         "Ἀββᾶ",
         "Abbâ",
         "ab-bah'",
         "of Chaldee origin (אַב); father as a vocative:--Abba."
        ]
       ],
       "shape": {
        "columns": 5,
        "rows": 5
       }
      },
      "text/html": [
       "<div>\n",
       "<style scoped>\n",
       "    .dataframe tbody tr th:only-of-type {\n",
       "        vertical-align: middle;\n",
       "    }\n",
       "\n",
       "    .dataframe tbody tr th {\n",
       "        vertical-align: top;\n",
       "    }\n",
       "\n",
       "    .dataframe thead th {\n",
       "        text-align: right;\n",
       "    }\n",
       "</style>\n",
       "<table border=\"1\" class=\"dataframe\">\n",
       "  <thead>\n",
       "    <tr style=\"text-align: right;\">\n",
       "      <th></th>\n",
       "      <th>strongs_number</th>\n",
       "      <th>lemma</th>\n",
       "      <th>xlit</th>\n",
       "      <th>pronounce</th>\n",
       "      <th>description</th>\n",
       "    </tr>\n",
       "  </thead>\n",
       "  <tbody>\n",
       "    <tr>\n",
       "      <th>0</th>\n",
       "      <td>1</td>\n",
       "      <td>Α</td>\n",
       "      <td>A</td>\n",
       "      <td>al'-fah</td>\n",
       "      <td>of Hebrew origin; the first letter of the alph...</td>\n",
       "    </tr>\n",
       "    <tr>\n",
       "      <th>1</th>\n",
       "      <td>2</td>\n",
       "      <td>Ἀαρών</td>\n",
       "      <td>Aarṓn</td>\n",
       "      <td>ah-ar-ohn'</td>\n",
       "      <td>of Hebrew origin (אַהֲרוֹן); Aaron, the brothe...</td>\n",
       "    </tr>\n",
       "    <tr>\n",
       "      <th>2</th>\n",
       "      <td>3</td>\n",
       "      <td>Ἀβαδδών</td>\n",
       "      <td>Abaddṓn</td>\n",
       "      <td>ab-ad-dohn'</td>\n",
       "      <td>of Hebrew origin (אֲבַדּוֹן); a destroying ang...</td>\n",
       "    </tr>\n",
       "    <tr>\n",
       "      <th>3</th>\n",
       "      <td>4</td>\n",
       "      <td>ἀβαρής</td>\n",
       "      <td>abarḗs</td>\n",
       "      <td>ab-ar-ace'</td>\n",
       "      <td>from Α (as a negative particle) and βάρος; wei...</td>\n",
       "    </tr>\n",
       "    <tr>\n",
       "      <th>4</th>\n",
       "      <td>5</td>\n",
       "      <td>Ἀββᾶ</td>\n",
       "      <td>Abbâ</td>\n",
       "      <td>ab-bah'</td>\n",
       "      <td>of Chaldee origin (אַב); father as a vocative:...</td>\n",
       "    </tr>\n",
       "  </tbody>\n",
       "</table>\n",
       "</div>"
      ],
      "text/plain": [
       "  strongs_number    lemma     xlit    pronounce  \\\n",
       "0              1        Α        A      al'-fah   \n",
       "1              2    Ἀαρών    Aarṓn   ah-ar-ohn'   \n",
       "2              3  Ἀβαδδών  Abaddṓn  ab-ad-dohn'   \n",
       "3              4   ἀβαρής   abarḗs   ab-ar-ace'   \n",
       "4              5     Ἀββᾶ     Abbâ      ab-bah'   \n",
       "\n",
       "                                         description  \n",
       "0  of Hebrew origin; the first letter of the alph...  \n",
       "1  of Hebrew origin (אַהֲרוֹן); Aaron, the brothe...  \n",
       "2  of Hebrew origin (אֲבַדּוֹן); a destroying ang...  \n",
       "3  from Α (as a negative particle) and βάρος; wei...  \n",
       "4  of Chaldee origin (אַב); father as a vocative:...  "
      ]
     },
     "execution_count": 19,
     "metadata": {},
     "output_type": "execute_result"
    }
   ],
   "source": [
    "strongs_grk_df.head()"
   ]
  },
  {
   "cell_type": "code",
   "execution_count": null,
   "metadata": {},
   "outputs": [],
   "source": [
    "# segunda parte, indexação por strongs e versículos\n",
    "#   primeiro, dataframe lxx do csv\n",
    "\n",
    "# exemplo sqldf\n",
    "# df_query_rs = sqldf(sql_query_string)"
   ]
  },
  {
   "cell_type": "code",
   "execution_count": 23,
   "metadata": {},
   "outputs": [
    {
     "name": "stderr",
     "output_type": "stream",
     "text": [
      "/var/folders/66/v9zmf0pn5p18jnhnr4_7x2r80000gn/T/ipykernel_1122/27383017.py:1: DtypeWarning: Columns (1,2) have mixed types. Specify dtype option on import or set low_memory=False.\n",
      "  df_lxx = pd.read_csv('/Users/davison/Software/almeida-semantica/lxxm_utf8_v4.csv', dtype={'strongs': 'Int32'})\n"
     ]
    }
   ],
   "source": [
    "df_lxx = pd.read_csv('/Users/davison/Software/almeida-semantica/lxxm_utf8_v4.csv', dtype={'strongs': 'Int32'})"
   ]
  },
  {
   "cell_type": "code",
   "execution_count": 24,
   "metadata": {},
   "outputs": [
    {
     "data": {
      "application/vnd.microsoft.datawrangler.viewer.v0+json": {
       "columns": [
        {
         "name": "index",
         "rawType": "int64",
         "type": "integer"
        },
        {
         "name": "book",
         "rawType": "int64",
         "type": "integer"
        },
        {
         "name": "chapter",
         "rawType": "object",
         "type": "unknown"
        },
        {
         "name": "verse",
         "rawType": "object",
         "type": "unknown"
        },
        {
         "name": "part_of_speech",
         "rawType": "object",
         "type": "string"
        },
        {
         "name": "morphology",
         "rawType": "object",
         "type": "string"
        },
        {
         "name": "normalized_word",
         "rawType": "object",
         "type": "string"
        },
        {
         "name": "strongs",
         "rawType": "Int32",
         "type": "integer"
        }
       ],
       "conversionMethod": "pd.DataFrame",
       "ref": "d7be38b5-64ef-47e8-b046-c831b5ec0e21",
       "rows": [
        [
         "0",
         "1",
         "1",
         "1",
         "P-",
         "--------",
         "εν",
         "1722"
        ],
        [
         "1",
         "1",
         "1",
         "1",
         "N-",
         "----DSF-",
         "αρχη",
         "746"
        ],
        [
         "2",
         "1",
         "1",
         "1",
         "V-",
         "3AAI-S--",
         "εποιησεν",
         "4160"
        ],
        [
         "3",
         "1",
         "1",
         "1",
         "RA",
         "----NSM-",
         "ο",
         "3588"
        ],
        [
         "4",
         "1",
         "1",
         "1",
         "N-",
         "----NSM-",
         "θεος",
         "2316"
        ]
       ],
       "shape": {
        "columns": 7,
        "rows": 5
       }
      },
      "text/html": [
       "<div>\n",
       "<style scoped>\n",
       "    .dataframe tbody tr th:only-of-type {\n",
       "        vertical-align: middle;\n",
       "    }\n",
       "\n",
       "    .dataframe tbody tr th {\n",
       "        vertical-align: top;\n",
       "    }\n",
       "\n",
       "    .dataframe thead th {\n",
       "        text-align: right;\n",
       "    }\n",
       "</style>\n",
       "<table border=\"1\" class=\"dataframe\">\n",
       "  <thead>\n",
       "    <tr style=\"text-align: right;\">\n",
       "      <th></th>\n",
       "      <th>book</th>\n",
       "      <th>chapter</th>\n",
       "      <th>verse</th>\n",
       "      <th>part_of_speech</th>\n",
       "      <th>morphology</th>\n",
       "      <th>normalized_word</th>\n",
       "      <th>strongs</th>\n",
       "    </tr>\n",
       "  </thead>\n",
       "  <tbody>\n",
       "    <tr>\n",
       "      <th>0</th>\n",
       "      <td>1</td>\n",
       "      <td>1</td>\n",
       "      <td>1</td>\n",
       "      <td>P-</td>\n",
       "      <td>--------</td>\n",
       "      <td>εν</td>\n",
       "      <td>1722</td>\n",
       "    </tr>\n",
       "    <tr>\n",
       "      <th>1</th>\n",
       "      <td>1</td>\n",
       "      <td>1</td>\n",
       "      <td>1</td>\n",
       "      <td>N-</td>\n",
       "      <td>----DSF-</td>\n",
       "      <td>αρχη</td>\n",
       "      <td>746</td>\n",
       "    </tr>\n",
       "    <tr>\n",
       "      <th>2</th>\n",
       "      <td>1</td>\n",
       "      <td>1</td>\n",
       "      <td>1</td>\n",
       "      <td>V-</td>\n",
       "      <td>3AAI-S--</td>\n",
       "      <td>εποιησεν</td>\n",
       "      <td>4160</td>\n",
       "    </tr>\n",
       "    <tr>\n",
       "      <th>3</th>\n",
       "      <td>1</td>\n",
       "      <td>1</td>\n",
       "      <td>1</td>\n",
       "      <td>RA</td>\n",
       "      <td>----NSM-</td>\n",
       "      <td>ο</td>\n",
       "      <td>3588</td>\n",
       "    </tr>\n",
       "    <tr>\n",
       "      <th>4</th>\n",
       "      <td>1</td>\n",
       "      <td>1</td>\n",
       "      <td>1</td>\n",
       "      <td>N-</td>\n",
       "      <td>----NSM-</td>\n",
       "      <td>θεος</td>\n",
       "      <td>2316</td>\n",
       "    </tr>\n",
       "  </tbody>\n",
       "</table>\n",
       "</div>"
      ],
      "text/plain": [
       "   book chapter verse part_of_speech morphology normalized_word  strongs\n",
       "0     1       1     1             P-   --------              εν     1722\n",
       "1     1       1     1             N-   ----DSF-            αρχη      746\n",
       "2     1       1     1             V-   3AAI-S--        εποιησεν     4160\n",
       "3     1       1     1             RA   ----NSM-               ο     3588\n",
       "4     1       1     1             N-   ----NSM-            θεος     2316"
      ]
     },
     "execution_count": 24,
     "metadata": {},
     "output_type": "execute_result"
    }
   ],
   "source": [
    "df_lxx.head()"
   ]
  },
  {
   "cell_type": "code",
   "execution_count": null,
   "metadata": {},
   "outputs": [],
   "source": [
    "# 2.2 df produto sqldf join lxx, strongs e ara_pt"
   ]
  },
  {
   "cell_type": "code",
   "execution_count": 29,
   "metadata": {},
   "outputs": [],
   "source": [
    "sql_lxx_strong_occurs = \"\"\"\n",
    "            SELECT distinct\n",
    "                strongs_number\n",
    "                , lemma\n",
    "                , xlit\n",
    "                , pronounce\n",
    "                , description\n",
    "                , book\n",
    "                , df_lxx.chapter||':'||df_lxx.verse lxx_cp_vs\n",
    "                , pt_df.chapter||':'||pt_df.verse ara_cp_vs\n",
    "                , strongs\n",
    "                , text\n",
    "            FROM\n",
    "                strongs_grk_df\n",
    "                , df_lxx\n",
    "                , pt_df\n",
    "            WHERE\n",
    "                strongs_grk_df.strongs_number = df_lxx.strongs\n",
    "            AND df_lxx.book = pt_df.nr_sq_livro\n",
    "            AND df_lxx.chapter = pt_df.chapter\n",
    "            AND df_lxx.verse = pt_df.verse\n",
    "            AND df_lxx.strongs = {}\n",
    "                \"\"\".format(2222)"
   ]
  },
  {
   "cell_type": "code",
   "execution_count": 30,
   "metadata": {},
   "outputs": [],
   "source": [
    "grk_lxx_occs = sqldf(sql_lxx_strong_occurs)"
   ]
  },
  {
   "cell_type": "code",
   "execution_count": 31,
   "metadata": {},
   "outputs": [
    {
     "data": {
      "text/plain": [
       "166"
      ]
     },
     "execution_count": 31,
     "metadata": {},
     "output_type": "execute_result"
    }
   ],
   "source": [
    "len(grk_lxx_occs)"
   ]
  },
  {
   "cell_type": "code",
   "execution_count": 32,
   "metadata": {},
   "outputs": [
    {
     "name": "stdout",
     "output_type": "stream",
     "text": [
      "    strongs_number lemma xlit pronounce                                                              description  book lxx_cp_vs ara_cp_vs  strongs                                                                                                                                                                                                                                                                                text\n",
      "0             2222   ζωή  zōḗ   dzo-ay'  from ζάω; life (literally or figuratively):--life(-time). Compare ψυχή.     1      1:30      1:30     2222                                                                                                      E a todos os animais da terra, e a todas as aves dos céus, e a todos os répteis da terra, em que há fôlego de vida, toda erva verde lhes será para mantimento. E assim se fez.\n",
      "1             2222   ζωή  zōḗ   dzo-ay'  from ζάω; life (literally or figuratively):--life(-time). Compare ψυχή.     1       2:7       2:7     2222                                                                                                                                                 Então, formou o SENHOR Deus ao homem do pó da terra e lhe soprou nas narinas o fôlego de vida, e o homem passou a ser alma vivente.\n",
      "2             2222   ζωή  zōḗ   dzo-ay'  from ζάω; life (literally or figuratively):--life(-time). Compare ψυχή.     1       2:9       2:9     2222                                                                                             Do solo fez o SENHOR Deus brotar toda sorte de árvores agradáveis à vista e boas para alimento; e também a árvore da vida no meio do jardim e a árvore do conhecimento do bem e do mal.\n",
      "3             2222   ζωή  zōḗ   dzo-ay'  from ζάω; life (literally or figuratively):--life(-time). Compare ψυχή.     1      23:1      23:1     2222                                                                                                                                                                                                                                        Tendo Sara vivido cento e vinte e sete anos,\n",
      "4             2222   ζωή  zōḗ   dzo-ay'  from ζάω; life (literally or figuratively):--life(-time). Compare ψυχή.     1     25:17     25:17     2222                                                                                                                                                                                        E os anos da vida de Ismael foram cento e trinta e sete; e morreu e foi reunido ao seu povo.\n",
      "5             2222   ζωή  zōḗ   dzo-ay'  from ζάω; life (literally or figuratively):--life(-time). Compare ψυχή.     1      25:7      25:7     2222                                                                                                                                                                                                                       Foram os dias da vida de Abraão cento e setenta e cinco anos.\n",
      "6             2222   ζωή  zōḗ   dzo-ay'  from ζάω; life (literally or figuratively):--life(-time). Compare ψυχή.     1     27:46     27:46     2222                                                                               Disse Rebeca a Isaque: Aborrecida estou da minha vida, por causa das filhas de Hete; se Jacó tomar esposa dentre as filhas de Hete, tais como estas, as filhas desta terra, de que me servirá a vida?\n",
      "7             2222   ζωή  zōḗ   dzo-ay'  from ζάω; life (literally or figuratively):--life(-time). Compare ψυχή.     1      3:14      3:14     2222                                                         Então, o SENHOR Deus disse à serpente: Visto que isso fizeste, maldita és entre todos os animais domésticos e o és entre todos os animais selváticos; rastejarás sobre o teu ventre e comerás pó todos os dias da tua vida.\n",
      "8             2222   ζωή  zōḗ   dzo-ay'  from ζάω; life (literally or figuratively):--life(-time). Compare ψυχή.     1      3:17      3:17     2222                                                                       E a Adão disse: Visto que atendeste a voz de tua mulher e comeste da árvore que eu te ordenara não comesses, maldita é a terra por tua causa; em fadigas obterás dela o sustento durante os dias de tua vida.\n",
      "9             2222   ζωή  zōḗ   dzo-ay'  from ζάω; life (literally or figuratively):--life(-time). Compare ψυχή.     1      3:20      3:20     2222                                                                                                                                                                                                  E deu o homem o nome de Eva a sua mulher, por ser a mãe de todos os seres humanos.\n",
      "10            2222   ζωή  zōḗ   dzo-ay'  from ζάω; life (literally or figuratively):--life(-time). Compare ψυχή.     1      3:22      3:22     2222                                                                                        Então, disse o SENHOR Deus: Eis que o homem se tornou como um de nós, conhecedor do bem e do mal; assim, que não estenda a mão, e tome também da árvore da vida, e coma, e viva eternamente.\n",
      "11            2222   ζωή  zōḗ   dzo-ay'  from ζάω; life (literally or figuratively):--life(-time). Compare ψυχή.     1      3:24      3:24     2222                                                                                                                            E, expulso o homem, colocou querubins ao oriente do jardim do Éden e o refulgir de uma espada que se revolvia, para guardar o caminho da árvore da vida.\n",
      "12            2222   ζωή  zōḗ   dzo-ay'  from ζάω; life (literally or figuratively):--life(-time). Compare ψυχή.     1      45:5      45:5     2222                                                                                                           Agora, pois, não vos entristeçais, nem vos irriteis contra vós mesmos por me haverdes vendido para aqui; porque, para conservação da vida, Deus me enviou adiante de vós.\n",
      "13            2222   ζωή  zōḗ   dzo-ay'  from ζάω; life (literally or figuratively):--life(-time). Compare ψυχή.     1     47:28     47:28     2222                                                                                                                                                      Jacó viveu na terra do Egito dezessete anos; de sorte que os dias de Jacó, os anos da sua vida, foram cento e quarenta e sete.\n",
      "14            2222   ζωή  zōḗ   dzo-ay'  from ζάω; life (literally or figuratively):--life(-time). Compare ψυχή.     1      47:8      47:8     2222                                                                                                                                                                                                                   Perguntou Faraó a Jacó: Quantos são os dias dos anos da tua vida?\n",
      "15            2222   ζωή  zōḗ   dzo-ay'  from ζάω; life (literally or figuratively):--life(-time). Compare ψυχή.     1      47:9      47:9     2222                                                   Jacó lhe respondeu: Os dias dos anos das minhas peregrinações são cento e trinta anos; poucos e maus foram os dias dos anos da minha vida e não chegaram aos dias dos anos da vida de meus pais, nos dias das suas peregrinações.\n",
      "16            2222   ζωή  zōḗ   dzo-ay'  from ζάω; life (literally or figuratively):--life(-time). Compare ψυχή.     1      6:17      6:17     2222                                                                                                                      Porque estou para derramar águas em dilúvio sobre a terra para consumir toda carne em que há fôlego de vida debaixo dos céus; tudo o que há na terra perecerá.\n",
      "17            2222   ζωή  zōḗ   dzo-ay'  from ζάω; life (literally or figuratively):--life(-time). Compare ψυχή.     1      7:11      7:11     2222                                                                                                                    No ano seiscentos da vida de Noé, aos dezessete dias do segundo mês, nesse dia romperam-se todas as fontes do grande abismo, e as comportas dos céus se abriram,\n",
      "18            2222   ζωή  zōḗ   dzo-ay'  from ζάω; life (literally or figuratively):--life(-time). Compare ψυχή.     1      7:15      7:15     2222                                                                                                                                                                                              De toda carne, em que havia fôlego de vida, entraram de dois em dois para Noé na arca;\n",
      "19            2222   ζωή  zōḗ   dzo-ay'  from ζάω; life (literally or figuratively):--life(-time). Compare ψυχή.     1      7:22      7:22     2222                                                                                                                                                                                            Tudo o que tinha fôlego de vida em suas narinas, tudo o que havia em terra seca, morreu.\n",
      "20            2222   ζωή  zōḗ   dzo-ay'  from ζάω; life (literally or figuratively):--life(-time). Compare ψυχή.     1      8:13      8:13     2222                                                                                         Sucedeu que, no primeiro dia do primeiro mês, do ano seiscentos e um, as águas se secaram de sobre a terra. Então, Noé removeu a cobertura da arca e olhou, e eis que o solo estava enxuto.\n",
      "21            2222   ζωή  zōḗ   dzo-ay'  from ζάω; life (literally or figuratively):--life(-time). Compare ψυχή.     2      1:14      1:14     2222                                                                                                                           e lhes fizeram amargar a vida com dura servidão, em barro, e em tijolos, e com todo o trabalho no campo; com todo o serviço em que na tirania os serviam.\n",
      "22            2222   ζωή  zōḗ   dzo-ay'  from ζάω; life (literally or figuratively):--life(-time). Compare ψυχή.     2      6:16      6:16     2222                                                                                                                                     São estes os nomes dos filhos de Levi, segundo as suas gerações: Gérson, Coate e Merari; e os anos da vida de Levi foram cento e trinta e sete.\n",
      "23            2222   ζωή  zōḗ   dzo-ay'  from ζάω; life (literally or figuratively):--life(-time). Compare ψυχή.     2      6:18      6:18     2222                                                                                                                                                                            Os filhos de Coate: Anrão, Isar, Hebrom e Uziel; e os anos da vida de Coate foram cento e trinta e três.\n",
      "24            2222   ζωή  zōḗ   dzo-ay'  from ζάω; life (literally or figuratively):--life(-time). Compare ψυχή.     2      6:20      6:20     2222                                                                                                                                                 Anrão tomou por mulher a Joquebede, sua tia; e ela lhe deu a Arão e Moisés; e os anos da vida de Anrão foram cento e trinta e sete.\n",
      "25            2222   ζωή  zōḗ   dzo-ay'  from ζάω; life (literally or figuratively):--life(-time). Compare ψυχή.     5      16:3      16:3     2222                                                      Nela, não comerás levedado; sete dias, nela, comerás pães asmos, pão de aflição (porquanto, apressadamente, saíste da terra do Egito), para que te lembres, todos os dias da tua vida, do dia em que saíste da terra do Egito.\n",
      "26            2222   ζωή  zōḗ   dzo-ay'  from ζάω; life (literally or figuratively):--life(-time). Compare ψυχή.     5     17:19     17:19     2222                                                                                               E o terá consigo e nele lerá todos os dias da sua vida, para que aprenda a temer o SENHOR, seu Deus, a fim de guardar todas as palavras desta lei e estes estatutos, para os cumprir.\n",
      "27            2222   ζωή  zōḗ   dzo-ay'  from ζάω; life (literally or figuratively):--life(-time). Compare ψυχή.     5     28:66     28:66     2222                                                                                                                                                                    A tua vida estará suspensa como por um fio diante de ti; terás pavor de noite e de dia e não crerás na tua vida.\n",
      "28            2222   ζωή  zōḗ   dzo-ay'  from ζάω; life (literally or figuratively):--life(-time). Compare ψυχή.     5     30:15     30:15     2222                                                                                                                                                                                                                             Vê que proponho, hoje, a vida e o bem, a morte e o mal;\n",
      "29            2222   ζωή  zōḗ   dzo-ay'  from ζάω; life (literally or figuratively):--life(-time). Compare ψυχή.     5     30:19     30:19     2222                                                                                                     Os céus e a terra tomo, hoje, por testemunhas contra ti, que te propus a vida e a morte, a bênção e a maldição; escolhe, pois, a vida, para que vivas, tu e a tua descendência,\n",
      "30            2222   ζωή  zōḗ   dzo-ay'  from ζάω; life (literally or figuratively):--life(-time). Compare ψυχή.     5     30:20     30:20     2222                                                  amando o SENHOR, teu Deus, dando ouvidos à sua voz e apegando-te a ele; pois disto depende a tua vida e a tua longevidade; para que habites na terra que o SENHOR, sob juramento, prometeu dar a teus pais, Abraão, Isaque e Jacó.\n",
      "31            2222   ζωή  zōḗ   dzo-ay'  from ζάω; life (literally or figuratively):--life(-time). Compare ψυχή.     5     32:47     32:47     2222                                                                                                 Porque esta palavra não é para vós outros coisa vã; antes, é a vossa vida; e, por esta mesma palavra, prolongareis os dias na terra à qual, passando o Jordão, ides para a possuir.\n",
      "32            2222   ζωή  zōḗ   dzo-ay'  from ζάω; life (literally or figuratively):--life(-time). Compare ψυχή.     5       4:9       4:9     2222                                   Tão somente guarda-te a ti mesmo e guarda bem a tua alma, que te não esqueças daquelas coisas que os teus olhos têm visto, e se não apartem do teu coração todos os dias da tua vida, e as farás saber a teus filhos e aos filhos de teus filhos.\n",
      "33            2222   ζωή  zōḗ   dzo-ay'  from ζάω; life (literally or figuratively):--life(-time). Compare ψυχή.     5       6:2       6:2     2222                                                                        para que temas ao SENHOR, teu Deus, e guardes todos os seus estatutos e mandamentos que eu te ordeno, tu, e teu filho, e o filho de teu filho, todos os dias da tua vida; e que teus dias sejam prolongados.\n",
      "34            2222   ζωή  zōḗ   dzo-ay'  from ζάω; life (literally or figuratively):--life(-time). Compare ψυχή.     6       1:5       1:5     2222                                                                                                                                               Ninguém te poderá resistir todos os dias da tua vida; como fui com Moisés, assim serei contigo; não te deixarei, nem te desampararei.\n",
      "35            2222   ζωή  zōḗ   dzo-ay'  from ζάω; life (literally or figuratively):--life(-time). Compare ψυχή.     6     10:40     10:40     2222                                                  Assim, feriu Josué toda aquela terra, a região montanhosa, o Neguebe, as campinas, as descidas das águas e todos os seus reis; destruiu tudo o que tinha fôlego, sem deixar nem sequer um, como ordenara o SENHOR, Deus de Israel.\n",
      "36            2222   ζωή  zōḗ   dzo-ay'  from ζάω; life (literally or figuratively):--life(-time). Compare ψυχή.     7     16:30     16:30     2222                                                                         E disse: Morra eu com os filisteus. E inclinou-se com força, e a casa caiu sobre os príncipes e sobre todo o povo que nela estava; e foram mais os que matou na sua morte do que os que matara na sua vida.\n",
      "37            2222   ζωή  zōḗ   dzo-ay'  from ζάω; life (literally or figuratively):--life(-time). Compare ψυχή.     7       6:4       6:4     2222                                                                                                                  E contra ele se acampavam, destruindo os produtos da terra até à vizinhança de Gaza, e não deixavam em Israel sustento algum, nem ovelhas, nem bois, nem jumentos.\n",
      "38            2222   ζωή  zōḗ   dzo-ay'  from ζάω; life (literally or figuratively):--life(-time). Compare ψυχή.     9     25:29     25:29     2222                                           Se algum homem se levantar para te perseguir e buscar a tua vida, então, a tua vida será atada no feixe dos que vivem com o SENHOR, teu Deus; porém a vida de teus inimigos, este a arrojará como se a atirasse da cavidade de uma funda.\n",
      "39            2222   ζωή  zōḗ   dzo-ay'  from ζάω; life (literally or figuratively):--life(-time). Compare ψυχή.     9      7:15      7:15     2222                                                                                                                                                                                                                                 E julgou Samuel todos os dias de sua vida a Israel.\n",
      "40            2222   ζωή  zōḗ   dzo-ay'  from ζάω; life (literally or figuratively):--life(-time). Compare ψυχή.    10      1:23      1:23     2222                                                                                                                                 Saul e Jônatas, queridos e amáveis, tanto na vida como na morte não se separaram! Eram mais ligeiros do que as águias, mais fortes do que os leões.\n",
      "41            2222   ζωή  zōḗ   dzo-ay'  from ζάω; life (literally or figuratively):--life(-time). Compare ψυχή.    10     15:21     15:21     2222                                                                                Respondeu, porém, Itai ao rei: Tão certo como vive o SENHOR, e como vive o rei, meu senhor, no lugar em que estiver o rei, meu senhor, seja para morte seja para vida, lá estará também o teu servo.\n",
      "42            2222   ζωή  zōḗ   dzo-ay'  from ζάω; life (literally or figuratively):--life(-time). Compare ψυχή.    10     19:34     19:34     2222                                                                                                                                                         Respondeu Barzilai ao rei: Quantos serão ainda os dias dos anos da minha vida? Não vale a pena subir com o rei a Jerusalém.\n",
      "43            2222   ζωή  zōḗ   dzo-ay'  from ζάω; life (literally or figuratively):--life(-time). Compare ψυχή.    11     11:34     11:34     2222                                                                          Porém não tomarei da sua mão o reino todo; pelo contrário, fá-lo-ei príncipe todos os dias da sua vida, por amor de Davi, meu servo, a quem elegi, porque guardou os meus mandamentos e os meus estatutos.\n",
      "44            2222   ζωή  zōḗ   dzo-ay'  from ζάω; life (literally or figuratively):--life(-time). Compare ψυχή.    11      15:5      15:5     2222                                                                                                                     Porquanto Davi fez o que era reto perante o SENHOR e não se desviou de tudo quanto lhe ordenara, em todos os dias da sua vida, senão no caso de Urias, o heteu.\n",
      "45            2222   ζωή  zōḗ   dzo-ay'  from ζάω; life (literally or figuratively):--life(-time). Compare ψυχή.    12     25:29     25:29     2222                                                                                                                                                                             Mudou-lhe as vestes do cárcere, e Joaquim passou a comer pão na sua presença todos os dias da sua vida.\n",
      "46            2222   ζωή  zōḗ   dzo-ay'  from ζάω; life (literally or figuratively):--life(-time). Compare ψυχή.    12     25:30     25:30     2222                                                                                                                                                                              E da parte do rei lhe foi dada subsistência vitalícia, uma pensão diária, durante os dias da sua vida.\n",
      "47            2222   ζωή  zōḗ   dzo-ay'  from ζάω; life (literally or figuratively):--life(-time). Compare ψυχή.    12      8:10      8:10     2222                                                                                                                                                                               Eliseu lhe respondeu: Vai e dize-lhe: Certamente, sararás. Porém o SENHOR me mostrou que ele morrerá.\n",
      "48            2222   ζωή  zōḗ   dzo-ay'  from ζάω; life (literally or figuratively):--life(-time). Compare ψυχή.    12      8:14      8:14     2222                                                                                                                                              Então, deixou a Eliseu e veio a seu senhor, o qual lhe perguntou: Que te disse Eliseu? Respondeu ele: Disse-me que certamente sararás.\n",
      "49            2222   ζωή  zōḗ   dzo-ay'  from ζάω; life (literally or figuratively):--life(-time). Compare ψυχή.    15      6:10      6:10     2222                                                                                                                                                                         para que ofereçam sacrifícios de aroma agradável ao Deus dos céus e orem pela vida do rei e de seus filhos.\n",
      "50            2222   ζωή  zōḗ   dzo-ay'  from ζάω; life (literally or figuratively):--life(-time). Compare ψυχή.    18     10:12     10:12     2222                                                                                                                                                                                                           Vida me concedeste na tua benevolência, e o teu cuidado a mim me guardou.\n",
      "51            2222   ζωή  zōḗ   dzo-ay'  from ζάω; life (literally or figuratively):--life(-time). Compare ψυχή.    18     10:22     10:22     2222                                                                                                                                                                      terra de negridão, de profunda escuridade, terra da sombra da morte e do caos, onde a própria luz é tenebrosa.\n",
      "52            2222   ζωή  zōḗ   dzo-ay'  from ζάω; life (literally or figuratively):--life(-time). Compare ψυχή.    18     11:17     11:17     2222                                                                                                                                                                                           A tua vida será mais clara que o meio-dia; ainda que lhe haja trevas, serão como a manhã.\n",
      "53            2222   ζωή  zōḗ   dzo-ay'  from ζάω; life (literally or figuratively):--life(-time). Compare ψυχή.    18     24:22     24:22     2222                                                                                                                                                              Não! Pelo contrário, Deus por sua força prolonga os dias dos valentes; veem-se eles de pé quando desesperavam da vida.\n",
      "54            2222   ζωή  zōḗ   dzo-ay'  from ζάω; life (literally or figuratively):--life(-time). Compare ψυχή.    18      3:20      3:20     2222                                                                                                                                                                                                                Por que se concede luz ao miserável e vida aos amargurados de ânimo,\n",
      "55            2222   ζωή  zōḗ   dzo-ay'  from ζάω; life (literally or figuratively):--life(-time). Compare ψυχή.    18     33:22     33:22     2222                                                                                                                                                                                                           A sua alma se vai chegando à cova, e a sua vida, aos portadores da morte.\n",
      "56            2222   ζωή  zōḗ   dzo-ay'  from ζάω; life (literally or figuratively):--life(-time). Compare ψυχή.    18     33:28     33:28     2222                                                                                                                                                                                                             Deus redimiu a minha alma de ir para a cova; e a minha vida verá a luz.\n",
      "57            2222   ζωή  zōḗ   dzo-ay'  from ζάω; life (literally or figuratively):--life(-time). Compare ψυχή.    18     33:30     33:30     2222                                                                                                                                                                                                              para reconduzir da cova a sua alma e o alumiar com a luz dos viventes.\n",
      "58            2222   ζωή  zōḗ   dzo-ay'  from ζάω; life (literally or figuratively):--life(-time). Compare ψυχή.    18     36:14     36:14     2222                                                                                                                                                                                                               Perdem a vida na sua mocidade e morrem entre os prostitutos cultuais.\n",
      "59            2222   ζωή  zōḗ   dzo-ay'  from ζάω; life (literally or figuratively):--life(-time). Compare ψυχή.    18       7:1       7:1     2222                                                                                                                                                                                          Não é penosa a vida do homem sobre a terra? Não são os seus dias como os de um jornaleiro?\n",
      "60            2222   ζωή  zōḗ   dzo-ay'  from ζάω; life (literally or figuratively):--life(-time). Compare ψυχή.    18       7:7       7:7     2222                                                                                                                                                                                                   Lembra-te de que a minha vida é um sopro; os meus olhos não tornarão a ver o bem.\n",
      "61            2222   ζωή  zōḗ   dzo-ay'  from ζάω; life (literally or figuratively):--life(-time). Compare ψυχή.    18      9:21      9:21     2222                                                                                                                                                                                                        Eu sou íntegro, não levo em conta a minha alma, não faço caso da minha vida.\n",
      "62            2222   ζωή  zōḗ   dzo-ay'  from ζάω; life (literally or figuratively):--life(-time). Compare ψυχή.    19     16:11     16:11     2222                                                                                                                                                                Tu me farás ver os caminhos da vida; na tua presença há plenitude de alegria, na tua destra, delícias perpetuamente.\n",
      "63            2222   ζωή  zōḗ   dzo-ay'  from ζάω; life (literally or figuratively):--life(-time). Compare ψυχή.    19     17:14     17:14     2222                                                                                        com a tua mão, SENHOR, dos homens mundanos, cujo quinhão é desta vida e cujo ventre tu enches dos teus tesouros; os quais se fartam de filhos e o que lhes sobra deixam aos seus pequeninos.\n",
      "64            2222   ζωή  zōḗ   dzo-ay'  from ζάω; life (literally or figuratively):--life(-time). Compare ψυχή.    19      21:4      21:4     2222                                                                                                                                                                                                             Ele te pediu vida, e tu lha deste; sim, longevidade para todo o sempre.\n",
      "65            2222   ζωή  zōḗ   dzo-ay'  from ζάω; life (literally or figuratively):--life(-time). Compare ψυχή.    19      23:6      23:6     2222                                                                                                                                                        Bondade e misericórdia certamente me seguirão todos os dias da minha vida; e habitarei na Casa do SENHOR para todo o sempre.\n",
      "66            2222   ζωή  zōḗ   dzo-ay'  from ζάω; life (literally or figuratively):--life(-time). Compare ψυχή.    19      26:9      26:9     2222                                                                                                                                                                                        Não colhas a minha alma com a dos pecadores, nem a minha vida com a dos homens sanguinários,\n",
      "67            2222   ζωή  zōḗ   dzo-ay'  from ζάω; life (literally or figuratively):--life(-time). Compare ψυχή.    19      27:1      27:1     2222                                                                                                                                                                O SENHOR é a minha luz e a minha salvação; de quem terei medo? O SENHOR é a fortaleza da minha vida; a quem temerei?\n",
      "68            2222   ζωή  zōḗ   dzo-ay'  from ζάω; life (literally or figuratively):--life(-time). Compare ψυχή.    19      27:4      27:4     2222                                                                                                               Uma coisa peço ao SENHOR, e a buscarei: que eu possa morar na Casa do SENHOR todos os dias da minha vida, para contemplar a beleza do SENHOR e meditar no seu templo.\n",
      "69            2222   ζωή  zōḗ   dzo-ay'  from ζάω; life (literally or figuratively):--life(-time). Compare ψυχή.    19      30:5      30:5     2222                                                                                                                                            Porque não passa de um momento a sua ira; o seu favor dura a vida inteira. Ao anoitecer, pode vir o choro, mas a alegria vem pela manhã.\n",
      "70            2222   ζωή  zōḗ   dzo-ay'  from ζάω; life (literally or figuratively):--life(-time). Compare ψυχή.    19     31:10     31:10     2222                                                                                                                               Gasta-se a minha vida na tristeza, e os meus anos, em gemidos; debilita-se a minha força, por causa da minha iniquidade, e os meus ossos se consomem.\n",
      "71            2222   ζωή  zōḗ   dzo-ay'  from ζάω; life (literally or figuratively):--life(-time). Compare ψυχή.    19     34:12     34:12     2222                                                                                                                                                                                                                    Quem é o homem que ama a vida e quer longevidade para ver o bem?\n",
      "72            2222   ζωή  zōḗ   dzo-ay'  from ζάω; life (literally or figuratively):--life(-time). Compare ψυχή.    19      36:9      36:9     2222                                                                                                                                                                                                                       Pois em ti está o manancial da vida; na tua luz, vemos a luz.\n",
      "73            2222   ζωή  zōḗ   dzo-ay'  from ζάω; life (literally or figuratively):--life(-time). Compare ψυχή.    19      42:8      42:8     2222                                                                                                                                             Contudo, o SENHOR, durante o dia, me concede a sua misericórdia, e à noite comigo está o seu cântico, uma oração ao Deus da minha vida.\n",
      "74            2222   ζωή  zōḗ   dzo-ay'  from ζάω; life (literally or figuratively):--life(-time). Compare ψυχή.    19     49:18     49:18     2222                                                                                                                                                                                 Ainda que durante a vida ele se tenha lisonjeado, e ainda que o louvem quando faz o bem a si mesmo,\n",
      "75            2222   ζωή  zōḗ   dzo-ay'  from ζάω; life (literally or figuratively):--life(-time). Compare ψυχή.    19      56:8      56:8     2222                                                                                                                                                Contaste os meus passos quando sofri perseguições; recolheste as minhas lágrimas no teu odre; não estão elas inscritas no teu livro?\n",
      "76            2222   ζωή  zōḗ   dzo-ay'  from ζάω; life (literally or figuratively):--life(-time). Compare ψυχή.    19      63:3      63:3     2222                                                                                                                                                                                                                Porque a tua graça é melhor do que a vida; os meus lábios te louvam.\n",
      "77            2222   ζωή  zōḗ   dzo-ay'  from ζάω; life (literally or figuratively):--life(-time). Compare ψυχή.    19      63:4      63:4     2222                                                                                                                                                                                                       Assim, cumpre-me bendizer-te enquanto eu viver; em teu nome, levanto as mãos.\n",
      "78            2222   ζωή  zōḗ   dzo-ay'  from ζάω; life (literally or figuratively):--life(-time). Compare ψυχή.    19      66:9      66:9     2222                                                                                                                                                                                                         o que preserva com vida a nossa alma e não permite que nos resvalem os pés.\n",
      "79            2222   ζωή  zōḗ   dzo-ay'  from ζάω; life (literally or figuratively):--life(-time). Compare ψυχή.    19       7:5       7:5     2222                                                                                                                                                                          persiga o inimigo a minha alma e alcance-a, espezinhe no chão a minha vida e arraste no pó a minha glória.\n",
      "80            2222   ζωή  zōḗ   dzo-ay'  from ζάω; life (literally or figuratively):--life(-time). Compare ψυχή.    19      88:3      88:3     2222                                                                                                                                                                                                        Pois a minha alma está farta de males, e a minha vida já se abeira da morte.\n",
      "81            2222   ζωή  zōḗ   dzo-ay'  from ζάω; life (literally or figuratively):--life(-time). Compare ψυχή.    20     10:11     10:11     2222                                                                                                                                                                                                    A boca do justo é manancial de vida, mas na boca dos perversos mora a violência.\n",
      "82            2222   ζωή  zōḗ   dzo-ay'  from ζάω; life (literally or figuratively):--life(-time). Compare ψυχή.    20     10:16     10:16     2222                                                                                                                                                                                                               A obra do justo conduz à vida, e o rendimento do perverso, ao pecado.\n",
      "83            2222   ζωή  zōḗ   dzo-ay'  from ζάω; life (literally or figuratively):--life(-time). Compare ψυχή.    20     10:17     10:17     2222                                                                                                                                                                                       O caminho para a vida é de quem guarda o ensino, mas o que abandona a repreensão anda errado.\n",
      "84            2222   ζωή  zōḗ   dzo-ay'  from ζάω; life (literally or figuratively):--life(-time). Compare ψυχή.    20      10:3      10:3     2222                                                                                                                                                                                                            O SENHOR não deixa ter fome o justo, mas rechaça a avidez dos perversos.\n",
      "85            2222   ζωή  zōḗ   dzo-ay'  from ζάω; life (literally or figuratively):--life(-time). Compare ψυχή.    20     11:19     11:19     2222                                                                                                                                                                                       Tão certo como a justiça conduz para a vida, assim o que segue o mal, para a sua morte o faz.\n",
      "86            2222   ζωή  zōḗ   dzo-ay'  from ζάω; life (literally or figuratively):--life(-time). Compare ψυχή.    20     11:30     11:30     2222                                                                                                                                                                                                                     O fruto do justo é árvore de vida, e o que ganha almas é sábio.\n",
      "87            2222   ζωή  zōḗ   dzo-ay'  from ζάω; life (literally or figuratively):--life(-time). Compare ψυχή.    20     12:28     12:28     2222                                                                                                                                                                                                       Na vereda da justiça, está a vida, e no caminho da sua carreira não há morte.\n",
      "88            2222   ζωή  zōḗ   dzo-ay'  from ζάω; life (literally or figuratively):--life(-time). Compare ψυχή.    20     13:12     13:12     2222                                                                                                                                                                                              A esperança que se adia faz adoecer o coração, mas o desejo cumprido é árvore de vida.\n",
      "89            2222   ζωή  zōḗ   dzo-ay'  from ζάω; life (literally or figuratively):--life(-time). Compare ψυχή.    20     13:14     13:14     2222                                                                                                                                                                                                            O ensino do sábio é fonte de vida, para que se evitem os laços da morte.\n",
      "90            2222   ζωή  zōḗ   dzo-ay'  from ζάω; life (literally or figuratively):--life(-time). Compare ψυχή.    20     14:27     14:27     2222                                                                                                                                                                                                                    O temor do SENHOR é fonte de vida para evitar os laços da morte.\n",
      "91            2222   ζωή  zōḗ   dzo-ay'  from ζάω; life (literally or figuratively):--life(-time). Compare ψυχή.    20     15:24     15:24     2222                                                                                                                                                                                         Para o sábio há o caminho da vida que o leva para cima, a fim de evitar o inferno, embaixo.\n",
      "92            2222   ζωή  zōḗ   dzo-ay'  from ζάω; life (literally or figuratively):--life(-time). Compare ψυχή.    20      15:4      15:4     2222                                                                                                                                                                                                              A língua serena é árvore de vida, mas a perversa quebranta o espírito.\n",
      "93            2222   ζωή  zōḗ   dzo-ay'  from ζάω; life (literally or figuratively):--life(-time). Compare ψυχή.    20     16:15     16:15     2222                                                                                                                                                                               O semblante alegre do rei significa vida, e a sua benevolência é como a nuvem que traz chuva serôdia.\n",
      "94            2222   ζωή  zōḗ   dzo-ay'  from ζάω; life (literally or figuratively):--life(-time). Compare ψυχή.    20     16:17     16:17     2222                                                                                                                                                                                            O caminho dos retos é desviar-se do mal; o que guarda o seu caminho preserva a sua alma.\n",
      "95            2222   ζωή  zōḗ   dzo-ay'  from ζάω; life (literally or figuratively):--life(-time). Compare ψυχή.    20     16:22     16:22     2222                                                                                                                                                                 O entendimento, para aqueles que o possuem, é fonte de vida; mas, para o insensato, a sua estultícia lhe é castigo.\n",
      "96            2222   ζωή  zōḗ   dzo-ay'  from ζάω; life (literally or figuratively):--life(-time). Compare ψυχή.    20     18:21     18:21     2222                                                                                                                                                                                                   A morte e a vida estão no poder da língua; o que bem a utiliza come do seu fruto.\n",
      "97            2222   ζωή  zōḗ   dzo-ay'  from ζάω; life (literally or figuratively):--life(-time). Compare ψυχή.    20      18:4      18:4     2222                                                                                                                                                                                  Águas profundas são as palavras da boca do homem, e a fonte da sabedoria, ribeiros transbordantes.\n",
      "98            2222   ζωή  zōḗ   dzo-ay'  from ζάω; life (literally or figuratively):--life(-time). Compare ψυχή.    20     19:23     19:23     2222                                                                                                                                                                                       O temor do SENHOR conduz à vida; aquele que o tem ficará satisfeito, e mal nenhum o visitará.\n",
      "99            2222   ζωή  zōḗ   dzo-ay'  from ζάω; life (literally or figuratively):--life(-time). Compare ψυχή.    20      2:19      2:19     2222                                                                                                                                                                                           todos os que se dirigem a essa mulher não voltarão e não atinarão com as veredas da vida.\n",
      "100           2222   ζωή  zōḗ   dzo-ay'  from ζάω; life (literally or figuratively):--life(-time). Compare ψυχή.    20     21:21     21:21     2222                                                                                                                                                                                                               O que segue a justiça e a bondade achará a vida, a justiça e a honra.\n",
      "101           2222   ζωή  zōḗ   dzo-ay'  from ζάω; life (literally or figuratively):--life(-time). Compare ψυχή.    20      22:4      22:4     2222                                                                                                                                                                                                          O galardão da humildade e o temor do SENHOR são riquezas, e honra, e vida.\n",
      "102           2222   ζωή  zōḗ   dzo-ay'  from ζάω; life (literally or figuratively):--life(-time). Compare ψυχή.    20      23:3      23:3     2222                                                                                                                                                                                                             Não cobices os seus delicados manjares, porque são comidas enganadoras.\n",
      "103           2222   ζωή  zōḗ   dzo-ay'  from ζάω; life (literally or figuratively):--life(-time). Compare ψυχή.    20     27:27     27:27     2222                                                                                                                                                                      e as cabras, leite em abundância para teu alimento, para alimento da tua casa e para sustento das tuas servas.\n",
      "104           2222   ζωή  zōḗ   dzo-ay'  from ζάω; life (literally or figuratively):--life(-time). Compare ψυχή.    20      3:16      3:16     2222                                                                                                                                                                                                    O alongar-se da vida está na sua mão direita, na sua esquerda, riquezas e honra.\n",
      "105           2222   ζωή  zōḗ   dzo-ay'  from ζάω; life (literally or figuratively):--life(-time). Compare ψυχή.    20      3:18      3:18     2222                                                                                                                                                                                                        É árvore de vida para os que a alcançam, e felizes são todos os que a retêm.\n",
      "106           2222   ζωή  zōḗ   dzo-ay'  from ζάω; life (literally or figuratively):--life(-time). Compare ψυχή.    20       3:2       3:2     2222                                                                                                                                                                                                          porque eles aumentarão os teus dias e te acrescentarão anos de vida e paz.\n",
      "107           2222   ζωή  zōḗ   dzo-ay'  from ζάω; life (literally or figuratively):--life(-time). Compare ψυχή.    20      4:10      4:10     2222                                                                                                                                                                                                Ouve, filho meu, e aceita as minhas palavras, e se te multiplicarão os anos de vida.\n",
      "108           2222   ζωή  zōḗ   dzo-ay'  from ζάω; life (literally or figuratively):--life(-time). Compare ψυχή.    20      4:13      4:13     2222                                                                                                                                                                                                               Retém a instrução e não a largues; guarda-a, porque ela é a tua vida.\n",
      "109           2222   ζωή  zōḗ   dzo-ay'  from ζάω; life (literally or figuratively):--life(-time). Compare ψυχή.    20      4:22      4:22     2222                                                                                                                                                                                                                        Porque são vida para quem os acha e saúde, para o seu corpo.\n",
      "110           2222   ζωή  zōḗ   dzo-ay'  from ζάω; life (literally or figuratively):--life(-time). Compare ψυχή.    20      4:23      4:23     2222                                                                                                                                                                                         Sobre tudo o que se deve guardar, guarda o coração, porque dele procedem as fontes da vida.\n",
      "111           2222   ζωή  zōḗ   dzo-ay'  from ζάω; life (literally or figuratively):--life(-time). Compare ψυχή.    20       5:6       5:6     2222                                                                                                                                                                                                      Ela não pondera a vereda da vida; anda errante nos seus caminhos e não o sabe.\n",
      "112           2222   ζωή  zōḗ   dzo-ay'  from ζάω; life (literally or figuratively):--life(-time). Compare ψυχή.    20       5:9       5:9     2222                                                                                                                                                                                                                  para que não dês a outrem a tua honra, nem os teus anos, a cruéis;\n",
      "113           2222   ζωή  zōḗ   dzo-ay'  from ζάω; life (literally or figuratively):--life(-time). Compare ψυχή.    20      6:23      6:23     2222                                                                                                                                                                            Porque o mandamento é lâmpada, e a instrução, luz; e as repreensões da disciplina são o caminho da vida;\n",
      "114           2222   ζωή  zōḗ   dzo-ay'  from ζάω; life (literally or figuratively):--life(-time). Compare ψυχή.    20      8:35      8:35     2222                                                                                                                                                                                                                         Porque o que me acha acha a vida e alcança favor do SENHOR.\n",
      "115           2222   ζωή  zōḗ   dzo-ay'  from ζάω; life (literally or figuratively):--life(-time). Compare ψυχή.    20      9:11      9:11     2222                                                                                                                                                                                                     Porque por mim se multiplicam os teus dias, e anos de vida se te acrescentarão.\n",
      "116           2222   ζωή  zōḗ   dzo-ay'  from ζάω; life (literally or figuratively):--life(-time). Compare ψυχή.    20      9:18      9:18     2222                                                                                                                                                                            Eles, porém, não sabem que ali estão os mortos, que os seus convidados estão nas profundezas do inferno.\n",
      "117           2222   ζωή  zōḗ   dzo-ay'  from ζάω; life (literally or figuratively):--life(-time). Compare ψυχή.    21      2:17      2:17     2222                                                                                                                                                         Pelo que aborreci a vida, pois me foi penosa a obra que se faz debaixo do sol; sim, tudo é vaidade e correr atrás do vento.\n",
      "118           2222   ζωή  zōḗ   dzo-ay'  from ζάω; life (literally or figuratively):--life(-time). Compare ψυχή.    21       2:3       2:3     2222                                                              Resolvi no meu coração dar-me ao vinho, regendo-me, contudo, pela sabedoria, e entregar-me à loucura, até ver o que melhor seria que fizessem os filhos dos homens debaixo do céu, durante os poucos dias da sua vida.\n",
      "119           2222   ζωή  zōḗ   dzo-ay'  from ζάω; life (literally or figuratively):--life(-time). Compare ψυχή.    21      3:12      3:12     2222                                                                                                                                                                                                      Sei que nada há melhor para o homem do que regozijar-se e levar vida regalada;\n",
      "120           2222   ζωή  zōḗ   dzo-ay'  from ζάω; life (literally or figuratively):--life(-time). Compare ψυχή.    21      5:18      5:18     2222                                                                   Eis o que eu vi: boa e bela coisa é comer e beber e gozar cada um do bem de todo o seu trabalho, com que se afadigou debaixo do sol, durante os poucos dias da vida que Deus lhe deu; porque esta é a sua porção.\n",
      "121           2222   ζωή  zōḗ   dzo-ay'  from ζάω; life (literally or figuratively):--life(-time). Compare ψυχή.    21      5:20      5:20     2222                                                                                                                                                                                   Porque não se lembrará muito dos dias da sua vida, porquanto Deus lhe enche o coração de alegria.\n",
      "122           2222   ζωή  zōḗ   dzo-ay'  from ζάω; life (literally or figuratively):--life(-time). Compare ψυχή.    21      6:12      6:12     2222                                                                                               Pois quem sabe o que é bom para o homem durante os poucos dias da sua vida de vaidade, os quais gasta como sombra? Quem pode declarar ao homem o que será depois dele debaixo do sol?\n",
      "123           2222   ζωή  zōḗ   dzo-ay'  from ζάω; life (literally or figuratively):--life(-time). Compare ψυχή.    21       6:8       6:8     2222                                                                                                                                                                                             Pois que vantagem tem o sábio sobre o tolo? Ou o pobre que sabe andar perante os vivos?\n",
      "124           2222   ζωή  zōḗ   dzo-ay'  from ζάω; life (literally or figuratively):--life(-time). Compare ψυχή.    21      8:15      8:15     2222                                                               Então, exaltei eu a alegria, porquanto para o homem nenhuma coisa há melhor debaixo do sol do que comer, beber e alegrar-se; pois isso o acompanhará no seu trabalho nos dias da vida que Deus lhe dá debaixo do sol.\n",
      "125           2222   ζωή  zōḗ   dzo-ay'  from ζάω; life (literally or figuratively):--life(-time). Compare ψυχή.    21       9:3       9:3     2222                                                                                     Este é o mal que há em tudo quanto se faz debaixo do sol: a todos sucede o mesmo; também o coração dos homens está cheio de maldade, nele há desvarios enquanto vivem; depois, rumo aos mortos.\n",
      "126           2222   ζωή  zōḗ   dzo-ay'  from ζάω; life (literally or figuratively):--life(-time). Compare ψυχή.    21       9:9       9:9     2222                                                                                  Goza a vida com a mulher que amas, todos os dias de tua vida fugaz, os quais Deus te deu debaixo do sol; porque esta é a tua porção nesta vida pelo trabalho com que te afadigaste debaixo do sol.\n",
      "127           2222   ζωή  zōḗ   dzo-ay'  from ζάω; life (literally or figuratively):--life(-time). Compare ψυχή.    23     26:14     26:14     2222                                                                                                                                                 Mortos não tornarão a viver, sombras não ressuscitam; por isso, os castigaste, e destruíste, e lhes fizeste perecer toda a memória.\n",
      "128           2222   ζωή  zōḗ   dzo-ay'  from ζάω; life (literally or figuratively):--life(-time). Compare ψυχή.    23     38:12     38:12     2222                                                                                                   A minha habitação foi arrancada e removida para longe de mim, como a tenda de um pastor; tu, como tecelão, me cortarás a vida da urdidura, do dia para a noite darás cabo de mim.\n",
      "129           2222   ζωή  zōḗ   dzo-ay'  from ζάω; life (literally or figuratively):--life(-time). Compare ψυχή.    23     38:20     38:20     2222                                                                                                                                             O SENHOR veio salvar-me; pelo que, tangendo os instrumentos de cordas, nós o louvaremos todos os dias de nossa vida, na Casa do SENHOR.\n",
      "130           2222   ζωή  zōḗ   dzo-ay'  from ζάω; life (literally or figuratively):--life(-time). Compare ψυχή.    23       4:3       4:3     2222                                                                                                                                          Será que os restantes de Sião e os que ficarem em Jerusalém serão chamados santos; todos os que estão inscritos em Jerusalém, para a vida,\n",
      "131           2222   ζωή  zōḗ   dzo-ay'  from ζάω; life (literally or figuratively):--life(-time). Compare ψυχή.    23      53:8      53:8     2222                                                                                                        Por juízo opressor foi arrebatado, e de sua linhagem, quem dela cogitou? Porquanto foi cortado da terra dos viventes; por causa da transgressão do meu povo, foi ele ferido.\n",
      "132           2222   ζωή  zōḗ   dzo-ay'  from ζάω; life (literally or figuratively):--life(-time). Compare ψυχή.    23     57:15     57:15     2222                          Porque assim diz o Alto, o Sublime, que habita a eternidade, o qual tem o nome de Santo: Habito no alto e santo lugar, mas habito também com o contrito e abatido de espírito, para vivificar o espírito dos abatidos e vivificar o coração dos contritos.\n",
      "133           2222   ζωή  zōḗ   dzo-ay'  from ζάω; life (literally or figuratively):--life(-time). Compare ψυχή.    23     65:22     65:22     2222                                                                         Não edificarão para que outros habitem; não plantarão para que outros comam; porque a longevidade do meu povo será como a da árvore, e os meus eleitos desfrutarão de todo as obras das suas próprias mãos.\n",
      "134           2222   ζωή  zōḗ   dzo-ay'  from ζάω; life (literally or figuratively):--life(-time). Compare ψυχή.    24     17:13     17:13     2222                                                                                          Ó SENHOR, Esperança de Israel! Todos aqueles que te deixam serão envergonhados; o nome dos que se apartam de mim será escrito no chão; porque abandonam o SENHOR, a fonte das águas vivas.\n",
      "135           2222   ζωή  zōḗ   dzo-ay'  from ζάω; life (literally or figuratively):--life(-time). Compare ψυχή.    24      2:13      2:13     2222                                                                                                                                  Porque dois males cometeu o meu povo: a mim me deixaram, o manancial de águas vivas, e cavaram cisternas, cisternas rotas, que não retêm as águas.\n",
      "136           2222   ζωή  zōḗ   dzo-ay'  from ζάω; life (literally or figuratively):--life(-time). Compare ψυχή.    24      21:8      21:8     2222                                                                                                                                                                          A este povo dirás: Assim diz o SENHOR: Eis que ponho diante de vós o caminho da vida e o caminho da morte.\n",
      "137           2222   ζωή  zōḗ   dzo-ay'  from ζάω; life (literally or figuratively):--life(-time). Compare ψυχή.    24       8:3       8:3     2222                                                                                                                           Escolherão antes a morte do que a vida todos os que restarem desta raça malvada que ficar nos lugares para onde os dispersei, diz o SENHOR dos Exércitos.\n",
      "138           2222   ζωή  zōḗ   dzo-ay'  from ζάω; life (literally or figuratively):--life(-time). Compare ψυχή.    25      3:53      3:53     2222                                                                                                                                                                                                                Para me destruírem, lançaram-me na cova e atiraram pedras sobre mim.\n",
      "139           2222   ζωή  zōḗ   dzo-ay'  from ζάω; life (literally or figuratively):--life(-time). Compare ψυχή.    25      3:58      3:58     2222                                                                                                                                                                                                                    Pleiteaste, Senhor, a causa da minha alma, remiste a minha vida.\n",
      "140           2222   ζωή  zōḗ   dzo-ay'  from ζάω; life (literally or figuratively):--life(-time). Compare ψυχή.    26      1:20      1:20     2222                                                                                                                      Para onde o espírito queria ir, iam, pois o espírito os impelia; e as rodas se elevavam juntamente com eles, porque nelas havia o espírito dos seres viventes.\n",
      "141           2222   ζωή  zōḗ   dzo-ay'  from ζάω; life (literally or figuratively):--life(-time). Compare ψυχή.    26      1:21      1:21     2222                                                                                     Andando eles, andavam elas e, parando eles, paravam elas, e, elevando-se eles da terra, elevavam-se também as rodas juntamente com eles; porque o espírito dos seres viventes estava nas rodas.\n",
      "142           2222   ζωή  zōḗ   dzo-ay'  from ζάω; life (literally or figuratively):--life(-time). Compare ψυχή.    26     10:17     10:17     2222                                                                                                                                                               Parando eles, paravam elas; e, elevando-se eles, elevavam-se elas, porque o espírito dos seres viventes estava nelas.\n",
      "143           2222   ζωή  zōḗ   dzo-ay'  from ζάω; life (literally or figuratively):--life(-time). Compare ψυχή.    26      16:6      16:6     2222                                                                                                                           Passando eu por junto de ti, vi-te a revolver-te no teu sangue e te disse: Ainda que estás no teu sangue, vive; sim, ainda que estás no teu sangue, vive.\n",
      "144           2222   ζωή  zōḗ   dzo-ay'  from ζάω; life (literally or figuratively):--life(-time). Compare ψυχή.    26     18:13     18:13     2222                                                                                                                                     emprestar com usura e receber juros, porventura, viverá? Não viverá. Todas estas abominações ele fez e será morto; o seu sangue será sobre ele.\n",
      "145           2222   ζωή  zōḗ   dzo-ay'  from ζάω; life (literally or figuratively):--life(-time). Compare ψυχή.    26     18:17     18:17     2222                                                                                                               desviar do pobre a mão, não receber usura e juros, fizer os meus juízos e andar nos meus estatutos, o tal não morrerá pela iniquidade de seu pai; certamente, viverá.\n",
      "146           2222   ζωή  zōḗ   dzo-ay'  from ζάω; life (literally or figuratively):--life(-time). Compare ψυχή.    26     18:19     18:19     2222                                                                                                Mas dizeis: Por que não leva o filho a iniquidade do pai? Porque o filho fez o que era reto e justo, e guardou todos os meus estatutos, e os praticou, por isso, certamente, viverá.\n",
      "147           2222   ζωή  zōḗ   dzo-ay'  from ζάω; life (literally or figuratively):--life(-time). Compare ψυχή.    26     18:21     18:21     2222                                                                                                               Mas, se o perverso se converter de todos os pecados que cometeu, e guardar todos os meus estatutos, e fizer o que é reto e justo, certamente, viverá; não será morto.\n",
      "148           2222   ζωή  zōḗ   dzo-ay'  from ζάω; life (literally or figuratively):--life(-time). Compare ψυχή.    26     18:28     18:28     2222                                                                                                                                                                          Pois se considera e se converte de todas as transgressões que cometeu, certamente, viverá; não será morto.\n",
      "149           2222   ζωή  zōḗ   dzo-ay'  from ζάω; life (literally or figuratively):--life(-time). Compare ψυχή.    26      18:9      18:9     2222                                                                                                                                                    andando nos meus estatutos, guardando os meus juízos e procedendo retamente, o tal justo, certamente, viverá, diz o SENHOR Deus.\n",
      "150           2222   ζωή  zōḗ   dzo-ay'  from ζάω; life (literally or figuratively):--life(-time). Compare ψυχή.    26     26:20     26:20     2222                          então, te farei descer com os que descem à cova, ao povo antigo, e te farei habitar nas mais baixas partes da terra, em lugares desertos antigos, com os que descem à cova, para que não sejas habitada; e criarei coisas gloriosas na terra dos viventes.\n",
      "151           2222   ζωή  zōḗ   dzo-ay'  from ζάω; life (literally or figuratively):--life(-time). Compare ψυχή.    26      3:21      3:21     2222                                                                                                                                          No entanto, se tu avisares o justo, para que não peque, e ele não pecar, certamente, viverá, porque foi avisado; e tu salvaste a tua alma.\n",
      "152           2222   ζωή  zōḗ   dzo-ay'  from ζάω; life (literally or figuratively):--life(-time). Compare ψυχή.    26     31:17     31:17     2222                                                                                                    Também estas, com ele, passarão para o além, a juntar-se aos que foram traspassados à espada; sim, aos que foram seu braço e que estavam assentados à sombra no meio das nações.\n",
      "153           2222   ζωή  zōḗ   dzo-ay'  from ζάω; life (literally or figuratively):--life(-time). Compare ψυχή.    26     32:23     32:23     2222                                                                   Os seus sepulcros foram postos nas extremidades da cova, e todo o seu povo se encontra ao redor do seu sepulcro; todos foram traspassados, e caíram à espada os que tinham causado espanto na terra dos viventes.\n",
      "154           2222   ζωή  zōḗ   dzo-ay'  from ζάω; life (literally or figuratively):--life(-time). Compare ψυχή.    26     32:24     32:24     2222                 Ali, está Elão com todo o seu povo, em redor do seu sepulcro; todos eles foram traspassados e caíram à espada; eles, os incircuncisos, desceram às profundezas da terra, causaram terror na terra dos viventes e levaram a sua vergonha com os que desceram à cova.\n",
      "155           2222   ζωή  zōḗ   dzo-ay'  from ζάω; life (literally or figuratively):--life(-time). Compare ψυχή.    26     32:26     32:26     2222                                                                                     Ali, estão Meseque e Tubal com todo o seu povo; ao redor deles, estão os seus sepulcros; todos eles são incircuncisos e traspassados à espada, porquanto causaram terror na terra dos viventes.\n",
      "156           2222   ζωή  zōḗ   dzo-ay'  from ζάω; life (literally or figuratively):--life(-time). Compare ψυχή.    26     32:27     32:27     2222  E não se acharão com os valentes de outrora que, dentre os incircuncisos, caíram e desceram ao sepulcro com as suas próprias armas de guerra e com a espada debaixo da cabeça; a iniquidade deles está sobre os seus ossos, porque eram o terror dos heróis na terra dos viventes.\n",
      "157           2222   ζωή  zōḗ   dzo-ay'  from ζάω; life (literally or figuratively):--life(-time). Compare ψυχή.    26     32:32     32:32     2222                                                                                                     Porque também eu pus o meu espanto na terra dos viventes; pelo que jazerá, no meio dos incircuncisos, com os traspassados à espada, Faraó e todo o seu povo, diz o SENHOR Deus.\n",
      "158           2222   ζωή  zōḗ   dzo-ay'  from ζάω; life (literally or figuratively):--life(-time). Compare ψυχή.    26     33:15     33:15     2222                                                                                                                                   e restituir esse perverso o penhor, e pagar o furtado, e andar nos estatutos da vida, e não praticar iniquidade, certamente, viverá; não morrerá.\n",
      "159           2222   ζωή  zōḗ   dzo-ay'  from ζάω; life (literally or figuratively):--life(-time). Compare ψυχή.    26      37:5      37:5     2222                                                                                                                                                                                          Assim diz o SENHOR Deus a estes ossos: Eis que farei entrar o espírito em vós, e vivereis.\n",
      "160           2222   ζωή  zōḗ   dzo-ay'  from ζάω; life (literally or figuratively):--life(-time). Compare ψυχή.    26      7:13      7:13     2222                                                                                    Porque o que vende não tornará a possuir aquilo que vendeu, por mais que viva; porque a profecia contra a multidão não voltará atrás; ninguém fortalece a sua vida com a sua própria iniquidade.\n",
      "161           2222   ζωή  zōḗ   dzo-ay'  from ζάω; life (literally or figuratively):--life(-time). Compare ψυχή.    27      12:2      12:2     2222                                                                                                                                                                 Muitos dos que dormem no pó da terra ressuscitarão, uns para a vida eterna, e outros para vergonha e horror eterno.\n",
      "162           2222   ζωή  zōḗ   dzo-ay'  from ζάω; life (literally or figuratively):--life(-time). Compare ψυχή.    27      7:12      7:12     2222                                                                                                                                                           Quanto aos outros animais, foi-lhes tirado o domínio; todavia, foi-lhes dada prolongação de vida por um prazo e um tempo.\n",
      "163           2222   ζωή  zōḗ   dzo-ay'  from ζάω; life (literally or figuratively):--life(-time). Compare ψυχή.    28     10:12     10:12     2222                                                                                      Então, eu disse: semeai para vós outros em justiça, ceifai segundo a misericórdia; arai o campo de pousio; porque é tempo de buscar ao SENHOR, até que ele venha, e chova a justiça sobre vós.\n",
      "164           2222   ζωή  zōḗ   dzo-ay'  from ζάω; life (literally or figuratively):--life(-time). Compare ψυχή.    32       2:6       2:6     2222                                                                                                  Desci até aos fundamentos dos montes, desci até à terra, cujos ferrolhos se correram sobre mim, para sempre; contudo, fizeste subir da sepultura a minha vida, ó SENHOR, meu Deus!\n",
      "165           2222   ζωή  zōḗ   dzo-ay'  from ζάω; life (literally or figuratively):--life(-time). Compare ψυχή.    39       2:5       2:5     2222                                                                                                                                          Minha aliança com ele foi de vida e de paz; ambas lhe dei eu para que me temesse; com efeito, ele me temeu e tremeu por causa do meu nome.\n"
     ]
    }
   ],
   "source": [
    "print(grk_lxx_occs.to_string()) "
   ]
  },
  {
   "cell_type": "code",
   "execution_count": null,
   "metadata": {},
   "outputs": [],
   "source": [
    "# NT"
   ]
  },
  {
   "cell_type": "code",
   "execution_count": 26,
   "metadata": {},
   "outputs": [],
   "source": [
    "sbl_bd = '/Users/davison/Software/almeida-semantica/db/sbl.db'"
   ]
  },
  {
   "cell_type": "code",
   "execution_count": 27,
   "metadata": {},
   "outputs": [],
   "source": [
    "sql_sbl = \"SELECT nr_sq_livro, chapter, verse, content FROM bible /*WHERE content like '%{}%'*/\""
   ]
  },
  {
   "cell_type": "code",
   "execution_count": 28,
   "metadata": {},
   "outputs": [],
   "source": [
    "gnt_df = pd.read_sql_query(sql_sbl, ConectorBD(sbl_bd).con)"
   ]
  },
  {
   "cell_type": "code",
   "execution_count": 29,
   "metadata": {},
   "outputs": [
    {
     "name": "stdout",
     "output_type": "stream",
     "text": [
      "nr_sq_livro                                                   40\n",
      "chapter                                                        1\n",
      "verse                                                          1\n",
      "content        <verse num=\"1\">\\n<w pos=\"N-\" morph=\"----NSF-\" ...\n"
     ]
    }
   ],
   "source": [
    "print(gnt_df.loc[0].to_string())"
   ]
  },
  {
   "cell_type": "code",
   "execution_count": 30,
   "metadata": {},
   "outputs": [],
   "source": [
    "sql_strongs_gnt = \"\"\"\n",
    "            SELECT \n",
    "                gnt_df.nr_sq_livro\n",
    "                , gnt_df.chapter\n",
    "                , gnt_df.verse\n",
    "                --, content \n",
    "                , pt_df.text\n",
    "            FROM \n",
    "                gnt_df\n",
    "                , pt_df\n",
    "            WHERE \n",
    "                gnt_df.nr_sq_livro = pt_df.nr_sq_livro\n",
    "            AND gnt_df.chapter = pt_df.chapter\n",
    "            AND gnt_df.verse = pt_df.verse\n",
    "            AND content like '%{}%'\n",
    "            \"\"\".format('0386')"
   ]
  },
  {
   "cell_type": "code",
   "execution_count": 31,
   "metadata": {},
   "outputs": [],
   "source": [
    "gnt_by_strongs = sqldf(sql_strongs_gnt)"
   ]
  },
  {
   "cell_type": "code",
   "execution_count": 32,
   "metadata": {},
   "outputs": [
    {
     "name": "stdout",
     "output_type": "stream",
     "text": [
      "     nr_sq_livro  chapter  verse                                                                                                                                                                                                                                                  text\n",
      "0             40        4     12                                                                                                                                                                                Ouvindo, porém, Jesus que João fora preso, retirou-se para a Galileia;\n",
      "1             40        4     13                                                                                                                                                    e, deixando Nazaré, foi morar em Cafarnaum, situada à beira-mar, nos confins de Zebulom e Naftali;\n",
      "2             40        5     25                                                          Entra em acordo sem demora com o teu adversário, enquanto estás com ele a caminho, para que o adversário não te entregue ao juiz, o juiz, ao oficial de justiça, e sejas recolhido à prisão.\n",
      "3             40       10      4                                                                                                                                                                                            Simão, o Zelote, e Judas Iscariotes, que foi quem o traiu.\n",
      "4             40       10     17                                                                                                                                                   E acautelai-vos dos homens; porque vos entregarão aos tribunais e vos açoitarão nas suas sinagogas;\n",
      "5             40       10     19                                                                                                               E, quando vos entregarem, não cuideis em como ou o que haveis de falar, porque, naquela hora, vos será concedido o que haveis de dizer,\n",
      "6             40       10     21                                                                                                                       Um irmão entregará à morte outro irmão, e o pai, ao filho; filhos haverá que se levantarão contra os progenitores e os matarão.\n",
      "7             40       11     27                                                                                              Tudo me foi entregue por meu Pai. Ninguém conhece o Filho, senão o Pai; e ninguém conhece o Pai, senão o Filho e aquele a quem o Filho o quiser revelar.\n",
      "8             40       15      2                                                                                                                                                  Por que transgridem os teus discípulos a tradição dos anciãos? Pois não lavam as mãos, quando comem.\n",
      "9             40       15      3                                                                                                                                         Ele, porém, lhes respondeu: Por que transgredis vós também o mandamento de Deus, por causa da vossa tradição?\n",
      "10            40       15      6                                                                                                                                    esse jamais honrará a seu pai ou a sua mãe. E, assim, invalidastes a palavra de Deus, por causa da vossa tradição.\n",
      "11            40       17     22                                                                                                                                             Reunidos eles na Galileia, disse-lhes Jesus: O Filho do Homem está para ser entregue nas mãos dos homens;\n",
      "12            40       18     34                                                                                                                                                            E, indignando-se, o seu senhor o entregou aos verdugos, até que lhe pagasse toda a dívida.\n",
      "13            40       20     18                                                                                                                 Eis que subimos para Jerusalém, e o Filho do Homem será entregue aos principais sacerdotes e aos escribas. Eles o condenarão à morte.\n",
      "14            40       20     19                                                                                                                                            E o entregarão aos gentios para ser escarnecido, açoitado e crucificado; mas, ao terceiro dia, ressurgirá.\n",
      "15            40       22     23                                                                                                                                                Naquele dia, aproximaram-se dele alguns saduceus, que dizem não haver ressurreição, e lhe perguntaram:\n",
      "16            40       22     28                                                                                                                                                               Portanto, na ressurreição, de qual dos sete será ela esposa? Porque todos a desposaram.\n",
      "17            40       22     30                                                                                                                                                        Porque, na ressurreição, nem casam, nem se dão em casamento; são, porém, como os anjos no céu.\n",
      "18            40       22     31                                                                                                                                                                         E, quanto à ressurreição dos mortos, não tendes lido o que Deus vos declarou:\n",
      "19            40       24      9                                                                                                                                                   Então, sereis atribulados, e vos matarão. Sereis odiados de todas as nações, por causa do meu nome.\n",
      "20            40       24     10                                                                                                                                                                             Nesse tempo, muitos hão de se escandalizar, trair e odiar uns aos outros;\n",
      "21            40       25     14                                                                                                                                                Pois será como um homem que, ausentando-se do país, chamou os seus servos e lhes confiou os seus bens.\n",
      "22            40       25     20                                                                                  Então, aproximando-se o que recebera cinco talentos, entregou outros cinco, dizendo: Senhor, confiaste-me cinco talentos; eis aqui outros cinco talentos que ganhei.\n",
      "23            40       25     22                                                                                                                   E, aproximando-se também o que recebera dois talentos, disse: Senhor, dois talentos me confiaste; aqui tens outros dois que ganhei.\n",
      "24            40       26      2                                                                                                                                         Sabeis que, daqui a dois dias, celebrar-se-á a Páscoa; e o Filho do Homem será entregue para ser crucificado.\n",
      "25            40       26     15                                                                                                                                                                      Que me quereis dar, e eu vo-lo entregarei? E pagaram-lhe trinta moedas de prata.\n",
      "26            40       26     16                                                                                                                                                                              E, desse momento em diante, buscava ele uma boa ocasião para o entregar.\n",
      "27            40       26     21                                                                                                                                                                  E, enquanto comiam, declarou Jesus: Em verdade vos digo que um dentre vós me trairá.\n",
      "28            40       26     23                                                                                                                                                                                    E ele respondeu: O que mete comigo a mão no prato, esse me trairá.\n",
      "29            40       26     24                                                                                  O Filho do Homem vai, como está escrito a seu respeito, mas ai daquele por intermédio de quem o Filho do Homem está sendo traído! Melhor lhe fora não haver nascido!\n",
      "30            40       26     25                                                                                                                                                      Então, Judas, que o traía, perguntou: Acaso, sou eu, Mestre? Respondeu-lhe Jesus: Tu o disseste.\n",
      "31            40       26     45                                                                                      Então, voltou para os discípulos e lhes disse: Ainda dormis e repousais! Eis que é chegada a hora, e o Filho do Homem está sendo entregue nas mãos de pecadores.\n",
      "32            40       26     46                                                                                                                                                                                                   Levantai-vos, vamos! Eis que o traidor se aproxima.\n",
      "33            40       26     48                                                                                                                                                                Ora, o traidor lhes tinha dado este sinal: Aquele a quem eu beijar, é esse; prendei-o.\n",
      "34            40       27      2                                                                                                                                                                                      e, amarrando-o, levaram-no e o entregaram ao governador Pilatos.\n",
      "35            40       27      3                                                                                  Então, Judas, o que o traiu, vendo que Jesus fora condenado, tocado de remorso, devolveu as trinta moedas de prata aos principais sacerdotes e aos anciãos, dizendo:\n",
      "36            40       27      4                                                                                                                                                           Pequei, traindo sangue inocente. Eles, porém, responderam: Que nos importa? Isso é contigo.\n",
      "37            40       27     18                                                                                                                                                                                                     Porque sabia que, por inveja, o tinham entregado.\n",
      "38            40       27     26                                                                                                                                                 Então, Pilatos lhes soltou Barrabás; e, após haver açoitado a Jesus, entregou-o para ser crucificado.\n",
      "39            41        1     14                                                                                                                                                               Depois de João ter sido preso, foi Jesus para a Galileia, pregando o evangelho de Deus,\n",
      "40            41        3     19                                                                                                                                                                                                             e Judas Iscariotes, que foi quem o traiu.\n",
      "41            41        4     29                                                                                                                                                                 E, quando o fruto já está maduro, logo se lhe mete a foice, porque é chegada a ceifa.\n",
      "42            41        7      3                                                                                                                                   (pois os fariseus e todos os judeus, observando a tradição dos anciãos, não comem sem lavar cuidadosamente as mãos;\n",
      "43            41        7      5                                                                                          interpelaram-no os fariseus e os escribas: Por que não andam os teus discípulos de conformidade com a tradição dos anciãos, mas comem com as mãos por lavar?\n",
      "44            41        7      8                                                                                                                                                                                  Negligenciando o mandamento de Deus, guardais a tradição dos homens.\n",
      "45            41        7      9                                                                                                                                               E disse-lhes ainda: Jeitosamente rejeitais o preceito de Deus para guardardes a vossa própria tradição.\n",
      "46            41        7     13                                                                                                                   invalidando a palavra de Deus pela vossa própria tradição, que vós mesmos transmitistes; e fazeis muitas outras coisas semelhantes.\n",
      "47            41        9     31                                                                                   porque ensinava os seus discípulos e lhes dizia: O Filho do Homem será entregue nas mãos dos homens, e o matarão; mas, três dias depois da sua morte, ressuscitará.\n",
      "48            41       10     33                                                                                          Eis que subimos para Jerusalém, e o Filho do Homem será entregue aos principais sacerdotes e aos escribas; condená-lo-ão à morte e o entregarão aos gentios;\n",
      "49            41       12     18                                                                                                                                                 Então, os saduceus, que dizem não haver ressurreição, aproximaram-se dele e lhe perguntaram, dizendo:\n",
      "50            41       12     23                                                                                                                                             Na ressurreição, quando eles ressuscitarem, de qual deles será ela a esposa? Porque os sete a desposaram.\n",
      "51            41       13      9                                             Estai vós de sobreaviso, porque vos entregarão aos tribunais e às sinagogas; sereis açoitados, e vos farão comparecer à presença de governadores e reis, por minha causa, para lhes servir de testemunho.\n",
      "52            41       13     11                                              Quando, pois, vos levarem e vos entregarem, não vos preocupeis com o que haveis de dizer, mas o que vos for concedido naquela hora, isso falai; porque não sois vós os que falais, mas o Espírito Santo.\n",
      "53            41       13     12                                                                                                                       Um irmão entregará à morte outro irmão, e o pai, ao filho; filhos haverá que se levantarão contra os progenitores e os matarão.\n",
      "54            41       14     10                                                                                                                                                      E Judas Iscariotes, um dos doze, foi ter com os principais sacerdotes, para lhes entregar Jesus.\n",
      "55            41       14     11                                                                                                                               Eles, ouvindo-o, alegraram-se e lhe prometeram dinheiro; nesse meio tempo, buscava ele uma boa ocasião para o entregar.\n",
      "56            41       14     18                                                                                                                                     Quando estavam à mesa e comiam, disse Jesus: Em verdade vos digo que um dentre vós, o que come comigo, me trairá.\n",
      "57            41       14     21                                                                             Pois o Filho do Homem vai, como está escrito a seu respeito; mas ai daquele por intermédio de quem o Filho do Homem está sendo traído! Melhor lhe fora não haver nascido!\n",
      "58            41       14     41                                                                                                   E veio pela terceira vez e disse-lhes: Ainda dormis e repousais! Basta! Chegou a hora; o Filho do Homem está sendo entregue nas mãos dos pecadores.\n",
      "59            41       14     42                                                                                                                                                                                                   Levantai-vos, vamos! Eis que o traidor se aproxima.\n",
      "60            41       14     44                                                                                                                                        Ora, o traidor tinha-lhes dado esta senha: Aquele a quem eu beijar, é esse; prendei-o e levai-o com segurança.\n",
      "61            41       15      1                                                                              Logo pela manhã, entraram em conselho os principais sacerdotes com os anciãos, os escribas e todo o Sinédrio; e, amarrando a Jesus, levaram-no e o entregaram a Pilatos.\n",
      "62            41       15      6                                                                                                                                                      Ora, por ocasião da festa, era costume soltar ao povo um dos presos, qualquer que eles pedissem.\n",
      "63            41       15     10                                                                                                                                                                   Pois ele bem percebia que por inveja os principais sacerdotes lho haviam entregado.\n",
      "64            41       15     15                                                                                                                 Então, Pilatos, querendo contentar a multidão, soltou-lhes Barrabás; e, após mandar açoitar a Jesus, entregou-o para ser crucificado.\n",
      "65            42        1      2                                                                                                                                           conforme nos transmitiram os que desde o princípio foram deles testemunhas oculares e ministros da palavra,\n",
      "66            42        2     34                                                                      Simeão os abençoou e disse a Maria, mãe do menino: Eis que este menino está destinado tanto para ruína como para levantamento de muitos em Israel e para ser alvo de contradição\n",
      "67            42        4      6                                                                                                                     Disse-lhe o diabo: Dar-te-ei toda esta autoridade e a glória destes reinos, porque ela me foi entregue, e a dou a quem eu quiser.\n",
      "68            42        5     26                                                                                                                                                     Todos ficaram atônitos, davam glória a Deus e, possuídos de temor, diziam: Hoje, vimos prodígios.\n",
      "69            42        9     44                                                                                                                                          Fixai nos vossos ouvidos as seguintes palavras: o Filho do Homem está para ser entregue nas mãos dos homens.\n",
      "70            42       10     22                                                                              Tudo me foi entregue por meu Pai. Ninguém sabe quem é o Filho, senão o Pai; e também ninguém sabe quem é o Pai, senão o Filho, e aquele a quem o Filho o quiser revelar.\n",
      "71            42       12     58                            Quando fores com o teu adversário ao magistrado, esforça-te para te livrares desse adversário no caminho; para que não suceda que ele te arraste ao juiz, o juiz te entregue ao meirinho e o meirinho te recolha à prisão.\n",
      "72            42       14     14                                                                                                       e serás bem-aventurado, pelo fato de não terem eles com que recompensar-te; a tua recompensa, porém, tu a receberás na ressurreição dos justos.\n",
      "73            42       14     18                                                                                                        Não obstante, todos, à uma, começaram a escusar-se. Disse o primeiro: Comprei um campo e preciso ir vê-lo; rogo-te que me tenhas por escusado.\n",
      "74            42       14     19                                                                                                                                                  Outro disse: Comprei cinco juntas de bois e vou experimentá-las; rogo-te que me tenhas por escusado.\n",
      "75            42       18     32                                                                                                                                                                                 pois será ele entregue aos gentios, escarnecido, ultrajado e cuspido;\n",
      "76            42       20     20                                                                              Observando-o, subornaram emissários que se fingiam de justos para verem se o apanhavam em alguma palavra, a fim de entregá-lo à jurisdição e à autoridade do governador.\n",
      "77            42       20     27                                                                                                                                                                                Chegando alguns dos saduceus, homens que dizem não haver ressurreição,\n",
      "78            42       20     33                                                                                                                                                    Esta mulher, pois, no dia da ressurreição, de qual deles será esposa? Porque os sete a desposaram.\n",
      "79            42       20     35                                                                                                                    mas os que são havidos por dignos de alcançar a era vindoura e a ressurreição dentre os mortos não casam, nem se dão em casamento.\n",
      "80            42       20     36                                                                                                                                           Pois não podem mais morrer, porque são iguais aos anjos e são filhos de Deus, sendo filhos da ressurreição.\n",
      "81            42       21     12                                                         Antes, porém, de todas estas coisas, lançarão mão de vós e vos perseguirão, entregando-vos às sinagogas e aos cárceres, levando-vos à presença de reis e governadores, por causa do meu nome;\n",
      "82            42       21     16                                                                                                                                                       E sereis entregues até por vossos pais, irmãos, parentes e amigos; e matarão alguns dentre vós.\n",
      "83            42       22      4                                                                                                                                                   Este foi entender-se com os principais sacerdotes e os capitães sobre como lhes entregaria a Jesus;\n",
      "84            42       22      6                                                                                                                                                                                Judas concordou e buscava uma boa ocasião de lho entregar sem tumulto.\n",
      "85            42       22     21                                                                                                                                                                                                         Todavia, a mão do traidor está comigo à mesa.\n",
      "86            42       22     22                                                                                                                 Porque o Filho do Homem, na verdade, vai segundo o que está determinado, mas ai daquele por intermédio de quem ele está sendo traído!\n",
      "87            42       22     48                                                                                                                                                                                  Jesus, porém, lhe disse: Judas, com um beijo trais o Filho do Homem?\n",
      "88            42       23     25                                                                                                          Soltou aquele que estava encarcerado por causa da sedição e do homicídio, a quem eles pediam; e, quanto a Jesus, entregou-o à vontade deles.\n",
      "89            42       24      7                                                                                                                     quando disse: Importa que o Filho do Homem seja entregue nas mãos de pecadores, e seja crucificado, e ressuscite no terceiro dia.\n",
      "90            42       24     20                                                                                                                                     e como os principais sacerdotes e as nossas autoridades o entregaram para ser condenado à morte e o crucificaram.\n",
      "91            43        5     29                                                                                                                              os que tiverem feito o bem, para a ressurreição da vida; e os que tiverem praticado o mal, para a ressurreição do juízo.\n",
      "92            43        6     64                                                                                                                           Contudo, há descrentes entre vós. Pois Jesus sabia, desde o princípio, quais eram os que não criam e quem o havia de trair.\n",
      "93            43        6     71                                                                                                                                            Referia-se ele a Judas, filho de Simão Iscariotes; porque era quem estava para traí-lo, sendo um dos doze.\n",
      "94            43       11     24                                                                                                                                                                       Eu sei, replicou Marta, que ele há de ressurgir na ressurreição, no último dia.\n",
      "95            43       11     25                                                                                                                                                            Disse-lhe Jesus: Eu sou a ressurreição e a vida. Quem crê em mim, ainda que morra, viverá;\n",
      "96            43       12      4                                                                                                                                                                       Mas Judas Iscariotes, um dos seus discípulos, o que estava para traí-lo, disse:\n",
      "97            43       13      2                                                                                                                                           Durante a ceia, tendo já o diabo posto no coração de Judas Iscariotes, filho de Simão, que traísse a Jesus,\n",
      "98            43       13     11                                                                                                                                                                   Pois ele sabia quem era o traidor. Foi por isso que disse: Nem todos estais limpos.\n",
      "99            43       13     21                                                                                                                            Ditas estas coisas, angustiou-se Jesus em espírito e afirmou: Em verdade, em verdade vos digo que um dentre vós me trairá.\n",
      "100           43       18      2                                                                                                                                         E Judas, o traidor, também conhecia aquele lugar, porque Jesus ali estivera muitas vezes com seus discípulos.\n",
      "101           43       18      5                                                                                                                                 Responderam-lhe: A Jesus, o Nazareno. Então, Jesus lhes disse: Sou eu. Ora, Judas, o traidor, estava também com eles.\n",
      "102           43       18     30                                                                                                                                                                                   Responderam-lhe: Se este não fosse malfeitor, não to entregaríamos.\n",
      "103           43       18     35                                                                                                                       Replicou Pilatos: Porventura, sou judeu? A tua própria gente e os principais sacerdotes é que te entregaram a mim. Que fizeste?\n",
      "104           43       18     36                                             Respondeu Jesus: O meu reino não é deste mundo. Se o meu reino fosse deste mundo, os meus ministros se empenhariam por mim, para que não fosse eu entregue aos judeus; mas agora o meu reino não é daqui.\n",
      "105           43       19     11                                                                                                                 Respondeu Jesus: Nenhuma autoridade terias sobre mim, se de cima não te fosse dada; por isso, quem me entregou a ti maior pecado tem.\n",
      "106           43       19     16                                                                                                                                                                                                       Então, Pilatos o entregou para ser crucificado.\n",
      "107           43       19     30                                                                                                                                                Quando, pois, Jesus tomou o vinagre, disse: Está consumado! E, inclinando a cabeça, rendeu o espírito.\n",
      "108           43       21     20                                                                    Então, Pedro, voltando-se, viu que também o ia seguindo o discípulo a quem Jesus amava, o qual na ceia se reclinara sobre o peito de Jesus e perguntara: Senhor, quem é o traidor?\n",
      "109           44        1     22                                                                                                          começando no batismo de João, até ao dia em que dentre nós foi levado às alturas, um destes se torne testemunha conosco da sua ressurreição.\n",
      "110           44        2     31                                                                                                                             prevendo isto, referiu-se à ressurreição de Cristo, que nem foi deixado na morte, nem o seu corpo experimentou corrupção.\n",
      "111           44        3     13                                                                      O Deus de Abraão, de Isaque e de Jacó, o Deus de nossos pais, glorificou a seu Servo Jesus, a quem vós traístes e negastes perante Pilatos, quando este havia decidido soltá-lo.\n",
      "112           44        4      2                                                                                                                                                        ressentidos por ensinarem eles o povo e anunciarem, em Jesus, a ressurreição dentre os mortos;\n",
      "113           44        4     33                                                                                                                               Com grande poder, os apóstolos davam testemunho da ressurreição do Senhor Jesus, e em todos eles havia abundante graça.\n",
      "114           44        6      1                                                              Ora, naqueles dias, multiplicando-se o número dos discípulos, houve murmuração dos helenistas contra os hebreus, porque as viúvas deles estavam sendo esquecidas na distribuição diária.\n",
      "115           44        6     14                                                                                                                                 porque o temos ouvido dizer que esse Jesus, o Nazareno, destruirá este lugar e mudará os costumes que Moisés nos deu.\n",
      "116           44        7     42                                Mas Deus se afastou e os entregou ao culto da milícia celestial, como está escrito no Livro dos Profetas: Ó casa de Israel, porventura, me oferecestes vítimas e sacrifícios no deserto, pelo espaço de quarenta anos,\n",
      "117           44        8      3                                                                                                                                      Saulo, porém, assolava a igreja, entrando pelas casas; e, arrastando homens e mulheres, encerrava-os no cárcere.\n",
      "118           44       12      4                                                                          Tendo-o feito prender, lançou-o no cárcere, entregando-o a quatro escoltas de quatro soldados cada uma, para o guardarem, tencionando apresentá-lo ao povo depois da Páscoa.\n",
      "119           44       14     26                                                                                                                                    e dali navegaram para Antioquia, onde tinham sido recomendados à graça de Deus para a obra que haviam já cumprido.\n",
      "120           44       15     26                                                                                                                                                                                 homens que têm exposto a vida pelo nome de nosso Senhor Jesus Cristo.\n",
      "121           44       15     40                                                                                                                                                                Mas Paulo, tendo escolhido a Silas, partiu encomendado pelos irmãos à graça do Senhor.\n",
      "122           44       16      4                                                                                                              Ao passar pelas cidades, entregavam aos irmãos, para que as observassem, as decisões tomadas pelos apóstolos e presbíteros de Jerusalém.\n",
      "123           44       17     18                                         E alguns dos filósofos epicureus e estoicos contendiam com ele, havendo quem perguntasse: Que quer dizer esse tagarela? E outros: Parece pregador de estranhos deuses; pois pregava a Jesus e a ressurreição.\n",
      "124           44       17     32                                                                                                                    Quando ouviram falar de ressurreição de mortos, uns escarneceram, e outros disseram: A respeito disso te ouviremos noutra ocasião.\n",
      "125           44       21     11                            e, vindo ter conosco, tomando o cinto de Paulo, ligando com ele os próprios pés e mãos, declarou: Isto diz o Espírito Santo: Assim os judeus, em Jerusalém, farão ao dono deste cinto e o entregarão nas mãos dos gentios.\n",
      "126           44       22      4                                                                                                                                                                 Persegui este Caminho até à morte, prendendo e metendo em cárceres homens e mulheres,\n",
      "127           44       23      6                                    Sabendo Paulo que uma parte do Sinédrio se compunha de saduceus e outra, de fariseus, exclamou: Varões, irmãos, eu sou fariseu, filho de fariseus! No tocante à esperança e à ressurreição dos mortos sou julgado!\n",
      "128           44       23      8                                                                                                                        Pois os saduceus declaram não haver ressurreição, nem anjo, nem espírito; ao passo que os fariseus admitem todas essas coisas.\n",
      "129           44       24     15                                                                                                                                       tendo esperança em Deus, como também estes a têm, de que haverá ressurreição, tanto de justos como de injustos.\n",
      "130           44       24     21                                                                                                                                  salvo estas palavras que clamei, estando entre eles: hoje, sou eu julgado por vós acerca da ressurreição dos mortos.\n",
      "131           44       25     11          Caso, pois, tenha eu praticado algum mal ou crime digno de morte, estou pronto para morrer; se, pelo contrário, não são verdadeiras as coisas de que me acusam, ninguém, para lhes ser agradável, pode entregar-me a eles. Apelo para César.\n",
      "132           44       26     23                                                                                                                            isto é, que o Cristo devia padecer e, sendo o primeiro da ressurreição dos mortos, anunciaria a luz ao povo e aos gentios.\n",
      "133           44       27      1                                                                                                         Quando foi decidido que navegássemos para a Itália, entregaram Paulo e alguns outros presos a um centurião chamado Júlio, da Coorte Imperial.\n",
      "134           44       27      9                                                                                                                              Depois de muito tempo, tendo-se tornado a navegação perigosa, e já passado o tempo do Dia do Jejum, admoestava-os Paulo,\n",
      "135           44       27     22                                                                                                                                             Mas, já agora, vos aconselho bom ânimo, porque nenhuma vida se perderá de entre vós, mas somente o navio.\n",
      "136           44       28     17         Três dias depois, ele convocou os principais dos judeus e, quando se reuniram, lhes disse: Varões irmãos, nada havendo feito contra o povo ou contra os costumes paternos, contudo, vim preso desde Jerusalém, entregue nas mãos dos romanos;\n",
      "137           45        1      4                                                                                                           e foi designado Filho de Deus com poder, segundo o espírito de santidade pela ressurreição dos mortos, a saber, Jesus Cristo, nosso Senhor,\n",
      "138           45        1     24                                                                                                                  Por isso, Deus entregou tais homens à imundícia, pelas concupiscências de seu próprio coração, para desonrarem o seu corpo entre si;\n",
      "139           45        1     26                                                                                          Por causa disso, os entregou Deus a paixões infames; porque até as mulheres mudaram o modo natural de suas relações íntimas por outro, contrário à natureza;\n",
      "140           45        1     28                                                                                               E, por haverem desprezado o conhecimento de Deus, o próprio Deus os entregou a uma disposição mental reprovável, para praticarem coisas inconvenientes,\n",
      "141           45        4     25                                                                                                                                                 o qual foi entregue por causa das nossas transgressões e ressuscitou por causa da nossa justificação.\n",
      "142           45        6      5                                                                                                                           Porque, se fomos unidos com ele na semelhança da sua morte, certamente, o seremos também na semelhança da sua ressurreição,\n",
      "143           45        6     17                                                                                                             Mas graças a Deus porque, outrora, escravos do pecado, contudo, viestes a obedecer de coração à forma de doutrina a que fostes entregues;\n",
      "144           45        8     32                                                                                                           Aquele que não poupou o seu próprio Filho, antes, por todos nós o entregou, porventura, não nos dará graciosamente com ele todas as coisas?\n",
      "145           45       10     19                                                         Pergunto mais: Porventura, não terá chegado isso ao conhecimento de Israel? Moisés já dizia: Eu vos porei em ciúmes com um povo que não é nação, com gente insensata eu vos provocarei à ira.\n",
      "146           45       11     11                                                                                              Pergunto, pois: porventura, tropeçaram para que caíssem? De modo nenhum! Mas, pela sua transgressão, veio a salvação aos gentios, para pô-los em ciúmes.\n",
      "147           45       11     14                                                                                                                                                            para ver se, de algum modo, posso incitar à emulação os do meu povo e salvar alguns deles.\n",
      "148           46        5      5                                                                                                                                           entregue a Satanás para a destruição da carne, a fim de que o espírito seja salvo no Dia do Senhor [Jesus].\n",
      "149           46       10     22                                                                                                                                                                                Ou provocaremos zelos no Senhor? Somos, acaso, mais fortes do que ele?\n",
      "150           46       11      2                                                                                                                                       De fato, eu vos louvo porque, em tudo, vos lembrais de mim e retendes as tradições assim como vo-las entreguei.\n",
      "151           46       11     23                                                                                                                                   Porque eu recebi do Senhor o que também vos entreguei: que o Senhor Jesus, na noite em que foi traído, tomou o pão;\n",
      "152           46       13      3                                                                                 E ainda que eu distribua todos os meus bens entre os pobres e ainda que entregue o meu próprio corpo para ser queimado, se não tiver amor, nada disso me aproveitará.\n",
      "153           46       15      3                                                                                                                                      Antes de tudo, vos entreguei o que também recebi: que Cristo morreu pelos nossos pecados, segundo as Escrituras,\n",
      "154           46       15     12                                                                                                        Ora, se é corrente pregar-se que Cristo ressuscitou dentre os mortos, como, pois, afirmam alguns dentre vós que não há ressurreição de mortos?\n",
      "155           46       15     13                                                                                                                                                                                   E, se não há ressurreição de mortos, então, Cristo não ressuscitou.\n",
      "156           46       15     21                                                                                                                                                              Visto que a morte veio por um homem, também por um homem veio a ressurreição dos mortos.\n",
      "157           46       15     24                                                                                                            E, então, virá o fim, quando ele entregar o reino ao Deus e Pai, quando houver destruído todo principado, bem como toda potestade e poder.\n",
      "158           46       15     42                                                                                                 Pois assim também é a ressurreição dos mortos. Semeia-se o corpo na corrupção, ressuscita na incorrupção. Semeia-se em desonra, ressuscita em glória.\n",
      "159           47        4     11                                                                                                       Porque nós, que vivemos, somos sempre entregues à morte por causa de Jesus, para que também a vida de Jesus se manifeste em nossa carne mortal.\n",
      "160           48        1     14                                                                                                                   E, na minha nação, quanto ao judaísmo, avantajava-me a muitos da minha idade, sendo extremamente zeloso das tradições de meus pais.\n",
      "161           48        2     20                                                                          logo, já não sou eu quem vive, mas Cristo vive em mim; e esse viver que, agora, tenho na carne, vivo pela fé no Filho de Deus, que me amou e a si mesmo se entregou por mim.\n",
      "162           49        4     19                                                                                                                                os quais, tendo-se tornado insensíveis, se entregaram à dissolução para, com avidez, cometerem toda sorte de impureza.\n",
      "163           49        5      2                                                                                                                       e andai em amor, como também Cristo nos amou e se entregou a si mesmo por nós, como oferta e sacrifício a Deus, em aroma suave.\n",
      "164           49        5     25                                                                                                                                                        Maridos, amai vossa mulher, como também Cristo amou a igreja e a si mesmo se entregou por ela,\n",
      "165           50        3     10                                                                                                                               para o conhecer, e o poder da sua ressurreição, e a comunhão dos seus sofrimentos, conformando-me com ele na sua morte;\n",
      "166           51        2      8                                                                                      Cuidado que ninguém vos venha a enredar com sua filosofia e vãs sutilezas, conforme a tradição dos homens, conforme os rudimentos do mundo e não segundo Cristo;\n",
      "167           53        2     15                                                                                                                     Assim, pois, irmãos, permanecei firmes e guardai as tradições que vos foram ensinadas, seja por palavra, seja por epístola nossa.\n",
      "168           53        3      6                                                                                   Nós vos ordenamos, irmãos, em nome do Senhor Jesus Cristo, que vos aparteis de todo irmão que ande desordenadamente e não segundo a tradição que de nós recebestes;\n",
      "169           54        1     20                                                                                                                     E dentre esses se contam Himeneu e Alexandre, os quais entreguei a Satanás, para serem castigados, a fim de não mais blasfemarem.\n",
      "170           54        4      7                                                                                                                                                           Mas rejeita as fábulas profanas e de velhas caducas. Exercita-te, pessoalmente, na piedade.\n",
      "171           54        5     11                                                                                                                                                      Mas rejeita viúvas mais novas, porque, quando se tornam levianas contra Cristo, querem casar-se,\n",
      "172           54        6     20                                                                                                      E tu, ó Timóteo, guarda o que te foi confiado, evitando os falatórios inúteis e profanos e as contradições do saber, como falsamente lhe chamam,\n",
      "173           55        1     12                                                                  e, por isso, estou sofrendo estas coisas; todavia, não me envergonho, porque sei em quem tenho crido e estou certo de que ele é poderoso para guardar o meu depósito até aquele Dia.\n",
      "174           55        1     14                                                                                                                                                                                   Guarda o bom depósito, mediante o Espírito Santo que habita em nós.\n",
      "175           55        2     18                                                                                                                                      Estes se desviaram da verdade, asseverando que a ressurreição já se realizou, e estão pervertendo a fé a alguns.\n",
      "176           55        2     23                                                                                                                                                                    E repele as questões insensatas e absurdas, pois sabes que só engendram contendas.\n",
      "177           56        3     10                                                                                                                                                                                 Evita o homem faccioso, depois de admoestá-lo primeira e segunda vez,\n",
      "178           58        6      2                                                                                                                                                            o ensino de batismos e da imposição de mãos, da ressurreição dos mortos e do juízo eterno.\n",
      "179           58       11     35                                                                                                        Mulheres receberam, pela ressurreição, os seus mortos. Alguns foram torturados, não aceitando seu resgate, para obterem superior ressurreição;\n",
      "180           58       12     19                                                                                                                                   e ao clangor da trombeta, e ao som de palavras tais, que quantos o ouviram suplicaram que não se lhes falasse mais,\n",
      "181           58       12     25                                     Tende cuidado, não recuseis ao que fala. Pois, se não escaparam aqueles que recusaram ouvir quem, divinamente, os advertia sobre a terra, muito menos nós, os que nos desviamos daquele que dos céus nos adverte,\n",
      "182           60        1      3                                                            Bendito o Deus e Pai de nosso Senhor Jesus Cristo, que, segundo a sua muita misericórdia, nos regenerou para uma viva esperança, mediante a ressurreição de Jesus Cristo dentre os mortos,\n",
      "183           60        2     23                                                                                                              pois ele, quando ultrajado, não revidava com ultraje; quando maltratado, não fazia ameaças, mas entregava-se àquele que julga retamente,\n",
      "184           60        3     21                                                       a qual, figurando o batismo, agora também vos salva, não sendo a remoção da imundícia da carne, mas a indagação de uma boa consciência para com Deus, por meio da ressurreição de Jesus Cristo;\n",
      "185           61        2      4                                                                                                           Ora, se Deus não poupou anjos quando pecaram, antes, precipitando-os no inferno, os entregou a abismos de trevas, reservando-os para juízo;\n",
      "186           61        2     21                                                                                 Pois melhor lhes fora nunca tivessem conhecido o caminho da justiça do que, após conhecê-lo, volverem para trás, apartando-se do santo mandamento que lhes fora dado.\n",
      "187           65        1      3  Amados, quando empregava toda a diligência em escrever-vos acerca da nossa comum salvação, foi que me senti obrigado a corresponder-me convosco, exortando-vos a batalhardes, diligentemente, pela fé que uma vez por todas foi entregue aos santos.\n",
      "188           66       20      5                                                                                                                                            Os restantes dos mortos não reviveram até que se completassem os mil anos. Esta é a primeira ressurreição.\n",
      "189           66       20      6                                          Bem-aventurado e santo é aquele que tem parte na primeira ressurreição; sobre esses a segunda morte não tem autoridade; pelo contrário, serão sacerdotes de Deus e de Cristo e reinarão com ele os mil anos.\n"
     ]
    }
   ],
   "source": [
    "print(gnt_by_strongs.to_string())"
   ]
  }
 ],
 "metadata": {
  "kernelspec": {
   "display_name": "almeida-semantica-EQJtyJGz",
   "language": "python",
   "name": "python3"
  },
  "language_info": {
   "codemirror_mode": {
    "name": "ipython",
    "version": 3
   },
   "file_extension": ".py",
   "mimetype": "text/x-python",
   "name": "python",
   "nbconvert_exporter": "python",
   "pygments_lexer": "ipython3",
   "version": "3.11.11"
  }
 },
 "nbformat": 4,
 "nbformat_minor": 2
}
