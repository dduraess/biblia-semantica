{
 "cells": [
  {
   "cell_type": "code",
   "execution_count": 1,
   "metadata": {},
   "outputs": [],
   "source": [
    "import sys\n",
    "sys.path.append('/Users/davison/Software/almeida-semantica')\n",
    "from src.ConectorBD import *\n",
    "import cltk as cltk\n",
    "import pandas as pd\n",
    "from pandasql import sqldf\n",
    "import os"
   ]
  },
  {
   "cell_type": "code",
   "execution_count": 2,
   "metadata": {},
   "outputs": [],
   "source": [
    "ara= '/Users/davison/Software/almeida-semantica/db/ARA.sqlite'"
   ]
  },
  {
   "cell_type": "code",
   "execution_count": 3,
   "metadata": {},
   "outputs": [],
   "source": [
    "sql_pt= \"\"\"\n",
    "            SELECT \n",
    "            \tbook_id as nr_sq_livro, \n",
    "            \tchapter\n",
    "            \t, verse \n",
    "            \t, text\n",
    "            FROM \n",
    "            \tverse\n",
    "            ORDER BY \n",
    "            \tnr_sq_livro,\n",
    "            \tchapter,\n",
    "            \tverse\n",
    "            \"\"\""
   ]
  },
  {
   "cell_type": "code",
   "execution_count": 4,
   "metadata": {},
   "outputs": [],
   "source": [
    "pt_df = pd.read_sql_query(sql_pt, ConectorBD(ara).con)"
   ]
  },
  {
   "cell_type": "code",
   "execution_count": 6,
   "metadata": {},
   "outputs": [],
   "source": [
    "# del pt_at_df"
   ]
  },
  {
   "cell_type": "code",
   "execution_count": 5,
   "metadata": {},
   "outputs": [
    {
     "data": {
      "application/vnd.microsoft.datawrangler.viewer.v0+json": {
       "columns": [
        {
         "name": "index",
         "rawType": "int64",
         "type": "integer"
        },
        {
         "name": "nr_sq_livro",
         "rawType": "int64",
         "type": "integer"
        },
        {
         "name": "chapter",
         "rawType": "int64",
         "type": "integer"
        },
        {
         "name": "verse",
         "rawType": "int64",
         "type": "integer"
        },
        {
         "name": "text",
         "rawType": "object",
         "type": "string"
        }
       ],
       "conversionMethod": "pd.DataFrame",
       "ref": "86783c45-74f3-4eeb-89eb-4a4174fb7d95",
       "rows": [
        [
         "0",
         "1",
         "1",
         "1",
         "No princípio, criou Deus os céus e a terra."
        ],
        [
         "1",
         "1",
         "1",
         "2",
         "A terra, porém, estava sem forma e vazia; havia trevas sobre a face do abismo, e o Espírito de Deus pairava por sobre as águas."
        ],
        [
         "2",
         "1",
         "1",
         "3",
         "Disse Deus: Haja luz; e houve luz."
        ],
        [
         "3",
         "1",
         "1",
         "4",
         "E viu Deus que a luz era boa; e fez separação entre a luz e as trevas."
        ],
        [
         "4",
         "1",
         "1",
         "5",
         "Chamou Deus à luz Dia e às trevas, Noite. Houve tarde e manhã, o primeiro dia."
        ]
       ],
       "shape": {
        "columns": 4,
        "rows": 5
       }
      },
      "text/html": [
       "<div>\n",
       "<style scoped>\n",
       "    .dataframe tbody tr th:only-of-type {\n",
       "        vertical-align: middle;\n",
       "    }\n",
       "\n",
       "    .dataframe tbody tr th {\n",
       "        vertical-align: top;\n",
       "    }\n",
       "\n",
       "    .dataframe thead th {\n",
       "        text-align: right;\n",
       "    }\n",
       "</style>\n",
       "<table border=\"1\" class=\"dataframe\">\n",
       "  <thead>\n",
       "    <tr style=\"text-align: right;\">\n",
       "      <th></th>\n",
       "      <th>nr_sq_livro</th>\n",
       "      <th>chapter</th>\n",
       "      <th>verse</th>\n",
       "      <th>text</th>\n",
       "    </tr>\n",
       "  </thead>\n",
       "  <tbody>\n",
       "    <tr>\n",
       "      <th>0</th>\n",
       "      <td>1</td>\n",
       "      <td>1</td>\n",
       "      <td>1</td>\n",
       "      <td>No princípio, criou Deus os céus e a terra.</td>\n",
       "    </tr>\n",
       "    <tr>\n",
       "      <th>1</th>\n",
       "      <td>1</td>\n",
       "      <td>1</td>\n",
       "      <td>2</td>\n",
       "      <td>A terra, porém, estava sem forma e vazia; havi...</td>\n",
       "    </tr>\n",
       "    <tr>\n",
       "      <th>2</th>\n",
       "      <td>1</td>\n",
       "      <td>1</td>\n",
       "      <td>3</td>\n",
       "      <td>Disse Deus: Haja luz; e houve luz.</td>\n",
       "    </tr>\n",
       "    <tr>\n",
       "      <th>3</th>\n",
       "      <td>1</td>\n",
       "      <td>1</td>\n",
       "      <td>4</td>\n",
       "      <td>E viu Deus que a luz era boa; e fez separação ...</td>\n",
       "    </tr>\n",
       "    <tr>\n",
       "      <th>4</th>\n",
       "      <td>1</td>\n",
       "      <td>1</td>\n",
       "      <td>5</td>\n",
       "      <td>Chamou Deus à luz Dia e às trevas, Noite. Houv...</td>\n",
       "    </tr>\n",
       "  </tbody>\n",
       "</table>\n",
       "</div>"
      ],
      "text/plain": [
       "   nr_sq_livro  chapter  verse  \\\n",
       "0            1        1      1   \n",
       "1            1        1      2   \n",
       "2            1        1      3   \n",
       "3            1        1      4   \n",
       "4            1        1      5   \n",
       "\n",
       "                                                text  \n",
       "0        No princípio, criou Deus os céus e a terra.  \n",
       "1  A terra, porém, estava sem forma e vazia; havi...  \n",
       "2                 Disse Deus: Haja luz; e houve luz.  \n",
       "3  E viu Deus que a luz era boa; e fez separação ...  \n",
       "4  Chamou Deus à luz Dia e às trevas, Noite. Houv...  "
      ]
     },
     "execution_count": 5,
     "metadata": {},
     "output_type": "execute_result"
    }
   ],
   "source": [
    "pt_df.head()"
   ]
  },
  {
   "cell_type": "code",
   "execution_count": 6,
   "metadata": {},
   "outputs": [
    {
     "data": {
      "text/plain": [
       "176"
      ]
     },
     "execution_count": 6,
     "metadata": {},
     "output_type": "execute_result"
    }
   ],
   "source": [
    "len( [vs for vs in pt_df.loc[(pt_df['nr_sq_livro'] == 19) & (pt_df['chapter'] == 119)].values] )"
   ]
  },
  {
   "cell_type": "code",
   "execution_count": 35,
   "metadata": {},
   "outputs": [
    {
     "data": {
      "text/plain": [
       "'a fim de que o preceito da lei se cumprisse em nós, que não andamos segundo a carne, mas segundo o Espírito.'"
      ]
     },
     "execution_count": 35,
     "metadata": {},
     "output_type": "execute_result"
    }
   ],
   "source": [
    "pt_df.loc[(pt_df['nr_sq_livro'] == 45) & (pt_df['chapter'] == 8)]\n",
    "# pt_df.query(\"nr_sq_livro == 45 and chapter == 8\")\n",
    "# pt_df.query(\"nr_sq_livro == 45 and chapter == 8 and verse == 4\")\n",
    "pt_df.query(\"nr_sq_livro == 45 and chapter == 8 and verse == 4\").text.values[0]"
   ]
  },
  {
   "cell_type": "code",
   "execution_count": 31,
   "metadata": {},
   "outputs": [
    {
     "data": {
      "text/plain": [
       "0"
      ]
     },
     "execution_count": 31,
     "metadata": {},
     "output_type": "execute_result"
    }
   ],
   "source": [
    "vs_rng = pt_df.loc[(pt_df['nr_sq_livro'] == 2) & (pt_df['chapter'] == 12) & (pt_df['verse'] >= 1) & (pt_df['verse'] <= 176)]\n",
    "vs_rng.to_csv('/Users/davison/Desktop/vs_rng.csv', index=False)\n",
    "os.system('open ' + '/Users/davison/Desktop/vs_rng.csv')"
   ]
  },
  {
   "cell_type": "code",
   "execution_count": null,
   "metadata": {},
   "outputs": [
    {
     "data": {
      "text/plain": [
       "'Se a nossa esperança em Cristo se limita apenas a esta vida, somos os mais infelizes de todos os homens.'"
      ]
     },
     "execution_count": 9,
     "metadata": {},
     "output_type": "execute_result"
    }
   ],
   "source": [
    "pt_df.loc[(pt_df['nr_sq_livro'] == 43) & (pt_df['chapter'] == 8) & (pt_df['verse'] == 19)].text.values[0]"
   ]
  },
  {
   "cell_type": "code",
   "execution_count": 10,
   "metadata": {},
   "outputs": [
    {
     "data": {
      "text/plain": [
       "'Visto que a morte veio por um homem, também por um homem veio a ressurreição dos mortos. Porque, assim como, em Adão, todos morrem, assim também todos serão vivificados em Cristo. Cada um, porém, por sua própria ordem: Cristo, as primícias; depois, os que são de Cristo, na sua vinda. E, então, virá o fim, quando ele entregar o reino ao Deus e Pai, quando houver destruído todo principado, bem como toda potestade e poder. Porque convém que ele reine até que haja posto todos os inimigos debaixo dos pés. O último inimigo a ser destruído é a morte. Porque todas as coisas sujeitou debaixo dos pés. E, quando diz que todas as coisas lhe estão sujeitas, certamente, exclui aquele que tudo lhe subordinou. Quando, porém, todas as coisas lhe estiverem sujeitas, então, o próprio Filho também se sujeitará àquele que todas as coisas lhe sujeitou, para que Deus seja tudo em todos. Doutra maneira, que farão os que se batizam por causa dos mortos? Se, absolutamente, os mortos não ressuscitam, por que se batizam por causa deles? E por que também nós nos expomos a perigos a toda hora? Dia após dia, morro! Eu o protesto, irmãos, pela glória que tenho em vós outros, em Cristo Jesus, nosso Senhor. Se, como homem, lutei em Éfeso com feras, que me aproveita isso? Se os mortos não ressuscitam, comamos e bebamos, que amanhã morreremos. Não vos enganeis: as más conversações corrompem os bons costumes. Tornai-vos à sobriedade, como é justo, e não pequeis; porque alguns ainda não têm conhecimento de Deus; isto digo para vergonha vossa. Mas alguém dirá: Como ressuscitam os mortos? E em que corpo vêm? Insensato! O que semeias não nasce, se primeiro não morrer; e, quando semeias, não semeias o corpo que há de ser, mas o simples grão, como de trigo ou de qualquer outra semente. Mas Deus lhe dá corpo como lhe aprouve dar e a cada uma das sementes, o seu corpo apropriado. Nem toda carne é a mesma; porém uma é a carne dos homens, outra, a dos animais, outra, a das aves, e outra, a dos peixes. Também há corpos celestiais e corpos terrestres; e, sem dúvida, uma é a glória dos celestiais, e outra, a dos terrestres. Uma é a glória do sol, outra, a glória da lua, e outra, a das estrelas; porque até entre estrela e estrela há diferenças de esplendor. Pois assim também é a ressurreição dos mortos. Semeia-se o corpo na corrupção, ressuscita na incorrupção. Semeia-se em desonra, ressuscita em glória. Semeia-se em fraqueza, ressuscita em poder. Semeia-se corpo natural, ressuscita corpo espiritual. Se há corpo natural, há também corpo espiritual. Pois assim está escrito: O primeiro homem, Adão, foi feito alma vivente. O último Adão, porém, é espírito vivificante. Mas não é primeiro o espiritual, e sim o natural; depois, o espiritual. O primeiro homem, formado da terra, é terreno; o segundo homem é do céu. Como foi o primeiro homem, o terreno, tais são também os demais homens terrenos; e, como é o homem celestial, tais também os celestiais. E, assim como trouxemos a imagem do que é terreno, devemos trazer também a imagem do celestial. Isto afirmo, irmãos, que a carne e o sangue não podem herdar o reino de Deus, nem a corrupção herdar a incorrupção. Eis que vos digo um mistério: nem todos dormiremos, mas transformados seremos todos, num momento, num abrir e fechar de olhos, ao ressoar da última trombeta. A trombeta soará, os mortos ressuscitarão incorruptíveis, e nós seremos transformados. Porque é necessário que este corpo corruptível se revista da incorruptibilidade, e que o corpo mortal se revista da imortalidade. E, quando este corpo corruptível se revestir de incorruptibilidade, e o que é mortal se revestir de imortalidade, então, se cumprirá a palavra que está escrita: Tragada foi a morte pela vitória. Onde está, ó morte, a tua vitória? Onde está, ó morte, o teu aguilhão? O aguilhão da morte é o pecado, e a força do pecado é a lei. Graças a Deus, que nos dá a vitória por intermédio de nosso Senhor Jesus Cristo. Portanto, meus amados irmãos, sede firmes, inabaláveis e sempre abundantes na obra do Senhor, sabendo que, no Senhor, o vosso trabalho não é vão.'"
      ]
     },
     "execution_count": 10,
     "metadata": {},
     "output_type": "execute_result"
    }
   ],
   "source": [
    "\" \".join([ vs for vs in pt_df.loc[(pt_df['nr_sq_livro']==46) & (pt_df['chapter']==15)].text.values[20:58] ])"
   ]
  },
  {
   "cell_type": "code",
   "execution_count": 5,
   "metadata": {},
   "outputs": [],
   "source": [
    "sql_wd_pt = \"\"\"\n",
    "            SELECT\n",
    "                nr_sq_livro\n",
    "                , chapter\n",
    "                , verse\n",
    "                , text\n",
    "            FROM\n",
    "                pt_df\n",
    "            WHERE\n",
    "                text like '%doutrina%' \n",
    "                --text like '%confess%' \n",
    "             --OR text like '%confiss%' \n",
    "            --AND text not like '%discu%'\n",
    "            --AND nr_sq_livro >= 40 \n",
    "            \"\"\""
   ]
  },
  {
   "cell_type": "code",
   "execution_count": 6,
   "metadata": {},
   "outputs": [],
   "source": [
    "wd_ara_query_rs = sqldf(sql_wd_pt)"
   ]
  },
  {
   "cell_type": "code",
   "execution_count": 7,
   "metadata": {},
   "outputs": [
    {
     "data": {
      "text/plain": [
       "44"
      ]
     },
     "execution_count": 7,
     "metadata": {},
     "output_type": "execute_result"
    }
   ],
   "source": [
    "len(wd_ara_query_rs)"
   ]
  },
  {
   "cell_type": "code",
   "execution_count": 8,
   "metadata": {},
   "outputs": [
    {
     "name": "stdout",
     "output_type": "stream",
     "text": [
      "    nr_sq_livro  chapter  verse                                                                                                                                                                                                                                              text\n",
      "0             5       32      2                                                                                                      Goteje a minha doutrina como a chuva, destile a minha palavra como o orvalho, como chuvisco sobre a relva e como gotas de água sobre a erva.\n",
      "1            18       11      4                                                                                                                                                                                  Pois dizes: A minha doutrina é pura, e sou limpo aos teus olhos.\n",
      "2            20        4      2                                                                                                                                                                                            porque vos dou boa doutrina; não deixeis o meu ensino.\n",
      "3            23       42      4                                                                                                                                   Não desanimará, nem se quebrará até que ponha na terra o direito; e as terras do mar aguardarão a sua doutrina.\n",
      "4            40        7     28                                                                                                                                                Quando Jesus acabou de proferir estas palavras, estavam as multidões maravilhadas da sua doutrina;\n",
      "5            40       15      9                                                                                                                                                                              E em vão me adoram, ensinando doutrinas que são preceitos de homens.\n",
      "6            40       16     12                                                                                                                      Então, entenderam que não lhes dissera que se acautelassem do fermento de pães, mas da doutrina dos fariseus e dos saduceus.\n",
      "7            40       22     33                                                                                                                                                                                       Ouvindo isto, as multidões se maravilhavam da sua doutrina.\n",
      "8            41        1     22                                                                                                                                              Maravilhavam-se da sua doutrina, porque os ensinava como quem tem autoridade e não como os escribas.\n",
      "9            41        1     27                                                                                 Todos se admiraram, a ponto de perguntarem entre si: Que vem a ser isto? Uma nova doutrina! Com autoridade ele ordena aos espíritos imundos, e eles lhe obedecem!\n",
      "10           41        4      2                                                                                                                                                               Assim, lhes ensinava muitas coisas por parábolas, no decorrer do seu doutrinamento.\n",
      "11           41        7      7                                                                                                                                                                              E em vão me adoram, ensinando doutrinas que são preceitos de homens.\n",
      "12           41       11     18                                                                         E os principais sacerdotes e escribas ouviam estas coisas e procuravam um modo de lhe tirar a vida; pois o temiam, porque toda a multidão se maravilhava de sua doutrina.\n",
      "13           42        4     32                                                                                                                                                                 E muito se maravilhavam da sua doutrina, porque a sua palavra era com autoridade.\n",
      "14           43        7     17                                                                                                                            Se alguém quiser fazer a vontade dele, conhecerá a respeito da doutrina, se ela é de Deus ou se eu falo por mim mesmo.\n",
      "15           43       18     19                                                                                                                                                          Então, o sumo sacerdote interrogou a Jesus acerca dos seus discípulos e da sua doutrina.\n",
      "16           44        2     42                                                                                                                                                           E perseveravam na doutrina dos apóstolos e na comunhão, no partir do pão e nas orações.\n",
      "17           44        5     28                                                                             dizendo: Expressamente vos ordenamos que não ensinásseis nesse nome; contudo, enchestes Jerusalém de vossa doutrina; e quereis lançar sobre nós o sangue desse homem.\n",
      "18           44       13     12                                                                                                                                                             Então, o procônsul, vendo o que sucedera, creu, maravilhado com a doutrina do Senhor.\n",
      "19           44       17     19                                                                                                                                   Então, tomando-o consigo, o levaram ao Areópago, dizendo: Poderemos saber que nova doutrina é essa que ensinas?\n",
      "20           45        6     17                                                                                                         Mas graças a Deus porque, outrora, escravos do pecado, contudo, viestes a obedecer de coração à forma de doutrina a que fostes entregues;\n",
      "21           45       16     17                                                                                                      Rogo-vos, irmãos, que noteis bem aqueles que provocam divisões e escândalos, em desacordo com a doutrina que aprendestes; afastai-vos deles,\n",
      "22           46       14      6                                                           Agora, porém, irmãos, se eu for ter convosco falando em outras línguas, em que vos aproveitarei, se vos não falar por meio de revelação, ou de ciência, ou de profecia, ou de doutrina?\n",
      "23           46       14     26                                                              Que fazer, pois, irmãos? Quando vos reunis, um tem salmo, outro, doutrina, este traz revelação, aquele, outra língua, e ainda outro, interpretação. Seja tudo feito para edificação.\n",
      "24           49        4     14                                                            para que não mais sejamos como meninos, agitados de um lado para outro e levados ao redor por todo vento de doutrina, pela artimanha dos homens, pela astúcia com que induzem ao erro.\n",
      "25           51        2     22                                                                                                                                                 segundo os preceitos e doutrinas dos homens? Pois que todas estas coisas, com o uso, se destroem.\n",
      "26           54        1      3                                                                                 Quando eu estava de viagem, rumo da Macedônia, te roguei permanecesses ainda em Éfeso para admoestares a certas pessoas, a fim de que não ensinem outra doutrina,\n",
      "27           54        1     10                                                                                                                                            impuros, sodomitas, raptores de homens, mentirosos, perjuros e para tudo quanto se opõe à sã doutrina,\n",
      "28           54        4      6                                                                                                         Expondo estas coisas aos irmãos, serás bom ministro de Cristo Jesus, alimentado com as palavras da fé e da boa doutrina que tens seguido.\n",
      "29           54        4     16                                                                                                          Tem cuidado de ti mesmo e da doutrina. Continua nestes deveres; porque, fazendo assim, salvarás tanto a ti mesmo como aos teus ouvintes.\n",
      "30           54        6      1                                                                                           Todos os servos que estão debaixo de jugo considerem dignos de toda honra o próprio senhor, para que o nome de Deus e a doutrina não sejam blasfemados.\n",
      "31           54        6      3                                                                                                                 Se alguém ensina outra doutrina e não concorda com as sãs palavras de nosso Senhor Jesus Cristo e com o ensino segundo a piedade,\n",
      "32           55        4      2                                                                                                                             prega a palavra, insta, quer seja oportuno, quer não, corrige, repreende, exorta com toda a longanimidade e doutrina.\n",
      "33           55        4      3                                                                           Pois haverá tempo em que não suportarão a sã doutrina; pelo contrário, cercar-se-ão de mestres segundo as suas próprias cobiças, como que sentindo coceira nos ouvidos;\n",
      "34           56        1      9                                                                                           apegado à palavra fiel, que é segundo a doutrina, de modo que tenha poder tanto para exortar pelo reto ensino como para convencer os que o contradizem.\n",
      "35           56        2      1                                                                                                                                                                                                       Tu, porém, fala o que convém à sã doutrina.\n",
      "36           56        2     10                                                                                                            não furtem; pelo contrário, deem prova de toda a fidelidade, a fim de ornarem, em todas as coisas, a doutrina de Deus, nosso Salvador.\n",
      "37           58        6      1                                               Por isso, pondo de parte os princípios elementares da doutrina de Cristo, deixemo-nos levar para o que é perfeito, não lançando, de novo, a base do arrependimento de obras mortas e da fé em Deus,\n",
      "38           58       13      9                                           Não vos deixeis envolver por doutrinas várias e estranhas, porquanto o que vale é estar o coração confirmado com graça e não com alimentos, pois nunca tiveram proveito os que com isto se preocuparam.\n",
      "39           63        1      9                                                                                                Todo aquele que ultrapassa a doutrina de Cristo e nela não permanece não tem Deus; o que permanece na doutrina, esse tem tanto o Pai como o Filho.\n",
      "40           63        1     10                                                                                                                                         Se alguém vem ter convosco e não traz esta doutrina, não o recebais em casa, nem lhe deis as boas-vindas.\n",
      "41           66        2     14  Tenho, todavia, contra ti algumas coisas, pois que tens aí os que sustentam a doutrina de Balaão, o qual ensinava a Balaque a armar ciladas diante dos filhos de Israel para comerem coisas sacrificadas aos ídolos e praticarem a prostituição.\n",
      "42           66        2     15                                                                                                                                                              Outrossim, também tu tens os que da mesma forma sustentam a doutrina dos nicolaítas.\n",
      "43           66        2     24                                               Digo, todavia, a vós outros, os demais de Tiatira, a tantos quantos não têm essa doutrina e que não conheceram, como eles dizem, as coisas profundas de Satanás: Outra carga não jogarei sobre vós;\n"
     ]
    }
   ],
   "source": [
    "print(wd_ara_query_rs.to_string())"
   ]
  },
  {
   "cell_type": "code",
   "execution_count": 12,
   "metadata": {},
   "outputs": [
    {
     "data": {
      "text/plain": [
       "0"
      ]
     },
     "execution_count": 12,
     "metadata": {},
     "output_type": "execute_result"
    }
   ],
   "source": [
    "wd_ara_query_rs = sqldf(sql_wd_pt)\n",
    "wd_ara_query_rs.to_csv('/Users/davison/Desktop/vs_rng.csv', index=False)\n",
    "os.system('open ' + '/Users/davison/Desktop/vs_rng.csv')"
   ]
  },
  {
   "cell_type": "code",
   "execution_count": 16,
   "metadata": {},
   "outputs": [],
   "source": [
    "def export_verses_pt_wds(wd1, wd2, or_wd, nlike_wd):\n",
    "    if (wd2 == None and nlike_wd == None and or_wd == None):\n",
    "        sql_wd_pt = \"\"\"\n",
    "            SELECT\n",
    "                nr_sq_livro\n",
    "                , chapter\n",
    "                , verse\n",
    "                , text\n",
    "            FROM\n",
    "                pt_df\n",
    "            WHERE\n",
    "                text like '%{}%'\n",
    "            \"\"\".format(wd1)\n",
    "    elif (nlike_wd == None and or_wd == None):\n",
    "        sql_wd_pt = \"\"\"\n",
    "            SELECT\n",
    "                nr_sq_livro\n",
    "                , chapter\n",
    "                , verse\n",
    "                , text\n",
    "            FROM\n",
    "                pt_df\n",
    "            WHERE\n",
    "                text like '%{}%' AND text like '%{}%'\n",
    "            \"\"\".format(wd1, wd2)\n",
    "    elif (or_wd == None and nlike_wd != None):\n",
    "        sql_wd_pt = \"\"\"\n",
    "            SELECT\n",
    "                nr_sq_livro\n",
    "                , chapter\n",
    "                , verse\n",
    "                , text\n",
    "            FROM\n",
    "                pt_df\n",
    "            WHERE\n",
    "                text like '%{}%' AND text not like '%{}%'\n",
    "            \"\"\".format(wd1, nlike_wd)\n",
    "    elif (or_wd != None and nlike_wd != None):\n",
    "        sql_wd_pt = \"\"\"\n",
    "            SELECT\n",
    "                nr_sq_livro\n",
    "                , chapter\n",
    "                , verse\n",
    "                , text\n",
    "            FROM\n",
    "                pt_df\n",
    "            WHERE\n",
    "                (text like '%{}%' OR text like '%{}%') AND text not like '%{}%'\n",
    "            \"\"\".format(wd1, or_wd, nlike_wd)\n",
    "    wd_ara_query_rs = sqldf(sql_wd_pt)\n",
    "    wd_ara_query_rs.to_csv('/Users/davison/Desktop/vs_rng.csv', index=False)"
   ]
  },
  {
   "cell_type": "code",
   "execution_count": null,
   "metadata": {},
   "outputs": [],
   "source": [
    "export_verses_pt_wds('batis', None, 'batiz', None)\n",
    "os.system('open ' + '/Users/davison/Desktop/vs_rng.csv')"
   ]
  },
  {
   "cell_type": "code",
   "execution_count": null,
   "metadata": {},
   "outputs": [],
   "source": [
    "# a partir daqui lxx grk, old e new testaments\n",
    "# primeira parte apenas indexação por strongs"
   ]
  },
  {
   "cell_type": "code",
   "execution_count": 10,
   "metadata": {},
   "outputs": [],
   "source": [
    "sql_strongs_grk = \"\"\"\n",
    "            SELECT \n",
    "                ltrim(number, 'G') strongs_number\n",
    "                , lemma\n",
    "                , xlit\n",
    "                , pronounce\n",
    "                , description \n",
    "            FROM \n",
    "                strongs\n",
    "            WHERE\n",
    "                substr(number, 1, 1) = 'G';\n",
    "            \"\"\"\n",
    "strongs_grk_df = pd.read_sql_query(sql_strongs_grk, ConectorBD('/Users/davison/Software/almeida-semantica/db/strongs.sqlite').con)"
   ]
  },
  {
   "cell_type": "code",
   "execution_count": 71,
   "metadata": {},
   "outputs": [
    {
     "data": {
      "application/vnd.microsoft.datawrangler.viewer.v0+json": {
       "columns": [
        {
         "name": "index",
         "rawType": "int64",
         "type": "integer"
        },
        {
         "name": "strongs_number",
         "rawType": "object",
         "type": "string"
        },
        {
         "name": "lemma",
         "rawType": "object",
         "type": "string"
        },
        {
         "name": "xlit",
         "rawType": "object",
         "type": "string"
        },
        {
         "name": "pronounce",
         "rawType": "object",
         "type": "string"
        },
        {
         "name": "description",
         "rawType": "object",
         "type": "string"
        }
       ],
       "conversionMethod": "pd.DataFrame",
       "ref": "a7906995-1ec3-4c53-a01b-ad93dac9be02",
       "rows": [
        [
         "0",
         "1",
         "Α",
         "A",
         "al'-fah",
         "of Hebrew origin; the first letter of the alphabet; figuratively, only (from its use as a numeral) the first: --Alpha. Often used (usually , before a vowel) also in composition (as a contraction from ἄνευ) in the sense of privation; so, in many words, beginning with this letter; occasionally in the sense of union (as a contraction of ἅμα)."
        ],
        [
         "1",
         "2",
         "Ἀαρών",
         "Aarṓn",
         "ah-ar-ohn'",
         "of Hebrew origin (אַהֲרוֹן); Aaron, the brother of Moses:--Aaron."
        ],
        [
         "2",
         "3",
         "Ἀβαδδών",
         "Abaddṓn",
         "ab-ad-dohn'",
         "of Hebrew origin (אֲבַדּוֹן); a destroying angel:--Abaddon."
        ],
        [
         "3",
         "4",
         "ἀβαρής",
         "abarḗs",
         "ab-ar-ace'",
         "from Α (as a negative particle) and βάρος; weightless, i.e. (figuratively) not burdensome:--from being burdensome."
        ],
        [
         "4",
         "5",
         "Ἀββᾶ",
         "Abbâ",
         "ab-bah'",
         "of Chaldee origin (אַב); father as a vocative:--Abba."
        ]
       ],
       "shape": {
        "columns": 5,
        "rows": 5
       }
      },
      "text/html": [
       "<div>\n",
       "<style scoped>\n",
       "    .dataframe tbody tr th:only-of-type {\n",
       "        vertical-align: middle;\n",
       "    }\n",
       "\n",
       "    .dataframe tbody tr th {\n",
       "        vertical-align: top;\n",
       "    }\n",
       "\n",
       "    .dataframe thead th {\n",
       "        text-align: right;\n",
       "    }\n",
       "</style>\n",
       "<table border=\"1\" class=\"dataframe\">\n",
       "  <thead>\n",
       "    <tr style=\"text-align: right;\">\n",
       "      <th></th>\n",
       "      <th>strongs_number</th>\n",
       "      <th>lemma</th>\n",
       "      <th>xlit</th>\n",
       "      <th>pronounce</th>\n",
       "      <th>description</th>\n",
       "    </tr>\n",
       "  </thead>\n",
       "  <tbody>\n",
       "    <tr>\n",
       "      <th>0</th>\n",
       "      <td>1</td>\n",
       "      <td>Α</td>\n",
       "      <td>A</td>\n",
       "      <td>al'-fah</td>\n",
       "      <td>of Hebrew origin; the first letter of the alph...</td>\n",
       "    </tr>\n",
       "    <tr>\n",
       "      <th>1</th>\n",
       "      <td>2</td>\n",
       "      <td>Ἀαρών</td>\n",
       "      <td>Aarṓn</td>\n",
       "      <td>ah-ar-ohn'</td>\n",
       "      <td>of Hebrew origin (אַהֲרוֹן); Aaron, the brothe...</td>\n",
       "    </tr>\n",
       "    <tr>\n",
       "      <th>2</th>\n",
       "      <td>3</td>\n",
       "      <td>Ἀβαδδών</td>\n",
       "      <td>Abaddṓn</td>\n",
       "      <td>ab-ad-dohn'</td>\n",
       "      <td>of Hebrew origin (אֲבַדּוֹן); a destroying ang...</td>\n",
       "    </tr>\n",
       "    <tr>\n",
       "      <th>3</th>\n",
       "      <td>4</td>\n",
       "      <td>ἀβαρής</td>\n",
       "      <td>abarḗs</td>\n",
       "      <td>ab-ar-ace'</td>\n",
       "      <td>from Α (as a negative particle) and βάρος; wei...</td>\n",
       "    </tr>\n",
       "    <tr>\n",
       "      <th>4</th>\n",
       "      <td>5</td>\n",
       "      <td>Ἀββᾶ</td>\n",
       "      <td>Abbâ</td>\n",
       "      <td>ab-bah'</td>\n",
       "      <td>of Chaldee origin (אַב); father as a vocative:...</td>\n",
       "    </tr>\n",
       "  </tbody>\n",
       "</table>\n",
       "</div>"
      ],
      "text/plain": [
       "  strongs_number    lemma     xlit    pronounce  \\\n",
       "0              1        Α        A      al'-fah   \n",
       "1              2    Ἀαρών    Aarṓn   ah-ar-ohn'   \n",
       "2              3  Ἀβαδδών  Abaddṓn  ab-ad-dohn'   \n",
       "3              4   ἀβαρής   abarḗs   ab-ar-ace'   \n",
       "4              5     Ἀββᾶ     Abbâ      ab-bah'   \n",
       "\n",
       "                                         description  \n",
       "0  of Hebrew origin; the first letter of the alph...  \n",
       "1  of Hebrew origin (אַהֲרוֹן); Aaron, the brothe...  \n",
       "2  of Hebrew origin (אֲבַדּוֹן); a destroying ang...  \n",
       "3  from Α (as a negative particle) and βάρος; wei...  \n",
       "4  of Chaldee origin (אַב); father as a vocative:...  "
      ]
     },
     "execution_count": 71,
     "metadata": {},
     "output_type": "execute_result"
    }
   ],
   "source": [
    "strongs_grk_df.head()"
   ]
  },
  {
   "cell_type": "code",
   "execution_count": 12,
   "metadata": {},
   "outputs": [
    {
     "name": "stderr",
     "output_type": "stream",
     "text": [
      "/var/folders/66/v9zmf0pn5p18jnhnr4_7x2r80000gn/T/ipykernel_942/27383017.py:1: DtypeWarning: Columns (1,2) have mixed types. Specify dtype option on import or set low_memory=False.\n",
      "  df_lxx = pd.read_csv('/Users/davison/Software/almeida-semantica/lxxm_utf8_v4.csv', dtype={'strongs': 'Int32'})\n"
     ]
    }
   ],
   "source": [
    "df_lxx = pd.read_csv('/Users/davison/Software/almeida-semantica/lxxm_utf8_v4.csv', dtype={'strongs': 'Int32'})"
   ]
  },
  {
   "cell_type": "code",
   "execution_count": 72,
   "metadata": {},
   "outputs": [
    {
     "data": {
      "application/vnd.microsoft.datawrangler.viewer.v0+json": {
       "columns": [
        {
         "name": "index",
         "rawType": "int64",
         "type": "integer"
        },
        {
         "name": "book",
         "rawType": "int64",
         "type": "integer"
        },
        {
         "name": "chapter",
         "rawType": "object",
         "type": "unknown"
        },
        {
         "name": "verse",
         "rawType": "object",
         "type": "unknown"
        },
        {
         "name": "part_of_speech",
         "rawType": "object",
         "type": "string"
        },
        {
         "name": "morphology",
         "rawType": "object",
         "type": "string"
        },
        {
         "name": "normalized_word",
         "rawType": "object",
         "type": "string"
        },
        {
         "name": "strongs",
         "rawType": "Int32",
         "type": "integer"
        }
       ],
       "conversionMethod": "pd.DataFrame",
       "ref": "8959a6ac-c1ee-4e03-b77c-8349bbcb9eb4",
       "rows": [
        [
         "0",
         "1",
         "1",
         "1",
         "P-",
         "--------",
         "εν",
         "1722"
        ],
        [
         "1",
         "1",
         "1",
         "1",
         "N-",
         "----DSF-",
         "αρχη",
         "746"
        ],
        [
         "2",
         "1",
         "1",
         "1",
         "V-",
         "3AAI-S--",
         "εποιησεν",
         "4160"
        ],
        [
         "3",
         "1",
         "1",
         "1",
         "RA",
         "----NSM-",
         "ο",
         "3588"
        ],
        [
         "4",
         "1",
         "1",
         "1",
         "N-",
         "----NSM-",
         "θεος",
         "2316"
        ]
       ],
       "shape": {
        "columns": 7,
        "rows": 5
       }
      },
      "text/html": [
       "<div>\n",
       "<style scoped>\n",
       "    .dataframe tbody tr th:only-of-type {\n",
       "        vertical-align: middle;\n",
       "    }\n",
       "\n",
       "    .dataframe tbody tr th {\n",
       "        vertical-align: top;\n",
       "    }\n",
       "\n",
       "    .dataframe thead th {\n",
       "        text-align: right;\n",
       "    }\n",
       "</style>\n",
       "<table border=\"1\" class=\"dataframe\">\n",
       "  <thead>\n",
       "    <tr style=\"text-align: right;\">\n",
       "      <th></th>\n",
       "      <th>book</th>\n",
       "      <th>chapter</th>\n",
       "      <th>verse</th>\n",
       "      <th>part_of_speech</th>\n",
       "      <th>morphology</th>\n",
       "      <th>normalized_word</th>\n",
       "      <th>strongs</th>\n",
       "    </tr>\n",
       "  </thead>\n",
       "  <tbody>\n",
       "    <tr>\n",
       "      <th>0</th>\n",
       "      <td>1</td>\n",
       "      <td>1</td>\n",
       "      <td>1</td>\n",
       "      <td>P-</td>\n",
       "      <td>--------</td>\n",
       "      <td>εν</td>\n",
       "      <td>1722</td>\n",
       "    </tr>\n",
       "    <tr>\n",
       "      <th>1</th>\n",
       "      <td>1</td>\n",
       "      <td>1</td>\n",
       "      <td>1</td>\n",
       "      <td>N-</td>\n",
       "      <td>----DSF-</td>\n",
       "      <td>αρχη</td>\n",
       "      <td>746</td>\n",
       "    </tr>\n",
       "    <tr>\n",
       "      <th>2</th>\n",
       "      <td>1</td>\n",
       "      <td>1</td>\n",
       "      <td>1</td>\n",
       "      <td>V-</td>\n",
       "      <td>3AAI-S--</td>\n",
       "      <td>εποιησεν</td>\n",
       "      <td>4160</td>\n",
       "    </tr>\n",
       "    <tr>\n",
       "      <th>3</th>\n",
       "      <td>1</td>\n",
       "      <td>1</td>\n",
       "      <td>1</td>\n",
       "      <td>RA</td>\n",
       "      <td>----NSM-</td>\n",
       "      <td>ο</td>\n",
       "      <td>3588</td>\n",
       "    </tr>\n",
       "    <tr>\n",
       "      <th>4</th>\n",
       "      <td>1</td>\n",
       "      <td>1</td>\n",
       "      <td>1</td>\n",
       "      <td>N-</td>\n",
       "      <td>----NSM-</td>\n",
       "      <td>θεος</td>\n",
       "      <td>2316</td>\n",
       "    </tr>\n",
       "  </tbody>\n",
       "</table>\n",
       "</div>"
      ],
      "text/plain": [
       "   book chapter verse part_of_speech morphology normalized_word  strongs\n",
       "0     1       1     1             P-   --------              εν     1722\n",
       "1     1       1     1             N-   ----DSF-            αρχη      746\n",
       "2     1       1     1             V-   3AAI-S--        εποιησεν     4160\n",
       "3     1       1     1             RA   ----NSM-               ο     3588\n",
       "4     1       1     1             N-   ----NSM-            θεος     2316"
      ]
     },
     "execution_count": 72,
     "metadata": {},
     "output_type": "execute_result"
    }
   ],
   "source": [
    "df_lxx.head()"
   ]
  },
  {
   "cell_type": "code",
   "execution_count": 13,
   "metadata": {},
   "outputs": [
    {
     "data": {
      "application/vnd.microsoft.datawrangler.viewer.v0+json": {
       "columns": [
        {
         "name": "index",
         "rawType": "int64",
         "type": "integer"
        },
        {
         "name": "book",
         "rawType": "int64",
         "type": "integer"
        },
        {
         "name": "chapter",
         "rawType": "object",
         "type": "unknown"
        },
        {
         "name": "verse",
         "rawType": "object",
         "type": "unknown"
        },
        {
         "name": "part_of_speech",
         "rawType": "object",
         "type": "string"
        },
        {
         "name": "morphology",
         "rawType": "object",
         "type": "string"
        },
        {
         "name": "normalized_word",
         "rawType": "object",
         "type": "string"
        },
        {
         "name": "strongs",
         "rawType": "Int32",
         "type": "integer"
        }
       ],
       "conversionMethod": "pd.DataFrame",
       "ref": "abe41381-6d1d-44f4-8ce0-ba69175e7309",
       "rows": [
        [
         "34426",
         "2",
         "4",
         "14",
         "N-",
         "--------",
         "ααρων",
         "2"
        ],
        [
         "34746",
         "2",
         "4",
         "27",
         "N-",
         "--------",
         "ααρων",
         "2"
        ],
        [
         "34771",
         "2",
         "4",
         "28",
         "N-",
         "--------",
         "ααρων",
         "2"
        ],
        [
         "34789",
         "2",
         "4",
         "29",
         "N-",
         "--------",
         "ααρων",
         "2"
        ],
        [
         "34799",
         "2",
         "4",
         "30",
         "N-",
         "--------",
         "ααρων",
         "2"
        ],
        [
         "34847",
         "2",
         "5",
         "1",
         "N-",
         "--------",
         "ααρων",
         "2"
        ],
        [
         "34931",
         "2",
         "5",
         "4",
         "N-",
         "--------",
         "ααρων",
         "2"
        ],
        [
         "35235",
         "2",
         "5",
         "20",
         "N-",
         "--------",
         "ααρων",
         "2"
        ],
        [
         "35566",
         "2",
         "6",
         "13",
         "N-",
         "--------",
         "ααρων",
         "2"
        ],
        [
         "35709",
         "2",
         "6",
         "20",
         "N-",
         "--------",
         "ααρων",
         "2"
        ],
        [
         "35743",
         "2",
         "6",
         "23",
         "N-",
         "--------",
         "ααρων",
         "2"
        ],
        [
         "35780",
         "2",
         "6",
         "25",
         "N-",
         "--------",
         "ααρων",
         "2"
        ],
        [
         "35801",
         "2",
         "6",
         "26",
         "N-",
         "--------",
         "ααρων",
         "2"
        ],
        [
         "35835",
         "2",
         "6",
         "27",
         "N-",
         "--------",
         "ααρων",
         "2"
        ],
        [
         "35890",
         "2",
         "7",
         "1",
         "N-",
         "--------",
         "ααρων",
         "2"
        ],
        [
         "35907",
         "2",
         "7",
         "2",
         "N-",
         "--------",
         "ααρων",
         "2"
        ],
        [
         "35995",
         "2",
         "7",
         "6",
         "N-",
         "--------",
         "ααρων",
         "2"
        ],
        [
         "36007",
         "2",
         "7",
         "7",
         "N-",
         "--------",
         "ααρων",
         "2"
        ],
        [
         "36025",
         "2",
         "7",
         "8",
         "N-",
         "--------",
         "ααρων",
         "2"
        ],
        [
         "36041",
         "2",
         "7",
         "9",
         "N-",
         "--------",
         "ααρων",
         "2"
        ],
        [
         "36068",
         "2",
         "7",
         "10",
         "N-",
         "--------",
         "ααρων",
         "2"
        ],
        [
         "36084",
         "2",
         "7",
         "10",
         "N-",
         "--------",
         "ααρων",
         "2"
        ],
        [
         "36131",
         "2",
         "7",
         "12",
         "N-",
         "--------",
         "ααρων",
         "2"
        ],
        [
         "36282",
         "2",
         "7",
         "19",
         "N-",
         "--------",
         "ααρων",
         "2"
        ],
        [
         "36343",
         "2",
         "7",
         "20",
         "N-",
         "--------",
         "ααρων",
         "2"
        ],
        [
         "36581",
         "2",
         "8",
         "5",
         "N-",
         "--------",
         "ααρων",
         "2"
        ],
        [
         "36608",
         "2",
         "8",
         "6",
         "N-",
         "--------",
         "ααρων",
         "2"
        ],
        [
         "36651",
         "2",
         "8",
         "8",
         "N-",
         "--------",
         "ααρων",
         "2"
        ],
        [
         "36770",
         "2",
         "8",
         "12",
         "N-",
         "--------",
         "ααρων",
         "2"
        ],
        [
         "36839",
         "2",
         "8",
         "16",
         "N-",
         "--------",
         "ααρων",
         "2"
        ],
        [
         "36870",
         "2",
         "8",
         "17",
         "N-",
         "--------",
         "ααρων",
         "2"
        ],
        [
         "37134",
         "2",
         "8",
         "25",
         "N-",
         "--------",
         "ααρων",
         "2"
        ],
        [
         "37474",
         "2",
         "9",
         "8",
         "N-",
         "--------",
         "ααρων",
         "2"
        ],
        [
         "37944",
         "2",
         "9",
         "27",
         "N-",
         "--------",
         "ααρων",
         "2"
        ],
        [
         "38190",
         "2",
         "10",
         "3",
         "N-",
         "--------",
         "ααρων",
         "2"
        ],
        [
         "38355",
         "2",
         "10",
         "8",
         "N-",
         "--------",
         "ααρων",
         "2"
        ],
        [
         "38588",
         "2",
         "10",
         "16",
         "N-",
         "--------",
         "ααρων",
         "2"
        ],
        [
         "38743",
         "2",
         "10",
         "24",
         "N-",
         "--------",
         "ααρων",
         "2"
        ],
        [
         "39090",
         "2",
         "11",
         "10",
         "N-",
         "--------",
         "ααρων",
         "2"
        ],
        [
         "39126",
         "2",
         "12",
         "1",
         "N-",
         "--------",
         "ααρων",
         "2"
        ],
        [
         "39773",
         "2",
         "12",
         "28",
         "N-",
         "--------",
         "ααρων",
         "2"
        ],
        [
         "39847",
         "2",
         "12",
         "31",
         "N-",
         "--------",
         "ααρων",
         "2"
        ],
        [
         "40087",
         "2",
         "12",
         "43",
         "N-",
         "--------",
         "ααρων",
         "2"
        ],
        [
         "40201",
         "2",
         "12",
         "50",
         "N-",
         "--------",
         "ααρων",
         "2"
        ],
        [
         "41830",
         "2",
         "15",
         "20",
         "N-",
         "--------",
         "ααρων",
         "2"
        ],
        [
         "42064",
         "2",
         "16",
         "2",
         "N-",
         "--------",
         "ααρων",
         "2"
        ],
        [
         "42166",
         "2",
         "16",
         "6",
         "N-",
         "--------",
         "ααρων",
         "2"
        ],
        [
         "42254",
         "2",
         "16",
         "9",
         "N-",
         "--------",
         "ααρων",
         "2"
        ],
        [
         "42272",
         "2",
         "16",
         "10",
         "N-",
         "--------",
         "ααρων",
         "2"
        ],
        [
         "42755",
         "2",
         "16",
         "33",
         "N-",
         "--------",
         "ααρων",
         "2"
        ]
       ],
       "shape": {
        "columns": 7,
        "rows": 349
       }
      },
      "text/html": [
       "<div>\n",
       "<style scoped>\n",
       "    .dataframe tbody tr th:only-of-type {\n",
       "        vertical-align: middle;\n",
       "    }\n",
       "\n",
       "    .dataframe tbody tr th {\n",
       "        vertical-align: top;\n",
       "    }\n",
       "\n",
       "    .dataframe thead th {\n",
       "        text-align: right;\n",
       "    }\n",
       "</style>\n",
       "<table border=\"1\" class=\"dataframe\">\n",
       "  <thead>\n",
       "    <tr style=\"text-align: right;\">\n",
       "      <th></th>\n",
       "      <th>book</th>\n",
       "      <th>chapter</th>\n",
       "      <th>verse</th>\n",
       "      <th>part_of_speech</th>\n",
       "      <th>morphology</th>\n",
       "      <th>normalized_word</th>\n",
       "      <th>strongs</th>\n",
       "    </tr>\n",
       "  </thead>\n",
       "  <tbody>\n",
       "    <tr>\n",
       "      <th>34426</th>\n",
       "      <td>2</td>\n",
       "      <td>4</td>\n",
       "      <td>14</td>\n",
       "      <td>N-</td>\n",
       "      <td>--------</td>\n",
       "      <td>ααρων</td>\n",
       "      <td>2</td>\n",
       "    </tr>\n",
       "    <tr>\n",
       "      <th>34746</th>\n",
       "      <td>2</td>\n",
       "      <td>4</td>\n",
       "      <td>27</td>\n",
       "      <td>N-</td>\n",
       "      <td>--------</td>\n",
       "      <td>ααρων</td>\n",
       "      <td>2</td>\n",
       "    </tr>\n",
       "    <tr>\n",
       "      <th>34771</th>\n",
       "      <td>2</td>\n",
       "      <td>4</td>\n",
       "      <td>28</td>\n",
       "      <td>N-</td>\n",
       "      <td>--------</td>\n",
       "      <td>ααρων</td>\n",
       "      <td>2</td>\n",
       "    </tr>\n",
       "    <tr>\n",
       "      <th>34789</th>\n",
       "      <td>2</td>\n",
       "      <td>4</td>\n",
       "      <td>29</td>\n",
       "      <td>N-</td>\n",
       "      <td>--------</td>\n",
       "      <td>ααρων</td>\n",
       "      <td>2</td>\n",
       "    </tr>\n",
       "    <tr>\n",
       "      <th>34799</th>\n",
       "      <td>2</td>\n",
       "      <td>4</td>\n",
       "      <td>30</td>\n",
       "      <td>N-</td>\n",
       "      <td>--------</td>\n",
       "      <td>ααρων</td>\n",
       "      <td>2</td>\n",
       "    </tr>\n",
       "    <tr>\n",
       "      <th>...</th>\n",
       "      <td>...</td>\n",
       "      <td>...</td>\n",
       "      <td>...</td>\n",
       "      <td>...</td>\n",
       "      <td>...</td>\n",
       "      <td>...</td>\n",
       "      <td>...</td>\n",
       "    </tr>\n",
       "    <tr>\n",
       "      <th>282590</th>\n",
       "      <td>16</td>\n",
       "      <td>10</td>\n",
       "      <td>38</td>\n",
       "      <td>N-</td>\n",
       "      <td>--------</td>\n",
       "      <td>ααρων</td>\n",
       "      <td>2</td>\n",
       "    </tr>\n",
       "    <tr>\n",
       "      <th>283706</th>\n",
       "      <td>16</td>\n",
       "      <td>12</td>\n",
       "      <td>47</td>\n",
       "      <td>N-</td>\n",
       "      <td>--------</td>\n",
       "      <td>ααρων</td>\n",
       "      <td>2</td>\n",
       "    </tr>\n",
       "    <tr>\n",
       "      <th>319808</th>\n",
       "      <td>19</td>\n",
       "      <td>77</td>\n",
       "      <td>20</td>\n",
       "      <td>N-</td>\n",
       "      <td>--------</td>\n",
       "      <td>ααρων</td>\n",
       "      <td>2</td>\n",
       "    </tr>\n",
       "    <tr>\n",
       "      <th>325248</th>\n",
       "      <td>19</td>\n",
       "      <td>99</td>\n",
       "      <td>6</td>\n",
       "      <td>N-</td>\n",
       "      <td>--------</td>\n",
       "      <td>ααρων</td>\n",
       "      <td>2</td>\n",
       "    </tr>\n",
       "    <tr>\n",
       "      <th>464128</th>\n",
       "      <td>33</td>\n",
       "      <td>6</td>\n",
       "      <td>4</td>\n",
       "      <td>N-</td>\n",
       "      <td>--------</td>\n",
       "      <td>ααρων</td>\n",
       "      <td>2</td>\n",
       "    </tr>\n",
       "  </tbody>\n",
       "</table>\n",
       "<p>349 rows × 7 columns</p>\n",
       "</div>"
      ],
      "text/plain": [
       "        book chapter verse part_of_speech morphology normalized_word  strongs\n",
       "34426      2       4    14             N-   --------           ααρων        2\n",
       "34746      2       4    27             N-   --------           ααρων        2\n",
       "34771      2       4    28             N-   --------           ααρων        2\n",
       "34789      2       4    29             N-   --------           ααρων        2\n",
       "34799      2       4    30             N-   --------           ααρων        2\n",
       "...      ...     ...   ...            ...        ...             ...      ...\n",
       "282590    16      10    38             N-   --------           ααρων        2\n",
       "283706    16      12    47             N-   --------           ααρων        2\n",
       "319808    19      77    20             N-   --------           ααρων        2\n",
       "325248    19      99     6             N-   --------           ααρων        2\n",
       "464128    33       6     4             N-   --------           ααρων        2\n",
       "\n",
       "[349 rows x 7 columns]"
      ]
     },
     "execution_count": 13,
     "metadata": {},
     "output_type": "execute_result"
    }
   ],
   "source": [
    "# import cltk.alphabet\n",
    "# import cltk.alphabet.text_normalization\n",
    "# cltk.alphabet.text_normalization.cltk_normalize(strongs_grk_df['lemma'][1])\n",
    "import koinenlp\n",
    "palavra_grega = koinenlp.normalize(strongs_grk_df['lemma'][1])\n",
    "df_lxx.query(\"normalized_word == '{}'\".format(palavra_grega))"
   ]
  },
  {
   "cell_type": "code",
   "execution_count": null,
   "metadata": {},
   "outputs": [],
   "source": [
    "# segunda parte, indexação por strongs e versículos\n",
    "#   primeiro, dataframe lxx do csv\n",
    "\n",
    "# exemplo sqldf\n",
    "# df_query_rs = sqldf(sql_query_string)"
   ]
  },
  {
   "cell_type": "code",
   "execution_count": 73,
   "metadata": {},
   "outputs": [
    {
     "data": {
      "application/vnd.microsoft.datawrangler.viewer.v0+json": {
       "columns": [
        {
         "name": "index",
         "rawType": "int64",
         "type": "integer"
        },
        {
         "name": "book",
         "rawType": "int64",
         "type": "integer"
        },
        {
         "name": "chapter",
         "rawType": "object",
         "type": "unknown"
        },
        {
         "name": "verse",
         "rawType": "object",
         "type": "unknown"
        },
        {
         "name": "part_of_speech",
         "rawType": "object",
         "type": "string"
        },
        {
         "name": "morphology",
         "rawType": "object",
         "type": "string"
        },
        {
         "name": "normalized_word",
         "rawType": "object",
         "type": "string"
        },
        {
         "name": "strongs",
         "rawType": "Int32",
         "type": "integer"
        }
       ],
       "conversionMethod": "pd.DataFrame",
       "ref": "d5739058-2ec8-40d8-b265-77db9436c746",
       "rows": [
        [
         "475015",
         "39",
         "3",
         "8",
         "C-",
         "--------",
         "ει",
         "1487"
        ],
        [
         "475016",
         "39",
         "3",
         "8",
         "V-",
         "3FAI-S--",
         "πτερνιει",
         null
        ],
        [
         "475017",
         "39",
         "3",
         "8",
         "N-",
         "----NSM-",
         "ανθρωπος",
         "444"
        ],
        [
         "475018",
         "39",
         "3",
         "8",
         "N-",
         "----ASM-",
         "θεον",
         "2316"
        ],
        [
         "475019",
         "39",
         "3",
         "8",
         "C-",
         "--------",
         "διοτι",
         "1360"
        ],
        [
         "475020",
         "39",
         "3",
         "8",
         "RP",
         "----NP--",
         "υμεις",
         "5210"
        ],
        [
         "475021",
         "39",
         "3",
         "8",
         "V-",
         "2PAI-P--",
         "πτερνιζετε",
         null
        ],
        [
         "475022",
         "39",
         "3",
         "8",
         "RP",
         "----AS--",
         "με",
         "3165"
        ],
        [
         "475023",
         "39",
         "3",
         "8",
         "C-",
         "--------",
         "και",
         "2532"
        ],
        [
         "475024",
         "39",
         "3",
         "8",
         "V-",
         "2FAI-P--",
         "ερειτε",
         "2046"
        ],
        [
         "475025",
         "39",
         "3",
         "8",
         "P-",
         "--------",
         "εν",
         "1722"
        ],
        [
         "475026",
         "39",
         "3",
         "8",
         "RI",
         "----DSN-",
         "τινι",
         "5100"
        ],
        [
         "475027",
         "39",
         "3",
         "8",
         "V-",
         "1XAI-P--",
         "επτερνικαμεν",
         null
        ],
        [
         "475028",
         "39",
         "3",
         "8",
         "RP",
         "----AS--",
         "σε",
         "4571"
        ],
        [
         "475029",
         "39",
         "3",
         "8",
         "C-",
         "--------",
         "οτι",
         "3754"
        ],
        [
         "475030",
         "39",
         "3",
         "8",
         "RA",
         "----APN-",
         "τα",
         "3588"
        ],
        [
         "475031",
         "39",
         "3",
         "8",
         "A-",
         "----APN-",
         "επιδεκατα",
         null
        ],
        [
         "475032",
         "39",
         "3",
         "8",
         "C-",
         "--------",
         "και",
         "2532"
        ],
        [
         "475033",
         "39",
         "3",
         "8",
         "RA",
         "----NPF-",
         "αι",
         "3588"
        ],
        [
         "475034",
         "39",
         "3",
         "8",
         "N-",
         "----NPF-",
         "απαρχαι",
         "536"
        ],
        [
         "475035",
         "39",
         "3",
         "8",
         "P-",
         "--------",
         "μεθ",
         "3326"
        ],
        [
         "475036",
         "39",
         "3",
         "8",
         "RP",
         "----GP--",
         "υμων",
         "5216"
        ],
        [
         "475037",
         "39",
         "3",
         "8",
         "V-",
         "3PAI-P--",
         "εισιν",
         "1526"
        ]
       ],
       "shape": {
        "columns": 7,
        "rows": 23
       }
      },
      "text/html": [
       "<div>\n",
       "<style scoped>\n",
       "    .dataframe tbody tr th:only-of-type {\n",
       "        vertical-align: middle;\n",
       "    }\n",
       "\n",
       "    .dataframe tbody tr th {\n",
       "        vertical-align: top;\n",
       "    }\n",
       "\n",
       "    .dataframe thead th {\n",
       "        text-align: right;\n",
       "    }\n",
       "</style>\n",
       "<table border=\"1\" class=\"dataframe\">\n",
       "  <thead>\n",
       "    <tr style=\"text-align: right;\">\n",
       "      <th></th>\n",
       "      <th>book</th>\n",
       "      <th>chapter</th>\n",
       "      <th>verse</th>\n",
       "      <th>part_of_speech</th>\n",
       "      <th>morphology</th>\n",
       "      <th>normalized_word</th>\n",
       "      <th>strongs</th>\n",
       "    </tr>\n",
       "  </thead>\n",
       "  <tbody>\n",
       "    <tr>\n",
       "      <th>475015</th>\n",
       "      <td>39</td>\n",
       "      <td>3</td>\n",
       "      <td>8</td>\n",
       "      <td>C-</td>\n",
       "      <td>--------</td>\n",
       "      <td>ει</td>\n",
       "      <td>1487</td>\n",
       "    </tr>\n",
       "    <tr>\n",
       "      <th>475016</th>\n",
       "      <td>39</td>\n",
       "      <td>3</td>\n",
       "      <td>8</td>\n",
       "      <td>V-</td>\n",
       "      <td>3FAI-S--</td>\n",
       "      <td>πτερνιει</td>\n",
       "      <td>&lt;NA&gt;</td>\n",
       "    </tr>\n",
       "    <tr>\n",
       "      <th>475017</th>\n",
       "      <td>39</td>\n",
       "      <td>3</td>\n",
       "      <td>8</td>\n",
       "      <td>N-</td>\n",
       "      <td>----NSM-</td>\n",
       "      <td>ανθρωπος</td>\n",
       "      <td>444</td>\n",
       "    </tr>\n",
       "    <tr>\n",
       "      <th>475018</th>\n",
       "      <td>39</td>\n",
       "      <td>3</td>\n",
       "      <td>8</td>\n",
       "      <td>N-</td>\n",
       "      <td>----ASM-</td>\n",
       "      <td>θεον</td>\n",
       "      <td>2316</td>\n",
       "    </tr>\n",
       "    <tr>\n",
       "      <th>475019</th>\n",
       "      <td>39</td>\n",
       "      <td>3</td>\n",
       "      <td>8</td>\n",
       "      <td>C-</td>\n",
       "      <td>--------</td>\n",
       "      <td>διοτι</td>\n",
       "      <td>1360</td>\n",
       "    </tr>\n",
       "    <tr>\n",
       "      <th>475020</th>\n",
       "      <td>39</td>\n",
       "      <td>3</td>\n",
       "      <td>8</td>\n",
       "      <td>RP</td>\n",
       "      <td>----NP--</td>\n",
       "      <td>υμεις</td>\n",
       "      <td>5210</td>\n",
       "    </tr>\n",
       "    <tr>\n",
       "      <th>475021</th>\n",
       "      <td>39</td>\n",
       "      <td>3</td>\n",
       "      <td>8</td>\n",
       "      <td>V-</td>\n",
       "      <td>2PAI-P--</td>\n",
       "      <td>πτερνιζετε</td>\n",
       "      <td>&lt;NA&gt;</td>\n",
       "    </tr>\n",
       "    <tr>\n",
       "      <th>475022</th>\n",
       "      <td>39</td>\n",
       "      <td>3</td>\n",
       "      <td>8</td>\n",
       "      <td>RP</td>\n",
       "      <td>----AS--</td>\n",
       "      <td>με</td>\n",
       "      <td>3165</td>\n",
       "    </tr>\n",
       "    <tr>\n",
       "      <th>475023</th>\n",
       "      <td>39</td>\n",
       "      <td>3</td>\n",
       "      <td>8</td>\n",
       "      <td>C-</td>\n",
       "      <td>--------</td>\n",
       "      <td>και</td>\n",
       "      <td>2532</td>\n",
       "    </tr>\n",
       "    <tr>\n",
       "      <th>475024</th>\n",
       "      <td>39</td>\n",
       "      <td>3</td>\n",
       "      <td>8</td>\n",
       "      <td>V-</td>\n",
       "      <td>2FAI-P--</td>\n",
       "      <td>ερειτε</td>\n",
       "      <td>2046</td>\n",
       "    </tr>\n",
       "    <tr>\n",
       "      <th>475025</th>\n",
       "      <td>39</td>\n",
       "      <td>3</td>\n",
       "      <td>8</td>\n",
       "      <td>P-</td>\n",
       "      <td>--------</td>\n",
       "      <td>εν</td>\n",
       "      <td>1722</td>\n",
       "    </tr>\n",
       "    <tr>\n",
       "      <th>475026</th>\n",
       "      <td>39</td>\n",
       "      <td>3</td>\n",
       "      <td>8</td>\n",
       "      <td>RI</td>\n",
       "      <td>----DSN-</td>\n",
       "      <td>τινι</td>\n",
       "      <td>5100</td>\n",
       "    </tr>\n",
       "    <tr>\n",
       "      <th>475027</th>\n",
       "      <td>39</td>\n",
       "      <td>3</td>\n",
       "      <td>8</td>\n",
       "      <td>V-</td>\n",
       "      <td>1XAI-P--</td>\n",
       "      <td>επτερνικαμεν</td>\n",
       "      <td>&lt;NA&gt;</td>\n",
       "    </tr>\n",
       "    <tr>\n",
       "      <th>475028</th>\n",
       "      <td>39</td>\n",
       "      <td>3</td>\n",
       "      <td>8</td>\n",
       "      <td>RP</td>\n",
       "      <td>----AS--</td>\n",
       "      <td>σε</td>\n",
       "      <td>4571</td>\n",
       "    </tr>\n",
       "    <tr>\n",
       "      <th>475029</th>\n",
       "      <td>39</td>\n",
       "      <td>3</td>\n",
       "      <td>8</td>\n",
       "      <td>C-</td>\n",
       "      <td>--------</td>\n",
       "      <td>οτι</td>\n",
       "      <td>3754</td>\n",
       "    </tr>\n",
       "    <tr>\n",
       "      <th>475030</th>\n",
       "      <td>39</td>\n",
       "      <td>3</td>\n",
       "      <td>8</td>\n",
       "      <td>RA</td>\n",
       "      <td>----APN-</td>\n",
       "      <td>τα</td>\n",
       "      <td>3588</td>\n",
       "    </tr>\n",
       "    <tr>\n",
       "      <th>475031</th>\n",
       "      <td>39</td>\n",
       "      <td>3</td>\n",
       "      <td>8</td>\n",
       "      <td>A-</td>\n",
       "      <td>----APN-</td>\n",
       "      <td>επιδεκατα</td>\n",
       "      <td>&lt;NA&gt;</td>\n",
       "    </tr>\n",
       "    <tr>\n",
       "      <th>475032</th>\n",
       "      <td>39</td>\n",
       "      <td>3</td>\n",
       "      <td>8</td>\n",
       "      <td>C-</td>\n",
       "      <td>--------</td>\n",
       "      <td>και</td>\n",
       "      <td>2532</td>\n",
       "    </tr>\n",
       "    <tr>\n",
       "      <th>475033</th>\n",
       "      <td>39</td>\n",
       "      <td>3</td>\n",
       "      <td>8</td>\n",
       "      <td>RA</td>\n",
       "      <td>----NPF-</td>\n",
       "      <td>αι</td>\n",
       "      <td>3588</td>\n",
       "    </tr>\n",
       "    <tr>\n",
       "      <th>475034</th>\n",
       "      <td>39</td>\n",
       "      <td>3</td>\n",
       "      <td>8</td>\n",
       "      <td>N-</td>\n",
       "      <td>----NPF-</td>\n",
       "      <td>απαρχαι</td>\n",
       "      <td>536</td>\n",
       "    </tr>\n",
       "    <tr>\n",
       "      <th>475035</th>\n",
       "      <td>39</td>\n",
       "      <td>3</td>\n",
       "      <td>8</td>\n",
       "      <td>P-</td>\n",
       "      <td>--------</td>\n",
       "      <td>μεθ</td>\n",
       "      <td>3326</td>\n",
       "    </tr>\n",
       "    <tr>\n",
       "      <th>475036</th>\n",
       "      <td>39</td>\n",
       "      <td>3</td>\n",
       "      <td>8</td>\n",
       "      <td>RP</td>\n",
       "      <td>----GP--</td>\n",
       "      <td>υμων</td>\n",
       "      <td>5216</td>\n",
       "    </tr>\n",
       "    <tr>\n",
       "      <th>475037</th>\n",
       "      <td>39</td>\n",
       "      <td>3</td>\n",
       "      <td>8</td>\n",
       "      <td>V-</td>\n",
       "      <td>3PAI-P--</td>\n",
       "      <td>εισιν</td>\n",
       "      <td>1526</td>\n",
       "    </tr>\n",
       "  </tbody>\n",
       "</table>\n",
       "</div>"
      ],
      "text/plain": [
       "        book chapter verse part_of_speech morphology normalized_word  strongs\n",
       "475015    39       3     8             C-   --------              ει     1487\n",
       "475016    39       3     8             V-   3FAI-S--        πτερνιει     <NA>\n",
       "475017    39       3     8             N-   ----NSM-        ανθρωπος      444\n",
       "475018    39       3     8             N-   ----ASM-            θεον     2316\n",
       "475019    39       3     8             C-   --------           διοτι     1360\n",
       "475020    39       3     8             RP   ----NP--           υμεις     5210\n",
       "475021    39       3     8             V-   2PAI-P--      πτερνιζετε     <NA>\n",
       "475022    39       3     8             RP   ----AS--              με     3165\n",
       "475023    39       3     8             C-   --------             και     2532\n",
       "475024    39       3     8             V-   2FAI-P--          ερειτε     2046\n",
       "475025    39       3     8             P-   --------              εν     1722\n",
       "475026    39       3     8             RI   ----DSN-            τινι     5100\n",
       "475027    39       3     8             V-   1XAI-P--    επτερνικαμεν     <NA>\n",
       "475028    39       3     8             RP   ----AS--              σε     4571\n",
       "475029    39       3     8             C-   --------             οτι     3754\n",
       "475030    39       3     8             RA   ----APN-              τα     3588\n",
       "475031    39       3     8             A-   ----APN-       επιδεκατα     <NA>\n",
       "475032    39       3     8             C-   --------             και     2532\n",
       "475033    39       3     8             RA   ----NPF-              αι     3588\n",
       "475034    39       3     8             N-   ----NPF-         απαρχαι      536\n",
       "475035    39       3     8             P-   --------             μεθ     3326\n",
       "475036    39       3     8             RP   ----GP--            υμων     5216\n",
       "475037    39       3     8             V-   3PAI-P--           εισιν     1526"
      ]
     },
     "execution_count": 73,
     "metadata": {},
     "output_type": "execute_result"
    }
   ],
   "source": [
    "df_lxx.loc[(df_lxx['book'] == 39) & (df_lxx['chapter'] == 3) & (df_lxx['verse'] == 8)]"
   ]
  },
  {
   "cell_type": "code",
   "execution_count": 38,
   "metadata": {},
   "outputs": [],
   "source": [
    "sql_vazias_lxx = \"SELECT * FROM df_lxx WHERE strongs is null\""
   ]
  },
  {
   "cell_type": "code",
   "execution_count": 39,
   "metadata": {},
   "outputs": [],
   "source": [
    "lxx_vazias = sqldf(sql_vazias_lxx)"
   ]
  },
  {
   "cell_type": "code",
   "execution_count": 40,
   "metadata": {},
   "outputs": [
    {
     "data": {
      "text/plain": [
       "41725"
      ]
     },
     "execution_count": 40,
     "metadata": {},
     "output_type": "execute_result"
    }
   ],
   "source": [
    "len(lxx_vazias)"
   ]
  },
  {
   "cell_type": "code",
   "execution_count": null,
   "metadata": {},
   "outputs": [],
   "source": [
    "# import cltk.alphabet\n",
    "# import cltk.alphabet.text_normalization\n",
    "# teste_lxx_primeiros_dez = cltk.alphabet.text_normalization.cltk_normalize('greek', )"
   ]
  },
  {
   "cell_type": "code",
   "execution_count": null,
   "metadata": {},
   "outputs": [],
   "source": [
    "# 2.2 df produto sqldf join lxx, strongs e ara_pt"
   ]
  },
  {
   "cell_type": "code",
   "execution_count": 79,
   "metadata": {},
   "outputs": [],
   "source": [
    "sql_lxx_strong_occurs = \"\"\"\n",
    "            SELECT distinct\n",
    "                strongs_number\n",
    "                , lemma\n",
    "                , xlit\n",
    "                , pronounce\n",
    "                , description\n",
    "                , book\n",
    "                , df_lxx.chapter||':'||df_lxx.verse lxx_cp_vs\n",
    "                , pt_df.chapter||':'||pt_df.verse ara_cp_vs\n",
    "                , strongs\n",
    "                , text\n",
    "            FROM\n",
    "                strongs_grk_df\n",
    "                , df_lxx\n",
    "                , pt_df\n",
    "            WHERE\n",
    "                strongs_grk_df.strongs_number = df_lxx.strongs\n",
    "            AND df_lxx.book = pt_df.nr_sq_livro\n",
    "            AND df_lxx.chapter = pt_df.chapter\n",
    "            AND df_lxx.verse = pt_df.verse\n",
    "            AND (df_lxx.strongs = {}\n",
    "            OR df_lxx.strongs = {})\n",
    "                \"\"\".format('3809', '3811')"
   ]
  },
  {
   "cell_type": "code",
   "execution_count": 80,
   "metadata": {},
   "outputs": [],
   "source": [
    "grk_lxx_occs = sqldf(sql_lxx_strong_occurs)"
   ]
  },
  {
   "cell_type": "code",
   "execution_count": 81,
   "metadata": {},
   "outputs": [
    {
     "data": {
      "text/plain": [
       "94"
      ]
     },
     "execution_count": 81,
     "metadata": {},
     "output_type": "execute_result"
    }
   ],
   "source": [
    "len(grk_lxx_occs)"
   ]
  },
  {
   "cell_type": "code",
   "execution_count": 82,
   "metadata": {},
   "outputs": [
    {
     "data": {
      "text/plain": [
       "0"
      ]
     },
     "execution_count": 82,
     "metadata": {},
     "output_type": "execute_result"
    }
   ],
   "source": [
    "# grk_lxx_occs = sqldf(sql_lxx_strong_occurs)\n",
    "grk_lxx_occs.to_csv('/Users/davison/Desktop/vs_rng.csv', index=False)\n",
    "os.system('open ' + '/Users/davison/Desktop/vs_rng.csv')"
   ]
  },
  {
   "cell_type": "code",
   "execution_count": 58,
   "metadata": {},
   "outputs": [
    {
     "name": "stdout",
     "output_type": "stream",
     "text": [
      "   strongs_number        lemma         xlit            pronounce                                                                                                                 description  book lxx_cp_vs ara_cp_vs  strongs                                                                                                                                                                                                                                                                                                                                                               text\n",
      "0             536       ἀπαρχή      aparchḗ          ap-ar-khay'  from a compound of ἀπό and ἄρχομαι; a beginning of sacrifice, i.e. the (Jewish) first-fruit (figuratively):--first-fruits.     2     22:29     22:29      536                                                                                                                                                                                                                                                 Não tardarás em trazer ofertas do melhor das tuas ceifas e das tuas vinhas; o primogênito de teus filhos me darás.\n",
      "1             536       ἀπαρχή      aparchḗ          ap-ar-khay'  from a compound of ἀπό and ἄρχομαι; a beginning of sacrifice, i.e. the (Jewish) first-fruit (figuratively):--first-fruits.     2     23:19     23:19      536                                                                                                                                                                                                                                         As primícias dos frutos da tua terra trarás à Casa do SENHOR, teu Deus. Não cozerás o cabrito no leite da sua própria mãe.\n",
      "2             536       ἀπαρχή      aparchḗ          ap-ar-khay'  from a compound of ἀπό and ἄρχομαι; a beginning of sacrifice, i.e. the (Jewish) first-fruit (figuratively):--first-fruits.     2      25:2      25:2      536                                                                                                                                                                                                                                      Fala aos filhos de Israel que me tragam oferta; de todo homem cujo coração o mover para isso, dele recebereis a minha oferta.\n",
      "3             536       ἀπαρχή      aparchḗ          ap-ar-khay'  from a compound of ἀπό and ἄρχομαι; a beginning of sacrifice, i.e. the (Jewish) first-fruit (figuratively):--first-fruits.     2      25:3      25:3      536                                                                                                                                                                                                                                                                                                      Esta é a oferta que dele recebereis: ouro, e prata, e bronze,\n",
      "4             536       ἀπαρχή      aparchḗ          ap-ar-khay'  from a compound of ἀπό and ἄρχομαι; a beginning of sacrifice, i.e. the (Jewish) first-fruit (figuratively):--first-fruits.     2      35:5      35:5      536                                                                                                                                                                                                                   Tomai, do que tendes, uma oferta para o SENHOR; cada um, de coração disposto, voluntariamente a trará por oferta ao SENHOR: ouro, prata, bronze,\n",
      "5             536       ἀπαρχή      aparchḗ          ap-ar-khay'  from a compound of ἀπό and ἄρχομαι; a beginning of sacrifice, i.e. the (Jewish) first-fruit (figuratively):--first-fruits.     2      36:6      36:6      536                                                                                                                                                                          Então, ordenou Moisés — e a ordem foi proclamada no arraial, dizendo: Nenhum homem ou mulher faça mais obra alguma para a oferta do santuário. Assim, o povo foi proibido de trazer mais.\n",
      "6             536       ἀπαρχή      aparchḗ          ap-ar-khay'  from a compound of ἀπό and ἄρχομαι; a beginning of sacrifice, i.e. the (Jewish) first-fruit (figuratively):--first-fruits.     2     38:24     38:24      536                                                                                                                                                                                     Todo o ouro empregado na obra, em toda a obra do santuário, a saber, o ouro da oferta, foram vinte e nove talentos e setecentos e trinta siclos, segundo o siclo do santuário.\n",
      "7             536       ἀπαρχή      aparchḗ          ap-ar-khay'  from a compound of ἀπό and ἄρχομαι; a beginning of sacrifice, i.e. the (Jewish) first-fruit (figuratively):--first-fruits.     3      2:12      2:12      536                                                                                                                                                                                                                                                       Deles, trareis ao SENHOR por oferta das primícias; todavia, não se porão sobre o altar como aroma agradável.\n",
      "8             536       ἀπαρχή      aparchḗ          ap-ar-khay'  from a compound of ἀπό and ἄρχομαι; a beginning of sacrifice, i.e. the (Jewish) first-fruit (figuratively):--first-fruits.     3     22:12     22:12      536                                                                                                                                                                                                                                                                Quando a filha do sacerdote se casar com estrangeiro, ela não comerá da oferta das coisas sagradas.\n",
      "9             536       ἀπαρχή      aparchḗ          ap-ar-khay'  from a compound of ἀπό and ἄρχομαι; a beginning of sacrifice, i.e. the (Jewish) first-fruit (figuratively):--first-fruits.     3     23:10     23:10      536                                                                                                                                                                                          Fala aos filhos de Israel e dize-lhes: Quando entrardes na terra, que vos dou, e segardes a sua messe, então, trareis um molho das primícias da vossa messe ao sacerdote;\n",
      "10            536       ἀπαρχή      aparchḗ          ap-ar-khay'  from a compound of ἀπό and ἄρχομαι; a beginning of sacrifice, i.e. the (Jewish) first-fruit (figuratively):--first-fruits.     4     15:20     15:20      536                                                                                                                                                                                                                                               Das primícias da vossa farinha grossa apresentareis um bolo como oferta; como oferta da eira, assim o apresentareis.\n",
      "11            536       ἀπαρχή      aparchḗ          ap-ar-khay'  from a compound of ἀπό and ἄρχομαι; a beginning of sacrifice, i.e. the (Jewish) first-fruit (figuratively):--first-fruits.     4     15:21     15:21      536                                                                                                                                                                                                                                                                          Das primícias da vossa farinha grossa apresentareis ao SENHOR oferta nas vossas gerações.\n",
      "12            536       ἀπαρχή      aparchḗ          ap-ar-khay'  from a compound of ἀπό and ἄρχομαι; a beginning of sacrifice, i.e. the (Jewish) first-fruit (figuratively):--first-fruits.     4     18:11     18:11      536                                                                                                                                       Também isto será teu: a oferta das suas dádivas com todas as ofertas movidas dos filhos de Israel; a ti, a teus filhos e a tuas filhas contigo, dei-as por direito perpétuo; todo o que estiver limpo na tua casa as comerá.\n",
      "13            536       ἀπαρχή      aparchḗ          ap-ar-khay'  from a compound of ἀπό and ἄρχομαι; a beginning of sacrifice, i.e. the (Jewish) first-fruit (figuratively):--first-fruits.     4     18:12     18:12      536                                                                                                                                                                                                                                                               Todo o melhor do azeite, do mosto e dos cereais, as suas primícias que derem ao SENHOR, dei-as a ti.\n",
      "14            536       ἀπαρχή      aparchḗ          ap-ar-khay'  from a compound of ἀπό and ἄρχομαι; a beginning of sacrifice, i.e. the (Jewish) first-fruit (figuratively):--first-fruits.     4     18:29     18:29      536                                                                                                                                                                                                                                                        De todas as vossas dádivas apresentareis toda oferta do SENHOR: do melhor delas, a parte que lhe é sagrada.\n",
      "15            536       ἀπαρχή      aparchḗ          ap-ar-khay'  from a compound of ἀπό and ἄρχομαι; a beginning of sacrifice, i.e. the (Jewish) first-fruit (figuratively):--first-fruits.     4     18:30     18:30      536                                                                                                                                                                                                 Portanto, lhes dirás: Quando oferecerdes o melhor que há nos dízimos, o restante destes, como se fosse produto da eira e produto do lagar, se contará aos levitas.\n",
      "16            536       ἀπαρχή      aparchḗ          ap-ar-khay'  from a compound of ἀπό and ἄρχομαι; a beginning of sacrifice, i.e. the (Jewish) first-fruit (figuratively):--first-fruits.     4     18:32     18:32      536                                                                                                                                                                                                      Pelo que não levareis sobre vós o pecado, quando deles oferecerdes o melhor; e não profanareis as coisas sagradas dos filhos de Israel, para que não morrais.\n",
      "17            536       ἀπαρχή      aparchḗ          ap-ar-khay'  from a compound of ἀπό and ἄρχομαι; a beginning of sacrifice, i.e. the (Jewish) first-fruit (figuratively):--first-fruits.     4      18:8      18:8      536                                                                                                                                                           Disse mais o SENHOR a Arão: Eis que eu te dei o que foi separado das minhas ofertas, com todas as coisas consagradas dos filhos de Israel; dei-as por direito perpétuo como porção a ti e a teus filhos.\n",
      "18            536       ἀπαρχή      aparchḗ          ap-ar-khay'  from a compound of ἀπό and ἄρχομαι; a beginning of sacrifice, i.e. the (Jewish) first-fruit (figuratively):--first-fruits.     4     31:29     31:29      536                                                                                                                                                                                                                                                                       Da metade que lhes toca o tomareis e o dareis ao sacerdote Eleazar, para a oferta do SENHOR.\n",
      "19            536       ἀπαρχή      aparchḗ          ap-ar-khay'  from a compound of ἀπό and ἄρχομαι; a beginning of sacrifice, i.e. the (Jewish) first-fruit (figuratively):--first-fruits.     4       5:9       5:9      536                                                                                                                                                                                                                                                                 Toda oferta de todas as coisas santas dos filhos de Israel, que trouxerem ao sacerdote, será deste\n",
      "20            536       ἀπαρχή      aparchḗ          ap-ar-khay'  from a compound of ἀπό and ἄρχομαι; a beginning of sacrifice, i.e. the (Jewish) first-fruit (figuratively):--first-fruits.     5     12:11     12:11      536                                                                 Então, haverá um lugar que escolherá o SENHOR, vosso Deus, para ali fazer habitar o seu nome; a esse lugar fareis chegar tudo o que vos ordeno: os vossos holocaustos, e os vossos sacrifícios, e os vossos dízimos, e a oferta das vossas mãos, e toda escolha dos vossos votos feitos ao SENHOR,\n",
      "21            536       ἀπαρχή      aparchḗ          ap-ar-khay'  from a compound of ἀπό and ἄρχομαι; a beginning of sacrifice, i.e. the (Jewish) first-fruit (figuratively):--first-fruits.     5     12:17     12:17      536                                                                            Nas tuas cidades, não poderás comer o dízimo do teu cereal, nem do teu vinho, nem do teu azeite, nem os primogênitos das tuas vacas, nem das tuas ovelhas, nem nenhuma das tuas ofertas votivas, que houveres prometido, nem as tuas ofertas voluntárias, nem as ofertas das tuas mãos;\n",
      "22            536       ἀπαρχή      aparchḗ          ap-ar-khay'  from a compound of ἀπό and ἄρχομαι; a beginning of sacrifice, i.e. the (Jewish) first-fruit (figuratively):--first-fruits.     5      12:6      12:6      536                                                                                                                               A esse lugar fareis chegar os vossos holocaustos, e os vossos sacrifícios, e os vossos dízimos, e a oferta das vossas mãos, e as ofertas votivas, e as ofertas voluntárias, e os primogênitos das vossas vacas e das vossas ovelhas.\n",
      "23            536       ἀπαρχή      aparchḗ          ap-ar-khay'  from a compound of ἀπό and ἄρχομαι; a beginning of sacrifice, i.e. the (Jewish) first-fruit (figuratively):--first-fruits.     5      18:4      18:4      536                                                                                                                                                                                                                                                    Dar-lhe-ás as primícias do teu cereal, do teu vinho e do teu azeite e as primícias da tosquia das tuas ovelhas.\n",
      "24            536       ἀπαρχή      aparchḗ          ap-ar-khay'  from a compound of ἀπό and ἄρχομαι; a beginning of sacrifice, i.e. the (Jewish) first-fruit (figuratively):--first-fruits.     5     26:10     26:10      536                                                                                                                                                                                                        Eis que, agora, trago as primícias dos frutos da terra que tu, ó SENHOR, me deste. Então, as porás perante o SENHOR, teu Deus, e te prostrarás perante ele.\n",
      "25            536       ἀπαρχή      aparchḗ          ap-ar-khay'  from a compound of ἀπό and ἄρχομαι; a beginning of sacrifice, i.e. the (Jewish) first-fruit (figuratively):--first-fruits.     5      26:2      26:2      536                                                                                                                                                   tomarás das primícias de todos os frutos do solo que recolheres da terra que te dá o SENHOR, teu Deus, e as porás num cesto, e irás ao lugar que o SENHOR, teu Deus, escolher para ali fazer habitar o seu nome.\n",
      "26            536       ἀπαρχή      aparchḗ          ap-ar-khay'  from a compound of ἀπό and ἄρχομαι; a beginning of sacrifice, i.e. the (Jewish) first-fruit (figuratively):--first-fruits.     5     33:21     33:21      536                                                                                                                                                                                         E se proveu da melhor parte, porquanto ali estava escondida a porção do chefe; ele marchou adiante do povo, executou a justiça do SENHOR e os seus juízos para com Israel.\n",
      "27            536       ἀπαρχή      aparchḗ          ap-ar-khay'  from a compound of ἀπό and ἄρχομαι; a beginning of sacrifice, i.e. the (Jewish) first-fruit (figuratively):--first-fruits.     9      10:4      10:4      536                                                                                                                                                                                                                                                                                                   Eles te saudarão e te darão dois pães, que receberás da sua mão.\n",
      "28            536       ἀπαρχή      aparchḗ          ap-ar-khay'  from a compound of ἀπό and ἄρχομαι; a beginning of sacrifice, i.e. the (Jewish) first-fruit (figuratively):--first-fruits.     9      2:29      2:29      536                                                                                              Por que pisais aos pés os meus sacrifícios e as minhas ofertas de manjares, que ordenei se me fizessem na minha morada? E, tu, por que honras a teus filhos mais do que a mim, para tu e eles vos engordardes das melhores de todas as ofertas do meu povo de Israel?\n",
      "29            536       ἀπαρχή      aparchḗ          ap-ar-khay'  from a compound of ἀπό and ἄρχομαι; a beginning of sacrifice, i.e. the (Jewish) first-fruit (figuratively):--first-fruits.    10      1:21      1:21      536                                                                                                                                                           Montes de Gilboa, não caia sobre vós nem orvalho, nem chuva, nem haja aí campos que produzam ofertas, pois neles foi profanado o escudo dos valentes, o escudo de Saul, que jamais será ungido com óleo.\n",
      "30            536       ἀπαρχή      aparchḗ          ap-ar-khay'  from a compound of ἀπό and ἄρχομαι; a beginning of sacrifice, i.e. the (Jewish) first-fruit (figuratively):--first-fruits.    14     31:10     31:10      536                                                                            Então, o sumo sacerdote Azarias, da casa de Zadoque, lhe respondeu: Desde que se começou a trazer à Casa do SENHOR estas ofertas, temos comido e nos temos fartado delas, e ainda há sobra em abundância; porque o SENHOR abençoou ao seu povo, e esta grande quantidade é o que sobra.\n",
      "31            536       ἀπαρχή      aparchḗ          ap-ar-khay'  from a compound of ἀπό and ἄρχομαι; a beginning of sacrifice, i.e. the (Jewish) first-fruit (figuratively):--first-fruits.    14     31:12     31:12      536                                                                                                                                                                                         Uma vez preparados, recolheram neles fielmente as ofertas, os dízimos e as coisas consagradas; disto era intendente Conanias, o levita, e Simei, seu irmão, era o segundo.\n",
      "32            536       ἀπαρχή      aparchḗ          ap-ar-khay'  from a compound of ἀπό and ἄρχομαι; a beginning of sacrifice, i.e. the (Jewish) first-fruit (figuratively):--first-fruits.    14     31:14     31:14      536                                                                                                                                                                            O levita Coré, filho de Imna e guarda da porta oriental, estava encarregado das ofertas voluntárias que se faziam a Deus, para distribuir as ofertas do SENHOR e as coisas santíssimas.\n",
      "33            536       ἀπαρχή      aparchḗ          ap-ar-khay'  from a compound of ἀπό and ἄρχομαι; a beginning of sacrifice, i.e. the (Jewish) first-fruit (figuratively):--first-fruits.    14      31:5      31:5      536                                                                                                                                                    Logo que se divulgou esta ordem, os filhos de Israel trouxeram em abundância as primícias do cereal, do vinho, do azeite, do mel e de todo produto do campo; também os dízimos de tudo trouxeram em abundância.\n",
      "34            536       ἀπαρχή      aparchḗ          ap-ar-khay'  from a compound of ἀπό and ἄρχομαι; a beginning of sacrifice, i.e. the (Jewish) first-fruit (figuratively):--first-fruits.    15      8:25      8:25      536                                                                                                                                                                Pesei-lhes a prata, e o ouro, e os utensílios que eram a contribuição para a casa de nosso Deus, a qual ofereceram o rei, os seus conselheiros, os seus príncipes e todo o Israel que se achou ali.\n",
      "35            536       ἀπαρχή      aparchḗ          ap-ar-khay'  from a compound of ἀπό and ἄρχομαι; a beginning of sacrifice, i.e. the (Jewish) first-fruit (figuratively):--first-fruits.    16     10:37     10:37      536                                                                                          As primícias da nossa massa, as nossas ofertas, o fruto de toda árvore, o vinho e o azeite traríamos aos sacerdotes, às câmaras da casa do nosso Deus; os dízimos da nossa terra, aos levitas, pois a eles cumpre receber os dízimos em todas as cidades onde há lavoura.\n",
      "36            536       ἀπαρχή      aparchḗ          ap-ar-khay'  from a compound of ἀπό and ἄρχομαι; a beginning of sacrifice, i.e. the (Jewish) first-fruit (figuratively):--first-fruits.    16     10:39     10:39      536                                                                     Porque àquelas câmaras os filhos de Israel e os filhos de Levi devem trazer ofertas do cereal, do vinho e do azeite; porquanto se acham ali os vasos do santuário, como também os sacerdotes que ministram, e os porteiros, e os cantores; e, assim, não desampararíamos a casa do nosso Deus.\n",
      "37            536       ἀπαρχή      aparchḗ          ap-ar-khay'  from a compound of ἀπό and ἄρχομαι; a beginning of sacrifice, i.e. the (Jewish) first-fruit (figuratively):--first-fruits.    16     12:44     12:44      536                                                                 Ainda no mesmo dia, se nomearam homens para as câmaras dos tesouros, das ofertas, das primícias e dos dízimos, para ajuntarem nelas, das cidades, as porções designadas pela Lei para os sacerdotes e para os levitas; pois Judá estava alegre, porque os sacerdotes e os levitas ministravam ali;\n",
      "38            536       ἀπαρχή      aparchḗ          ap-ar-khay'  from a compound of ἀπό and ἄρχομαι; a beginning of sacrifice, i.e. the (Jewish) first-fruit (figuratively):--first-fruits.    16      13:5      13:5      536                                                                                            e fizera para este uma câmara grande, onde dantes se depositavam as ofertas de manjares, o incenso, os utensílios e os dízimos dos cereais, do vinho e do azeite, que se ordenaram para os levitas, cantores e porteiros, como também contribuições para os sacerdotes.\n",
      "39            536       ἀπαρχή      aparchḗ          ap-ar-khay'  from a compound of ἀπό and ἄρχομαι; a beginning of sacrifice, i.e. the (Jewish) first-fruit (figuratively):--first-fruits.    19     78:51     78:51      536                                                                                                                                                                                                                                                                                Feriu todos os primogênitos no Egito, as primícias da virilidade nas tendas de Cam.\n",
      "40            536       ἀπαρχή      aparchḗ          ap-ar-khay'  from a compound of ἀπό and ἄρχομαι; a beginning of sacrifice, i.e. the (Jewish) first-fruit (figuratively):--first-fruits.    26     20:31     20:31      536                                                                                         Ao oferecerdes os vossos dons sacrificiais, como quando queimais os vossos filhos, vós vos contaminais com todos os vossos ídolos, até ao dia de hoje. Porventura, me consultaríeis, ó casa de Israel? Tão certo como eu vivo, diz o SENHOR Deus, vós não me consultareis.\n",
      "41            536       ἀπαρχή      aparchḗ          ap-ar-khay'  from a compound of ἀπό and ἄρχομαι; a beginning of sacrifice, i.e. the (Jewish) first-fruit (figuratively):--first-fruits.    26     20:40     20:40      536                                                                                                   Porque no meu santo monte, no monte alto de Israel, diz o SENHOR Deus, ali toda a casa de Israel me servirá, toda, naquela terra; ali me agradarei deles, ali requererei as vossas ofertas e as primícias das vossas dádivas, com todas as vossas coisas santas.\n",
      "42            536       ἀπαρχή      aparchḗ          ap-ar-khay'  from a compound of ἀπό and ἄρχομαι; a beginning of sacrifice, i.e. the (Jewish) first-fruit (figuratively):--first-fruits.    26     44:30     44:30      536                                                                                                                                                           O melhor de todos os primeiros frutos de toda espécie e toda oferta serão dos sacerdotes; também as primeiras das vossas massas dareis ao sacerdote, para que faça repousar a bênção sobre a vossa casa.\n",
      "43            536       ἀπαρχή      aparchḗ          ap-ar-khay'  from a compound of ἀπό and ἄρχομαι; a beginning of sacrifice, i.e. the (Jewish) first-fruit (figuratively):--first-fruits.    26      45:1      45:1      536                                                                                                            Quando, pois, repartirdes a terra por sortes em herança, fareis uma oferta ao SENHOR, uma porção santa da terra; o comprimento desta porção será de vinte e cinco mil côvados, e a largura, de dez mil; ela será santa em toda a sua extensão ao redor.\n",
      "44            536       ἀπαρχή      aparchḗ          ap-ar-khay'  from a compound of ἀπό and ἄρχομαι; a beginning of sacrifice, i.e. the (Jewish) first-fruit (figuratively):--first-fruits.    26     45:13     45:13      536                                                                                                                                                                                                                  Esta será a oferta que haveis de fazer: de trigo, a sexta parte de um efa de cada ômer, e também de cevada, a sexta parte de um efa de cada ômer.\n",
      "45            536       ἀπαρχή      aparchḗ          ap-ar-khay'  from a compound of ἀπό and ἄρχομαι; a beginning of sacrifice, i.e. the (Jewish) first-fruit (figuratively):--first-fruits.    26     45:16     45:16      536                                                                                                                                                                                                                                                                                   Todo o povo da terra fará contribuição, para esta oferta, ao príncipe em Israel.\n",
      "46            536       ἀπαρχή      aparchḗ          ap-ar-khay'  from a compound of ἀπό and ἄρχομαι; a beginning of sacrifice, i.e. the (Jewish) first-fruit (figuratively):--first-fruits.    26      45:6      45:6      536                                                                                                                                                                                                Para a possessão da cidade, de largura dareis cinco mil côvados e vinte e cinco mil de comprimento defronte da porção santa, o que será para toda a casa de Israel.\n",
      "47            536       ἀπαρχή      aparchḗ          ap-ar-khay'  from a compound of ἀπό and ἄρχομαι; a beginning of sacrifice, i.e. the (Jewish) first-fruit (figuratively):--first-fruits.    26      45:7      45:7      536                                                                        O príncipe, porém, terá a sua parte deste e do outro lado da santa porção e da possessão da cidade, diante da santa porção e diante da possessão da cidade, ao lado ocidental e oriental; e o comprimento corresponderá a uma das porções, desde o limite ocidental até ao limite oriental.\n",
      "48            536       ἀπαρχή      aparchḗ          ap-ar-khay'  from a compound of ἀπό and ἄρχομαι; a beginning of sacrifice, i.e. the (Jewish) first-fruit (figuratively):--first-fruits.    26     48:10     48:10      536                                                                                                                                 Esta região santa dos sacerdotes terá, ao norte, vinte e cinco mil côvados, ao ocidente, dez mil de largura, ao oriente, dez mil de largura e ao sul, vinte e cinco mil de comprimento; o santuário do SENHOR estará no meio dela.\n",
      "49            536       ἀπαρχή      aparchḗ          ap-ar-khay'  from a compound of ἀπό and ἄρχομαι; a beginning of sacrifice, i.e. the (Jewish) first-fruit (figuratively):--first-fruits.    26     48:12     48:12      536                                                                                                                                                                                                                                                         Será região especial dentro da região sagrada, lugar santíssimo, fazendo limites com a porção dos levitas.\n",
      "50            536       ἀπαρχή      aparchḗ          ap-ar-khay'  from a compound of ἀπό and ἄρχομαι; a beginning of sacrifice, i.e. the (Jewish) first-fruit (figuratively):--first-fruits.    26     48:18     48:18      536                                                                                                                       Quanto ao que ficou do resto do comprimento, paralelo à região sagrada, será de dez mil para o oriente e de dez mil para o ocidente e corresponderá à região sagrada; e o seu produto será para o sustento daqueles que trabalham na cidade.\n",
      "51            536       ἀπαρχή      aparchḗ          ap-ar-khay'  from a compound of ἀπό and ἄρχομαι; a beginning of sacrifice, i.e. the (Jewish) first-fruit (figuratively):--first-fruits.    26     48:20     48:20      536                                                                                                                                                                                                                                        A região toda será de vinte e cinco mil côvados em quadrado, isto é, a região sagrada juntamente com a possessão da cidade.\n",
      "52            536       ἀπαρχή      aparchḗ          ap-ar-khay'  from a compound of ἀπό and ἄρχομαι; a beginning of sacrifice, i.e. the (Jewish) first-fruit (figuratively):--first-fruits.    26     48:21     48:21      536  O que restar será para o príncipe, deste e do outro lado da região sagrada e da possessão da cidade. Por isso, aquilo que se estende dos vinte e cinco mil côvados em direção do oriente e também dos vinte e cinco mil côvados em direção do ocidente, paralelamente com as porções, será do príncipe; a região sagrada e o santuário do templo estarão no meio.\n",
      "53            536       ἀπαρχή      aparchḗ          ap-ar-khay'  from a compound of ἀπό and ἄρχομαι; a beginning of sacrifice, i.e. the (Jewish) first-fruit (figuratively):--first-fruits.    26      48:8      48:8      536                                                                                          Limitando-se com Judá, desde o lado oriental até ao ocidental, será a região sagrada que haveis de separar, de vinte e cinco mil côvados de largura e de comprimento, o mesmo que o das porções, desde o lado oriental até ao ocidental; o santuário estará no meio dela.\n",
      "54            536       ἀπαρχή      aparchḗ          ap-ar-khay'  from a compound of ἀπό and ἄρχομαι; a beginning of sacrifice, i.e. the (Jewish) first-fruit (figuratively):--first-fruits.    26      48:9      48:9      536                                                                                                                                                                                                                                                 A região que haveis de separar ao SENHOR será do comprimento de vinte e cinco mil côvados e da largura de dez mil.\n",
      "55            536       ἀπαρχή      aparchḗ          ap-ar-khay'  from a compound of ἀπό and ἄρχομαι; a beginning of sacrifice, i.e. the (Jewish) first-fruit (figuratively):--first-fruits.    39       3:8       3:8      536                                                                                                                                                                                                                                                           Roubará o homem a Deus? Todavia, vós me roubais e dizeis: Em que te roubamos? Nos dízimos e nas ofertas.\n",
      "56            586   ἀποδεκατόω   apodekatóō     ap-od-ek-at-o'-o                                           from ἀπό and δεκατόω; to tithe (as debtor or creditor):--(give, pay, take) tithe.     1     28:22     28:22      586                                                                                                                                                                                                                                            e a pedra, que erigi por coluna, será a Casa de Deus; e, de tudo quanto me concederes, certamente eu te darei o dízimo.\n",
      "57            586   ἀποδεκατόω   apodekatóō     ap-od-ek-at-o'-o                                           from ἀπό and δεκατόω; to tithe (as debtor or creditor):--(give, pay, take) tithe.     5     14:22     14:22      586                                                                                                                                                                                                                                                             Certamente, darás os dízimos de todo o fruto das tuas sementes, que ano após ano se recolher do campo.\n",
      "58            586   ἀποδεκατόω   apodekatóō     ap-od-ek-at-o'-o                                           from ἀπό and δεκατόω; to tithe (as debtor or creditor):--(give, pay, take) tithe.     5     26:12     26:12      586                                                                                                                                                  Quando acabares de separar todos os dízimos da tua messe no ano terceiro, que é o dos dízimos, então, os darás ao levita, ao estrangeiro, ao órfão e à viúva, para que comam dentro das tuas cidades e se fartem.\n",
      "59            586   ἀποδεκατόω   apodekatóō     ap-od-ek-at-o'-o                                           from ἀπό and δεκατόω; to tithe (as debtor or creditor):--(give, pay, take) tithe.     9      8:15      8:15      586                                                                                                                                                                                                                                                               As vossas sementeiras e as vossas vinhas dizimará, para dar aos seus oficiais e aos seus servidores.\n",
      "60            586   ἀποδεκατόω   apodekatóō     ap-od-ek-at-o'-o                                           from ἀπό and δεκατόω; to tithe (as debtor or creditor):--(give, pay, take) tithe.     9      8:16      8:16      586                                                                                                                                                                                                                              Também tomará os vossos servos, e as vossas servas, e os vossos melhores jovens, e os vossos jumentos e os empregará no seu trabalho.\n",
      "61            586   ἀποδεκατόω   apodekatóō     ap-od-ek-at-o'-o                                           from ἀπό and δεκατόω; to tithe (as debtor or creditor):--(give, pay, take) tithe.     9      8:17      8:17      586                                                                                                                                                                                                                                                                                                             Dizimará o vosso rebanho, e vós lhe sereis por servos.\n",
      "62           1181       δεκάτη       dekátē           dek-at'-ay                            feminine of δέκατος; a tenth, i.e. as a percentage or (technically) tithe:--tenth (part), tithe.     1     14:20     14:20     1181                                                                                                                                                                                                                                                 e bendito seja o Deus Altíssimo, que entregou os teus adversários nas tuas mãos. E de tudo lhe deu Abrão o dízimo.\n",
      "63           1181       δεκάτη       dekátē           dek-at'-ay                            feminine of δέκατος; a tenth, i.e. as a percentage or (technically) tithe:--tenth (part), tithe.     1     28:22     28:22     1181                                                                                                                                                                                                                                            e a pedra, que erigi por coluna, será a Casa de Deus; e, de tudo quanto me concederes, certamente eu te darei o dízimo.\n",
      "64           1181       δεκάτη       dekátē           dek-at'-ay                            feminine of δέκατος; a tenth, i.e. as a percentage or (technically) tithe:--tenth (part), tithe.     3     27:31     27:31     1181                                                                                                                                                                                                                                                              Se alguém, das suas dízimas, quiser resgatar alguma coisa, acrescentará a sua quinta parte sobre ela.\n",
      "65           1181       δεκάτη       dekátē           dek-at'-ay                            feminine of δέκατος; a tenth, i.e. as a percentage or (technically) tithe:--tenth (part), tithe.     5     14:22     14:22     1181                                                                                                                                                                                                                                                             Certamente, darás os dízimos de todo o fruto das tuas sementes, que ano após ano se recolher do campo.\n",
      "66           1181       δεκάτη       dekátē           dek-at'-ay                            feminine of δέκατος; a tenth, i.e. as a percentage or (technically) tithe:--tenth (part), tithe.     9      1:21      1:21     1181                                                                                                                                                                                                                                                     Subiu Elcana, seu marido, com toda a sua casa, a oferecer ao SENHOR o sacrifício anual e a cumprir o seu voto.\n",
      "67           1181       δεκάτη       dekátē           dek-at'-ay                            feminine of δέκατος; a tenth, i.e. as a percentage or (technically) tithe:--tenth (part), tithe.    16     10:37     10:37     1181                                                                                          As primícias da nossa massa, as nossas ofertas, o fruto de toda árvore, o vinho e o azeite traríamos aos sacerdotes, às câmaras da casa do nosso Deus; os dízimos da nossa terra, aos levitas, pois a eles cumpre receber os dízimos em todas as cidades onde há lavoura.\n",
      "68           1181       δεκάτη       dekátē           dek-at'-ay                            feminine of δέκατος; a tenth, i.e. as a percentage or (technically) tithe:--tenth (part), tithe.    16     10:38     10:38     1181                                                                                                                                                                            O sacerdote, filho de Arão, estaria com os levitas quando estes recebessem os dízimos, e os levitas trariam os dízimos dos dízimos à casa do nosso Deus, às câmaras da casa do tesouro.\n",
      "69           1181       δεκάτη       dekátē           dek-at'-ay                            feminine of δέκατος; a tenth, i.e. as a percentage or (technically) tithe:--tenth (part), tithe.    16     13:12     13:12     1181                                                                                                                                                                                                                                                                              Então, todo o Judá trouxe os dízimos dos cereais, do vinho e do azeite aos depósitos.\n",
      "70           1181       δεκάτη       dekátē           dek-at'-ay                            feminine of δέκατος; a tenth, i.e. as a percentage or (technically) tithe:--tenth (part), tithe.    16      13:5      13:5     1181                                                                                            e fizera para este uma câmara grande, onde dantes se depositavam as ofertas de manjares, o incenso, os utensílios e os dízimos dos cereais, do vinho e do azeite, que se ordenaram para os levitas, cantores e porteiros, como também contribuições para os sacerdotes.\n",
      "71           1183      δεκατόω      dekatóō          dek-at-o'-o                                                 from δεκάτη; to tithe, i.e. to give or take a tenth:--pay (receive) tithes.    16     10:37     10:37     1183                                                                                          As primícias da nossa massa, as nossas ofertas, o fruto de toda árvore, o vinho e o azeite traríamos aos sacerdotes, às câmaras da casa do nosso Deus; os dízimos da nossa terra, aos levitas, pois a eles cumpre receber os dízimos em todas as cidades onde há lavoura.\n",
      "72           1925  ἐπιδείκνυμι  epideíknymi  ep-ee-dike'-noo-mee                                                           from ἐπί and δεικνύω; to exhibit (physically or mentally):--shew.    20     12:17     12:17     1925                                                                                                                                                                                                                                                                                         O que diz a verdade manifesta a justiça, mas a testemunha falsa, a fraude.\n",
      "73           1925  ἐπιδείκνυμι  epideíknymi  ep-ee-dike'-noo-mee                                                           from ἐπί and δεικνύω; to exhibit (physically or mentally):--shew.    23     37:26     37:26     1925                                                                                                                                                     Acaso, não ouviste que já há muito dispus eu estas coisas, já desde os dias remotos o tinha planejado? Agora, porém, as faço executar e eu quis que tu reduzisses a montões de ruínas as cidades fortificadas.\n"
     ]
    }
   ],
   "source": [
    "print(grk_lxx_occs.to_string()) "
   ]
  },
  {
   "cell_type": "code",
   "execution_count": null,
   "metadata": {},
   "outputs": [],
   "source": [
    "# NT"
   ]
  },
  {
   "cell_type": "code",
   "execution_count": 26,
   "metadata": {},
   "outputs": [],
   "source": [
    "sbl_bd = '/Users/davison/Software/almeida-semantica/db/sbl.db'"
   ]
  },
  {
   "cell_type": "code",
   "execution_count": 27,
   "metadata": {},
   "outputs": [],
   "source": [
    "sql_sbl = \"SELECT nr_sq_livro, chapter, verse, content FROM bible /*WHERE content like '%{}%'*/\""
   ]
  },
  {
   "cell_type": "code",
   "execution_count": 28,
   "metadata": {},
   "outputs": [],
   "source": [
    "gnt_df = pd.read_sql_query(sql_sbl, ConectorBD(sbl_bd).con)"
   ]
  },
  {
   "cell_type": "code",
   "execution_count": 29,
   "metadata": {},
   "outputs": [
    {
     "name": "stdout",
     "output_type": "stream",
     "text": [
      "nr_sq_livro                                                   40\n",
      "chapter                                                        1\n",
      "verse                                                          1\n",
      "content        <verse num=\"1\">\\n<w pos=\"N-\" morph=\"----NSF-\" ...\n"
     ]
    }
   ],
   "source": [
    "print(gnt_df.loc[0].to_string())"
   ]
  },
  {
   "cell_type": "code",
   "execution_count": 30,
   "metadata": {},
   "outputs": [],
   "source": [
    "sql_strongs_gnt = \"\"\"\n",
    "            SELECT \n",
    "                gnt_df.nr_sq_livro\n",
    "                , gnt_df.chapter\n",
    "                , gnt_df.verse\n",
    "                --, content \n",
    "                , pt_df.text\n",
    "            FROM \n",
    "                gnt_df\n",
    "                , pt_df\n",
    "            WHERE \n",
    "                gnt_df.nr_sq_livro = pt_df.nr_sq_livro\n",
    "            AND gnt_df.chapter = pt_df.chapter\n",
    "            AND gnt_df.verse = pt_df.verse\n",
    "            AND content like '%{}%'\n",
    "            \"\"\".format('0386')"
   ]
  },
  {
   "cell_type": "code",
   "execution_count": 31,
   "metadata": {},
   "outputs": [],
   "source": [
    "gnt_by_strongs = sqldf(sql_strongs_gnt)"
   ]
  },
  {
   "cell_type": "code",
   "execution_count": 32,
   "metadata": {},
   "outputs": [
    {
     "name": "stdout",
     "output_type": "stream",
     "text": [
      "     nr_sq_livro  chapter  verse                                                                                                                                                                                                                                                  text\n",
      "0             40        4     12                                                                                                                                                                                Ouvindo, porém, Jesus que João fora preso, retirou-se para a Galileia;\n",
      "1             40        4     13                                                                                                                                                    e, deixando Nazaré, foi morar em Cafarnaum, situada à beira-mar, nos confins de Zebulom e Naftali;\n",
      "2             40        5     25                                                          Entra em acordo sem demora com o teu adversário, enquanto estás com ele a caminho, para que o adversário não te entregue ao juiz, o juiz, ao oficial de justiça, e sejas recolhido à prisão.\n",
      "3             40       10      4                                                                                                                                                                                            Simão, o Zelote, e Judas Iscariotes, que foi quem o traiu.\n",
      "4             40       10     17                                                                                                                                                   E acautelai-vos dos homens; porque vos entregarão aos tribunais e vos açoitarão nas suas sinagogas;\n",
      "5             40       10     19                                                                                                               E, quando vos entregarem, não cuideis em como ou o que haveis de falar, porque, naquela hora, vos será concedido o que haveis de dizer,\n",
      "6             40       10     21                                                                                                                       Um irmão entregará à morte outro irmão, e o pai, ao filho; filhos haverá que se levantarão contra os progenitores e os matarão.\n",
      "7             40       11     27                                                                                              Tudo me foi entregue por meu Pai. Ninguém conhece o Filho, senão o Pai; e ninguém conhece o Pai, senão o Filho e aquele a quem o Filho o quiser revelar.\n",
      "8             40       15      2                                                                                                                                                  Por que transgridem os teus discípulos a tradição dos anciãos? Pois não lavam as mãos, quando comem.\n",
      "9             40       15      3                                                                                                                                         Ele, porém, lhes respondeu: Por que transgredis vós também o mandamento de Deus, por causa da vossa tradição?\n",
      "10            40       15      6                                                                                                                                    esse jamais honrará a seu pai ou a sua mãe. E, assim, invalidastes a palavra de Deus, por causa da vossa tradição.\n",
      "11            40       17     22                                                                                                                                             Reunidos eles na Galileia, disse-lhes Jesus: O Filho do Homem está para ser entregue nas mãos dos homens;\n",
      "12            40       18     34                                                                                                                                                            E, indignando-se, o seu senhor o entregou aos verdugos, até que lhe pagasse toda a dívida.\n",
      "13            40       20     18                                                                                                                 Eis que subimos para Jerusalém, e o Filho do Homem será entregue aos principais sacerdotes e aos escribas. Eles o condenarão à morte.\n",
      "14            40       20     19                                                                                                                                            E o entregarão aos gentios para ser escarnecido, açoitado e crucificado; mas, ao terceiro dia, ressurgirá.\n",
      "15            40       22     23                                                                                                                                                Naquele dia, aproximaram-se dele alguns saduceus, que dizem não haver ressurreição, e lhe perguntaram:\n",
      "16            40       22     28                                                                                                                                                               Portanto, na ressurreição, de qual dos sete será ela esposa? Porque todos a desposaram.\n",
      "17            40       22     30                                                                                                                                                        Porque, na ressurreição, nem casam, nem se dão em casamento; são, porém, como os anjos no céu.\n",
      "18            40       22     31                                                                                                                                                                         E, quanto à ressurreição dos mortos, não tendes lido o que Deus vos declarou:\n",
      "19            40       24      9                                                                                                                                                   Então, sereis atribulados, e vos matarão. Sereis odiados de todas as nações, por causa do meu nome.\n",
      "20            40       24     10                                                                                                                                                                             Nesse tempo, muitos hão de se escandalizar, trair e odiar uns aos outros;\n",
      "21            40       25     14                                                                                                                                                Pois será como um homem que, ausentando-se do país, chamou os seus servos e lhes confiou os seus bens.\n",
      "22            40       25     20                                                                                  Então, aproximando-se o que recebera cinco talentos, entregou outros cinco, dizendo: Senhor, confiaste-me cinco talentos; eis aqui outros cinco talentos que ganhei.\n",
      "23            40       25     22                                                                                                                   E, aproximando-se também o que recebera dois talentos, disse: Senhor, dois talentos me confiaste; aqui tens outros dois que ganhei.\n",
      "24            40       26      2                                                                                                                                         Sabeis que, daqui a dois dias, celebrar-se-á a Páscoa; e o Filho do Homem será entregue para ser crucificado.\n",
      "25            40       26     15                                                                                                                                                                      Que me quereis dar, e eu vo-lo entregarei? E pagaram-lhe trinta moedas de prata.\n",
      "26            40       26     16                                                                                                                                                                              E, desse momento em diante, buscava ele uma boa ocasião para o entregar.\n",
      "27            40       26     21                                                                                                                                                                  E, enquanto comiam, declarou Jesus: Em verdade vos digo que um dentre vós me trairá.\n",
      "28            40       26     23                                                                                                                                                                                    E ele respondeu: O que mete comigo a mão no prato, esse me trairá.\n",
      "29            40       26     24                                                                                  O Filho do Homem vai, como está escrito a seu respeito, mas ai daquele por intermédio de quem o Filho do Homem está sendo traído! Melhor lhe fora não haver nascido!\n",
      "30            40       26     25                                                                                                                                                      Então, Judas, que o traía, perguntou: Acaso, sou eu, Mestre? Respondeu-lhe Jesus: Tu o disseste.\n",
      "31            40       26     45                                                                                      Então, voltou para os discípulos e lhes disse: Ainda dormis e repousais! Eis que é chegada a hora, e o Filho do Homem está sendo entregue nas mãos de pecadores.\n",
      "32            40       26     46                                                                                                                                                                                                   Levantai-vos, vamos! Eis que o traidor se aproxima.\n",
      "33            40       26     48                                                                                                                                                                Ora, o traidor lhes tinha dado este sinal: Aquele a quem eu beijar, é esse; prendei-o.\n",
      "34            40       27      2                                                                                                                                                                                      e, amarrando-o, levaram-no e o entregaram ao governador Pilatos.\n",
      "35            40       27      3                                                                                  Então, Judas, o que o traiu, vendo que Jesus fora condenado, tocado de remorso, devolveu as trinta moedas de prata aos principais sacerdotes e aos anciãos, dizendo:\n",
      "36            40       27      4                                                                                                                                                           Pequei, traindo sangue inocente. Eles, porém, responderam: Que nos importa? Isso é contigo.\n",
      "37            40       27     18                                                                                                                                                                                                     Porque sabia que, por inveja, o tinham entregado.\n",
      "38            40       27     26                                                                                                                                                 Então, Pilatos lhes soltou Barrabás; e, após haver açoitado a Jesus, entregou-o para ser crucificado.\n",
      "39            41        1     14                                                                                                                                                               Depois de João ter sido preso, foi Jesus para a Galileia, pregando o evangelho de Deus,\n",
      "40            41        3     19                                                                                                                                                                                                             e Judas Iscariotes, que foi quem o traiu.\n",
      "41            41        4     29                                                                                                                                                                 E, quando o fruto já está maduro, logo se lhe mete a foice, porque é chegada a ceifa.\n",
      "42            41        7      3                                                                                                                                   (pois os fariseus e todos os judeus, observando a tradição dos anciãos, não comem sem lavar cuidadosamente as mãos;\n",
      "43            41        7      5                                                                                          interpelaram-no os fariseus e os escribas: Por que não andam os teus discípulos de conformidade com a tradição dos anciãos, mas comem com as mãos por lavar?\n",
      "44            41        7      8                                                                                                                                                                                  Negligenciando o mandamento de Deus, guardais a tradição dos homens.\n",
      "45            41        7      9                                                                                                                                               E disse-lhes ainda: Jeitosamente rejeitais o preceito de Deus para guardardes a vossa própria tradição.\n",
      "46            41        7     13                                                                                                                   invalidando a palavra de Deus pela vossa própria tradição, que vós mesmos transmitistes; e fazeis muitas outras coisas semelhantes.\n",
      "47            41        9     31                                                                                   porque ensinava os seus discípulos e lhes dizia: O Filho do Homem será entregue nas mãos dos homens, e o matarão; mas, três dias depois da sua morte, ressuscitará.\n",
      "48            41       10     33                                                                                          Eis que subimos para Jerusalém, e o Filho do Homem será entregue aos principais sacerdotes e aos escribas; condená-lo-ão à morte e o entregarão aos gentios;\n",
      "49            41       12     18                                                                                                                                                 Então, os saduceus, que dizem não haver ressurreição, aproximaram-se dele e lhe perguntaram, dizendo:\n",
      "50            41       12     23                                                                                                                                             Na ressurreição, quando eles ressuscitarem, de qual deles será ela a esposa? Porque os sete a desposaram.\n",
      "51            41       13      9                                             Estai vós de sobreaviso, porque vos entregarão aos tribunais e às sinagogas; sereis açoitados, e vos farão comparecer à presença de governadores e reis, por minha causa, para lhes servir de testemunho.\n",
      "52            41       13     11                                              Quando, pois, vos levarem e vos entregarem, não vos preocupeis com o que haveis de dizer, mas o que vos for concedido naquela hora, isso falai; porque não sois vós os que falais, mas o Espírito Santo.\n",
      "53            41       13     12                                                                                                                       Um irmão entregará à morte outro irmão, e o pai, ao filho; filhos haverá que se levantarão contra os progenitores e os matarão.\n",
      "54            41       14     10                                                                                                                                                      E Judas Iscariotes, um dos doze, foi ter com os principais sacerdotes, para lhes entregar Jesus.\n",
      "55            41       14     11                                                                                                                               Eles, ouvindo-o, alegraram-se e lhe prometeram dinheiro; nesse meio tempo, buscava ele uma boa ocasião para o entregar.\n",
      "56            41       14     18                                                                                                                                     Quando estavam à mesa e comiam, disse Jesus: Em verdade vos digo que um dentre vós, o que come comigo, me trairá.\n",
      "57            41       14     21                                                                             Pois o Filho do Homem vai, como está escrito a seu respeito; mas ai daquele por intermédio de quem o Filho do Homem está sendo traído! Melhor lhe fora não haver nascido!\n",
      "58            41       14     41                                                                                                   E veio pela terceira vez e disse-lhes: Ainda dormis e repousais! Basta! Chegou a hora; o Filho do Homem está sendo entregue nas mãos dos pecadores.\n",
      "59            41       14     42                                                                                                                                                                                                   Levantai-vos, vamos! Eis que o traidor se aproxima.\n",
      "60            41       14     44                                                                                                                                        Ora, o traidor tinha-lhes dado esta senha: Aquele a quem eu beijar, é esse; prendei-o e levai-o com segurança.\n",
      "61            41       15      1                                                                              Logo pela manhã, entraram em conselho os principais sacerdotes com os anciãos, os escribas e todo o Sinédrio; e, amarrando a Jesus, levaram-no e o entregaram a Pilatos.\n",
      "62            41       15      6                                                                                                                                                      Ora, por ocasião da festa, era costume soltar ao povo um dos presos, qualquer que eles pedissem.\n",
      "63            41       15     10                                                                                                                                                                   Pois ele bem percebia que por inveja os principais sacerdotes lho haviam entregado.\n",
      "64            41       15     15                                                                                                                 Então, Pilatos, querendo contentar a multidão, soltou-lhes Barrabás; e, após mandar açoitar a Jesus, entregou-o para ser crucificado.\n",
      "65            42        1      2                                                                                                                                           conforme nos transmitiram os que desde o princípio foram deles testemunhas oculares e ministros da palavra,\n",
      "66            42        2     34                                                                      Simeão os abençoou e disse a Maria, mãe do menino: Eis que este menino está destinado tanto para ruína como para levantamento de muitos em Israel e para ser alvo de contradição\n",
      "67            42        4      6                                                                                                                     Disse-lhe o diabo: Dar-te-ei toda esta autoridade e a glória destes reinos, porque ela me foi entregue, e a dou a quem eu quiser.\n",
      "68            42        5     26                                                                                                                                                     Todos ficaram atônitos, davam glória a Deus e, possuídos de temor, diziam: Hoje, vimos prodígios.\n",
      "69            42        9     44                                                                                                                                          Fixai nos vossos ouvidos as seguintes palavras: o Filho do Homem está para ser entregue nas mãos dos homens.\n",
      "70            42       10     22                                                                              Tudo me foi entregue por meu Pai. Ninguém sabe quem é o Filho, senão o Pai; e também ninguém sabe quem é o Pai, senão o Filho, e aquele a quem o Filho o quiser revelar.\n",
      "71            42       12     58                            Quando fores com o teu adversário ao magistrado, esforça-te para te livrares desse adversário no caminho; para que não suceda que ele te arraste ao juiz, o juiz te entregue ao meirinho e o meirinho te recolha à prisão.\n",
      "72            42       14     14                                                                                                       e serás bem-aventurado, pelo fato de não terem eles com que recompensar-te; a tua recompensa, porém, tu a receberás na ressurreição dos justos.\n",
      "73            42       14     18                                                                                                        Não obstante, todos, à uma, começaram a escusar-se. Disse o primeiro: Comprei um campo e preciso ir vê-lo; rogo-te que me tenhas por escusado.\n",
      "74            42       14     19                                                                                                                                                  Outro disse: Comprei cinco juntas de bois e vou experimentá-las; rogo-te que me tenhas por escusado.\n",
      "75            42       18     32                                                                                                                                                                                 pois será ele entregue aos gentios, escarnecido, ultrajado e cuspido;\n",
      "76            42       20     20                                                                              Observando-o, subornaram emissários que se fingiam de justos para verem se o apanhavam em alguma palavra, a fim de entregá-lo à jurisdição e à autoridade do governador.\n",
      "77            42       20     27                                                                                                                                                                                Chegando alguns dos saduceus, homens que dizem não haver ressurreição,\n",
      "78            42       20     33                                                                                                                                                    Esta mulher, pois, no dia da ressurreição, de qual deles será esposa? Porque os sete a desposaram.\n",
      "79            42       20     35                                                                                                                    mas os que são havidos por dignos de alcançar a era vindoura e a ressurreição dentre os mortos não casam, nem se dão em casamento.\n",
      "80            42       20     36                                                                                                                                           Pois não podem mais morrer, porque são iguais aos anjos e são filhos de Deus, sendo filhos da ressurreição.\n",
      "81            42       21     12                                                         Antes, porém, de todas estas coisas, lançarão mão de vós e vos perseguirão, entregando-vos às sinagogas e aos cárceres, levando-vos à presença de reis e governadores, por causa do meu nome;\n",
      "82            42       21     16                                                                                                                                                       E sereis entregues até por vossos pais, irmãos, parentes e amigos; e matarão alguns dentre vós.\n",
      "83            42       22      4                                                                                                                                                   Este foi entender-se com os principais sacerdotes e os capitães sobre como lhes entregaria a Jesus;\n",
      "84            42       22      6                                                                                                                                                                                Judas concordou e buscava uma boa ocasião de lho entregar sem tumulto.\n",
      "85            42       22     21                                                                                                                                                                                                         Todavia, a mão do traidor está comigo à mesa.\n",
      "86            42       22     22                                                                                                                 Porque o Filho do Homem, na verdade, vai segundo o que está determinado, mas ai daquele por intermédio de quem ele está sendo traído!\n",
      "87            42       22     48                                                                                                                                                                                  Jesus, porém, lhe disse: Judas, com um beijo trais o Filho do Homem?\n",
      "88            42       23     25                                                                                                          Soltou aquele que estava encarcerado por causa da sedição e do homicídio, a quem eles pediam; e, quanto a Jesus, entregou-o à vontade deles.\n",
      "89            42       24      7                                                                                                                     quando disse: Importa que o Filho do Homem seja entregue nas mãos de pecadores, e seja crucificado, e ressuscite no terceiro dia.\n",
      "90            42       24     20                                                                                                                                     e como os principais sacerdotes e as nossas autoridades o entregaram para ser condenado à morte e o crucificaram.\n",
      "91            43        5     29                                                                                                                              os que tiverem feito o bem, para a ressurreição da vida; e os que tiverem praticado o mal, para a ressurreição do juízo.\n",
      "92            43        6     64                                                                                                                           Contudo, há descrentes entre vós. Pois Jesus sabia, desde o princípio, quais eram os que não criam e quem o havia de trair.\n",
      "93            43        6     71                                                                                                                                            Referia-se ele a Judas, filho de Simão Iscariotes; porque era quem estava para traí-lo, sendo um dos doze.\n",
      "94            43       11     24                                                                                                                                                                       Eu sei, replicou Marta, que ele há de ressurgir na ressurreição, no último dia.\n",
      "95            43       11     25                                                                                                                                                            Disse-lhe Jesus: Eu sou a ressurreição e a vida. Quem crê em mim, ainda que morra, viverá;\n",
      "96            43       12      4                                                                                                                                                                       Mas Judas Iscariotes, um dos seus discípulos, o que estava para traí-lo, disse:\n",
      "97            43       13      2                                                                                                                                           Durante a ceia, tendo já o diabo posto no coração de Judas Iscariotes, filho de Simão, que traísse a Jesus,\n",
      "98            43       13     11                                                                                                                                                                   Pois ele sabia quem era o traidor. Foi por isso que disse: Nem todos estais limpos.\n",
      "99            43       13     21                                                                                                                            Ditas estas coisas, angustiou-se Jesus em espírito e afirmou: Em verdade, em verdade vos digo que um dentre vós me trairá.\n",
      "100           43       18      2                                                                                                                                         E Judas, o traidor, também conhecia aquele lugar, porque Jesus ali estivera muitas vezes com seus discípulos.\n",
      "101           43       18      5                                                                                                                                 Responderam-lhe: A Jesus, o Nazareno. Então, Jesus lhes disse: Sou eu. Ora, Judas, o traidor, estava também com eles.\n",
      "102           43       18     30                                                                                                                                                                                   Responderam-lhe: Se este não fosse malfeitor, não to entregaríamos.\n",
      "103           43       18     35                                                                                                                       Replicou Pilatos: Porventura, sou judeu? A tua própria gente e os principais sacerdotes é que te entregaram a mim. Que fizeste?\n",
      "104           43       18     36                                             Respondeu Jesus: O meu reino não é deste mundo. Se o meu reino fosse deste mundo, os meus ministros se empenhariam por mim, para que não fosse eu entregue aos judeus; mas agora o meu reino não é daqui.\n",
      "105           43       19     11                                                                                                                 Respondeu Jesus: Nenhuma autoridade terias sobre mim, se de cima não te fosse dada; por isso, quem me entregou a ti maior pecado tem.\n",
      "106           43       19     16                                                                                                                                                                                                       Então, Pilatos o entregou para ser crucificado.\n",
      "107           43       19     30                                                                                                                                                Quando, pois, Jesus tomou o vinagre, disse: Está consumado! E, inclinando a cabeça, rendeu o espírito.\n",
      "108           43       21     20                                                                    Então, Pedro, voltando-se, viu que também o ia seguindo o discípulo a quem Jesus amava, o qual na ceia se reclinara sobre o peito de Jesus e perguntara: Senhor, quem é o traidor?\n",
      "109           44        1     22                                                                                                          começando no batismo de João, até ao dia em que dentre nós foi levado às alturas, um destes se torne testemunha conosco da sua ressurreição.\n",
      "110           44        2     31                                                                                                                             prevendo isto, referiu-se à ressurreição de Cristo, que nem foi deixado na morte, nem o seu corpo experimentou corrupção.\n",
      "111           44        3     13                                                                      O Deus de Abraão, de Isaque e de Jacó, o Deus de nossos pais, glorificou a seu Servo Jesus, a quem vós traístes e negastes perante Pilatos, quando este havia decidido soltá-lo.\n",
      "112           44        4      2                                                                                                                                                        ressentidos por ensinarem eles o povo e anunciarem, em Jesus, a ressurreição dentre os mortos;\n",
      "113           44        4     33                                                                                                                               Com grande poder, os apóstolos davam testemunho da ressurreição do Senhor Jesus, e em todos eles havia abundante graça.\n",
      "114           44        6      1                                                              Ora, naqueles dias, multiplicando-se o número dos discípulos, houve murmuração dos helenistas contra os hebreus, porque as viúvas deles estavam sendo esquecidas na distribuição diária.\n",
      "115           44        6     14                                                                                                                                 porque o temos ouvido dizer que esse Jesus, o Nazareno, destruirá este lugar e mudará os costumes que Moisés nos deu.\n",
      "116           44        7     42                                Mas Deus se afastou e os entregou ao culto da milícia celestial, como está escrito no Livro dos Profetas: Ó casa de Israel, porventura, me oferecestes vítimas e sacrifícios no deserto, pelo espaço de quarenta anos,\n",
      "117           44        8      3                                                                                                                                      Saulo, porém, assolava a igreja, entrando pelas casas; e, arrastando homens e mulheres, encerrava-os no cárcere.\n",
      "118           44       12      4                                                                          Tendo-o feito prender, lançou-o no cárcere, entregando-o a quatro escoltas de quatro soldados cada uma, para o guardarem, tencionando apresentá-lo ao povo depois da Páscoa.\n",
      "119           44       14     26                                                                                                                                    e dali navegaram para Antioquia, onde tinham sido recomendados à graça de Deus para a obra que haviam já cumprido.\n",
      "120           44       15     26                                                                                                                                                                                 homens que têm exposto a vida pelo nome de nosso Senhor Jesus Cristo.\n",
      "121           44       15     40                                                                                                                                                                Mas Paulo, tendo escolhido a Silas, partiu encomendado pelos irmãos à graça do Senhor.\n",
      "122           44       16      4                                                                                                              Ao passar pelas cidades, entregavam aos irmãos, para que as observassem, as decisões tomadas pelos apóstolos e presbíteros de Jerusalém.\n",
      "123           44       17     18                                         E alguns dos filósofos epicureus e estoicos contendiam com ele, havendo quem perguntasse: Que quer dizer esse tagarela? E outros: Parece pregador de estranhos deuses; pois pregava a Jesus e a ressurreição.\n",
      "124           44       17     32                                                                                                                    Quando ouviram falar de ressurreição de mortos, uns escarneceram, e outros disseram: A respeito disso te ouviremos noutra ocasião.\n",
      "125           44       21     11                            e, vindo ter conosco, tomando o cinto de Paulo, ligando com ele os próprios pés e mãos, declarou: Isto diz o Espírito Santo: Assim os judeus, em Jerusalém, farão ao dono deste cinto e o entregarão nas mãos dos gentios.\n",
      "126           44       22      4                                                                                                                                                                 Persegui este Caminho até à morte, prendendo e metendo em cárceres homens e mulheres,\n",
      "127           44       23      6                                    Sabendo Paulo que uma parte do Sinédrio se compunha de saduceus e outra, de fariseus, exclamou: Varões, irmãos, eu sou fariseu, filho de fariseus! No tocante à esperança e à ressurreição dos mortos sou julgado!\n",
      "128           44       23      8                                                                                                                        Pois os saduceus declaram não haver ressurreição, nem anjo, nem espírito; ao passo que os fariseus admitem todas essas coisas.\n",
      "129           44       24     15                                                                                                                                       tendo esperança em Deus, como também estes a têm, de que haverá ressurreição, tanto de justos como de injustos.\n",
      "130           44       24     21                                                                                                                                  salvo estas palavras que clamei, estando entre eles: hoje, sou eu julgado por vós acerca da ressurreição dos mortos.\n",
      "131           44       25     11          Caso, pois, tenha eu praticado algum mal ou crime digno de morte, estou pronto para morrer; se, pelo contrário, não são verdadeiras as coisas de que me acusam, ninguém, para lhes ser agradável, pode entregar-me a eles. Apelo para César.\n",
      "132           44       26     23                                                                                                                            isto é, que o Cristo devia padecer e, sendo o primeiro da ressurreição dos mortos, anunciaria a luz ao povo e aos gentios.\n",
      "133           44       27      1                                                                                                         Quando foi decidido que navegássemos para a Itália, entregaram Paulo e alguns outros presos a um centurião chamado Júlio, da Coorte Imperial.\n",
      "134           44       27      9                                                                                                                              Depois de muito tempo, tendo-se tornado a navegação perigosa, e já passado o tempo do Dia do Jejum, admoestava-os Paulo,\n",
      "135           44       27     22                                                                                                                                             Mas, já agora, vos aconselho bom ânimo, porque nenhuma vida se perderá de entre vós, mas somente o navio.\n",
      "136           44       28     17         Três dias depois, ele convocou os principais dos judeus e, quando se reuniram, lhes disse: Varões irmãos, nada havendo feito contra o povo ou contra os costumes paternos, contudo, vim preso desde Jerusalém, entregue nas mãos dos romanos;\n",
      "137           45        1      4                                                                                                           e foi designado Filho de Deus com poder, segundo o espírito de santidade pela ressurreição dos mortos, a saber, Jesus Cristo, nosso Senhor,\n",
      "138           45        1     24                                                                                                                  Por isso, Deus entregou tais homens à imundícia, pelas concupiscências de seu próprio coração, para desonrarem o seu corpo entre si;\n",
      "139           45        1     26                                                                                          Por causa disso, os entregou Deus a paixões infames; porque até as mulheres mudaram o modo natural de suas relações íntimas por outro, contrário à natureza;\n",
      "140           45        1     28                                                                                               E, por haverem desprezado o conhecimento de Deus, o próprio Deus os entregou a uma disposição mental reprovável, para praticarem coisas inconvenientes,\n",
      "141           45        4     25                                                                                                                                                 o qual foi entregue por causa das nossas transgressões e ressuscitou por causa da nossa justificação.\n",
      "142           45        6      5                                                                                                                           Porque, se fomos unidos com ele na semelhança da sua morte, certamente, o seremos também na semelhança da sua ressurreição,\n",
      "143           45        6     17                                                                                                             Mas graças a Deus porque, outrora, escravos do pecado, contudo, viestes a obedecer de coração à forma de doutrina a que fostes entregues;\n",
      "144           45        8     32                                                                                                           Aquele que não poupou o seu próprio Filho, antes, por todos nós o entregou, porventura, não nos dará graciosamente com ele todas as coisas?\n",
      "145           45       10     19                                                         Pergunto mais: Porventura, não terá chegado isso ao conhecimento de Israel? Moisés já dizia: Eu vos porei em ciúmes com um povo que não é nação, com gente insensata eu vos provocarei à ira.\n",
      "146           45       11     11                                                                                              Pergunto, pois: porventura, tropeçaram para que caíssem? De modo nenhum! Mas, pela sua transgressão, veio a salvação aos gentios, para pô-los em ciúmes.\n",
      "147           45       11     14                                                                                                                                                            para ver se, de algum modo, posso incitar à emulação os do meu povo e salvar alguns deles.\n",
      "148           46        5      5                                                                                                                                           entregue a Satanás para a destruição da carne, a fim de que o espírito seja salvo no Dia do Senhor [Jesus].\n",
      "149           46       10     22                                                                                                                                                                                Ou provocaremos zelos no Senhor? Somos, acaso, mais fortes do que ele?\n",
      "150           46       11      2                                                                                                                                       De fato, eu vos louvo porque, em tudo, vos lembrais de mim e retendes as tradições assim como vo-las entreguei.\n",
      "151           46       11     23                                                                                                                                   Porque eu recebi do Senhor o que também vos entreguei: que o Senhor Jesus, na noite em que foi traído, tomou o pão;\n",
      "152           46       13      3                                                                                 E ainda que eu distribua todos os meus bens entre os pobres e ainda que entregue o meu próprio corpo para ser queimado, se não tiver amor, nada disso me aproveitará.\n",
      "153           46       15      3                                                                                                                                      Antes de tudo, vos entreguei o que também recebi: que Cristo morreu pelos nossos pecados, segundo as Escrituras,\n",
      "154           46       15     12                                                                                                        Ora, se é corrente pregar-se que Cristo ressuscitou dentre os mortos, como, pois, afirmam alguns dentre vós que não há ressurreição de mortos?\n",
      "155           46       15     13                                                                                                                                                                                   E, se não há ressurreição de mortos, então, Cristo não ressuscitou.\n",
      "156           46       15     21                                                                                                                                                              Visto que a morte veio por um homem, também por um homem veio a ressurreição dos mortos.\n",
      "157           46       15     24                                                                                                            E, então, virá o fim, quando ele entregar o reino ao Deus e Pai, quando houver destruído todo principado, bem como toda potestade e poder.\n",
      "158           46       15     42                                                                                                 Pois assim também é a ressurreição dos mortos. Semeia-se o corpo na corrupção, ressuscita na incorrupção. Semeia-se em desonra, ressuscita em glória.\n",
      "159           47        4     11                                                                                                       Porque nós, que vivemos, somos sempre entregues à morte por causa de Jesus, para que também a vida de Jesus se manifeste em nossa carne mortal.\n",
      "160           48        1     14                                                                                                                   E, na minha nação, quanto ao judaísmo, avantajava-me a muitos da minha idade, sendo extremamente zeloso das tradições de meus pais.\n",
      "161           48        2     20                                                                          logo, já não sou eu quem vive, mas Cristo vive em mim; e esse viver que, agora, tenho na carne, vivo pela fé no Filho de Deus, que me amou e a si mesmo se entregou por mim.\n",
      "162           49        4     19                                                                                                                                os quais, tendo-se tornado insensíveis, se entregaram à dissolução para, com avidez, cometerem toda sorte de impureza.\n",
      "163           49        5      2                                                                                                                       e andai em amor, como também Cristo nos amou e se entregou a si mesmo por nós, como oferta e sacrifício a Deus, em aroma suave.\n",
      "164           49        5     25                                                                                                                                                        Maridos, amai vossa mulher, como também Cristo amou a igreja e a si mesmo se entregou por ela,\n",
      "165           50        3     10                                                                                                                               para o conhecer, e o poder da sua ressurreição, e a comunhão dos seus sofrimentos, conformando-me com ele na sua morte;\n",
      "166           51        2      8                                                                                      Cuidado que ninguém vos venha a enredar com sua filosofia e vãs sutilezas, conforme a tradição dos homens, conforme os rudimentos do mundo e não segundo Cristo;\n",
      "167           53        2     15                                                                                                                     Assim, pois, irmãos, permanecei firmes e guardai as tradições que vos foram ensinadas, seja por palavra, seja por epístola nossa.\n",
      "168           53        3      6                                                                                   Nós vos ordenamos, irmãos, em nome do Senhor Jesus Cristo, que vos aparteis de todo irmão que ande desordenadamente e não segundo a tradição que de nós recebestes;\n",
      "169           54        1     20                                                                                                                     E dentre esses se contam Himeneu e Alexandre, os quais entreguei a Satanás, para serem castigados, a fim de não mais blasfemarem.\n",
      "170           54        4      7                                                                                                                                                           Mas rejeita as fábulas profanas e de velhas caducas. Exercita-te, pessoalmente, na piedade.\n",
      "171           54        5     11                                                                                                                                                      Mas rejeita viúvas mais novas, porque, quando se tornam levianas contra Cristo, querem casar-se,\n",
      "172           54        6     20                                                                                                      E tu, ó Timóteo, guarda o que te foi confiado, evitando os falatórios inúteis e profanos e as contradições do saber, como falsamente lhe chamam,\n",
      "173           55        1     12                                                                  e, por isso, estou sofrendo estas coisas; todavia, não me envergonho, porque sei em quem tenho crido e estou certo de que ele é poderoso para guardar o meu depósito até aquele Dia.\n",
      "174           55        1     14                                                                                                                                                                                   Guarda o bom depósito, mediante o Espírito Santo que habita em nós.\n",
      "175           55        2     18                                                                                                                                      Estes se desviaram da verdade, asseverando que a ressurreição já se realizou, e estão pervertendo a fé a alguns.\n",
      "176           55        2     23                                                                                                                                                                    E repele as questões insensatas e absurdas, pois sabes que só engendram contendas.\n",
      "177           56        3     10                                                                                                                                                                                 Evita o homem faccioso, depois de admoestá-lo primeira e segunda vez,\n",
      "178           58        6      2                                                                                                                                                            o ensino de batismos e da imposição de mãos, da ressurreição dos mortos e do juízo eterno.\n",
      "179           58       11     35                                                                                                        Mulheres receberam, pela ressurreição, os seus mortos. Alguns foram torturados, não aceitando seu resgate, para obterem superior ressurreição;\n",
      "180           58       12     19                                                                                                                                   e ao clangor da trombeta, e ao som de palavras tais, que quantos o ouviram suplicaram que não se lhes falasse mais,\n",
      "181           58       12     25                                     Tende cuidado, não recuseis ao que fala. Pois, se não escaparam aqueles que recusaram ouvir quem, divinamente, os advertia sobre a terra, muito menos nós, os que nos desviamos daquele que dos céus nos adverte,\n",
      "182           60        1      3                                                            Bendito o Deus e Pai de nosso Senhor Jesus Cristo, que, segundo a sua muita misericórdia, nos regenerou para uma viva esperança, mediante a ressurreição de Jesus Cristo dentre os mortos,\n",
      "183           60        2     23                                                                                                              pois ele, quando ultrajado, não revidava com ultraje; quando maltratado, não fazia ameaças, mas entregava-se àquele que julga retamente,\n",
      "184           60        3     21                                                       a qual, figurando o batismo, agora também vos salva, não sendo a remoção da imundícia da carne, mas a indagação de uma boa consciência para com Deus, por meio da ressurreição de Jesus Cristo;\n",
      "185           61        2      4                                                                                                           Ora, se Deus não poupou anjos quando pecaram, antes, precipitando-os no inferno, os entregou a abismos de trevas, reservando-os para juízo;\n",
      "186           61        2     21                                                                                 Pois melhor lhes fora nunca tivessem conhecido o caminho da justiça do que, após conhecê-lo, volverem para trás, apartando-se do santo mandamento que lhes fora dado.\n",
      "187           65        1      3  Amados, quando empregava toda a diligência em escrever-vos acerca da nossa comum salvação, foi que me senti obrigado a corresponder-me convosco, exortando-vos a batalhardes, diligentemente, pela fé que uma vez por todas foi entregue aos santos.\n",
      "188           66       20      5                                                                                                                                            Os restantes dos mortos não reviveram até que se completassem os mil anos. Esta é a primeira ressurreição.\n",
      "189           66       20      6                                          Bem-aventurado e santo é aquele que tem parte na primeira ressurreição; sobre esses a segunda morte não tem autoridade; pelo contrário, serão sacerdotes de Deus e de Cristo e reinarão com ele os mil anos.\n"
     ]
    }
   ],
   "source": [
    "print(gnt_by_strongs.to_string())"
   ]
  }
 ],
 "metadata": {
  "kernelspec": {
   "display_name": "almeida-semantica-EQJtyJGz",
   "language": "python",
   "name": "python3"
  },
  "language_info": {
   "codemirror_mode": {
    "name": "ipython",
    "version": 3
   },
   "file_extension": ".py",
   "mimetype": "text/x-python",
   "name": "python",
   "nbconvert_exporter": "python",
   "pygments_lexer": "ipython3",
   "version": "3.11.11"
  }
 },
 "nbformat": 4,
 "nbformat_minor": 2
}
